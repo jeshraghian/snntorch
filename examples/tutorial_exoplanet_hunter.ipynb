{
  "cells": [
    {
      "cell_type": "markdown",
      "metadata": {
        "id": "view-in-github",
        "colab_type": "text"
      },
      "source": [
        "<a href=\"https://colab.research.google.com/github/jeshraghian/snntorch/blob/master/examples/tutorial_exoplanet_hunter.ipynb\" target=\"_parent\"><img src=\"https://colab.research.google.com/assets/colab-badge.svg\" alt=\"Open In Colab\"/></a>"
      ]
    },
    {
      "cell_type": "markdown",
      "metadata": {
        "id": "_bFuCzJCcUOC"
      },
      "source": [
        "[<img src='https://github.com/jeshraghian/snntorch/blob/master/docs/_static/img/snntorch_alpha_w.png?raw=true' width=\"300\">](https://github.com/jeshraghian/snntorch/)\n",
        "\n",
        "# Exoplanet Hunter: Finding Planets Using Light Intensity\n",
        "\n",
        "### Tutorial written by Ruhai Lin, Aled dela Cruz, and Karina Aguilar\n",
        "\n",
        "<a href=\"https://colab.research.google.com/github/jeshraghian/snntorch/blob/master/examples/quickstart.ipynb\">\n",
        "  <img src=\"https://colab.research.google.com/assets/colab-badge.svg\" alt=\"Open In Colab\"/>\n",
        "</a>\n",
        "\n",
        "[<img src='https://github.com/jeshraghian/snntorch/blob/master/docs/_static/img/GitHub-Mark-Light-120px-plus.png?raw=true' width=\"28\">](https://github.com/jeshraghian/snntorch/) [<img src='https://github.com/jeshraghian/snntorch/blob/master/docs/_static/img/GitHub_Logo_White.png?raw=true' width=\"80\">](https://github.com/jeshraghian/snntorch/)\n"
      ]
    },
    {
      "cell_type": "markdown",
      "metadata": {
        "id": "zzEOEBzWp2wa"
      },
      "source": [
        "For a comprehensive overview on how SNNs work, and what is going on under the hood, [then you might be interested in the snnTorch tutorial series available here.](https://snntorch.readthedocs.io/en/latest/tutorials/index.html)\n",
        "The snnTorch tutorial series is based on the following paper. If you find these resources or code useful in your work, please consider citing the following source:\n",
        "\n",
        "\n",
        "> <cite> [Jason K. Eshraghian, Max Ward, Emre Neftci, Xinxin Wang, Gregor Lenz, Girish Dwivedi, Mohammed Bennamoun, Doo Seok Jeong, and Wei D. Lu. \"Training Spiking Neural Networks Using Lessons From Deep Learning\". Proceedings of the IEEE, 111(9) September 2023.](https://ieeexplore.ieee.org/abstract/document/10242251) </cite>"
      ]
    },
    {
      "cell_type": "markdown",
      "metadata": {
        "id": "CVm_puUl1U05"
      },
      "source": [
        "In this tutorial, you will learn:\n",
        "\n",
        "\n",
        "*   How to train spiking neural networks for time series data,\n",
        "*   Using SMOTE to deal with unbalanced datasets,\n",
        "*   Metrics beyond accuracy to evaluate model performance,\n",
        "*   Some astronomy knowledge"
      ]
    },
    {
      "cell_type": "markdown",
      "metadata": {
        "id": "7RQMvnNLPe_2"
      },
      "source": [
        "\n",
        "First install the snntorch library before you run any of the code below."
      ]
    },
    {
      "cell_type": "code",
      "execution_count": null,
      "metadata": {
        "colab": {
          "base_uri": "https://localhost:8080/"
        },
        "id": "ijsiAqca18S3",
        "outputId": "859b0be2-70c4-4649-e356-a9b696835871"
      },
      "outputs": [
        {
          "name": "stdout",
          "output_type": "stream",
          "text": [
            "\u001b[?25l     \u001b[90m━━━━━━━━━━━━━━━━━━━━━━━━━━━━━━━━━━━━━━━━\u001b[0m \u001b[32m0.0/109.0 kB\u001b[0m \u001b[31m?\u001b[0m eta \u001b[36m-:--:--\u001b[0m\r\u001b[2K     \u001b[91m━━━━━━━━━━━━━━━━━━━━━━━━━━━━━━━━━━━━━\u001b[0m\u001b[91m╸\u001b[0m\u001b[90m━━\u001b[0m \u001b[32m102.4/109.0 kB\u001b[0m \u001b[31m3.2 MB/s\u001b[0m eta \u001b[36m0:00:01\u001b[0m\r\u001b[2K     \u001b[90m━━━━━━━━━━━━━━━━━━━━━━━━━━━━━━━━━━━━━━━━\u001b[0m \u001b[32m109.0/109.0 kB\u001b[0m \u001b[31m2.7 MB/s\u001b[0m eta \u001b[36m0:00:00\u001b[0m\n",
            "\u001b[?25h"
          ]
        }
      ],
      "source": [
        "!pip install snntorch --quiet"
      ]
    },
    {
      "cell_type": "markdown",
      "metadata": {
        "id": "DazpksKKj3u6"
      },
      "source": [
        "And then import the libraries as shown in the code below."
      ]
    },
    {
      "cell_type": "code",
      "execution_count": null,
      "metadata": {
        "id": "B0-__e7h51ZW"
      },
      "outputs": [],
      "source": [
        "# imports\n",
        "import snntorch as snn\n",
        "from snntorch import surrogate\n",
        "\n",
        "# pytorch\n",
        "import torch\n",
        "import torch.nn as nn\n",
        "import torch.optim as optim\n",
        "import torch.nn.functional as F\n",
        "from torch.utils.data import DataLoader, Dataset\n",
        "from torchvision import transforms\n",
        "\n",
        "# SMOTE\n",
        "from imblearn.over_sampling import SMOTE\n",
        "from collections import Counter\n",
        "\n",
        "# plot\n",
        "import matplotlib.pyplot as plt\n",
        "import numpy as np\n",
        "import pandas as pd\n",
        "import seaborn as sns\n",
        "import plotly.express as px\n",
        "import plotly.graph_objects as go\n",
        "from plotly.subplots import make_subplots\n",
        "\n",
        "# metric (AUC, ROC, sensitivity & specificity)\n",
        "from sklearn.metrics import confusion_matrix\n",
        "from sklearn.metrics import roc_auc_score"
      ]
    },
    {
      "cell_type": "markdown",
      "metadata": {
        "id": "yqHCY9ng0Wit"
      },
      "source": [
        "# 0. Exoplanet Detection (Optional)\n",
        "Before diving into the code, let's gain an understanding of what Exoplanet Detection is."
      ]
    },
    {
      "cell_type": "markdown",
      "metadata": {
        "id": "9HfcBmwi3tWW"
      },
      "source": [
        "## 0.1 Transit Method\n",
        "\n",
        "The transit method is a widely used and successful technique for detecting exoplanets. When an exoplanet transits its host star, it causes a temporary reduction in the star's light flux (brightness). Compared to other techniques, the transmit method has has discovered the largest number of planets.\n",
        "\n",
        "Astronomers use telescopes equipped with photometers or spectrophotometers to continuously monitor the brightness of a star over time. Repeated observations of multiple transits allow astronomers to gather more detailed information about the exoplanet, such as its atmosphere and the presence of moons.\n",
        "\n",
        "Space telescopes like NASA's Kepler and TESS (Transiting Exoplanet Survey Satellite) have been instrumental in discovering thousands of exoplanets using the transit method. Without the Earth's atmosphere in the way,\n",
        "there is less interference and more precise measurements are possible. The transit method continues to be a key tool in advancing our understanding of exoplanetary systems. For more information about transit method, you can visit [NASA Exoplanet Exploration Page](https://exoplanets.nasa.gov/alien-worlds/ways-to-find-a-planet/#/2)."
      ]
    },
    {
      "cell_type": "markdown",
      "metadata": {
        "id": "u3P13A_n3w8D"
      },
      "source": [
        "## 0.2 Challenges\n",
        "The drawback of this method is that the angle between the planet's\n",
        "orbital plane and the direction of the observer's line of sight must be\n",
        "sufficiently small. Therefore, the chance of this phenomenon occurring is not\n",
        "high. Thus more time and resources must be spent to detect and confirm the existence of an exoplanet. These resources include the Kepler telescope and ESA's CoRoT when they were still operational.\n",
        "\n",
        "Another aspect to consider is power consumption for the device sent into deep space. For example, a satellite sent into space to observe light intensity of stars in the solar system. Since the device is in space, power becomes a limited and valuable resource. Typical AI models are not suitable for taking the observed data and identifying exoplanets because of the large amount of energy required to maintain them.\n",
        "\n",
        "Therefore, a Spiking Neural Network (SNN) could be well suited for this task.\n"
      ]
    },
    {
      "cell_type": "markdown",
      "metadata": {
        "id": "FVaHdNMptJQs"
      },
      "source": [
        "# 1. Exoplanet Dataset Preparation\n",
        "The following instructions will describe how to obtain the dataset to be used for the SNN."
      ]
    },
    {
      "cell_type": "markdown",
      "metadata": {
        "id": "HxnHZB5X4kfP"
      },
      "source": [
        "## 1.1 Google Drive / Kaggle API\n",
        "A simple way to connect the `.csv` file with Google Colab is to put the files in Google Drive. To import our training set and our test set, we need the following two files to be placed in GDrive:\n",
        "\n",
        "* `'exoTrain.csv'`\n",
        "* `'exoTest.csv'`\n",
        "\n",
        "They can be downloaded from [Kaggle](https://www.kaggle.com/datasets/keplersmachines/kepler-labelled-time-series-data). You can either modify the code blocks below to direct to your selected folder, or create a folder named `SNN`. Put `'exoTrain.csv'` and `'exoTest.csv'` into the folder, and run the code below."
      ]
    },
    {
      "cell_type": "code",
      "execution_count": null,
      "metadata": {
        "colab": {
          "base_uri": "https://localhost:8080/"
        },
        "id": "_QIFzgIpc_G6",
        "outputId": "d84da3d5-98a9-4dd7-91ac-1bc35a0141c8"
      },
      "outputs": [
        {
          "name": "stdout",
          "output_type": "stream",
          "text": [
            "Mounted at /content/drive\n"
          ]
        }
      ],
      "source": [
        "from google.colab import drive\n",
        "drive.mount('/content/drive')"
      ]
    },
    {
      "cell_type": "code",
      "execution_count": null,
      "metadata": {
        "colab": {
          "base_uri": "https://localhost:8080/"
        },
        "id": "4uvuigJ-HsKY",
        "outputId": "df930dbc-ca7b-43c5-ba5c-6c036cc3c1f5"
      },
      "outputs": [
        {
          "name": "stdout",
          "output_type": "stream",
          "text": [
            "/content/drive/My Drive/SNN\n"
          ]
        }
      ],
      "source": [
        "%cd \"/content/drive/My-Drive/SNN\""
      ]
    },
    {
      "cell_type": "markdown",
      "metadata": {
        "id": "ZQ7rb-y5Yw2f"
      },
      "source": [
        "ls is always a good command to see what do we have in this directory. If it prints 'exoTest.csv  exoTrain.csv', it means you successfully get the raw csv files ready, keep going! Note that it is ok to have other files in this folder."
      ]
    },
    {
      "cell_type": "code",
      "execution_count": null,
      "metadata": {
        "colab": {
          "base_uri": "https://localhost:8080/"
        },
        "id": "nmHTEdToIwqn",
        "outputId": "a3f01314-29b6-4491-b5c8-21c8be73b051"
      },
      "outputs": [
        {
          "name": "stdout",
          "output_type": "stream",
          "text": [
            "'ECE183 FINAL PRESENT.pptx'   exoTest.csv   exoTrain.csv   SNN_Exoplanet_Hunter_Tutorial.ipynb\n"
          ]
        }
      ],
      "source": [
        "!ls"
      ]
    },
    {
      "cell_type": "markdown",
      "metadata": {
        "id": "9IdnCF9JbEYe"
      },
      "source": [
        "## 1.2 Grab the dataset\n",
        "\n",
        "The code block below is based on the [official PyTorch tutorial on custom datasets](https://pytorch.org/tutorials/beginner/data_loading_tutorial.html)"
      ]
    },
    {
      "cell_type": "code",
      "execution_count": null,
      "metadata": {
        "id": "PA-LbqM7tXdC"
      },
      "outputs": [],
      "source": [
        "# Step 1: Prepare the dataset\n",
        "\n",
        "class CustomDataset(Dataset):\n",
        "    def __init__(self, csv_file, transform=None):\n",
        "        with open(csv_file,\"r\") as f:\n",
        "            self.data = pd.read_csv(f) # read the files\n",
        "        self.labels = self.data.iloc[:,0].values - 1 # set the first line of the input data as the label (Originally 1 or 2, but we -1 here so they become 0 or 1)\n",
        "        self.features = self.data.iloc[:, 1:].values # set the rest of the input data as the feature (FLUX over time)\n",
        "        self.transform = transform # transformation (which is None) that will be applied to samples.\n",
        "\n",
        "        # If you want to have a look at how does this dataset look like with pandas,\n",
        "        # you can enable the line below.\n",
        "        # print(data.head(5))\n",
        "\n",
        "    def __len__(self): # function that gives back the size of the dataset (how many samples)\n",
        "        return len(self.labels)\n",
        "\n",
        "    def __getitem__(self, idx): # retrieves a data sample from the dataset\n",
        "        label = self.labels[idx] # fetch label of sample\n",
        "        feature = self.features[idx] # fetch features of sample\n",
        "\n",
        "        if self.transform: # if there is a specified transformation, transform the data\n",
        "            feature = self.transform(feature)\n",
        "\n",
        "        sample = {'feature': feature, 'label': label}\n",
        "        return sample\n",
        "\n",
        "train_dataset = CustomDataset('./exoTrain.csv') # grab the training data\n",
        "test_dataset = CustomDataset('./exoTest.csv') # grab the test data\n",
        "# print(train_dataset.__getitem__(37));"
      ]
    },
    {
      "cell_type": "markdown",
      "metadata": {
        "id": "VVaR4BTgzB_7"
      },
      "source": [
        "## 1.3 Augmenting the Dataset"
      ]
    },
    {
      "cell_type": "markdown",
      "metadata": {
        "id": "gdWa9wrcMAG8"
      },
      "source": [
        "Given the low chance of detecting exoplanets, this dataset is very imbalanced.\n",
        "Most samples are negative, i.e., there are very few exoplanets from the observed\n",
        "light intensity data. If your model was to simply predict 'no exoplanet' for every sample,\n",
        "then it would achieve very high accuracy. This indicates that accuracy is a poor metric for success.\n",
        "\n",
        "Let's first probe our data to gain insight into how imbalanced it is."
      ]
    },
    {
      "cell_type": "code",
      "execution_count": null,
      "metadata": {
        "colab": {
          "base_uri": "https://localhost:8080/"
        },
        "id": "g6ljqtRuM8uG",
        "outputId": "00d37b0f-7494-42e1-e7d8-c1ae53305d7a"
      },
      "outputs": [
        {
          "name": "stdout",
          "output_type": "stream",
          "text": [
            "Class distribution in the original training dataset: 0    5050\n",
            "1      37\n",
            "dtype: int64\n",
            "Class distribution in the original testing dataset: 0    565\n",
            "1      5\n",
            "dtype: int64\n"
          ]
        }
      ],
      "source": [
        "print(\"Class distribution in the original training dataset:\", pd.Series(train_dataset.labels).value_counts())\n",
        "print(\"Class distribution in the original testing dataset:\", pd.Series(test_dataset.labels).value_counts())"
      ]
    },
    {
      "cell_type": "markdown",
      "metadata": {
        "id": "j_sGun0IkQjt"
      },
      "source": [
        "I.e., there are 5050 negative samples and only 37 positive samples in the training set."
      ]
    },
    {
      "cell_type": "code",
      "execution_count": null,
      "metadata": {
        "colab": {
          "base_uri": "https://localhost:8080/",
          "height": 521
        },
        "id": "qO9iIS00EMOC",
        "outputId": "08ff4978-a283-48e7-fe4d-4fe467c6decb"
      },
      "outputs": [
        {
          "data": {
            "image/png": "[encoded data removed]",
            "text/plain": [
              "<Figure size 800x600 with 1 Axes>"
            ]
          },
          "metadata": {},
          "output_type": "display_data"
        }
      ],
      "source": [
        "label_counts = np.bincount(train_dataset.labels)\n",
        "label_names = ['Not Exoplanet','Exoplanet']\n",
        "\n",
        "plt.figure(figsize=(8, 6))\n",
        "plt.pie(label_counts, labels=label_names, autopct='%1.1f%%', startangle=90, colors=sns.color_palette('pastel'))\n",
        "plt.title('Distribution of Positive and Negative Samples in the Training Dataset')\n",
        "plt.show()"
      ]
    },
    {
      "cell_type": "markdown",
      "metadata": {
        "id": "0ljOLcvcvVUG"
      },
      "source": [
        "To deal with the imbalance of our dataset, let's Synthetic Minority\n",
        "Over-Sampling Technique (SMOTE). SMOTE works by\n",
        "generating synthetic samples from the minority class to balance the\n",
        "distribution (typically implemented using the nearest neighbors\n",
        "strategy). By implementing SMOTE, we attempt to reduce bias towards\n",
        "stars without exoplanets (the majority class)."
      ]
    },
    {
      "cell_type": "code",
      "execution_count": null,
      "metadata": {
        "colab": {
          "base_uri": "https://localhost:8080/"
        },
        "id": "mXFo5rJsvVrk",
        "outputId": "4fe19008-846d-4d9a-994a-e59ec3a94675"
      },
      "outputs": [
        {
          "name": "stdout",
          "output_type": "stream",
          "text": [
            "Class distribution in the training dataset after SMOTE: 1    5050\n",
            "0    5050\n",
            "dtype: int64\n",
            "Class distribution in the testing dataset after SMOTE: 0    565\n",
            "1      5\n",
            "dtype: int64\n"
          ]
        }
      ],
      "source": [
        "# Step 2: Apply SMOTE to deal with the unbalanced data\n",
        "smote = SMOTE(sampling_strategy='all') # initialize a smote, while sampling_strategy='all' means setting all the classes to the same size\n",
        "train_dataset.features, train_dataset.labels = smote.fit_resample(train_dataset.features, train_dataset.labels) # update the labels and features to the resampled data\n",
        "\n",
        "print(\"Class distribution in the training dataset after SMOTE:\", pd.Series(train_dataset.labels).value_counts())\n",
        "print(\"Class distribution in the testing dataset after SMOTE:\", pd.Series(test_dataset.labels).value_counts())"
      ]
    },
    {
      "cell_type": "code",
      "execution_count": null,
      "metadata": {
        "colab": {
          "base_uri": "https://localhost:8080/",
          "height": 521
        },
        "id": "AnKVohuGJZbX",
        "outputId": "849a7d24-d724-41c1-a21c-faca7b2010bb"
      },
      "outputs": [
        {
          "data": {
            "image/png": "[encoded data removed]",
            "text/plain": [
              "<Figure size 800x600 with 1 Axes>"
            ]
          },
          "metadata": {},
          "output_type": "display_data"
        }
      ],
      "source": [
        "label_counts = np.bincount(train_dataset.labels)\n",
        "label_names = ['Not Exoplanet','Exoplanet']\n",
        "\n",
        "plt.figure(figsize=(8, 6))\n",
        "plt.pie(label_counts, labels=label_names, autopct='%1.1f%%', startangle=90, colors=sns.color_palette('pastel'))\n",
        "plt.title('Distribution of Positive and Negative Samples')\n",
        "plt.show()"
      ]
    },
    {
      "cell_type": "markdown",
      "metadata": {
        "id": "ofN7u302vh3M"
      },
      "source": [
        "## 1.4 Create the DataLoader"
      ]
    },
    {
      "cell_type": "markdown",
      "metadata": {
        "id": "so3aB4eq8yiE"
      },
      "source": [
        "We will create a dataloader to help batch and shuffle the data during training and testing. In the initialization of the dataloader, the parameters include: the dataset to be loaded, the batch size, a shuffle argument to determine whether or not to shuffle the dataset after each epoch, and a `drop_last` parameter that decides whether or not a potential final \"incomplete\" batch is dropped."
      ]
    },
    {
      "cell_type": "code",
      "execution_count": null,
      "metadata": {
        "id": "QaWVsEvmviDF"
      },
      "outputs": [],
      "source": [
        "# Step 3: Create dataloader\n",
        "batch_size = 64 # determines the number of samples in each batch during training\n",
        "spike_grad = surrogate.fast_sigmoid(slope=25) #\n",
        "beta = 0.5 # initialize a beta value of 0.5\n",
        "train_dataloader = DataLoader(train_dataset, batch_size=batch_size, shuffle=True, drop_last=True) # create a dataloader for the trainset\n",
        "test_dataloader = DataLoader(test_dataset, batch_size=batch_size, shuffle=False, drop_last=True) # create a dataloader for the testset"
      ]
    },
    {
      "cell_type": "markdown",
      "metadata": {
        "id": "RuMmSWCnwhv_"
      },
      "source": [
        "## 1.5 Description of the data\n",
        "\n",
        "After loading the data, let's see what our data looks like.\n"
      ]
    },
    {
      "cell_type": "code",
      "execution_count": null,
      "metadata": {
        "colab": {
          "base_uri": "https://localhost:8080/"
        },
        "id": "PX2v2Ni6vOzQ",
        "outputId": "f59de668-a71e-4d79-ead1-5bbdd69ce11a"
      },
      "outputs": [
        {
          "name": "stdout",
          "output_type": "stream",
          "text": [
            "   LABEL  FLUX.1  FLUX.2  FLUX.3  FLUX.4  FLUX.5  FLUX.6  FLUX.7  FLUX.8  \\\n",
            "0      2   93.85   83.81    20.1  -26.98  -39.56 -124.71 -135.18  -96.27   \n",
            "\n",
            "   FLUX.9  ...  FLUX.3188  FLUX.3189  FLUX.3190  FLUX.3191  FLUX.3192  \\\n",
            "0  -79.89  ...     -78.07    -102.15    -102.15      25.13      48.57   \n",
            "\n",
            "   FLUX.3193  FLUX.3194  FLUX.3195  FLUX.3196  FLUX.3197  \n",
            "0      92.54      39.32      61.42       5.08     -39.54  \n",
            "\n",
            "[1 rows x 3198 columns]\n"
          ]
        }
      ],
      "source": [
        "print(train_dataset.data.head(1))"
      ]
    },
    {
      "cell_type": "code",
      "execution_count": null,
      "metadata": {
        "colab": {
          "base_uri": "https://localhost:8080/",
          "height": 617
        },
        "id": "L2wgL_qcMHBo",
        "outputId": "572e6bd2-fbee-4640-a14f-ce6eed5773fd"
      },
      "outputs": [
        {
          "data": {
            "text/html": [
              "<html>\n",
              "<head><meta charset=\"utf-8\" /></head>\n",
              "<body>\n",
              "    <div>            <script src=\"https://cdnjs.cloudflare.com/ajax/libs/mathjax/2.7.5/MathJax.js?config=TeX-AMS-MML_SVG\"></script><script type=\"text/javascript\">if (window.MathJax && window.MathJax.Hub && window.MathJax.Hub.Config) {window.MathJax.Hub.Config({SVG: {font: \"STIX-Web\"}});}</script>                <script type=\"text/javascript\">window.PlotlyConfig = {MathJaxConfig: 'local'};</script>\n",
              "        <script charset=\"utf-8\" src=\"https://cdn.plot.ly/plotly-2.24.1.min.js\"></script>                <div id=\"33635339-07a9-4e27-a69d-7915461f63ee\" class=\"plotly-graph-div\" style=\"height:600px; width:800px;\"></div>            <script type=\"text/javascript\">                                    window.PLOTLYENV=window.PLOTLYENV || {};                                    if (document.getElementById(\"33635339-07a9-4e27-a69d-7915461f63ee\")) {                    Plotly.newPlot(                        \"33635339-07a9-4e27-a69d-7915461f63ee\",                        [{\"y\":[93.85,83.81,20.1,-26.98,-39.56,-124.71,-135.18,-96.27,-79.89,-160.17,-207.47,-154.88,-173.71,-146.56,-120.26,-102.85,-98.71,-48.42,-86.57,-0.84,-25.85,-67.39,-36.55,-87.01,-97.72,-131.59,-134.8,-186.97,-244.32,-225.76,-229.6,-253.48,-145.74,-145.74,30.47,-173.39,-187.56,-192.88,-182.76,-195.99,-208.31,-103.22,-193.85,-187.64,-92.25,-119.25,-87.5,-1.86,-4.99,18.01,11.12,61.71,-0.61,42.0,-31.25,-74.58,-51.94,-89.66,-83.04,-118.08,-155.85,-145.74,-188.05,-226.28,-257.38,-299.33,-365.2,-388.95,-127.85,-127.85,-191.19,-203.77,-258.66,-260.33,-252.21,-217.8,-98.54,-76.88,-67.92,-0.76,126.65,81.05,213.36,146.95,123.84,62.65,88.11,13.1,-5.11,-40.05,-110.27,-162.56,-253.87,-253.87,-179.1,-139.1,-232.76,-204.85,-128.7,-135.63,-63.6,-16.94,-45.55,21.85,59.23,92.79,156.19,127.58,118.03,194.37,97.55,56.37,76.18,6.58,32.02,6.9,-101.71,-101.71,-58.58,-22.4,-34.46,68.6,-9.14,151.56,175.24,103.26,173.36,171.21,198.22,115.06,150.02,157.0,131.47,72.32,157.09,110.32,129.7,85.81,102.69,-7.04,23.86,-9.36,11.02,5.77,-85.52,-59.66,-102.66,-44.76,-146.63,-99.7,-174.79,-92.15,-141.04,-149.69,-128.04,-180.9,-198.75,-234.01,-301.27,-293.75,-307.12,-378.46,-301.31,-365.97,-175.28,-175.28,-186.37,-121.84,-108.92,-90.13,-105.55,-71.68,-46.08,-31.99,120.67,57.88,135.29,161.48,186.87,94.65,166.26,212.04,176.53,206.76,181.54,181.52,298.46,295.11,38.8,38.8,0.85,17.33,103.69,142.14,138.54,212.38,265.28,258.03,311.78,274.08,314.26,302.58,344.9,234.34,296.81,196.12,187.09,129.87,86.28,32.03,-2.38,-6.29,18.96,18.96,-40.78,-30.33,-62.57,-82.5,-190.63,-121.91,-116.52,-95.4,-37.78,-90.88,-61.94,10.63,120.04,137.62,174.66,179.88,235.69,302.71,314.56,297.13,300.49,353.22,302.58,224.72,205.89,183.34,194.43,34.71,94.88,103.22,135.64,63.19,130.65,64.12,7.13,-14.34,-40.04,-62.06,-56.35,-76.41,-146.65,-145.99,-173.29,-153.03,-198.29,-165.81,428.08,428.08,417.22,382.62,367.76,299.03,320.42,340.15,265.53,305.35,310.66,223.19,255.38,66.71,149.76,88.35,3.36,117.4,-25.92,-59.54,-77.71,-26.88,-46.45,-112.33,160.31,160.31,234.34,158.42,278.99,253.9,336.97,330.74,296.29,329.73,408.69,391.99,373.99,385.49,336.4,292.2,267.33,269.71,322.16,288.17,274.12,210.17,255.44,160.72,180.67,141.78,76.83,59.29,139.58,183.79,60.22,88.63,66.53,72.7,93.3,11.25,169.58,169.58,126.76,154.93,132.4,115.63,33.55,-20.13,-27.39,-127.82,-115.42,-92.88,-78.78,-45.24,-48.32,-49.71,-39.35,-85.03,-65.32,-60.45,-3.48,-70.24,31.96,-58.97,-11.42,-20.4,57.82,84.23,82.7,69.45,79.53,86.91,158.44,174.39,101.58,134.03,176.51,190.47,187.29,128.47,192.43,253.59,148.82,225.53,217.38,207.36,209.85,258.15,226.4,282.87,274.47,285.89,318.21,355.85,372.16,372.16,376.79,327.81,339.96,358.59,-63.44,-63.44,-105.2,-107.56,-36.47,-36.61,-4.85,-95.13,-37.1,-66.37,-51.11,-22.63,19.32,11.26,25.88,48.14,37.7,102.58,132.3,87.21,102.3,22.12,100.21,110.78,139.74,173.47,194.2,169.06,78.6,187.54,169.88,183.99,265.81,286.14,288.63,304.85,238.54,263.62,365.38,309.25,274.49,254.26,341.46,276.36,318.14,285.17,310.19,265.26,251.82,315.33,201.35,256.58,235.92,244.81,244.2,184.1,136.3,159.09,142.0,76.62,118.63,4.67,-74.47,-3.48,-39.08,-72.28,-91.53,-39.76,-129.87,-111.97,-78.43,-82.26,-53.97,-53.97,-74.54,-11.68,-26.82,-36.91,-69.74,-19.53,-85.83,-45.12,-29.33,-27.74,-76.19,-55.44,-31.49,-69.43,-4.17,44.1,42.16,-27.11,37.15,80.19,20.9,-27.03,-59.71,-59.71,-59.71,-165.32,-83.01,-123.54,-95.76,-69.09,-90.46,-71.04,-10.22,-79.4,-74.46,-77.86,-62.26,-32.25,-63.05,-39.8,-36.3,-75.71,-53.22,-72.49,-47.3,18.92,-41.7,-61.76,-77.98,-56.25,-81.85,14.19,-52.88,-111.4,-34.35,-58.07,-47.04,-129.94,-126.76,-148.51,-114.49,-124.41,-147.79,-145.46,-167.4,-101.56,-111.98,-100.08,-127.33,-103.87,-117.53,-112.8,-134.83,-110.1,-144.54,-131.4,-164.62,-179.18,-124.3,-85.97,-129.75,-143.68,-157.46,-162.85,-163.69,-218.38,-152.54,-175.58,-126.01,-141.75,-162.72,-166.38,-145.65,-167.54,-152.71,-178.12,-137.88,-170.29,-159.1,-143.07,-118.54,-152.82,-78.7,-81.81,-117.54,-48.47,-78.88,-70.14,-45.64,-8.83,-101.05,22.34,7.25,-58.63,-29.74,-30.47,-48.68,16.78,-27.28,-27.28,-27.28,-64.61,-45.46,-76.08,-100.07,-113.57,-76.19,-108.13,-87.87,-122.17,-81.02,-47.58,-61.45,-99.06,-124.56,-72.18,-167.01,-91.62,-73.19,-41.28,-100.66,-159.32,-146.08,-180.29,-191.17,-191.17,-191.17,-191.17,-189.44,-182.13,-185.82,-201.75,-194.72,-169.49,-173.49,-169.49,-212.89,-156.98,-227.35,-204.63,-204.71,-205.77,-269.91,-178.99,-165.45,-152.63,-194.87,-127.54,-135.08,-67.94,-122.24,-77.72,-64.99,-42.95,-33.26,35.47,70.88,123.91,100.85,71.6,34.79,112.4,68.5,199.59,193.11,234.97,225.79,252.04,274.42,281.4,-81.96,-81.96,-5.92,-47.65,-37.9,4.85,74.46,132.82,127.29,113.62,129.44,17.44,-35.08,-25.37,-96.09,-160.3,-163.72,-175.23,-153.79,-164.71,-214.12,-205.19,-155.26,-143.28,-7.76,-7.76,-7.76,18.56,51.47,47.18,73.88,11.37,-18.49,-41.29,-50.53,-48.17,-25.17,-90.05,-55.51,-133.46,-110.27,-146.77,-173.57,-200.35,-187.9,-185.02,-194.75,-253.76,-212.6,-225.25,-90.0,-154.25,-137.77,-71.82,-75.86,-61.1,-79.87,-74.5,-4.92,-46.42,-10.37,23.16,-5.27,69.05,105.85,189.62,179.23,215.71,210.5,251.29,295.02,320.34,-38.83,-38.83,-82.81,-108.61,-115.4,-171.03,-121.5,-237.13,-197.03,-173.66,-173.61,-198.24,-248.83,-202.38,-217.35,-187.65,-190.19,-166.94,-106.27,-124.18,-81.57,-103.97,-95.66,-110.82,-16.16,7.8,0.03,29.64,39.03,91.24,45.05,103.53,151.17,202.58,172.51,229.72,26.79,26.79,-12.19,-63.94,-128.63,-187.43,-260.72,-268.05,-305.48,-239.32,-236.24,-140.03,-144.81,-144.81,-177.65,-110.9,-89.36,-122.91,-14.32,-26.74,0.44,3.29,30.93,27.45,-10.92,-7.24,-27.36,-100.4,-83.45,-133.61,-96.44,-99.44,-128.74,-168.58,-269.65,-217.08,-235.26,-131.29,-198.63,-140.62,-141.25,-105.58,-84.44,-61.49,-21.66,-29.39,45.66,17.94,53.09,97.95,96.49,113.7,118.8,162.47,187.9,197.21,300.29,196.33,325.63,305.51,51.88,51.88,-50.86,-33.77,-65.1,-123.39,-110.54,-198.6,-117.7,-118.38,-134.9,-107.64,-164.15,-90.07,-28.69,62.91,7.64,-204.29,-624.71,-44.78,-50.0,30.26,180.96,181.06,156.69,232.35,227.71,182.13,285.0,261.01,281.51,303.4,302.83,330.7,393.98,492.24,-112.8,-112.8,-141.65,-189.65,-151.38,-127.51,-67.44,-41.49,43.13,44.57,91.31,100.26,-8.77,-8.77,-8.77,-31.58,-25.55,-154.02,-61.36,-149.81,-171.39,-208.47,-144.26,-63.87,59.07,189.88,341.81,218.45,139.66,142.91,165.38,138.93,142.12,133.72,177.64,181.28,-21.99,-21.99,-47.8,-22.98,-14.55,-92.67,-133.69,-81.09,-140.25,-47.01,-66.27,-76.17,-13.91,4.36,-7.44,23.06,-18.65,53.92,66.48,-4.04,89.85,84.53,123.1,111.89,-11.19,-11.19,30.65,-29.64,-23.86,-99.61,-74.37,-157.4,-105.08,-42.64,-35.38,11.6,15.93,73.85,49.15,131.49,130.47,196.5,257.23,314.52,330.29,309.12,292.95,-1053.97,-47.82,-47.82,-50.01,-130.78,3.71,-99.72,-39.74,48.23,60.41,79.66,87.28,62.21,85.37,127.66,103.56,192.42,197.92,227.76,181.28,243.54,300.06,244.02,247.06,222.18,88.56,88.56,88.56,136.6,90.13,93.55,104.06,132.48,173.79,169.87,203.0,193.51,-63.42,-63.42,-63.44,40.51,54.13,-15.29,81.73,69.73,123.79,124.14,150.34,124.72,75.89,178.27,189.31,211.0,323.64,262.7,299.76,271.56,285.08,305.87,287.28,229.37,-70.24,-70.24,-37.36,71.31,35.98,33.78,12.08,-9.05,119.87,77.25,90.92,95.19,101.75,162.93,87.88,127.04,75.52,172.39,157.38,160.47,178.12,195.17,258.63,264.54,110.78,110.78,63.5,100.6,78.2,93.12,134.28,54.88,7.4,-25.72,40.93,55.75,-20.71,58.79,49.58,50.32,140.72,111.26,37.88,158.04,248.03,183.18,194.74,242.65,112.24,112.24,94.5,116.49,70.1,88.67,136.1,76.43,30.61,49.46,55.96,50.4,72.01,72.01,134.26,73.72,133.88,130.13,146.03,97.7,88.54,73.15,83.66,81.03,86.66,91.96,74.86,20.46,20.6,64.74,9.26,85.28,113.64,74.55,127.99,100.02,143.83,98.37,190.08,194.5,187.3,207.64,265.57,291.6,327.97,302.97,309.44,278.15,126.75,126.75,36.31,102.65,99.13,-3.53,68.18,86.33,167.35,185.99,111.88,105.81,126.51,173.86,251.82,306.93,294.98,319.22,251.19,244.08,221.49,235.5,254.48,327.41,179.66,179.66,153.76,173.79,188.3,199.36,252.75,248.84,187.13,230.98,226.29,206.46,73.18,73.18,107.19,163.06,122.99,170.11,99.85,194.51,235.66,243.27,238.34,282.7,172.73,172.73,171.9,90.12,108.02,48.49,135.88,177.11,114.92,146.49,130.24,48.87,129.58,129.58,110.79,141.28,180.19,128.69,95.48,169.32,227.29,211.84,161.98,187.55,132.27,132.27,119.8,132.82,181.77,120.28,121.49,172.46,237.29,236.81,208.93,177.95,131.96,131.96,147.28,132.04,138.21,74.02,187.38,213.25,245.19,195.91,194.06,232.09,132.06,132.06,77.39,121.04,98.33,185.75,127.67,162.42,285.19,181.18,260.06,192.19,90.56,90.56,91.65,103.27,67.21,105.59,56.08,70.35,95.45,98.59,104.09,155.27,112.56,112.56,-14.7,63.71,93.89,116.34,114.29,105.49,117.65,75.34,215.53,220.2,88.79,88.79,21.07,44.86,20.37,81.89,72.08,85.79,141.52,117.89,93.41,190.49,83.19,83.19,66.4,32.65,97.12,74.09,12.7,29.65,41.27,0.28,73.09,105.47,98.96,98.96,122.26,71.45,92.85,62.47,76.01,145.78,103.82,121.12,128.03,74.49,49.38,49.38,86.63,26.84,63.62,95.68,40.93,57.57,95.37,89.95,194.47,130.32,73.38,73.38,65.95,87.65,45.41,-7.26,80.5,97.01,66.69,59.11,153.53,140.43,63.24,63.24,76.52,-7.78,123.15,84.51,49.98,-26.54,80.57,41.67,105.71,102.28,6.51,2.17,92.42,84.65,112.45,92.26,142.74,51.76,-18.36,-21.32,50.78,56.72,52.83,52.83,2.17,4.62,43.97,53.87,99.6,48.07,72.63,75.69,14.05,-55.13,7.75,7.75,57.8,8.41,47.13,16.24,2.85,41.27,20.21,57.05,112.03,60.89,-11.5,-11.5,-125.71,11.73,-3.29,25.01,-8.33,-6.85,-78.09,-17.49,-99.33,-27.4,-37.87,-37.87,-2.74,-19.93,-10.41,-53.67,-10.57,61.94,-13.3,9.58,-21.31,23.91,-41.01,12.11,-15.73,-8.97,-26.47,-17.29,-67.1,-37.13,-11.37,-154.72,-76.5,-115.69,-23.33,-23.33,25.03,-65.67,-67.85,-36.41,-113.68,-59.64,-47.88,-22.12,-54.15,-105.69,-46.76,-46.76,-13.95,-23.66,-33.99,-58.15,-75.79,-29.32,-83.73,-47.61,-26.43,-99.72,-113.0,-78.45,-43.72,-20.19,-80.11,-64.81,-127.51,30.01,-93.44,-101.41,-144.22,-104.63,-68.4,-68.4,17.87,-45.36,-38.08,-80.4,-140.33,-122.06,-76.67,-77.31,-146.69,-174.22,-52.82,-53.46,-122.83,-90.95,-97.69,-131.93,-161.73,-134.21,-152.85,-242.39,-242.35,-242.38,-124.41,-124.41,-56.59,-97.33,-133.82,-178.17,-119.34,-99.37,-125.81,-171.14,-69.58,-136.85,-112.88,-112.88,-162.26,-167.41,-79.43,-154.86,-146.77,-137.0,-127.75,-138.85,-136.6,-161.26,-172.64,-172.64,-156.84,-15.95,-31.96,-71.2,-51.9,-118.25,-60.37,-61.96,-55.44,-25.25,-138.9,-140.85,-116.89,-75.48,-107.82,-106.3,-97.55,-137.34,-142.15,-213.53,-211.42,-165.05,-141.29,-141.29,-68.53,-92.1,-94.87,-146.92,-91.84,-112.3,-142.53,-130.98,-100.49,-135.48,-63.89,-63.89,-137.93,-111.99,-74.5,-134.76,-169.92,-81.06,-168.4,-198.26,-169.91,-155.83,-130.29,-244.29,-141.14,-145.46,-172.11,-235.26,-185.95,-210.22,-314.27,-325.43,-225.08,-269.22,-217.22,-217.22,-119.1,-198.59,-246.37,-180.63,-239.79,-152.78,-271.99,-214.84,-330.74,-462.53,-119.13,-119.13,-123.41,-55.9,-193.44,-114.36,-137.63,-135.07,-173.76,-120.36,-125.5,-221.31,-144.86,-144.86,-144.86,-157.76,-195.7,-210.49,-147.05,-158.12,-162.21,-106.2,-121.22,-88.29,-159.21,-184.73,-120.67,-129.65,-162.99,-140.02,-172.92,-198.09,-106.86,-129.39,-210.53,-202.79,-182.99,-207.85,-215.21,-185.91,-175.57,-222.98,-207.93,-287.78,-250.26,-285.86,-331.61,-354.0,-113.4,-113.4,-213.08,-201.62,-185.17,-250.33,-192.24,-196.0,-339.71,-271.33,-292.73,-231.47,-145.14,-145.14,-154.82,-183.41,-113.82,-253.33,-196.36,-196.6,-254.08,-195.11,-221.67,-296.32,-160.85,-160.85,-116.71,-171.27,-63.99,-147.78,-68.08,-97.93,-152.31,-65.97,-19.4,-73.3,-140.58,-68.17,-190.5,-206.1,-207.88,-200.44,-272.68,-274.13,-295.31,-286.77,-404.46,-293.85,-113.39,-113.39,9.72,-96.96,-214.29,-584.1,-246.13,-104.25,-142.67,-74.18,-148.07,-167.99,-185.21,-185.21,-94.41,-192.0,-174.47,-180.66,-205.21,-217.15,-275.93,-273.07,-240.76,-274.99,-19.64,-19.64,-54.47,-69.4,-29.67,-81.54,-37.57,-172.23,-147.67,-151.51,-194.26,-260.29,-129.36,-129.36,-66.92,-104.44,-144.24,-123.74,-33.51,-82.47,-101.03,-27.08,-56.54,-8.19,-14.57,-5.39,-55.87,9.2,8.96,-37.78,-70.66,-45.86,-90.55,-144.51,-82.16,-189.77,-149.33,-140.13,-88.44,-102.24,-196.75,-257.2,-303.02,-302.52,-271.71,-291.67,-288.18,-352.69,-134.1,-134.1,-124.75,-97.63,-95.62,-73.16,-9.65,-20.59,0.94,-20.3,-72.98,-32.64,-24.94,-25.38,-35.8,7.42,-50.18,-20.65,-4.83,-64.23,-93.51,-152.82,-196.08,-213.77,-178.58,-178.58,-244.66,-213.71,-154.66,-123.28,-133.36,-79.59,-84.34,-61.62,-110.08,-32.81,-78.95,-78.95,47.19,-98.16,41.08,25.63,-18.04,48.71,-34.49,9.33,23.13,12.01,88.48,62.87,65.3,73.11,120.95,23.78,40.01,18.33,76.7,-6.29,-98.52,-46.12,-64.69,-19.59,-43.18,-2.36,-9.75,-4.99,40.2,-51.22,-24.76,-58.4,-77.19,-106.34,52.73,52.73,91.35,144.5,90.56,88.46,95.76,-30.56,38.94,60.72,-65.45,-97.11,-131.69,-131.69,-48.32,-15.92,54.9,24.48,84.65,140.34,97.29,131.13,157.28,69.16,114.55,92.38,81.16,77.38,43.45,92.41,65.21,84.56,58.83,33.99,67.18,-18.07,47.88,-10.51,-57.56,5.62,-122.1,-75.46,-107.12,-56.25,-67.99,102.17,-7.91,-5.85,-22.39,27.5,-5.53,14.53,-2.15,-17.08,-33.59,-19.51,-24.38,44.45,27.93,28.94,137.1,137.1,169.81,204.11,150.91,178.79,147.42,191.76,124.1,215.67,96.13,159.97,163.4,86.39,70.88,73.59,65.58,36.48,79.42,-36.54,-20.93,8.21,63.69,-63.69,11.68,11.68,42.48,48.58,11.45,32.7,61.4,37.49,49.12,93.49,184.01,157.66,195.92,206.29,281.41,222.31,270.85,420.77,239.77,251.78,212.81,183.6,194.06,165.87,243.57,184.0,124.32,132.87,127.59,111.33,41.44,155.23,113.21,60.29,36.18,0.01,-14.17,25.72,-94.68,-151.8,-85.61,-143.83,-184.54,-195.02,-170.74,-250.12,-289.52,-401.5,19.06,19.06,126.61,141.05,174.21,229.54,198.51,298.54,321.28,263.78,214.19,221.57,220.34,146.55,189.81,126.79,123.78,88.3,17.04,67.94,-34.54,23.46,15.17,-53.32,71.22,71.22,70.39,2.62,-21.88,-36.67,-102.89,-90.33,-9.66,-89.48,-57.82,-56.08,264.34,264.34,226.74,252.91,182.79,107.97,120.38,167.69,49.83,48.48,-13.46,-72.46,229.62,229.62,180.96,204.68,303.4,222.59,308.42,335.96,328.45,269.89,316.99,204.15,273.63,282.83,253.28,262.33,220.03,229.51,258.2,198.4,231.11,144.36,82.44,147.38,154.58,154.58,233.61,230.42,234.58,268.48,310.8,331.5,295.41,364.2,321.14,277.88,362.65,327.23,323.24,315.9,273.21,260.64,287.13,182.44,175.82,159.07,136.67,190.54,147.86,94.39,127.86,108.99,54.93,42.25,70.57,5.14,-33.35,-10.35,59.65,-85.59,94.62,94.62,79.95,64.96,21.17,75.34,36.95,-4.87,18.73,4.21,83.28,59.68,216.28,216.28,222.0,123.43,136.64,79.83,104.37,45.23,110.02,49.82,-30.9,-92.24,201.2,201.2,230.83,238.77,317.86,297.1,302.37,249.04,212.75,288.07,324.11,280.3,303.61,271.72,248.73,309.21,347.12,329.47,263.87,338.03,254.59,240.96,270.7,287.53,303.4,243.26,253.28,247.74,224.56,193.81,130.93,123.74,171.4,208.02,126.93,73.42,117.73,133.81,111.71,72.92,38.53,104.15,39.03,15.52,78.49,35.45,32.11,52.23,-14.18,-85.29,-7.7,-65.85,-25.76,-60.06,-127.09,-95.25,-81.47,-131.28,-148.03,-88.04,84.7,84.7,12.61,5.78,19.88,-13.37,-22.22,-37.13,-37.17,-71.79,22.65,-75.68,44.82,-84.1,-62.54,-31.85,-49.28,0.28,-89.11,-21.17,-82.78,-99.26,-55.99,-8.39,-33.3,-33.3,6.99,-53.8,11.79,77.94,-16.01,97.65,71.34,105.83,35.04,39.69,21.17,-15.37,97.71,70.24,89.96,24.02,76.24,60.36,123.56,130.02,90.72,69.94,138.2,122.02,36.17,106.1,109.64,122.15,161.86,81.08,114.05,134.72,132.47,49.14,66.53,43.79,103.53,94.35,103.13,113.62,113.56,74.56,40.69,120.54,116.46,123.15,103.75,98.08,126.93,55.86,152.34,139.81,72.73,12.26,63.59,50.25,59.89,43.96,157.0,125.02,118.17,151.16,114.21,64.7,70.62,75.54,134.03,208.85,85.39,130.51,126.74,105.21,165.63,130.42,99.43,110.27,49.5,73.67,30.79,28.71,-20.29,3.13,-7.75,9.99,-31.63,-83.04,-17.6,-119.38,-120.53,-152.69,-132.59,-186.79,-168.68,-86.9,-32.05,-32.05,-32.05,26.64,44.87,96.15,78.17,71.32,84.62,161.08,95.71,124.47,132.53,127.65,143.59,110.23,139.09,139.16,153.87,148.26,162.98,172.92,155.26,117.84,6.35,30.7,-39.39,-87.37,-174.04,-152.29,-201.06,-294.98,-329.54,-261.95,-250.7,-213.84,-183.14,-188.35,-166.75,-197.9,-136.61,-235.36,-185.87,-221.87,-222.13,-188.24,-174.4,-141.97,-109.0,-104.82,-119.49,-55.96,-142.64,-120.71,-110.84,-40.27,-66.0,-4.82,-115.05,-47.62,-7.86,37.52,18.31,-27.7,-52.27,-5.9,-63.7,-151.53,-221.49,-158.75,-268.76,-313.71,84.65,84.65,74.48,114.92,156.21,105.94,86.85,73.67,51.81,-46.85,-77.53,-147.29,-163.87,-232.87,-256.61,-188.97,-126.65,-81.01,-81.19,-25.2,69.89,-50.72,-23.14,-43.1,18.76,18.76,-49.9,-82.82,-189.49,-200.12,-157.04,-251.76,-198.92,-231.69,-182.54,-255.21,-142.59,-96.47,-54.42,-115.02,-34.42,-43.81,90.67,55.87,53.15,51.8,-60.23,-136.79,38.38,38.38,39.41,-27.31,-178.4,-184.65,-164.08,-146.95,-206.06,-164.15,-92.99,12.95,133.3,11.07,118.68,76.44,-13.29,-74.69,-120.01,-242.94,-278.81,-329.17,-347.23,-313.67,144.41,144.41,216.86,248.23,134.53,91.47,-55.24,-161.53,-210.82,-128.38,-84.46,-36.77,14.24,109.9,69.88,-15.73,-27.82,-160.54,-244.45,-221.54,-303.85,-328.16,-335.06,-299.0,-146.53,-146.53,-97.13,-39.47,42.13,88.74,160.28,-10.95,-153.03,-212.73,-291.13,-341.53,196.13,196.13,236.56,107.22,-75.54,-152.15,-142.04,-48.16,-19.31,40.65,-12.08,-68.54,-143.76,-143.76,-71.0,-11.02,51.55,69.12,68.43,55.74,6.62,17.35,-105.08,-212.54,-64.55,-64.55,72.69,93.6,105.35,12.69,-63.24,-226.34,-128.52,-251.96,-275.03,-298.51,-181.99,-181.99,-120.99,-133.49,-68.7,-44.15,50.21,89.06,80.48,-24.68,-78.74,-169.1,173.9,173.9,21.47,-18.55,-78.01,-140.11,-90.95,-43.97,49.77,79.47,75.92,113.76,238.19,238.19,250.17,263.9,167.44,77.35,-184.08,-126.33,-163.17,-480.88,25.96,93.64,178.91,34.42,-51.53,-90.18,-196.53,-240.82,-228.04,-307.85,-239.54,-116.65,-139.66,-287.37,59.87,59.87,59.2,-66.2,-135.19,-156.26,-210.54,-193.75,-231.06,-122.06,-127.85,-64.54,-140.56,-140.56,-118.08,6.29,111.04,178.9,144.55,-15.04,-73.46,-190.48,-209.84,-213.49,241.83,241.83,241.83,271.56,301.18,217.0,130.42,-3.32,-46.74,-162.4,-58.52,-76.25,-74.31,14.75,53.1,129.4,141.56,108.32,90.04,-36.21,-95.64,-176.41,-173.74,-193.25,47.52,47.52,150.71,204.83,66.35,50.25,-0.01,-55.23,-164.65,-169.83,-180.02,-231.86,9.89,9.89,103.91,125.7,159.1,115.64,-42.02,-135.46,-103.87,-171.97,-183.95,-123.01,104.18,104.18,126.17,36.9,-61.57,-129.34,-130.65,-234.95,-115.11,-93.15,-19.52,-5.83,152.09,152.09,127.04,46.54,-69.36,-184.92,-221.82,-156.44,-91.94,-24.42,3.27,-146.12,188.31,188.31,204.47,168.74,-45.69,-84.32,-110.1,-95.63,-58.56,-24.05,21.33,-137.03,184.51,184.51,204.33,45.61,-24.27,-65.54,-49.35,-35.84,-3.89,68.15,-59.3,198.0,198.0,198.0,127.46,119.41,71.54,-15.86,-24.91,-71.08,-146.65,-75.35,-45.67,19.57,163.1,163.1,109.93,2.79,116.46,51.22,-27.11,-7.2,-82.28,-67.53,-126.62,-65.97,-10.97,-10.97,-10.97,-10.97,-10.97,-10.97,-6.1,-26.19,-50.56,-6.5,37.56,-7.3,-127.04,-127.04,-111.49,-86.27,22.22,112.58,120.54,156.17,262.65,216.37,92.69,30.28,284.99,284.99,155.03,58.28,-94.43,-105.63,-94.37,9.01,193.35,266.24,224.34,100.53,378.76,378.76,336.78,235.23,116.01,-1.39,-89.52,-81.74,16.76,119.81,248.52,164.4,380.99,380.99,447.62,399.64,218.15,54.06,-69.35,-17.5,-53.3,138.54,255.73,280.67,364.4,364.4,217.46,5.99,-109.8,-150.88,-45.92,108.96,233.32,221.02,139.04,30.26,-30.01,-30.01,-30.01,-76.71,71.02,176.31,216.23,287.3,261.97,210.58,147.91,50.5,413.32,413.32,386.26,349.3,246.54,77.14,-35.72,-103.71,174.06,-3.59,84.04,232.49,264.18,311.12,283.01,169.83,128.84,88.8,57.82,12.92,38.17,102.64,133.79,295.0,-67.01,-67.01,-13.06,28.73,102.28,214.76,289.62,230.75,208.38,95.19,73.91,54.62,337.01,337.01,150.11,-35.67,-99.63,-12.38,96.19,206.92,225.22,238.99,198.22,69.16,178.45,178.45,168.73,63.84,15.5,37.97,46.08,104.71,197.35,308.44,350.49,466.54,30.2,30.2,-68.37,-17.53,196.5,324.99,339.58,205.06,156.54,19.71,41.6,109.01,469.29,469.29,448.99,393.03,11.91,-42.03,-68.64,184.92,250.4,318.07,84.54,-15.57,99.17,99.17,5.39,-97.53,-185.97,-165.18,-119.37,52.66,202.25,129.45,211.12,229.35,468.42,468.42,433.89,329.23,148.99,64.37,-97.74,-69.03,-110.18,30.72,189.74,304.53,203.64,203.64,324.91,376.65,411.01,469.25,403.13,312.4,141.16,1.51,-88.46,-140.39,-151.15,54.66,197.53,275.33,249.69,220.7,122.63,4.01,-24.26,42.19,107.67,244.71,253.22,253.22,247.21,248.03,39.31,-31.82,-8.08,43.01,107.83,286.79,367.99,504.46,218.18,218.18,216.69,91.44,-20.26,-22.41,-3.83,84.6,191.93,275.88,348.28,158.71,79.88,79.88,184.65,172.27,197.91,76.26,13.54,4.06,91.75,221.19,354.21,332.81,-201.63,-201.63,-103.4,141.92,210.37,109.48,-4.73,-31.24,25.3,143.96,277.85,-91.41,-91.41,-91.41,-91.41,-25.89,136.31,121.06,209.01,132.49,69.38,-54.54,-57.61,-60.18,-189.69,-189.69,-125.79,-136.88,-78.35,-15.94,113.82,162.98,97.37,-26.81,-51.36,-17.92,-190.91,-190.91,-79.96,103.37,140.93,102.15,105.79,-1.76,-79.04,-36.02,19.16,151.79,-170.47,-170.47,-101.25,6.33,129.97,99.37,-44.08,-110.22,-29.05,-51.38,45.39,220.33,-53.75,-53.75,44.13,60.92,8.87,-634.83,-515.83,-146.94,-82.12,59.19,176.59,-302.35,-302.35,-302.35,-255.13,-119.01,-31.67,125.42,101.04,-27.47,-165.23,-125.25,-89.72,-28.34,-90.35,-90.35,-294.48,-290.6,-205.05,-91.29,94.71,60.04,-28.94,-108.22,-99.15,6.72,222.41,222.41,279.89,176.94,23.31,-215.89,-243.19,-56.82,-168.83,31.92,63.13,9.82,-225.11,-225.11,-118.93,40.1,51.92,50.39,44.1,-75.58,-90.63,-189.28,-130.21,-110.79,212.39,212.39,105.06,-85.68,-164.6,-307.79,-301.1,-302.29,-177.89,21.0,46.99,91.99,220.21,220.21,50.16,-69.92,-266.42,-288.26,-227.72,-171.1,19.99,-29.47,22.99,27.04,229.17,229.17,241.91,182.29,-57.22,-188.36,-339.04,-374.22,-330.36,-159.54,10.56,68.12,112.79,112.79,-94.26,-271.88,-394.68,-293.58,-151.32,-59.97,18.28,-12.61,-77.77,-145.17,-44.75,-44.75,-44.75,6.28,-9.44,-96.06,-222.16,-159.95,-77.24,-51.58,148.32,-293.93,-293.93,-293.93,-145.83,-61.51,3.59,-15.52,-115.35,-157.85,-163.06,-110.66,7.2,160.17,-110.94,-110.94,28.82,61.96,-33.46,-142.4,-132.88,-88.96,-50.4,121.46,216.71,-308.71,-308.71,-308.71,-145.99,-76.9,-143.2,-37.85,72.62,-5.16,-2.96,-109.03,-133.89,-206.61,-294.22,-294.22,-158.67,-24.88,34.54,-3.12,6.94,-61.77,-154.3,-131.96,-215.79,-135.81,-236.35,-236.35,-384.73,-402.54,-330.19,-267.95,-98.13,-65.67,17.34,-5.39,-16.59,-86.08,-433.52,-433.52,-322.49,-300.58,-239.42,-107.92,17.21,52.1,-45.05,-52.76,-108.24,-165.42,78.24,78.24,-64.71,-138.62,-303.9,-343.36,-414.52,-264.65,-147.12,-45.55,77.15,59.05,235.26,235.26,123.73,97.94,-31.46,-363.71,-420.67,-298.4,-80.54,-54.12,22.1,56.58,-187.98,-187.98,-298.63,-334.44,-252.92,-178.96,-20.76,101.27,2.15,-6.04,-58.44,-29.64,-90.71,-90.71,-265.25,-367.84,-317.51,-167.69,-56.86,7.56,37.4,-81.13,-20.1,-30.34,-320.48,-320.48,-287.72,-351.25,-70.07,-194.34,-106.47,-14.8,63.13,130.03,76.43,131.9,-193.16,-193.16,-89.26,-17.56,-17.31,125.62,68.87,100.01,-9.6,-25.39,-16.51,-78.07,-102.15,-102.15,25.13,48.57,92.54,39.32,61.42,5.08,-39.54],\"type\":\"scatter\",\"xaxis\":\"x\",\"yaxis\":\"y\"},{\"y\":[-38.88,-33.83,-58.54,-40.09,-79.31,-72.81,-86.55,-85.33,-83.97,-73.38,-86.51,-74.97,-73.15,-86.13,-76.57,-61.27,-37.23,-48.53,-30.96,-8.14,-5.54,15.79,45.71,10.61,40.66,16.7,15.18,11.98,-203.7,19.13,19.13,19.13,19.13,19.13,17.02,-8.5,-13.87,-29.1,-34.29,-24.68,-27.62,-31.21,-32.31,-37.52,-46.58,-46.2,-35.79,-42.09,-51.25,-46.61,-33.67,-38.27,-23.61,-18.23,-17.55,-0.22,0.56,22.43,28.33,35.13,24.94,29.11,-26.82,1.16,-12.48,-56.55,-62.42,-82.62,66.14,66.14,50.67,43.14,53.2,18.47,-18.44,-12.78,-38.53,-56.09,-27.7,-21.38,-29.1,252.64,-8.68,8.08,-21.35,-3.0,20.49,35.17,27.96,39.28,46.82,60.29,11.89,11.89,-4.1,16.06,-12.34,-26.87,-3.65,-27.3,-14.11,-18.68,-25.55,-12.89,-8.63,-12.13,-1.96,-9.89,12.68,-9.34,-0.01,20.44,29.28,47.68,20.2,58.85,-12.49,-12.49,-14.23,-13.93,-4.33,-16.94,-12.2,-19.3,-11.56,-22.18,-3.28,-3.35,5.43,-23.55,-3.62,10.21,17.32,-6.62,4.96,8.26,20.3,34.05,33.19,38.27,46.32,48.66,36.11,42.29,53.51,48.94,28.5,33.93,57.68,30.78,34.64,19.46,39.93,23.25,20.27,1.54,-14.09,-41.1,-62.44,-35.13,-98.46,-111.14,-86.66,-95.64,3.51,3.51,12.34,-104.29,-258.43,-296.84,-258.41,-68.54,-16.16,-1.17,-10.1,-8.89,-6.36,103.18,17.67,8.35,-32.23,-0.02,-1.95,13.92,3.54,26.25,12.69,24.4,-1.86,-1.86,-23.71,-14.83,-0.34,4.46,-2.04,2.7,3.94,-11.31,-4.78,-12.79,6.07,8.49,30.05,43.23,46.54,36.03,52.86,56.15,34.7,45.96,29.72,50.36,109.94,109.94,91.79,73.89,59.05,50.0,28.74,8.82,19.54,25.39,-6.05,1.07,-11.57,-20.5,8.19,-0.64,-2.13,-21.06,1.04,-22.39,-12.13,8.97,-1.23,13.98,38.89,19.26,27.33,27.89,40.07,51.4,61.46,41.68,43.31,34.93,45.85,28.49,30.05,14.34,15.32,24.68,7.97,6.15,-8.96,-19.02,-37.39,-34.11,-51.82,-76.94,222.55,222.55,235.02,207.21,214.12,214.12,179.52,173.96,187.14,169.34,179.61,150.81,136.5,120.92,125.86,117.16,92.11,81.41,107.03,59.61,75.21,82.04,73.89,53.67,-3.3,-3.3,-13.32,12.57,10.25,-32.54,-21.21,-32.18,13.48,3.33,-28.04,0.92,23.42,5.32,19.43,23.31,20.14,23.39,43.5,23.51,53.14,48.39,11.17,-185.22,-259.06,-240.98,-123.99,43.15,48.31,55.75,41.3,23.79,9.84,20.67,27.89,37.0,128.01,128.01,139.43,105.13,87.26,94.43,62.99,53.93,57.96,46.89,57.09,33.53,32.92,27.4,56.8,24.66,66.56,17.93,10.21,18.38,17.99,5.66,-4.93,6.13,8.28,-3.96,12.36,-2.32,-5.41,-6.79,-29.72,-14.48,-9.35,-13.11,-14.61,-23.87,-25.66,-31.43,-39.46,-4.79,-9.11,-9.52,-25.1,4.13,-12.11,-10.76,-27.11,-34.74,-32.61,-10.33,-16.89,-25.79,-3.18,-25.53,-35.17,-35.17,-29.56,-24.99,1.73,12.24,28.1,28.1,20.52,8.79,2.95,0.83,15.55,8.12,7.73,26.56,-3.16,-27.46,19.66,-6.16,-14.25,-12.26,-21.97,-12.74,-25.25,-14.17,-46.78,-30.2,-31.39,-39.28,-31.17,-12.71,-45.57,-30.5,-33.71,-29.59,-57.82,-10.27,-26.71,-24.83,-34.04,-40.67,-28.36,-27.36,-41.34,-33.67,-18.29,-29.67,-35.93,-26.5,-10.99,-10.03,-33.93,10.07,12.87,15.81,5.06,-0.82,-3.12,-10.82,12.14,41.87,-2.97,-2.52,8.17,39.15,18.89,26.71,30.5,55.35,12.23,23.87,-103.51,-275.82,-281.51,-241.96,-39.06,-13.99,3.22,3.22,-2.15,-3.71,-0.82,17.19,6.68,1.42,24.21,37.24,26.0,-2.42,-0.64,9.32,7.11,6.45,-23.11,-7.43,-14.86,-8.53,-4.82,12.61,-10.01,-0.11,25.63,25.63,25.63,18.39,11.44,-7.73,-11.61,-9.71,-7.59,9.83,-1.82,17.14,-2.96,12.98,7.07,-6.14,4.92,17.74,14.47,-5.82,8.22,-21.34,8.54,15.14,-1.85,7.11,-7.53,1.82,4.11,-24.46,-14.63,-14.04,-18.54,-13.79,1.07,0.37,26.25,13.14,9.87,4.22,13.83,12.82,36.75,41.56,-0.2,34.06,16.74,10.82,21.73,11.79,-2.72,8.43,15.72,16.48,32.85,4.5,24.82,19.95,21.34,12.62,8.53,18.59,19.18,15.07,24.72,20.22,2.71,4.29,21.46,22.82,19.24,50.68,38.24,16.73,9.92,19.89,13.07,20.07,38.66,34.22,48.68,42.96,35.32,43.0,30.84,44.69,39.17,14.12,58.04,33.85,83.21,35.29,39.67,59.38,41.47,36.11,-31.96,-31.96,-31.96,-3.55,-18.77,-27.64,-35.43,-32.71,-8.23,-24.81,-18.59,-33.36,-7.69,-41.43,-261.86,-305.12,-296.52,-143.62,6.08,1.92,-14.24,-14.19,0.42,10.45,8.79,14.44,-19.11,-19.11,-19.11,-19.11,-25.71,-4.25,-9.55,4.92,12.26,15.26,24.93,14.68,-1.36,21.41,9.54,29.06,-1.77,11.16,-1.21,27.82,17.65,22.0,-1.14,17.18,-3.42,26.61,18.25,28.05,54.84,32.36,38.12,47.46,33.84,61.68,50.03,74.49,66.85,102.88,81.43,138.31,147.66,121.35,114.76,154.48,131.15,154.04,21.04,21.04,-9.75,3.83,-14.74,4.73,-7.54,-14.69,-19.63,-35.5,-42.49,-40.45,-53.07,-26.19,-28.86,-29.93,-21.87,6.61,8.18,10.63,-14.21,1.04,25.39,36.52,-14.24,-14.24,-14.24,-17.18,-46.77,-34.98,-56.43,-43.71,-47.25,-63.21,-34.48,-50.57,-17.17,-47.2,-39.52,-25.99,-29.94,-11.96,-31.25,2.46,0.23,15.33,-9.75,1.72,-0.05,0.86,-7.67,7.7,45.96,33.24,46.37,19.03,38.92,54.86,17.51,58.85,81.08,48.07,77.93,77.99,103.49,107.41,120.36,137.01,122.62,135.66,153.18,133.98,-24.68,-24.68,-27.48,-31.73,-35.82,-53.07,-11.35,-35.77,-25.18,-169.32,-273.7,-303.14,-228.82,-20.21,14.17,18.55,8.71,23.22,15.85,28.95,25.25,9.29,27.79,38.21,54.88,53.22,51.77,74.15,81.71,64.29,93.81,112.74,112.21,117.02,138.7,111.0,-41.73,-41.73,-35.59,-36.22,-24.66,-26.27,-5.13,-17.11,9.61,10.43,17.64,22.01,-6.91,-6.91,-8.36,-0.07,-3.29,-25.19,-17.6,-24.12,-12.17,-46.31,-47.34,-41.22,-19.2,-44.58,-54.11,-55.64,-32.79,-31.31,-36.11,-20.55,-24.69,-6.03,2.88,-28.25,-12.28,-6.2,-3.68,-4.79,26.26,12.29,4.66,23.29,2.14,3.32,13.77,26.76,39.14,42.21,50.66,60.76,68.29,81.11,72.21,84.43,81.24,70.75,87.39,84.14,-19.29,-19.29,-40.01,-52.92,-27.33,-16.9,-6.4,-3.39,-27.84,10.95,12.99,-2.16,2.11,-7.13,21.04,11.27,9.41,32.25,35.83,40.86,61.18,71.19,93.49,74.17,105.38,118.63,88.39,94.04,69.49,65.0,63.05,38.33,16.68,16.62,52.19,82.8,-12.82,-12.82,-0.72,2.61,21.27,-2.79,4.49,-2.93,35.86,35.01,54.95,54.49,-31.43,-31.43,-31.43,-38.24,-103.42,-278.18,-319.56,-293.46,-117.78,-2.74,30.82,51.43,61.63,5.55,23.36,8.75,20.24,43.99,23.07,28.02,36.64,33.82,52.95,63.21,-33.3,-33.3,-40.75,-44.79,-41.2,8.22,-18.14,-9.89,-23.21,-18.42,-17.72,-19.76,-14.82,-18.01,-0.58,-4.24,3.89,-4.14,10.07,21.21,-16.24,27.73,23.68,12.5,-41.69,-41.69,-52.64,-50.61,-40.28,-31.7,-9.33,13.76,-9.14,-6.55,-20.24,-7.47,-4.84,1.14,-2.04,16.38,6.6,17.57,37.39,49.86,18.15,27.32,16.5,-44.2,-44.2,-44.2,-23.93,-8.75,-7.18,-10.87,-37.36,-36.57,-23.7,2.52,-17.93,-6.49,-4.67,11.27,5.25,12.11,32.16,18.11,29.89,11.95,24.35,-5.59,-23.31,-20.25,-26.6,-26.6,-26.6,-22.77,-2.59,-32.4,-1.36,16.14,0.59,10.32,4.98,28.0,-31.0,-31.0,-26.1,-29.36,-30.68,-51.36,-26.89,-17.39,-26.75,3.0,-1.25,-4.67,-1.01,-11.89,19.63,6.32,26.62,9.15,18.82,12.04,-8.96,-14.17,-16.54,-31.54,-46.43,-46.43,-51.67,-35.89,-36.01,-63.75,-43.68,-44.14,-44.39,-61.91,-49.77,-29.43,-224.12,-287.95,-296.2,-226.26,-19.63,-29.96,-13.32,-29.93,-17.79,-16.07,0.4,-58.14,-58.14,-58.14,-50.14,-67.32,-48.63,-32.29,-49.8,-47.7,-25.34,-28.2,-20.24,-20.36,-45.63,-28.52,-50.02,-32.16,-37.54,-33.08,-38.06,-3.0,-32.1,-19.1,15.77,14.69,-50.99,-50.99,-44.67,-34.51,-73.64,-56.34,-59.63,-51.79,-29.97,-38.96,-45.93,-51.12,-35.35,-35.35,-59.15,-38.66,-51.0,-33.57,-59.47,-48.1,-59.18,-67.5,-55.71,-54.46,-42.07,-25.85,-24.42,-37.49,-30.17,-37.75,-49.43,-38.57,-47.29,-50.57,-32.79,-24.92,-35.56,-42.24,-16.06,-25.55,-4.09,-7.05,-0.85,-30.36,3.14,18.93,1.07,-11.91,-41.71,-41.71,-67.0,-3.61,-61.46,-46.75,-58.73,-38.4,-54.18,-41.32,-49.89,-29.28,-44.87,-22.89,-25.0,-12.09,-17.55,-4.71,-11.96,-22.8,-40.64,-55.89,-51.07,-35.07,-49.04,-49.04,-60.43,-58.92,-49.92,-7.7,-15.38,-8.44,8.81,-29.69,-14.44,-66.74,-49.5,-49.5,-66.57,-54.93,-33.35,-48.77,-43.09,-12.12,-22.14,-1.56,-20.2,-25.43,-42.64,-42.64,-69.79,-34.18,-15.96,-60.67,-59.86,-121.03,-317.32,-371.27,-319.44,-142.57,-37.43,-37.43,-62.64,-59.41,-67.49,-48.62,-47.49,-23.65,-14.06,-20.74,3.71,4.36,-33.55,-33.55,-49.04,-12.14,-16.42,-24.65,-13.28,-20.98,-24.9,-6.7,-10.86,-13.02,-32.3,-32.3,-36.49,-29.18,-23.01,-15.96,-13.06,-0.39,-7.87,-13.36,-4.5,0.75,-24.86,-24.86,-45.05,-31.14,-29.34,-24.83,-2.11,-17.09,4.3,11.31,-17.01,-27.64,-52.85,-52.85,-38.21,-28.29,-29.54,-38.61,-20.37,-31.75,-21.62,-29.39,-16.79,-12.98,-39.93,-39.93,-26.57,-8.48,-29.09,-15.96,-26.03,-30.82,-27.88,-15.46,-16.1,-28.52,-37.23,-37.23,-25.53,-27.86,0.07,-19.93,-26.25,-46.34,-10.76,-25.87,-41.24,-13.83,-46.77,-46.77,-12.56,-4.85,-9.54,-31.2,-25.32,-30.29,-26.19,-28.52,-23.33,3.82,-54.32,-54.32,-26.99,-13.04,-3.79,-31.19,-18.3,-29.18,-5.85,14.25,-25.65,-29.47,-33.35,-33.35,-18.19,-40.84,-23.0,-49.5,-51.88,-40.05,-44.43,-16.9,-8.96,-36.5,-48.49,-48.49,-43.24,-33.63,-25.48,-37.36,-41.71,-18.82,-35.79,-42.54,-37.15,-28.14,-55.67,-55.67,-48.28,-263.98,-335.81,-303.18,-228.39,-14.75,-17.37,-36.61,-26.3,-42.61,-25.89,-33.75,-22.93,-11.49,-21.57,-28.86,-31.57,-26.17,-40.31,-54.47,-17.81,7.18,-32.58,-32.58,-37.95,-30.61,-29.43,-47.89,0.89,-52.71,-24.08,-37.13,-48.71,-60.75,-12.63,-12.63,-13.56,-22.03,-30.51,-20.96,-26.02,-26.61,-45.18,-31.83,-39.54,-20.47,-21.96,-21.96,0.36,1.33,-23.25,-21.32,-26.06,-36.94,-29.17,-55.0,-29.94,-15.35,3.43,3.43,-11.06,-16.56,-15.94,-25.16,-37.76,-37.51,-36.53,-7.34,-23.22,-38.57,-40.94,-12.12,-21.21,-21.21,-24.64,-22.02,-15.95,-42.74,-37.0,-56.29,-68.85,-58.96,-0.23,-0.23,-17.64,-24.18,-14.63,-15.83,-31.53,-38.9,-55.0,-46.57,-27.06,-24.28,-40.96,-40.96,-20.06,-1.0,-9.65,3.01,-14.96,-11.73,-9.82,7.73,-42.33,-34.27,-42.42,-13.71,-29.24,-43.07,-11.35,-18.02,-2.11,-23.2,-20.06,-19.55,-46.0,-71.53,-28.55,-28.55,-22.93,-8.92,-19.36,-21.43,-36.85,2.32,-28.84,-32.74,-29.03,-36.43,-31.75,-30.77,-31.36,-43.32,-26.27,-30.87,-24.24,16.13,-67.78,-52.03,-110.88,-251.57,-251.57,-251.57,-95.71,-31.86,-14.96,-31.0,-23.62,-30.98,-49.55,-23.36,-28.19,-15.11,-16.83,-16.83,-13.92,-11.29,-49.47,-46.75,-42.32,-17.79,-38.62,-51.11,-51.42,0.79,-19.9,-19.9,12.46,8.74,-29.13,-19.71,-41.6,-18.45,-24.56,-30.61,-29.61,-54.97,-37.27,-52.31,-32.08,-43.48,91.75,-42.23,-29.75,-24.43,-16.84,-27.77,-32.91,-41.94,3.46,3.46,-48.26,-34.88,-37.85,-55.89,-39.92,-46.47,-46.93,-11.75,-15.25,-37.95,-20.8,-20.8,24.88,-1.32,-1.19,-18.13,-27.39,-39.54,-31.45,-37.94,-10.85,-33.24,-35.79,-26.05,-21.73,-16.9,-40.41,-48.3,-36.68,-38.64,-56.88,-42.48,-42.01,6.15,-36.53,-36.53,-22.54,-28.56,-15.68,-41.32,-7.81,-12.53,-26.06,-43.39,-56.88,-69.11,-10.39,-10.39,-26.18,-37.26,-18.49,-36.54,-16.68,-19.18,-52.75,-15.4,-6.08,-19.96,2.18,2.18,2.18,1.29,-11.61,23.01,-22.16,4.23,32.91,6.12,6.86,6.73,21.62,-3.88,-17.18,-28.8,-25.0,-28.31,-2.64,-14.91,-51.43,-47.25,20.48,-41.07,-32.78,-33.84,-24.9,-8.36,-8.89,-35.19,-269.87,-312.75,-322.53,-195.41,-34.39,-36.94,-33.6,-33.6,-25.25,-37.96,-18.9,24.85,-28.33,-8.12,-42.43,-39.16,-30.36,-38.54,-12.87,-12.87,-13.7,-5.13,-10.68,-27.68,-25.87,-11.92,-48.84,-15.58,-14.0,-43.7,29.9,29.9,-19.27,-2.13,-0.56,12.55,-3.72,-4.03,-7.75,-5.32,-6.21,-39.46,-27.6,-24.49,-17.39,-26.89,-18.11,-17.81,-37.0,-15.0,-18.43,-31.82,-4.63,-21.57,8.89,8.89,15.11,-6.86,-6.7,6.8,-24.54,-20.82,-20.0,-10.99,-18.0,-45.29,-24.06,-24.06,-39.24,-26.9,1.24,-43.15,-14.69,-5.85,-25.95,-33.65,-47.43,-20.96,-15.75,-15.75,-17.81,-21.69,-24.1,-11.03,4.83,-12.87,-6.3,-34.12,4.73,1.24,20.5,20.5,31.37,7.88,2.74,-11.05,11.15,20.8,55.24,13.95,23.84,15.22,-7.0,18.89,-18.65,2.78,7.74,-3.27,-5.62,-18.26,-9.57,-26.72,-15.96,-8.36,-19.87,-20.71,-1.71,-13.76,-12.46,-10.94,-10.18,-22.06,-32.76,-35.37,-42.0,-31.7,54.35,54.35,4.39,14.71,18.68,32.03,54.38,16.74,1.42,27.68,29.82,62.42,1.64,-127.4,-309.52,-279.17,-258.89,-59.33,-34.72,-27.29,0.5,6.69,-6.39,-52.29,3.98,3.98,63.46,24.93,26.36,18.54,34.79,34.67,18.2,18.99,2.98,50.6,33.29,33.29,3.96,14.34,2.93,11.97,18.82,55.4,-3.18,24.15,23.5,23.89,36.17,2.57,-9.22,2.75,-11.81,-10.69,-15.47,-30.26,-18.68,-27.07,-42.62,-12.21,-9.06,-1.78,-10.61,-14.38,13.29,-6.18,-15.04,-9.7,-9.27,3.57,-6.05,18.89,17.15,17.15,13.79,17.5,7.82,25.77,-31.51,-46.98,-10.2,-5.18,3.18,12.5,21.4,21.4,8.99,21.97,21.73,12.33,12.68,53.4,44.47,22.77,21.32,23.42,19.86,42.27,38.99,9.36,-0.02,35.09,25.65,13.21,23.14,28.07,24.63,29.27,14.21,19.5,9.94,42.75,13.11,19.88,18.79,10.93,15.86,9.66,12.36,3.14,-1.27,-0.58,8.49,-12.04,-13.35,-13.36,-15.85,-9.04,-4.75,8.03,-20.07,12.38,17.96,17.96,5.95,27.1,28.27,-8.56,-18.43,-7.32,2.53,-10.18,-11.39,-11.11,-2.32,5.79,-26.12,-11.57,25.86,0.27,1.83,-3.07,-22.64,-232.24,29.12,29.12,29.12,29.12,-1.13,11.66,-4.05,-1.06,9.53,2.38,11.26,18.41,12.11,4.57,32.44,23.57,31.97,34.22,22.65,12.82,19.56,6.07,-3.08,-2.46,-8.21,-21.32,-14.89,1.45,-4.04,11.21,-5.73,-5.64,-4.76,-4.88,-27.75,-5.24,-7.16,20.04,16.87,16.81,0.97,11.68,43.61,14.41,24.57,37.37,36.15,55.89,64.44,92.39,38.0,38.0,-5.63,24.05,28.32,30.78,39.0,44.43,4.68,6.64,6.25,1.1,-18.93,3.67,-6.96,-14.09,7.99,-16.86,8.54,-3.3,29.18,17.68,-0.96,26.64,20.96,20.96,39.25,14.62,8.94,3.42,-12.43,-16.46,-6.56,4.81,-17.71,7.86,-19.75,-19.75,-4.96,-33.1,-27.68,-10.97,-11.69,2.96,17.4,9.04,4.13,11.6,29.91,29.91,17.29,65.52,34.72,9.71,31.2,16.23,3.44,13.84,24.03,5.84,-10.2,-13.32,-19.18,-6.69,-13.87,-0.18,-12.25,-2.68,3.51,1.72,13.89,13.65,4.38,4.38,-3.07,34.14,11.61,16.46,18.77,28.82,28.79,37.93,39.71,3.64,5.89,15.17,18.42,8.89,-127.71,-292.64,-298.16,-269.89,-19.81,-23.89,-21.72,-4.82,-19.05,0.98,-3.63,1.66,-8.19,7.36,31.82,30.07,35.08,18.79,3.56,17.45,-7.32,-7.32,-4.24,-4.03,-0.43,5.14,5.15,17.75,17.99,7.04,16.1,36.26,4.58,4.58,13.9,-17.32,-4.2,-0.37,4.07,-27.57,6.5,27.29,23.75,-7.99,20.12,20.12,26.82,8.15,23.17,26.75,7.6,64.36,8.53,24.62,7.72,6.46,-2.36,23.04,32.52,14.17,2.79,7.6,9.51,23.74,1.24,-6.33,2.51,-3.14,-17.07,-8.16,-4.63,-9.4,1.82,-1.14,0.75,-19.99,2.83,9.76,-10.4,-9.34,0.12,-0.71,9.72,3.37,11.77,27.39,28.33,50.58,38.49,27.12,27.33,26.81,5.91,23.28,17.93,27.5,37.39,13.07,18.71,22.56,22.08,38.16,20.44,57.58,-12.68,-12.68,-33.71,-8.36,11.05,14.19,13.77,12.12,-1.75,4.76,-18.21,-7.29,-15.1,6.58,5.65,6.03,8.75,14.33,29.36,3.79,13.61,-12.07,13.86,27.22,6.99,6.99,19.16,13.87,-1.48,15.33,20.85,29.93,29.21,12.32,11.46,-8.09,-238.13,-274.51,-279.7,-120.93,27.93,17.78,34.81,27.54,42.12,17.96,23.78,32.96,19.51,30.43,34.39,31.59,38.48,40.64,26.82,34.54,23.7,24.42,27.36,21.63,26.42,39.82,25.03,41.19,35.51,26.68,27.04,23.25,11.08,41.15,35.53,106.84,50.94,42.82,39.95,31.5,45.27,49.39,12.32,42.61,43.85,29.11,45.14,43.01,51.18,20.69,41.71,44.79,49.52,61.25,55.36,42.99,21.39,66.79,45.74,45.49,39.44,27.15,41.51,45.81,48.28,27.49,28.32,30.56,30.57,7.63,38.43,33.25,21.37,34.81,23.46,15.37,-0.85,14.01,-0.05,12.86,35.61,23.51,44.36,11.04,42.71,42.71,42.71,29.74,19.63,13.46,6.96,31.89,25.32,37.0,34.51,13.07,42.01,16.83,17.55,23.83,34.18,33.83,10.22,21.05,33.66,32.87,3.5,30.25,-1.36,9.56,0.61,9.66,-19.21,5.79,4.38,-8.36,19.66,15.02,17.79,-0.86,-10.34,-7.02,4.18,3.23,-5.29,-12.9,-1.44,12.96,10.74,-1.01,6.4,-1.82,-18.83,-14.25,-7.28,5.33,-1.07,-3.76,-0.7,-153.79,-307.39,-297.93,-245.22,-30.89,-14.8,-16.73,-25.05,32.73,-24.57,11.49,-41.96,-16.88,-45.64,-80.64,-85.81,-91.62,8.5,8.5,33.2,11.93,48.42,30.13,30.16,40.71,31.11,40.56,26.5,25.64,33.23,15.61,9.16,15.29,-1.16,10.09,13.27,5.05,36.82,-31.33,-6.39,-19.86,10.39,10.39,11.66,13.97,-2.32,-8.58,10.67,13.56,-1.41,-5.8,27.15,-2.11,0.93,10.57,-10.49,12.79,0.27,3.05,6.26,-10.28,-14.79,-21.04,-33.43,-48.94,7.21,7.21,-1.94,8.43,22.72,21.4,5.95,-3.77,-1.12,-2.07,-21.43,19.48,-0.26,1.96,-7.15,-12.69,-30.89,-27.11,-53.32,-89.74,-92.57,-138.48,-159.68,-159.1,1.61,1.61,36.78,55.48,39.71,18.57,4.29,-15.75,10.72,18.11,37.08,5.74,11.79,-14.31,0.36,-8.4,-25.79,-82.89,-104.88,-147.36,-157.34,-193.06,-234.82,17.5,17.5,17.5,2.48,-1.0,7.16,26.71,2.1,-8.15,-49.93,-69.76,-144.77,-144.77,42.67,42.67,43.83,40.46,14.13,28.96,28.2,-4.57,12.35,18.82,0.83,-48.42,-2.47,-2.47,-16.0,-251.76,-301.18,-263.38,-120.72,-7.81,-13.39,-34.71,-59.95,-72.93,-14.44,-14.44,-9.79,-6.82,4.69,-8.82,-44.61,-49.16,-55.19,-84.46,-92.81,-111.03,9.77,9.77,32.21,17.24,9.22,25.61,3.09,-4.97,7.08,6.59,-25.13,-64.94,54.21,54.21,10.92,15.95,8.11,10.11,15.49,15.62,10.96,19.25,16.1,-4.4,17.0,17.0,39.75,29.75,27.39,14.64,7.67,17.42,34.96,7.59,0.42,21.17,-13.86,-5.62,-40.82,-52.28,-80.71,-115.13,-160.46,-203.01,-235.52,-284.24,-287.76,-318.87,17.96,17.96,-13.39,-50.92,-66.11,-97.63,-130.39,-194.05,-242.93,-258.87,-303.7,-303.7,28.34,28.34,28.34,21.56,25.67,16.19,20.13,-12.86,-55.55,-70.61,-127.02,12.44,12.44,12.44,12.44,51.4,25.78,48.89,39.14,17.07,12.75,10.01,10.83,5.74,5.21,-0.38,27.18,7.16,3.36,-0.07,0.15,-24.34,-75.69,-57.55,-84.52,-129.36,2.8,2.8,18.61,35.4,0.01,-3.08,-23.62,-49.45,-91.57,-105.29,-147.8,10.57,10.57,10.57,16.36,21.51,-0.46,5.7,-204.48,-204.48,-204.48,-204.48,-204.48,-204.48,-204.48,-204.48,-3.84,6.97,-30.54,-80.26,-300.78,-300.78,-300.78,-300.78,-300.78,1.84,1.84,1.84,8.57,-1.22,-24.4,-71.11,-113.5,-169.5,-230.08,-304.72,8.94,8.94,8.94,8.94,16.18,3.1,-39.75,-72.42,-84.97,-134.21,-221.46,-241.28,-328.46,-328.46,4.39,4.39,11.43,-21.76,-21.65,-43.83,-104.38,-166.44,-198.13,-273.95,2.89,2.89,2.89,2.89,25.43,17.17,3.19,-35.5,-58.59,-42.75,-83.7,-118.6,-144.06,-163.03,20.25,20.25,20.71,8.52,23.64,-7.69,-11.92,-17.82,-52.46,-48.29,-84.5,-127.14,-22.23,-22.23,-22.23,-22.23,-22.23,-22.23,-31.04,21.77,-52.89,-88.61,-111.56,-148.48,14.13,14.13,13.35,27.68,32.2,29.45,52.97,26.05,34.25,24.14,2.75,11.47,61.69,61.69,49.42,43.13,-2.09,17.01,63.07,36.29,33.21,11.36,35.64,38.89,48.14,48.14,73.61,60.24,0.69,31.64,29.86,33.7,36.6,44.79,46.5,36.84,34.89,34.89,46.68,67.29,52.63,-1.81,4.38,47.86,40.05,31.39,67.84,32.27,59.36,59.36,28.22,14.47,10.23,-52.43,-224.92,-292.7,-241.78,-59.6,40.07,16.52,34.46,34.46,34.46,11.36,22.07,41.25,34.07,35.3,41.05,18.25,46.22,12.76,36.63,36.63,75.46,75.25,28.97,5.93,65.67,23.05,29.83,37.25,63.13,25.81,55.75,42.89,37.82,11.43,34.93,12.32,1.46,8.86,-10.01,-49.26,-15.96,-67.68,1.52,1.52,33.46,36.71,35.22,40.94,45.33,36.78,44.64,28.61,20.08,9.85,52.1,52.1,40.44,9.58,0.5,6.14,35.72,26.13,38.82,37.25,17.93,29.26,44.0,44.0,43.42,41.07,18.29,11.07,12.72,-5.1,-30.95,-41.02,-56.22,-28.18,7.03,7.03,4.54,28.94,51.43,30.62,57.48,11.93,29.64,9.48,2.0,-17.36,19.99,19.99,13.67,29.61,5.32,10.71,44.05,31.31,28.21,33.87,27.37,17.0,25.61,25.61,6.8,12.54,-13.21,12.58,7.14,28.68,15.55,24.05,38.75,40.38,32.85,32.85,48.64,43.0,-9.76,-14.81,-5.71,-2.32,39.5,50.82,29.75,31.33,62.16,62.16,60.14,20.31,19.84,35.43,45.63,49.21,-7.34,0.43,3.61,-16.32,21.07,-178.32,-262.36,-268.07,-194.45,46.02,16.78,18.96,23.35,14.68,-20.13,-8.15,25.45,25.45,15.46,31.81,8.18,15.96,10.36,-11.64,-19.0,-5.98,-15.42,-17.57,28.22,28.22,18.51,20.66,14.66,13.33,-11.18,-4.72,2.42,-16.49,-13.07,31.74,39.57,39.57,0.82,34.18,26.14,22.41,33.49,20.92,5.51,-11.7,-6.07,16.82,-5.94,-5.94,33.32,52.9,49.46,57.75,32.3,42.68,8.74,5.72,0.03,-1.42,31.63,31.63,31.63,38.52,27.5,58.32,27.87,27.05,25.91,4.86,23.13,17.37,-30.83,-30.83,-1.23,21.77,30.68,36.84,23.67,27.07,34.4,55.8,46.88,21.11,17.89,17.89,39.89,45.43,47.63,65.47,50.71,23.4,44.07,38.07,22.05,23.89,22.06,22.06,24.32,46.96,28.05,26.6,21.87,21.22,40.01,25.67,19.11,-4.43,31.52,31.52,38.92,36.29,31.64,69.14,41.65,29.64,23.31,15.96,-1.2,-10.01,-22.5,-22.5,4.56,36.89,34.23,58.65,56.22,45.43,21.89,22.77,21.42,11.43,7.93,7.93,13.59,7.56,28.32,52.94,39.09,29.26,-58.87,20.11,20.11,20.11,20.11,20.11,38.86,24.36,15.69,-14.42,-27.97,1.18,20.16,54.11,48.68,41.31,33.42,33.42,36.96,43.67,55.92,60.29,28.21,39.07,36.12,18.79,31.04,26.07,19.61,19.61,-1.46,-40.0,-16.08,-20.43,14.67,30.06,28.47,12.59,40.27,17.49,52.23,52.23,32.68,-4.32,-8.37,-15.25,6.86,1.65,27.82,27.01,18.29,18.65,4.51,4.51,42.84,42.68,-12.96,-19.46,-24.74,-13.74,0.25,-11.61,2.89,18.51,0.43,0.43,-17.13,-19.21,-19.34,57.43,0.99,10.54,3.71,18.54,69.32,45.6,20.32,20.32,20.32,23.23,5.14,53.64,22.18,23.36,29.8,6.2,25.18,66.77,-8.47,-8.47,21.24,28.04,23.18,18.64,13.39,37.68,12.57,35.26,27.6,36.86,21.17,21.17,16.22,31.81,29.61,-1.2,28.15,39.68,39.04,32.68,33.82,50.85,21.49,21.49,32.98,4.85,17.13,27.07,28.21,35.36,35.19,27.48,33.66,13.96,-1.61,-1.61,15.97,-5.2,22.91,12.36,15.85,31.67,12.95,43.32,23.86,35.21,-46.25,-46.25,-58.93,-61.18,-240.74,-295.12,-294.36,-184.02,-5.43,6.96,-34.68,-34.68,-34.68,-34.68,-31.36,-6.16,-4.76,13.37,12.48,28.21,5.67,17.87,-0.79,9.14,26.46,26.46,-11.16,-21.2,-70.18,-72.75,-33.44,-11.0,-13.61,2.84,7.18,2.38,4.25,4.25,19.91,35.57,-37.23,-52.32,-55.54,-35.65,-1.43,-3.43,-14.21,-5.68,-61.55,-61.55,-8.67,-42.88,-5.72,-25.49,-18.72,18.75,5.1,17.57,-16.46,21.43,-32.67,-32.67,-58.56,-51.99,-32.14,-36.75,-15.49,-13.24,20.46,-1.47,-0.4,27.8,-58.2,-58.2,-72.04,-58.01,-30.92,-13.42,-13.98,-5.43,8.71,1.8,36.59,-9.8,-19.53,-19.53,-24.32,-23.88,-33.07,-9.03,3.75,11.61,-12.66,-5.69,12.53,-3.28,-32.21,-32.21,-24.89,-4.86,0.76,-11.7,6.46,16.0,19.93],\"type\":\"scatter\",\"xaxis\":\"x2\",\"yaxis\":\"y2\"},{\"y\":[172.779999999999,147.029999999999,117.5,93.2799999999988,87.5400000000081,26.4000000000087,1.2100000000064,7.36000000000058,-62.4700000000012,-64.3300000000017,-85.7099999999919,-79.6699999999983,-84.8300000000017,-84.2599999999948,-65.4700000000012,-89.5800000000017,-72.429999999993,-76.5800000000017,-51.1999999999971,70.6300000000047,132.080000000002,122.199999999997,41.820000000007,60.070000000007,56.9900000000052,114.430000000008,132.139999999999,152.820000000007,163.270000000004,195.570000000007,216.190000000002,238.440000000002,174.470000000001,213.300000000003,222.040000000008,242.990000000005,223.130000000005,247.110000000001,225.240000000005,249.080000000002,282.210000000006,275.240000000005,272.020000000004,287.309999999998,262.139999999999,293.419999999998,265.779999999999,283.940000000002,288.910000000003,298.669999999998,275.080000000002,269.529999999999,244.630000000005,246.020000000004,209.330000000002,205.880000000005,199.529999999999,162.990000000005,153.270000000004,160.160000000003,165.089999999997,155.839999999997,149.070000000007,164.279999999999,139.210000000006,154.490000000005,133.400000000009,-70.5200000000041,-76.5500000000029,-96.3499999999913,-128.910000000003,-135.709999999992,-122.970000000001,-154.919999999998,-142.649999999994,-142.160000000003,-168.550000000003,-161.0,-154.660000000003,-143.869999999995,-94.7599999999948,-111.029999999999,-104.800000000003,-88.4100000000035,-49.3999999999942,-54.6100000000006,-48.4700000000012,-51.7200000000012,-74.3499999999913,-68.6100000000006,-153.25,-186.649999999994,-156.470000000001,-178.739999999991,-189.259999999995,-178.039999999994,-192.910000000003,-196.569999999992,-188.259999999995,-175.5,-182.800000000003,-184.029999999999,-166.610000000001,-155.190000000002,-163.660000000003,-173.339999999997,-177.470000000001,-157.690000000002,-149.860000000001,-134.709999999992,-117.699999999997,-130.869999999995,-92.6699999999983,-149.169999999998,-164.709999999992,-165.520000000004,-144.149999999994,-181.149999999994,-175.259999999995,-156.869999999995,-148.610000000001,-138.080000000002,136.470000000001,-152.839999999997,-132.429999999993,-162.649999999994,80.7900000000081,-190.869999999995,-199.259999999995,-218.720000000001,-224.910000000003,-245.869999999995,-257.550000000003,-291.009999999995,-287.399999999994,-321.789999999994,-300.779999999999,-333.449999999997,-318.860000000001,-301.949999999997,-306.259999999995,-304.940000000002,-319.429999999993,-318.470000000001,-312.179999999993,-288.539999999994,-300.509999999995,-230.330000000002,-208.190000000002,-198.720000000001,-141.289999999994,-107.639999999999,-83.25,-36.0800000000017,15.6999999999971,45.6699999999983,38.5400000000081,47.9799999999959,62.7100000000064,93.7700000000041,-72.0999999999913,-57.3899999999994,-68.6399999999994,-80.8300000000017,-65.3000000000029,-88.2599999999948,-94.0,-107.319999999992,-137.699999999997,-125.130000000005,-137.190000000002,-160.520000000004,-170.610000000001,-206.089999999997,-226.979999999996,-237.360000000001,-241.910000000003,-265.429999999993,-258.179999999993,-274.539999999994,-263.830000000002,-248.610000000001,-229.110000000001,-234.0,-223.660000000003,-186.789999999994,-203.069999999992,-185.259999999995,-168.809999999998,-143.509999999995,-18.8199999999924,-112.239999999991,-114.440000000002,-105.209999999992,-53.3499999999913,-24.6499999999942,19.1800000000076,4.10000000000582,38.6399999999994,70.8600000000006,97.7600000000093,133.279999999999,168.75,152.350000000006,142.100000000006,149.710000000006,23.9100000000035,-4.61000000000058,16.6600000000035,1.63000000000466,3.07000000000698,-4.23999999999069,-44.5800000000017,-36.2200000000012,-30.4899999999907,-44.4400000000023,-50.929999999993,-81.8000000000029,-86.7700000000041,-104.610000000001,-123.289999999994,-90.5899999999965,-107.610000000001,-125.399999999994,-146.330000000002,-130.489999999991,-141.179999999993,-142.580000000002,-136.399999999994,-96.1199999999953,-108.110000000001,-74.2200000000012,-45.3199999999924,-40.5800000000017,-3.86999999999534,16.8899999999994,43.0800000000017,69.8800000000047,87.3099999999977,107.380000000005,181.010000000009,167.610000000001,195.229999999996,216.669999999998,192.760000000009,219.139999999999,206.309999999998,229.660000000003,269.850000000006,268.100000000006,278.300000000003,290.130000000005,301.710000000006,155.570000000007,131.229999999996,139.0,111.669999999998,179.5,87.2799999999988,82.7100000000064,84.1600000000035,73.1999999999971,68.7900000000081,96.6900000000023,107.800000000003,82.9400000000023,75.0100000000093,91.9700000000012,67.1199999999953,84.7600000000093,56.0299999999988,42.7799999999988,62.9100000000035,67.2100000000064,97.1000000000058,78.4000000000087,140.430000000008,129.089999999997,127.300000000003,122.050000000003,138.809999999998,147.0,154.059999999998,166.600000000006,154.430000000008,151.369999999995,148.139999999999,161.740000000005,160.589999999997,156.740000000005,130.290000000008,114.25,111.220000000001,78.7200000000012,59.2700000000041,47.9600000000064,3.24000000000524,-2.69000000000233,-33.6199999999953,-10.4100000000035,-110.050000000003,-110.739999999991,-145.429999999993,-177.149999999994,-213.479999999996,-208.319999999992,-246.399999999994,-270.860000000001,-265.539999999994,-279.889999999999,-286.009999999995,-378.080000000002,-390.039999999994,-363.910000000003,-358.529999999999,-365.739999999991,-324.279999999999,-307.830000000002,-257.910000000003,-205.160000000003,-187.630000000005,-168.380000000005,-121.190000000002,-96.7200000000012,-41.6600000000035,-37.2200000000012,-13.3699999999953,-4.72999999999593,43.1500000000087,21.1800000000076,53.8899999999994,68.8099999999977,66.6800000000076,63.1399999999994,71.8099999999977,96.0299999999988,138.169999999998,112.150000000009,128.710000000006,123.710000000006,138.990000000005,149.119999999995,112.240000000005,119.240000000005,143.589999999997,145.850000000006,138.619999999995,93.3300000000017,97.1000000000058,94.2799999999988,86.570000000007,77.9600000000064,76.4900000000052,75.0200000000041,83.1399999999994,69.6800000000076,57.2100000000064,38.6500000000087,37.9199999999983,15.75,9.44999999999709,-23.8899999999994,-40.1100000000006,-60.6600000000035,-98.8000000000029,-98.8000000000029,-118.690000000002,-103.580000000002,-123.489999999991,-123.179999999993,-145.330000000002,-127.289999999994,-133.220000000001,-147.270000000004,-131.970000000001,-147.399999999994,-158.729999999996,-110.520000000004,-95.7899999999936,-103.580000000002,-68.3899999999994,-40.929999999993,-23.429999999993,-21.1600000000035,2.49000000000524,20.6999999999971,-8.98999999999069,3.01000000000931,13.3500000000058,2.63999999999942,-31.1600000000035,-28.4400000000023,-23.2599999999948,-14.6300000000047,-9.97000000000116,-28.1100000000006,-22.0099999999948,3.69999999999709,-8.64999999999418,-10.1900000000023,3.25,3.55999999999767,17.2799999999988,5.60000000000582,44.4499999999971,46.8899999999994,44.6399999999994,80.1399999999994,76.4199999999983,67.9799999999959,62.2799999999988,67.4100000000035,59.6300000000047,16.570000000007,-2.39999999999418,-1.75999999999476,-11.2599999999948,2.61000000000058,-13.6300000000047,-28.5399999999936,-48.3000000000029,-77.3999999999942,-41.6900000000023,-46.0399999999936,-50.8899999999994,-72.1699999999983,-51.1199999999953,-27.1499999999942,-20.5500000000029,16.320000000007,-5.95999999999185,-7.72999999999593,-22.5999999999913,-5.83000000000175,-36.9799999999959,-16.9400000000023,-68.5500000000029,-42.4199999999983,-25.1100000000006,-31.5500000000029,-5.5,-61.6999999999971,-43.7200000000012,-70.9100000000035,-37.5,-99.8399999999965,-118.690000000002,-140.539999999994,-167.369999999995,-212.959999999992,-246.630000000005,-262.880000000005,-319.619999999995,-290.080000000002,-293.800000000003,-264.419999999998,-290.589999999997,-307.110000000001,-324.589999999997,-327.149999999994,-330.720000000001,-356.639999999999,-358.970000000001,-378.220000000001,-403.149999999994,-403.849999999991,-371.899999999994,-356.860000000001,-357.399999999994,-349.050000000003,-325.5,-342.429999999993,-332.009999999995,-332.569999999992,-338.899999999994,-336.729999999996,-323.649999999994,-293.649999999994,-282.720000000001,-251.169999999998,-252.319999999992,-240.929999999993,-244.779999999999,-251.75,-223.5,-242.190000000002,-239.009999999995,-257.630000000005,-249.539999999994,-268.789999999994,-280.470000000001,-289.190000000002,-309.289999999994,-317.589999999997,-346.569999999992,-387.289999999994,-360.539999999994,-396.059999999998,-390.149999999994,-388.149999999994,-383.639999999999,-365.080000000002,-361.690000000002,-353.270000000004,-319.669999999998,-290.330000000002,-288.580000000002,-265.709999999992,-267.039999999994,-251.630000000005,-218.110000000001,-224.330000000002,-180.649999999994,-120.649999999994,-102.789999999994,-87.0800000000017,-63.6399999999994,-39.4400000000023,-9.47000000000116,59.7900000000081,64.7600000000093,111.300000000003,135.320000000007,158.419999999998,171.360000000001,166.669999999998,160.479999999996,147.550000000003,122.050000000003,134.960000000006,88.5299999999988,66.7600000000093,42.5100000000093,16.1399999999994,-11.1199999999953,-10.7200000000012,-47.3999999999942,-84.5099999999948,-114.259999999995,-131.380000000005,-158.739999999991,-179.559999999998,-238.619999999995,-258.509999999995,-273.220000000001,-260.069999999992,-293.160000000003,-291.489999999991,-298.389999999999,-255.800000000003,-224.800000000003,-188.929999999993,-185.959999999992,-146.889999999999,-121.789999999994,-109.179999999993,-103.5,-94.6499999999942,27.1399999999994,44.4199999999983,43.7799999999988,53.3800000000047,57.7299999999959,78.4600000000064,97.4600000000064,114.119999999995,112.800000000003,103.949999999997,104.139999999999,128.669999999998,100.979999999996,106.919999999998,53.6800000000076,52.8500000000058,0.529999999998836,1.97000000000116,-40.0399999999936,-68.0599999999977,-103.75,-128.989999999991,-130.880000000005,-167.089999999997,-156.199999999997,-171.089999999997,-139.440000000002,-127.800000000003,-109.360000000001,-105.800000000003,-105.639999999999,-94.8600000000006,-61.1499999999942,-14.6999999999971,28.3099999999977,43.9900000000052,69.070000000007,124.720000000001,139.220000000001,173.270000000004,180.520000000004,186.010000000009,216.229999999996,213.110000000001,255.309999999998,252.600000000006,255.740000000005,266.720000000001,265.639999999999,235.279999999999,224.369999999995,178.229999999996,138.169999999998,132.570000000007,64.5299999999988,49.8500000000058,27.6199999999953,12.1399999999994,-0.0800000000017462,-14.9700000000012,-45.8300000000017,-45.4100000000035,-60.9799999999959,-47.5699999999924,-49.5200000000041,-73.9700000000012,-58.9899999999907,22.1300000000047,-4.23999999999069,-28.0899999999965,-25.0099999999948,-50.8800000000047,-50.7700000000041,-47.3300000000017,-40.5399999999936,-47.1100000000006,-69.5500000000029,-57.8399999999965,-64.6199999999953,-68.5399999999936,-53.9799999999959,-88.7899999999936,-96.3300000000017,-103.539999999994,-101.190000000002,-97.2899999999936,-91.5099999999948,-44.9799999999959,-43.8300000000017,-19.929999999993,42.0899999999965,39.2900000000081,47.1600000000035,21.8800000000047,3.30999999999767,-7.64999999999418,-14.4700000000012,-55.3999999999942,-68.6499999999942,-86.7599999999948,-82.2599999999948,-95.8300000000017,-115.059999999998,-137.5,-148.470000000001,-153.130000000005,-182.360000000001,-199.849999999991,-200.220000000001,-197.589999999997,-195.489999999991,-203.699999999997,-191.380000000005,-184.330000000002,-184.869999999995,-147.849999999991,-149.300000000003,-134.929999999993,-137.660000000003,-131.380000000005,-118.619999999995,-142.449999999997,-138.630000000005,-121.080000000002,-97.1900000000023,-116.899999999994,-101.940000000002,-102.459999999992,-73.0999999999913,-85.6699999999983,-90.6900000000023,-81.0099999999948,-85.7399999999907,-93.679999999993,-125.959999999992,-145.259999999995,-124.979999999996,-161.059999999998,-159.720000000001,-172.739999999991,-213.149999999994,-212.880000000005,-234.690000000002,-257.199999999997,-256.399999999994,-278.880000000005,-298.080000000002,-317.199999999997,-349.130000000005,-373.110000000001,-403.020000000004,-409.419999999998,-368.009999999995,-381.270000000004,-351.610000000001,-358.300000000003,-327.989999999991,-337.610000000001,-305.020000000004,-287.970000000001,-264.419999999998,-259.699999999997,-210.330000000002,-200.520000000004,-193.220000000001,-161.610000000001,-162.459999999992,-151.779999999999,-119.179999999993,-121.399999999994,-110.309999999998,-20.1100000000006,-8.52999999999884,-15.0800000000017,20.1000000000058,30.5800000000017,32.5299999999988,102.550000000003,38.1999999999971,45.3099999999977,46.1699999999983,33.8000000000029,100.910000000003,72.1000000000058,50.0299999999988,49.8800000000047,13.4600000000064,1.27999999999884,-33.9700000000012,-51.0099999999948,-58.8600000000006,-76.6300000000047,-91.4799999999959,-130.160000000003,-62.8600000000006,-170.059999999998,-187.610000000001,-193.110000000001,-195.360000000001,-191.639999999999,-208.380000000005,-192.229999999996,-174.190000000002,-188.520000000004,-176.349999999991,-187.399999999994,-163.429999999993,-176.690000000002,-166.080000000002,-149.899999999994,-129.539999999994,-133.550000000003,-146.860000000001,-142.889999999999,-119.520000000004,-82.5800000000017,-61.4100000000035,-55.2099999999919,-50.6100000000006,-63.8800000000047,-58.9899999999907,-70.9700000000012,-36.9199999999983,-47.4700000000012,-21.6399999999994,-44.6100000000006,-49.9700000000012,-98.5800000000017,-94.5399999999936,-72.9199999999983,-106.869999999995,-113.190000000002,-111.929999999993,-140.009999999995,-141.849999999991,-159.110000000001,-188.110000000001,-191.330000000002,-253.910000000003,-257.199999999997,-248.649999999994,-291.039999999994,-283.819999999992,-297.589999999997,-305.119999999995,-318.369999999995,-312.919999999998,-304.940000000002,-334.169999999998,-316.009999999995,-301.770000000004,-311.479999999996,-323.489999999991,-317.610000000001,-295.289999999994,-303.949999999997,-268.569999999992,-213.029999999999,-195.800000000003,-142.979999999996,-97.6100000000006,-87.3999999999942,-89.6499999999942,-40.8800000000047,40.75,65.5500000000029,61.1399999999994,82.1900000000023,106.139999999999,110.900000000009,150.740000000005,146.949999999997,152.279999999999,158.029999999999,171.790000000008,261.350000000006,272.050000000003,269.490000000005,291.470000000001,275.669999999998,259.720000000001,270.619999999995,263.210000000006,253.520000000004,254.580000000002,252.790000000008,237.919999999998,200.740000000005,206.059999999998,170.990000000005,143.0,121.290000000008,103.190000000002,102.960000000006,94.7799999999988,118.070000000007,130.490000000005,178.710000000006,171.669999999998,180.029999999999,163.580000000002,115.570000000007,109.369999999995,113.510000000009,95.9600000000064,104.160000000003,103.529999999999,106.740000000005,109.610000000001,109.460000000006,119.229999999996,142.779999999999,171.460000000006,165.880000000005,198.5,189.680000000008,185.169999999998,197.240000000005,187.600000000006,196.350000000006,232.380000000005,228.150000000009,229.400000000009,214.940000000002,201.589999999997,223.100000000006,188.850000000006,142.740000000005,79.4600000000064,58.2100000000064,11.7400000000052,-23.8499999999913,-62.9599999999919,-121.459999999992,-127.970000000001,-131.559999999998,-156.649999999994,-160.360000000001,-155.179999999993,-159.039999999994,-160.080000000002,-145.649999999994,-87.4599999999919,-87.4599999999919,-57.5899999999965,-58.1199999999953,-53.5800000000017,-79.3099999999977,-79.5099999999948,-70.0500000000029,-91.9599999999919,-75.1600000000035,-90.8300000000017,-67.6900000000023,-73.2299999999959,-68.6100000000006,-11.8899999999994,-9.41999999999825,20.6699999999983,51.1399999999994,44.4499999999971,66.9199999999983,85.6999999999971,91.9400000000023,116.139999999999,90.7799999999988,52.3000000000029,28.1900000000023,16.3399999999965,5.93000000000757,-24.0399999999936,-38.6900000000023,-49.5999999999913,-70.2799999999988,-89.5800000000017,-125.919999999998,-170.039999999994,-227.830000000002,-291.429999999993,-320.610000000001,-346.139999999999,-406.089999999997,-428.300000000003,-490.459999999992,-470.440000000002,-477.589999999997,-502.970000000001,-531.669999999998,-532.149999999994,-501.589999999997,-494.520000000004,-466.110000000001,-438.669999999998,-425.989999999991,-410.690000000002,-357.610000000001,-337.520000000004,-287.220000000001,-263.020000000004,-158.860000000001,-96.2700000000041,-60.7299999999959,-17.9499999999971,35.4199999999983,88.0899999999965,132.369999999995,132.180000000008,170.600000000006,160.240000000005,170.260000000009,106.790000000008,83.6699999999983,42.4199999999983,38.570000000007,-17.1900000000023,-23.6999999999971,-40.0500000000029,-53.3600000000006,-94.2599999999948,-107.209999999992,-119.679999999993,-133.919999999998,-114.649999999994,-122.470000000001,-109.989999999991,-92.3699999999953,-108.630000000005,-109.209999999992,-82.2599999999948,-88.2899999999936,-79.7799999999988,-58.3099999999977,-62.3300000000017,-73.4799999999959,-16.3300000000017,-18.8999999999942,-12.1600000000035,-12.1600000000035,21.6800000000076,9.52999999999884,7.76000000000931,2.68000000000757,-12.3699999999953,6.66000000000349,3.41000000000349,58.2100000000064,85.2799999999988,93.9000000000087,89.0299999999988,112.610000000001,109.850000000006,134.729999999996,112.889999999999,135.400000000009,139.809999999998,115.820000000007,177.919999999998,181.740000000005,195.449999999997,166.320000000007,175.410000000003,165.619999999995,159.820000000007,134.309999999998,100.490000000005,85.3500000000058,74.8300000000017,41.7400000000052,27.8099999999977,0.0,-30.3999999999942,-47.6900000000023,-48.6999999999971,-71.6699999999983,-94.2099999999919,-95.429999999993,-91.8399999999965,-124.509999999995,-108.690000000002,-133.039999999994,-134.959999999992,-141.860000000001,-147.869999999995,-124.509999999995,-114.899999999994,-109.380000000005,-109.099999999991,-96.3099999999977,-62.0999999999913,-6.84999999999127,12.4900000000052,151.669999999998,200.360000000001,225.119999999995,231.850000000006,267.190000000002,269.779999999999,286.080000000002,320.949999999997,340.550000000003,342.529999999999,361.720000000001,368.809999999998,383.100000000006,401.150000000009,422.119999999995,426.139999999999,448.850000000006,427.240000000005,437.430000000008,457.169999999998,441.850000000006,428.300000000003,385.070000000007,324.490000000005,328.25,310.570000000007,272.220000000001,218.240000000005,212.449999999997,190.710000000006,176.830000000002,134.389999999999,102.389999999999,84.2700000000041,40.3000000000029,26.75,10.6300000000047,12.6800000000076,10.2100000000064,-30.5299999999988,-8.44999999999709,-14.5399999999936,-14.3999999999942,5.79000000000815,11.3899999999994,80.8899999999994,111.619999999995,102.779999999999,87.6000000000058,130.600000000006,168.970000000001,160.850000000006,185.119999999995,184.850000000006,208.889999999999,227.490000000005,182.070000000007,173.029999999999,200.510000000009,165.460000000006,179.229999999996,172.690000000002,176.600000000006,159.860000000001,158.460000000006,175.5,158.880000000005,175.639999999999,183.550000000003,182.419999999998,169.809999999998,178.270000000004,162.970000000001,160.389999999999,118.570000000007,114.710000000006,93.9600000000064,94.2299999999959,86.2700000000041,92.7700000000041,68.9400000000023,83.5299999999988,70.9199999999983,90.3600000000006,79.6699999999983,71.1699999999983,93.5100000000093,93.1199999999953,97.2700000000041,90.3500000000058,104.419999999998,92.8899999999994,74.0,82.570000000007,68.75,41.4900000000052,9.83000000000175,16.5299999999988,128.350000000006,-47.1300000000047,-54.4599999999919,-101.429999999993,-137.009999999995,-135.220000000001,-166.569999999992,-190.789999999994,-214.279999999999,-250.970000000001,-250.770000000004,-259.639999999999,-262.160000000003,-200.459999999992,-178.580000000002,-180.440000000002,-178.929999999993,-195.529999999999,-186.979999999996,-187.099999999991,-165.770000000004,-164.580000000002,-139.009999999995,-128.380000000005,-65.3699999999953,-39.2599999999948,-73.6100000000006,-69.5999999999913,-89.9899999999907,-59.0699999999924,-67.5800000000017,-65.9599999999919,-69.4100000000035,-43.7200000000012,-30.3300000000017,-10.5999999999913,-32.8199999999924,-37.6199999999953,-79.0099999999948,-68.4499999999971,-80.5599999999977,-101.550000000003,-110.289999999994,-106.809999999998,-139.550000000003,-129.830000000002,-111.940000000002,-109.830000000002,-93.0800000000017,-81.7899999999936,-83.8300000000017,-44.179999999993,-56.5599999999977,-59.4400000000023,-45.4100000000035,-39.6900000000023,-34.4499999999971,30.9600000000064,73.8600000000006,71.8500000000058,61.3500000000058,64.5500000000029,107.850000000006,133.440000000002,157.729999999996,160.199999999997,154.790000000008,184.190000000002,259.900000000009,309.240000000005,334.330000000002,359.930000000008,401.779999999999,404.940000000002,466.839999999997,493.940000000002,527.430000000008,575.029999999999,614.760000000009,681.070000000007,710.410000000003,696.820000000007,697.839999999997,696.400000000009,654.100000000006,645.470000000001,626.139999999999,617.610000000001,613.529999999999,617.460000000006,604.550000000003,576.479999999996,640.220000000001,574.669999999998,521.270000000004,515.150000000009,504.139999999999,514.050000000003,511.970000000001,486.25,460.850000000006,451.309999999998,393.020000000004,419.400000000009,428.720000000001,391.190000000002,380.75,388.160000000003,351.820000000007,357.020000000004,341.440000000002,305.160000000003,284.130000000005,271.190000000002,258.889999999999,229.740000000005,219.910000000003,258.290000000008,251.350000000006,277.630000000005,318.240000000005,339.900000000009,318.779999999999,327.0,377.169999999998,360.680000000008,362.970000000001,311.020000000004,330.240000000005,330.550000000003,343.5,348.570000000007,320.440000000002,342.540000000008,309.650000000009,326.669999999998,300.919999999998,285.930000000008,283.430000000008,260.210000000006,267.100000000006,252.75,227.089999999997,176.339999999997,144.210000000006,120.550000000003,105.309999999998,73.1000000000058,146.740000000005,84.8600000000006,-7.33999999999651,3.80999999999767,-2.69999999999709,-12.6499999999942,-17.9100000000035,-1.72000000000116,6.99000000000524,-12.9899999999907,-18.929999999993,-46.3600000000006,-50.6900000000023,-60.3399999999965,-62.1999999999971,-37.8600000000006,-49.8600000000006,-53.9400000000023,-51.2299999999959,-95.7799999999988,-93.0800000000017,-105.580000000002,-124.849999999991,-150.910000000003,-171.190000000002,-179.779999999999,-186.839999999997,-204.619999999995,-182.550000000003,-182.509999999995,-180.690000000002,-201.789999999994,-164.869999999995,-169.360000000001,-147.789999999994,-129.289999999994,-80.1900000000023,-90.7599999999948,-65.6399999999994,-57.9700000000012,-28.2899999999936,2.63999999999942,21.75,30.8800000000047,86.2200000000012,82.1399999999994,105.460000000006,83.7100000000064,70.1100000000006,37.5299999999988,9.25,-10.1499999999942,-39.7299999999959,-61.2700000000041,-65.5299999999988,-92.1600000000035,-109.110000000001,-158.819999999992,-148.099999999991,-179.339999999997,-181.440000000002,-188.369999999995,-181.380000000005,-178.580000000002,-182.660000000003,-201.539999999994,-168.929999999993,-137.410000000003,-103.059999999998,-121.0,-80.6900000000023,-73.5899999999965,-40.8300000000017,-14.0299999999988,-19.7700000000041,-11.5299999999988,-27.7899999999936,-29.0800000000017,-25.1300000000047,1.60000000000582,29.4000000000087,12.7100000000064,-1.7899999999936,23.1000000000058,23.2600000000093,38.2900000000081,82.8099999999977,93.75,144.350000000006,244.350000000006,251.660000000003,252.089999999997,271.130000000005,280.729999999996,272.270000000004,299.290000000008,299.710000000006,312.900000000009,310.400000000009,301.990000000005,333.869999999995,343.990000000005,311.100000000006,295.369999999995,281.880000000005,253.589999999997,203.059999999998,190.150000000009,157.25,119.350000000006,117.080000000002,104.669999999998,96.4900000000052,65.3000000000029,92.6199999999953,54.9199999999983,63.7400000000052,54.5400000000081,56.7299999999959,51.820000000007,29.0,30.4300000000076,26.4400000000023,85.2100000000064,109.520000000004,103.380000000005,103.010000000009,114.510000000009,147.850000000006,169.279999999999,206.660000000003,188.559999999998,242.350000000006,298.139999999999,327.25,321.070000000007,356.990000000005,388.779999999999,403.940000000002,390.960000000006,388.510000000009,387.330000000002,421.100000000006,390.970000000001,341.040000000008,349.589999999997,326.460000000006,285.850000000006,291.75,260.580000000002,228.100000000006,246.100000000006,230.860000000001,233.900000000009,235.699999999997,227.639999999999,245.440000000002,238.160000000003,220.150000000009,232.889999999999,178.119999999995,176.869999999995,172.800000000003,177.309999999998,159.520000000004,152.979999999996,169.119999999995,144.880000000005,186.740000000005,205.690000000002,153.680000000008,132.600000000006,116.199999999997,113.110000000001,101.900000000009,45.1900000000023,55.9499999999971,31.8800000000047,47.8899999999994,15.0200000000041,7.97999999999593,-31.429999999993,-26.8199999999924,-61.7599999999948,-50.4199999999983,-77.2899999999936,-66.6300000000047,-84.3899999999994,-95.6999999999971,-84.9499999999971,-75.0399999999936,-102.639999999999,-129.819999999992,-136.550000000003,-169.779999999999,-152.0,-166.220000000001,-159.569999999992,-194.349999999991,-162.839999999997,-161.339999999997,-131.509999999995,-119.110000000001,-117.970000000001,-106.940000000002,-111.580000000002,-89.2700000000041,-90.4700000000012,-107.449999999997,-127.289999999994,-121.630000000005,-126.470000000001,-135.759999999995,-152.259999999995,-173.699999999997,-151.289999999994,-161.389999999999,-149.529999999999,-135.970000000001,-122.789999999994,-95.8499999999913,-105.720000000001,-61.2899999999936,-42.0999999999913,25.3699999999953,52.0400000000081,69.0100000000093,74.4600000000064,93.2400000000052,102.160000000003,118.930000000008,110.470000000001,126.130000000005,118.490000000005,138.919999999998,140.790000000008,130.820000000007,143.490000000005,179.100000000006,171.029999999999,176.410000000003,227.169999999998,239.460000000006,284.360000000001,261.240000000005,272.779999999999,303.940000000002,290.449999999997,303.699999999997,263.589999999997,297.930000000008,276.210000000006,265.350000000006,264.199999999997,269.330000000002,248.369999999995,269.940000000002,249.690000000002,259.809999999998,265.180000000008,233.169999999998,261.720000000001,241.669999999998,267.529999999999,271.669999999998,293.520000000004,250.380000000005,275.510000000009,284.430000000008,313.979999999996,309.150000000009,324.410000000003,319.850000000006,340.680000000008,339.710000000006,343.869999999995,353.029999999999,345.460000000006,326.570000000007,333.210000000006,353.660000000003,367.570000000007,359.559999999998,378.809999999998,374.419999999998,373.710000000006,368.260000000009,359.369999999995,327.0,298.110000000001,295.889999999999,283.839999999997,254.0,225.380000000005,216.130000000005,199.460000000006,209.010000000009,205.360000000001,189.470000000001,182.139999999999,178.710000000006,151.710000000006,164.479999999996,155.639999999999,132.710000000006,148.550000000003,98.1600000000035,84.1399999999994,55.7700000000041,45.3000000000029,41.3600000000006,30.1300000000047,5.30000000000291,16.3399999999965,2.15000000000873,19.6900000000023,6.16999999999825,18.0400000000081,23.8699999999953,-5.0399999999936,27.9400000000023,26.1699999999983,28.6500000000087,4.04000000000815,6.88999999999942,-8.92999999999302,-17.5699999999924,-3.30000000000291,19.7200000000012,34.3699999999953,32.2100000000064,78.2299999999959,71.7600000000093,115.0,124.460000000006,124.990000000005,158.160000000003,139.110000000001,204.070000000007,185.520000000004,196.150000000009,177.240000000005,171.440000000002,160.600000000006,135.410000000003,143.5,169.699999999997,154.889999999999,137.650000000009,114.089999999997,112.080000000002,83.3399999999965,105.940000000002,56.3500000000058,62.4900000000052,43.3099999999977,13.320000000007,-17.9499999999971,-56.429999999993,-64.4400000000023,-91.929999999993,-102.360000000001,-117.619999999995,-116.110000000001,-140.429999999993,-127.5,-101.349999999991,-83.3199999999924,-72.1199999999953,-38.8699999999953,-12.5099999999948,-9.34999999999127,-33.6199999999953,15.8500000000058,25.7100000000064,41.2100000000064,48.7799999999988,76.8399999999965,106.619999999995,159.029999999999,185.260000000009,229.309999999998,262.510000000009,292.779999999999,381.389999999999,416.490000000005,408.900000000009,446.350000000006,474.850000000006,472.839999999997,463.419999999998,465.809999999998,463.300000000003,460.350000000006,454.610000000001,435.639999999999,384.419999999998,356.070000000007,375.490000000005,329.690000000002,312.720000000001,277.639999999999,257.669999999998,204.930000000008,196.400000000009,172.389999999999,137.220000000001,131.580000000002,63.9700000000012,42.0200000000041,15.5400000000081,6.94999999999709,-19.179999999993,-23.2200000000012,-82.3300000000017,-91.3000000000029,-107.529999999999,-126.679999999993,-110.509999999995,-106.050000000003,-110.929999999993,-99.3000000000029,-68.2599999999948,-91.8899999999994,-99.7200000000012,-34.8600000000006,-69.8399999999965,-34.5999999999913,-9.2899999999936,-5.72000000000116,42.8899999999994,56.8099999999977,70.5200000000041,65.0400000000081,109.600000000006,119.210000000006,154.400000000009,180.400000000009,190.800000000003,216.270000000004,209.650000000009,265.240000000005,265.970000000001,272.0,285.760000000009,313.410000000003,316.460000000006,256.650000000009,267.809999999998,250.860000000001,255.490000000005,213.779999999999,187.690000000002,174.580000000002,152.059999999998,142.710000000006,140.960000000006,125.070000000007,152.850000000006,136.949999999997,144.029999999999,148.790000000008,164.970000000001,152.100000000006,141.639999999999,179.199999999997,198.100000000006,212.169999999998,206.529999999999,185.880000000005,192.419999999998,175.970000000001,196.800000000003,144.160000000003,102.529999999999,118.529999999999,96.6100000000006,100.5,104.240000000005,87.4100000000035,64.8500000000058,73.4499999999971,92.6300000000047,64.7100000000064,38.6000000000058,18.5800000000017,-23.0699999999924,-61.6100000000006,-83.2099999999919,-87.8300000000017,-120.119999999995,-120.989999999991,-105.509999999995,-123.0,-112.289999999994,-95.9599999999919,-103.209999999992,-108.539999999994,-111.989999999991,-143.149999999994,144.050000000003,-144.690000000002,-185.919999999998,-144.089999999997,-142.319999999992,-144.039999999994,-134.410000000003,-143.709999999992,-115.289999999994,-117.739999999991,-95.1900000000023,-111.649999999994,-92.1600000000035,-88.4700000000012,-55.0899999999965,-50.429999999993,-69.5599999999977,-76.1600000000035,-119.589999999997,-123.649999999994,-136.410000000003,-157.069999999992,-201.940000000002,-216.779999999999,-213.089999999997,-231.979999999996,-244.139999999999,-249.709999999992,-246.559999999998,-258.330000000002,-228.389999999999,-230.550000000003,-235.470000000001,-236.679999999993,-218.440000000002,-207.690000000002,-179.5,-166.089999999997,-164.789999999994,-163.669999999998,-172.959999999992,-150.830000000002,-133.720000000001,-132.489999999991,-129.509999999995,-112.569999999992,-82.8699999999953,-86.0999999999913,-105.550000000003,-83.1999999999971,-78.929999999993,-77.5099999999948,-35.8800000000047,-39.2899999999936,-39.9599999999919,-59.8499999999913,-49.0599999999977,-48.1900000000023,-46.8300000000017,-34.3399999999965,-80.7799999999988,-78.4199999999983,-98.6699999999983,-103.029999999999,-107.889999999999,-130.720000000001,-105.130000000005,-119.789999999994,-125.429999999993,-150.639999999999,-119.009999999995,-127.690000000002,-149.699999999997,-158.179999999993,-136.819999999992,-132.619999999995,-147.0,-150.869999999995,-141.429999999993,-166.220000000001,-120.839999999997,-124.470000000001,-110.520000000004,-101.720000000001,-80.6399999999994,-69.7599999999948,-100.649999999994,-106.759999999995,-102.190000000002,-116.009999999995,-138.289999999994,-131.229999999996,-121.039999999994,-159.149999999994,-137.889999999999,-132.919999999998,-146.860000000001,-134.610000000001,-143.220000000001,-166.809999999998,-183.110000000001,-185.569999999992,-215.069999999992,-179.789999999994,-150.179999999993,-157.069999999992,-172.559999999998,-167.910000000003,-138.099999999991,-167.209999999992,-147.360000000001,-151.649999999994,-155.899999999994,-154.309999999998,-135.759999999995,-94.7200000000012,-102.139999999999,-123.130000000005,-128.160000000003,-136.669999999998,-138.149999999994,-164.119999999995,-184.929999999993,-179.599999999991,-203.690000000002,-216.470000000001,-253.190000000002,-262.959999999992,-262.059999999998,-261.830000000002,-295.899999999994,-261.860000000001,-330.690000000002,-349.110000000001,-346.429999999993,-373.720000000001,-365.389999999999,-388.459999999992,-395.080000000002,-417.459999999992,-431.800000000003,-422.110000000001,-407.239999999991,-404.369999999995,-409.319999999992,-387.509999999995,-383.110000000001,-366.149999999994,-357.979999999996,-344.739999999991,-302.709999999992,-274.630000000005,-236.639999999999,-222.349999999991,-182.889999999999,-116.919999999998,-66.7700000000041,-57.4700000000012,6.68000000000757,51.1500000000087,86.9900000000052,137.479999999996,141.869999999995,168.210000000006,153.850000000006,172.040000000008,139.779999999999,134.240000000005,122.389999999999,86.5400000000081,63.5800000000017,48.570000000007,22.6399999999994,-16.7700000000041,-13.6900000000023,-60.2799999999988,-92.0699999999924,-136.220000000001,-164.569999999992,-235.819999999992,-265.580000000002,-275.669999999998,-298.209999999992,-301.119999999995,-298.809999999998,-325.119999999995,-300.830000000002,-306.789999999994,-300.270000000004,-313.220000000001,-335.080000000002,-338.729999999996,-345.789999999994,-385.429999999993,-421.459999999992,-425.860000000001,-355.009999999995,-355.489999999991,-354.419999999998,-334.319999999992,-317.029999999999,-271.009999999995,-265.649999999994,-206.479999999996,-191.910000000003,-152.300000000003,-110.819999999992,-84.3199999999924,-38.1999999999971,-21.5599999999977,-21.5399999999936,6.69999999999709,13.9100000000035,12.2700000000041,29.8600000000006,57.3899999999994,52.7700000000041,58.1100000000006,71.4199999999983,72.570000000007,65.2900000000081,87.0299999999988,65.4000000000087,57.9199999999983,65.070000000007,52.4199999999983,31.4900000000052,33.9400000000023,15.6900000000023,15.4199999999983,14.4900000000052,18.0100000000093,4.01000000000931,-9.0399999999936,23.75,14.9700000000012,17.0,50.1300000000047,7.36999999999534,8.05999999999767,-3.72999999999593,-21.25,-28.3899999999994,-4.58999999999651,-27.3000000000029,-44.5899999999965,-66.1499999999942,-72.7799999999988,-60.9899999999907,-75.5399999999936,-41.9899999999907,-23.8999999999942,-17.1199999999953,21.8000000000029,37.4600000000064,34.2799999999988,70.0299999999988,89.8899999999994,82.6399999999994,77.3000000000029,109.279999999999,112.460000000006,122.949999999997,151.930000000008,126.419999999998,118.630000000005,148.850000000006,147.029999999999,163.869999999995,161.330000000002,173.809999999998,153.690000000002,150.589999999997,168.220000000001,127.389999999999,215.229999999996,112.940000000002,133.800000000003,117.800000000003,91.3800000000047,84.5599999999977,42.5599999999977,22.5100000000093,0.529999999998836,-21.6600000000035,-27.8600000000006,-21.0099999999948,-58.7899999999936,-81.2899999999936,-71.7399999999907,-58.8300000000017,-46.7899999999936,-44.7200000000012,-11.3199999999924,-10.8499999999913,9.02999999999884,40.9499999999971,40.8500000000058,71.9300000000076,90.0599999999977,118.490000000005,120.809999999998,117.839999999997,140.809999999998,109.460000000006,117.600000000006,124.309999999998,171.660000000003,149.809999999998,155.600000000006,187.100000000006,204.809999999998,179.910000000003,181.919999999998,187.619999999995,181.529999999999,189.270000000004,180.919999999998,160.240000000005,134.300000000003,129.110000000001,99.7400000000052,72.6300000000047,41.2200000000012,9.9600000000064,14.0299999999988,-1.14999999999418,-2.52000000000407,-26.1900000000023,-34.2799999999988,-28.2599999999948,-31.4700000000012,-32.2099999999919,-37.2099999999919,-45.8999999999942,-43.5399999999936,-11.2200000000012,-46.0500000000029,-51.6100000000006,-32.429999999993,-43.3000000000029,-30.6499999999942,0.529999999998836,4.08000000000175,26.6000000000058,54.1999999999971,67.2100000000064,106.400000000009,92.7100000000064,111.330000000002,135.860000000001,184.570000000007,173.600000000006,210.220000000001,241.279999999999,273.110000000001,247.680000000008,251.350000000006,280.619999999995,277.540000000008,279.270000000004,260.490000000005,268.130000000005,232.889999999999,207.350000000006,186.650000000009,168.460000000006,147.930000000008,127.839999999997,107.919999999998,101.669999999998,88.2400000000052,63.7100000000064,53.4199999999983,31.9400000000023,12.1399999999994,11.6800000000076,10.4100000000035,33.3699999999953,28.570000000007,62.8500000000058,60.2400000000052,49.0400000000081,86.570000000007,49.7600000000093,20.070000000007,64.7600000000093,37.2299999999959,26.9799999999959,49.2400000000052,72.7900000000081,80.2900000000081,106.190000000002,147.970000000001,178.779999999999,208.229999999996,251.350000000006,276.760000000009,310.669999999998,320.949999999997,335.540000000008,331.570000000007,329.190000000002,326.809999999998,299.100000000006,293.860000000001,281.100000000006,152.600000000006,130.589999999997,127.490000000005,93.3099999999977,70.5800000000017,53.8099999999977,34.8699999999953,7.22999999999593,-23.1100000000006,-28.2099999999919,-39.6499999999942,-65.0399999999936,-73.1100000000006,-48.6100000000006,-78.1699999999983,-75.4199999999983,-56.0599999999977,-22.0099999999948,-15.2700000000041,-16.6100000000006,38.9900000000052,84.0599999999977,107.050000000003,132.400000000009,164.220000000001,168.360000000001,206.419999999998,253.850000000006,258.029999999999,282.889999999999,302.979999999996,298.75,334.240000000005,335.930000000008,321.869999999995,315.389999999999,283.150000000009,301.029999999999,260.389999999999,228.380000000005,218.639999999999,216.5,208.139999999999,212.510000000009,212.570000000007,215.100000000006,63.1500000000087,50.1000000000058,25.5299999999988,7.33999999999651,-17.5,-27.1199999999953,-27.1600000000035,16.8800000000047,23.4199999999983,23.7799999999988,27.9300000000076,33.1800000000076,65.3000000000029,62.6900000000023,109.430000000008,115.169999999998,143.320000000007,182.050000000003,222.860000000001,238.960000000006,295.160000000003,311.350000000006,349.470000000001,227.100000000006,227.100000000006,223.0,235.460000000006,278.800000000003,281.449999999997,281.309999999998,274.880000000005,306.600000000006,333.589999999997,364.669999999998,371.540000000008,305.610000000001,307.5,299.610000000001,328.040000000008,326.400000000009,356.100000000006,345.160000000003,357.639999999999,326.669999999998,337.25,296.360000000001,276.990000000005,241.169999999998,265.290000000008,259.279999999999,246.540000000008,203.610000000001,204.229999999996,177.830000000002,166.809999999998,109.029999999999,34.0500000000029,38.0100000000093,1.88999999999942,-0.209999999991851,-15.1900000000023,-64.4400000000023,-125.300000000003,-44.1199999999953,-156.619999999995,-178.699999999997,-200.440000000002,-271.349999999991,-276.119999999995,-283.449999999997,-261.440000000002,-256.669999999998,-264.520000000004,-234.440000000002,-188.259999999995,-160.050000000003,-141.470000000001,-122.059999999998,-132.270000000004,-97.5099999999948,-66.7399999999907,-50.7099999999919,-35.5899999999965,-8.33000000000175,-7.13000000000466,20.7400000000052,22.8099999999977,45.3500000000058,56.4100000000035,5.51000000000931,18.7600000000093,51.4700000000012,43.2200000000012,59.4000000000087,85.2200000000012,101.210000000006,108.5,125.040000000008,135.720000000001,125.520000000004,107.270000000004,104.809999999998,81.75,93.6800000000076,78.1699999999983,60.570000000007,61.3899999999994,83.7299999999959,121.350000000006,173.410000000003,214.139999999999,275.720000000001,105.940000000002,116.669999999998,169.029999999999,145.860000000001,161.220000000001,185.550000000003,213.639999999999,221.229999999996,282.850000000006,329.880000000005,382.290000000008,148.960000000006,171.25,168.419999999998,184.270000000004,156.839999999997,143.350000000006,126.949999999997,131.040000000008,118.130000000005,133.860000000001,173.490000000005,119.160000000003,127.669999999998,174.470000000001,195.210000000006,228.460000000006,241.029999999999,246.940000000002,245.010000000009,313.960000000006,339.220000000001,330.240000000005,342.889999999999,362.270000000004,367.100000000006,369.479999999996,355.550000000003,352.479999999996,338.809999999998,337.089999999997,319.5,315.779999999999,318.020000000004,279.589999999997,276.190000000002,253.330000000002,264.190000000002,263.520000000004,247.869999999995,251.350000000006,236.669999999998,203.619999999995,201.669999999998,182.490000000005,144.600000000006,122.449999999997,119.960000000006,119.619999999995,119.550000000003,111.350000000006,102.279999999999,77.820000000007,88.1100000000006,88.5299999999988,87.5,38.5,40.7900000000081,-0.889999999999418,2.30999999999767,-22.8999999999942,-29.0,9.16999999999825,-2.36000000000058,20.4600000000064,16.6000000000058,64.5899999999965,-51.0699999999924,-24.6100000000006,-17.5399999999936,-12.5299999999988,5.9600000000064,56.7799999999988,53.9499999999971,109.880000000005,127.979999999996,194.990000000005,250.220000000001,112.729999999996,145.669999999998,165.800000000003,156.050000000003,151.869999999995,161.720000000001,164.320000000007,200.330000000002,239.600000000006,247.990000000005,344.75,191.169999999998,186.850000000006,197.949999999997,183.139999999999,174.320000000007,165.619999999995,146.309999999998,152.779999999999,175.040000000008,209.139999999999,209.410000000003,7.72999999999593,-25.5899999999965,-40.7399999999907,-50.429999999993,-77.3699999999953,-62.0899999999965,-41.679999999993,-73.7799999999988,-51.0500000000029,-35.6100000000006,-40.8999999999942,-6.39999999999418,-26.6499999999942,-18.7200000000012,-5.47999999999593,-17.5299999999988,-2.7899999999936,-23.2799999999988,-20.4700000000012,-23.5899999999965,-26.179999999993,-22.9700000000012,0.710000000006403,51.0299999999988,50.1600000000035,53.25,70.2400000000052,42.0100000000093,71.4700000000012,108.040000000008,90.8399999999965,100.010000000009,67.1600000000035,100.570000000007,86.7900000000081,68.7100000000064,55.820000000007,47.1300000000047,40.2200000000012,-9.97000000000116,-48.0,-75.5399999999936,-75.5599999999977,-90.7899999999936,-99.8099999999977,-112.099999999991,-134.669999999998,-135.669999999998,-143.289999999994,-148.860000000001,-151.779999999999,-120.25,-79.8499999999913,-65.0800000000017,-24.9400000000023,-0.690000000002328,36.4100000000035,61.3600000000006,30.0500000000029,59.5299999999988,56.0200000000041,22.7100000000064,13.1000000000058,8.05000000000291,-7.61999999999534,-28.4899999999907,-24.9499999999971,-43.1300000000047,-58.5,-66.7399999999907,-104.289999999994,-146.309999999998,-177.899999999994,-217.690000000002,-233.509999999995,-290.589999999997,-311.880000000005,-333.220000000001,-359.309999999998,-354.649999999994,-384.819999999992,-381.509999999995,-433.660000000003,-446.319999999992,-401.289999999994,-386.599999999991,-383.75,-347.389999999999,-337.259999999995,-336.789999999994,-302.520000000004,-291.759999999995,-279.959999999992,-244.610000000001,-188.190000000002,-185.509999999995,-146.880000000005,-102.779999999999,-109.610000000001,-95.2399999999907,-63.9899999999907,-74.3499999999913,-76.3499999999913,-65.3499999999913,-62.9899999999907,-86.5500000000029,-98.0800000000017,-125.809999999998,-176.339999999997,-204.429999999993,-214.119999999995,-238.489999999991,-270.5,-279.509999999995,-304.580000000002,-269.289999999994,-277.910000000003,-290.970000000001,-307.470000000001,-302.160000000003,-317.919999999998,-307.539999999994,-316.369999999995,-329.739999999991,-338.289999999994,-355.619999999995,-348.580000000002,-338.25,-304.139999999999,-290.849999999991,-262.199999999997,-222.639999999999,-200.009999999995,-179.440000000002,-169.110000000001,-156.209999999992,-139.709999999992,-169.220000000001,-162.289999999994,-146.770000000004,-148.509999999995,-150.369999999995,-157.709999999992,-150.509999999995,-46.0800000000017,-117.559999999998,-83.6199999999953,-31.929999999993,7.72000000000116,33.2299999999959,-41.25,-65.1499999999942,-81.1300000000047,-78.2599999999948,-97.3800000000047,-112.190000000002,-103.5,-132.360000000001,-118.880000000005,-151.069999999992,-117.449999999997,-120.470000000001,-111.860000000001,-124.429999999993,-124.630000000005,-95.7200000000012,-115.779999999999,-95.2899999999936,-91.5099999999948,-93.6399999999994,-136.399999999994,-121.449999999997,-68.0399999999936,-62.0599999999977,-42.6499999999942,-19.4899999999907,12.7900000000081,48.4000000000087,91.4900000000052,90.5899999999965,122.270000000004,136.050000000003,130.369999999995,173.760000000009,181.710000000006,199.0,217.309999999998,237.570000000007,217.070000000007,242.080000000002,261.400000000009,278.270000000004,295.669999999998,320.279999999999,297.300000000003,303.169999999998,287.050000000003,301.889999999999,308.070000000007,270.139999999999,258.809999999998,215.960000000006,182.800000000003,175.419999999998,173.389999999999,119.610000000001,107.699999999997,81.6199999999953,67.3600000000006,34.320000000007,31.6300000000047,7.29000000000815,3.49000000000524,0.210000000006403,24.1600000000035,46.070000000007,106.180000000008,186.089999999997,163.490000000005,183.240000000005,221.850000000006,190.040000000008,217.510000000009,236.089999999997,273.619999999995,302.139999999999,321.309999999998,349.360000000001,286.150000000009,251.740000000005,240.990000000005,202.029999999999,176.889999999999,153.160000000003,141.320000000007,157.300000000003,144.669999999998,241.889999999999,241.889999999999,155.580000000002,141.260000000009,113.669999999998,95.3899999999994,85.3899999999994,80.1000000000058,34.1699999999983,37.8500000000058,29.25,81.6000000000058,84.6300000000047,-27.4499999999971,-29.3899999999994,-63.0399999999936,-82.1900000000023,-91.3199999999924,-82.0399999999936,-101.160000000003,-98.3499999999913,-62.8199999999924,-49.9799999999959,-53.5999999999913,-64.1699999999983,-71.2899999999936,-82.5699999999924,-59.4700000000012,-70.4899999999907,-77.4899999999907,-94.1999999999971,411.820000000007,-92.6699999999983,-133.119999999995,-37.7599999999948,-31.0399999999936,13.25,14.1199999999953,22.7700000000041,35.0100000000093,40.6100000000006,36.9199999999983,85.0,86.6999999999971,93.3099999999977,191.820000000007,221.369999999995,211.520000000004,222.010000000009,140.930000000008,142.900000000009,86.1300000000047,106.059999999998,61.1699999999983,48.6399999999994,63.8600000000006,80.1000000000058,80.1699999999983,71.570000000007,40.3800000000047,1.57000000000698,0.400000000008731,-68.2200000000012,-71.0399999999936,-104.75,-110.179999999993,-87.5299999999988,-80.5899999999965,-25.7799999999988,-53.8999999999942,-38.9199999999983,-44.3800000000047,15.8899999999994,23.3399999999965,57.7100000000064,54.7299999999959,85.1699999999983,116.479999999996,94.9100000000035,109.389999999999,109.889999999999,87.2900000000081,44.0899999999965,7.41000000000349,-22.2899999999936,-60.1300000000047,115.720000000001,-155.110000000001,-169.580000000002,-206.720000000001,-231.130000000005,-227.369999999995,-250.039999999994,-228.199999999997,-300.839999999997,-359.5,-384.429999999993,-374.059999999998,-434.360000000001,-429.899999999994,-449.509999999995,-453.599999999991,-456.610000000001,-477.139999999999,-463.220000000001,-447.25,-449.319999999992,-405.330000000002,-379.720000000001,-378.380000000005,-381.759999999995,-292.759999999995,-235.770000000004,-216.080000000002,-161.0,-141.679999999993,-127.080000000002,-96.5099999999948,-73.9499999999971,-58.7599999999948,-50.6600000000035,-29.6499999999942,15.4700000000012,27.3899999999994,38.3899999999994,11.6699999999983,6.72999999999593,11.8099999999977,12.1800000000076,15.1100000000006,9.22999999999593,36.4900000000052,34.4799999999959,63.6999999999971,95.6999999999971,80.820000000007,80.4100000000035,121.979999999996,131.930000000008,117.570000000007,130.260000000009,126.990000000005,139.809999999998,115.380000000005,126.210000000006,112.779999999999,103.029999999999,88.9600000000064,110.229999999996,86.6000000000058,108.990000000005,77.1399999999994,108.419999999998,118.850000000006,92.0500000000029,119.490000000005,117.059999999998,146.570000000007,161.220000000001,180.419999999998,191.139999999999,203.229999999996,227.850000000006,296.479999999996,238.790000000008,260.809999999998,381.779999999999,415.800000000003,423.529999999999,405.860000000001,431.510000000009,433.589999999997,430.169999999998,410.589999999997,450.130000000005,504.580000000002,481.389999999999,453.490000000005,439.229999999996,412.220000000001,417.020000000004,387.290000000008,364.389999999999,337.949999999997,319.540000000008,320.059999999998,354.580000000002,378.300000000003,335.979999999996,292.160000000003,269.559999999998,228.559999999998,192.220000000001,138.190000000002,129.589999999997,87.4000000000087,83.6000000000058,103.75,48.7100000000064,20.4799999999959,-26.429999999993,-53.6100000000006,-69.8899999999994,-70.0800000000017,-80.8600000000006,-85.429999999993,-78.9700000000012,-79.8399999999965,-84.7599999999948,58.1100000000006,62.2799999999988,123.169999999998,112.240000000005,131.419999999998,145.400000000009,151.240000000005,156.639999999999,176.059999999998,166.630000000005,156.169999999998,158.820000000007,155.490000000005,115.729999999996,77.6300000000047,43.7100000000064,16.2400000000052,-26.0399999999936,-86.6499999999942,-141.470000000001,-163.429999999993,-188.599999999991,-160.330000000002,-156.759999999995,-137.239999999991,-158.330000000002,-146.039999999994,-190.389999999999,-193.029999999999,-196.860000000001,-204.729999999996,-174.059999999998,-190.339999999997,-109.119999999995,-87.8300000000017,-101.339999999997,-88.429999999993,-72.8300000000017,-60.4899999999907,-47.5500000000029,-45.5500000000029,-24.8000000000029,-43.1399999999994,-9.81999999999243,4.08000000000175,33.8500000000058,50.9799999999959,30.1699999999983,54.5100000000093,43.570000000007,49.7799999999988,45.0899999999965,19.4400000000023,-13.1900000000023,-39.4499999999971,-109.929999999993,-146.239999999991,-164.599999999991,-222.399999999994,-263.690000000002,-328.589999999997,-384.630000000005,-416.539999999994,-477.830000000002,-542.459999999992,-542.459999999992,-542.459999999992,-561.190000000002,-535.569999999992,-532.489999999991,-503.979999999996,-493.470000000001,-487.940000000002,-491.330000000002,-489.489999999991,-466.429999999993,-462.309999999998,-341.039999999994,-324.800000000003,-298.759999999995,-284.339999999997,-273.369999999995,-234.639999999999,-245.589999999997,-256.220000000001,-244.759999999995,-268.069999999992,-248.720000000001,-189.169999999998,-224.720000000001,-214.899999999994,-224.880000000005,-248.800000000003,-252.259999999995,-280.130000000005,-316.929999999993,-328.209999999992,-340.989999999991,-392.339999999997,-305.020000000004,-324.739999999991,-335.610000000001,-338.429999999993,-334.099999999991,-366.520000000004,-341.339999999997,-350.009999999995,-348.330000000002,-355.610000000001,-310.139999999999,-189.389999999999,-185.929999999993,-169.020000000004,-145.520000000004,-143.619999999995,-138.569999999992,-133.399999999994,-138.0,-127.029999999999,-142.190000000002,-129.429999999993,-96.8099999999977,-110.910000000003,-135.649999999994,-154.800000000003,-200.989999999991,-176.229999999996,-232.289999999994,-250.059999999998,-260.489999999991,-269.989999999991,-281.849999999991,-147.039999999994,-120.360000000001,-107.610000000001,-106.979999999996,-83.7899999999936,-96.7799999999988,-85.1900000000023,-84.8899999999994,-71.8899999999994,-86.5399999999936,-104.470000000001,-52.6499999999942,-50.5899999999965,-42.0399999999936,-58.0699999999924,-83.8499999999913,-102.970000000001,-102.789999999994,-148.059999999998,-160.919999999998,-160.470000000001,-203.979999999996,-258.649999999994,-272.300000000003,-319.130000000005,-327.190000000002,-394.289999999994,-400.119999999995,-420.179999999993,-399.25,-370.729999999996,-368.5,-355.699999999997,-302.899999999994,-267.080000000002,-245.699999999997,-251.580000000002,-207.699999999997,-189.720000000001,-182.440000000002,-132.399999999994,-141.470000000001,-110.080000000002,-55.6100000000006,-11.6100000000006,107.639999999999,128.779999999999,133.580000000002,113.350000000006,98.6999999999971,74.8300000000017,73.9199999999983,47.7600000000093,42.1699999999983,35.4600000000064,32.9000000000087,141.529999999999,150.419999999998,118.130000000005,110.869999999995,99.3000000000029,55.6000000000058,33.1999999999971,-7.38000000000466,-32.7599999999948,-70.5200000000041,-74.8600000000006,-23.9599999999919,-45.3499999999913,-35.3899999999994,-34.0899999999965,-29.5699999999924,-31.0,-56.0099999999948,-80.8999999999942,-73.3800000000047,-115.419999999998,-157.479999999996,-84.0500000000029,-76.7399999999907,-104.080000000002,-47.0999999999913,-41.1100000000006,-50.3999999999942,-30.6600000000035,-14.4700000000012,-22.9400000000023,-23.8300000000017,-40.4400000000023,48.8000000000029,-13.7599999999948,-9.00999999999476,-25.7099999999919,-25.7200000000012,-30.9700000000012,-44.6100000000006,-27.0,-11.929999999993,-22.0399999999936,-42.6199999999953,-61.4499999999971,-82.7200000000012,-67.5099999999948,-124.589999999997,-157.479999999996,-185.929999999993,-225.739999999991,-239.130000000005,-268.899999999994,-276.619999999995,-279.229999999996,-290.690000000002,-180.899999999994,-97.9400000000023,-119.720000000001,-96.3600000000006,-77.0699999999924,-61.8999999999942,-33.3699999999953,-28.0200000000041,-4.42999999999302,5.91999999999825,35.9499999999971,173.710000000006,207.809999999998,231.889999999999,260.529999999999,317.100000000006,310.889999999999,346.389999999999,347.199999999997,337.990000000005,351.180000000008,344.080000000002,351.940000000002,323.850000000006,295.260000000009,284.940000000002,271.960000000006,224.850000000006,183.960000000006,164.25,122.070000000007,83.570000000007,38.5800000000017,51.8099999999977,-12.7200000000012,-0.399999999994179,-64.0099999999948],\"type\":\"scatter\",\"xaxis\":\"x3\",\"yaxis\":\"y3\"},{\"y\":[-18.3800000000001,-17.6300000000001,-20.8299999999999,-17.9400000000001,-7.63999999999987,-14.1799999999998,-16.5999999999999,-5.50999999999976,-12.2799999999997,-5.98999999999978,-15.73,-10.9200000000001,-0.610000000000127,-7.63000000000011,-4.2199999999998,1.63000000000011,-1.53999999999996,2.84000000000015,3.90999999999985,-1.26999999999998,2.72000000000025,0.570000000000164,5.09999999999991,-7.86000000000013,2.84000000000015,5.98000000000002,11.0300000000002,-3.05000000000018,-1.76999999999998,5.5300000000002,5.23000000000002,0.150000000000091,-14.8099999999999,-15.5500000000002,-23.1700000000001,-10.1799999999998,-14.6399999999999,-7.46000000000004,-7.67999999999984,-9.15999999999985,-9.53999999999996,-2.02999999999975,-5.61999999999989,-6.15000000000009,-11.23,-4.86000000000013,-5.13999999999987,-0.340000000000146,0.800000000000182,-3.26999999999998,-6.40999999999985,0.300000000000182,12.9499999999998,4.09999999999991,1.07999999999993,5.01999999999998,15.8600000000001,5.59999999999991,7.38000000000011,14.3299999999999,11.52,8.97000000000025,7.51000000000022,2.40000000000009,8.15999999999985,13.9099999999999,10.1100000000001,-3.88000000000011,-10.1100000000001,-13.25,6.09000000000015,0.559999999999945,3.63000000000011,4.7800000000002,4.69000000000005,-1.67999999999984,0.650000000000091,-3.50999999999976,3.65000000000009,-1.63999999999987,0.619999999999891,-1.0,2.01999999999998,6.11999999999989,9.28999999999996,-4.38000000000011,8.07999999999993,5.17000000000007,-0.610000000000127,-2.05000000000018,-1.55999999999995,-0.869999999999891,-1.69999999999982,-2.17999999999984,-5.42999999999984,11.7200000000003,-2.07000000000016,1.80000000000018,3.15000000000009,-1.57000000000016,6.51999999999998,-2.42000000000007,1.48000000000002,-5.09000000000015,12.6599999999999,0.139999999999873,2.78999999999996,2.09000000000015,8.86999999999989,-0.420000000000073,8.15000000000009,5.36999999999989,9.80999999999995,-0.199999999999818,8.69999999999982,5.13000000000011,3.65999999999985,9.92000000000007,7.17999999999984,4.23000000000002,9.07999999999993,6.92999999999984,5.97000000000025,-0.779999999999745,3.26000000000022,6.61000000000013,8.11000000000013,6.48000000000002,12.8899999999999,15.75,5.72000000000025,4.61999999999989,6.90999999999985,9.67999999999984,4.07999999999993,6.40000000000009,8.23000000000002,12.4499999999998,6.01999999999998,8.65999999999985,9.5300000000002,0.75,12.2600000000002,5.96000000000004,6.03999999999996,6.57999999999993,9.15999999999985,12.4000000000001,6.01999999999998,14.77,19.2800000000002,17.3699999999999,11.7200000000003,4.73000000000002,8.15999999999985,10.5900000000001,4.13999999999987,201.02,8.67999999999984,7.90000000000009,-1.32999999999993,0.389999999999873,-2.44999999999982,5.05000000000018,-1.65999999999985,-2.40000000000009,0.5,9.92000000000007,-0.440000000000055,3.30999999999995,6.59999999999991,1.88999999999987,-1.80999999999995,-4.38999999999987,8.36999999999989,-2.96000000000004,-0.670000000000073,-0.929999999999836,-0.239999999999782,-2.69000000000005,3.26000000000022,8.94000000000005,4.67999999999984,4.53999999999996,1.51999999999998,35.6700000000001,6.2800000000002,4.94000000000005,3.96000000000004,0.570000000000164,-2.03999999999996,-3.26999999999998,-3.7199999999998,7.21000000000004,2.76000000000022,0.7800000000002,5.2800000000002,2.61000000000013,8.57000000000016,-0.329999999999927,4.26000000000022,7.07000000000016,2.19999999999982,2.36000000000013,6.01999999999998,5.34000000000015,-3.17999999999984,-1.84999999999991,-5.09999999999991,1.80000000000018,-3.94000000000005,8.82000000000016,-13.0299999999997,2.82000000000016,2.98000000000002,4.32999999999993,-1.03999999999996,-1.11000000000013,-1.42000000000007,-1.13000000000011,-0.679999999999836,2.34000000000015,1.0300000000002,6.38000000000011,1.59000000000015,10.9900000000002,-1.19000000000005,2.57999999999993,8.82000000000016,-1.0,7.40999999999985,1.19000000000005,5.30000000000018,0.789999999999964,0.230000000000018,-1.52999999999975,4.74000000000024,7.42000000000007,3.88999999999987,3.42999999999984,6.90000000000009,15.8899999999999,2.67000000000007,10.4099999999999,2.98000000000002,5.30999999999995,6.76000000000022,6.49000000000024,9.86999999999989,5.90999999999985,9.07000000000016,3.40000000000009,6.71000000000004,-3.13999999999987,-3.23000000000002,5.65999999999985,1.09999999999991,-8.84000000000015,6.03999999999996,-5.55999999999995,-4.23000000000002,-3.23999999999978,5.63999999999987,0.829999999999927,7.05000000000018,0.519999999999982,4.76000000000022,2.11999999999989,-7.55999999999995,-4.61999999999989,-3.76999999999998,-5.0,6.24000000000024,-1.71000000000004,-1.07000000000016,0.349999999999909,3.22000000000025,-1.94000000000005,5.82000000000016,4.69000000000005,1.05000000000018,5.88999999999987,5.0300000000002,-1.34999999999991,1.51000000000022,1.76999999999998,1.05000000000018,-5.67000000000007,-3.34000000000015,-4.55999999999995,-7.92000000000007,6.2800000000002,0.220000000000255,2.2800000000002,3.61000000000013,3.5,-1.32000000000016,-3.25999999999976,1.11999999999989,10.1999999999998,8.07000000000016,1.80000000000018,-0.25,-1.03999999999996,-5.00999999999976,3.80999999999995,4.53999999999996,0.309999999999945,-2.7199999999998,-2.94999999999982,2.65000000000009,-4.36000000000013,-1.53999999999996,-3.09999999999991,0.5,-3.36000000000013,-11.02,1.0,-1.9699999999998,-2.4699999999998,0.110000000000127,1.90000000000009,2.11000000000013,-3.23000000000002,2.63000000000011,-8.13999999999987,-7.46000000000004,-1.42999999999984,-0.75,-2.67999999999984,-4.67999999999984,-5.4699999999998,-4.86999999999989,-2.55999999999995,-0.670000000000073,1.34000000000015,-5.30000000000018,-3.26999999999998,0.75,-6.11999999999989,-1.11000000000013,-6.32000000000016,1.38999999999987,-11.2399999999998,-9.13000000000011,-2.11000000000013,-7.25999999999976,-1.23999999999978,5.17999999999984,-7.21000000000004,2.61000000000013,-2.88000000000011,-5.23999999999978,-5.92999999999984,-2.00999999999976,-5.71000000000004,-6.57999999999993,-2.40000000000009,-5.84999999999991,-5.01999999999998,-5.48000000000002,-1.82999999999993,-5.21000000000004,-2.42999999999984,-4.0,-4.0,-0.2199999999998,-2.27999999999975,-3.84999999999991,-4.9699999999998,-0.639999999999873,-3.82999999999993,-4.65000000000009,-2.25999999999976,-4.73999999999978,-4.03999999999996,4.90999999999985,-4.57999999999993,-5.19000000000005,0.829999999999927,-7.90000000000009,-9.02999999999975,-4.9699999999998,-9.4699999999998,1.82000000000016,-0.340000000000146,-8.30000000000018,-5.09999999999991,-9.63999999999987,-4.40999999999985,-10.3800000000001,-7.69000000000005,-4.15000000000009,-8.23999999999978,-6.19999999999982,-2.13999999999987,-4.13999999999987,-5.75,-14.8499999999999,-10.1300000000001,-17.3899999999999,-7.26999999999998,1.13000000000011,-5.61999999999989,-5.69000000000005,-0.759999999999764,-4.11999999999989,-2.51999999999998,-3.23000000000002,-3.82999999999993,0.7800000000002,-1.86999999999989,-0.400000000000091,-5.67999999999984,-5.94999999999982,-3.76999999999998,-8.82000000000016,-2.92999999999984,0.900000000000091,4.22000000000025,0.220000000000255,-6.46000000000004,-2.13999999999987,-1.67000000000007,2.0,-0.0299999999997453,-2.98000000000002,5.84000000000015,-4.21000000000004,-7.7199999999998,0.230000000000018,1.80999999999995,1.38000000000011,-4.92999999999984,0.380000000000109,-7.23000000000002,1.11000000000013,0.0,-3.38000000000011,3.40000000000009,7.22000000000025,-6.36000000000013,-6.94999999999982,-6.2199999999998,-10.8299999999999,-5.88000000000011,-7.28999999999996,-2.00999999999976,-9.61000000000013,-0.659999999999854,-3.05000000000018,-10.2799999999997,0.369999999999891,-11.9899999999998,-1.73000000000002,-11.5999999999999,-6.11000000000013,-1.94000000000005,0.369999999999891,-6.71000000000004,-4.96000000000004,-10.6199999999999,-8.98999999999978,6.69000000000005,-0.570000000000164,-4.11999999999989,-0.579999999999927,-2.19000000000005,-5.75,-4.13999999999987,-3.07999999999993,-5.42000000000007,-5.25999999999976,1.23000000000002,-0.940000000000055,-8.25,-7.84999999999991,-9.52999999999975,-6.13000000000011,-10.9000000000001,-11.3200000000002,-12.52,-11.77,-13.6700000000001,-5.17000000000007,-4.38000000000011,-5.21000000000004,-2.94000000000005,-12.3200000000002,-8.55000000000018,-7.30999999999995,-7.17999999999984,-8.26999999999998,-9.34000000000015,-12.4400000000001,-7.19999999999982,-9.11000000000013,-5.38000000000011,-6.44999999999982,-8.53999999999996,-2.84000000000015,-14.21,3.73000000000002,3.47000000000025,-6.69999999999982,-7.34999999999991,-6.21000000000004,-2.36999999999989,-7.38000000000011,-3.01999999999998,-3.78999999999996,-12.3400000000001,-12.6100000000001,-15.2799999999997,-8.73999999999978,-9.15999999999985,-9.40000000000009,-7.40000000000009,-8.34999999999991,-5.19000000000005,-10.3499999999999,-9.9699999999998,-11.1300000000001,-4.03999999999996,-4.32999999999993,-2.46000000000004,-1.98000000000002,-8.51999999999998,-14.9299999999998,-8.05000000000018,-5.46000000000004,-7.61000000000013,-3.69000000000005,-8.38000000000011,-3.40999999999985,20.79,-4.01999999999998,-2.78999999999996,1.36000000000013,-2.48999999999978,1.0300000000002,5.34999999999991,-4.71000000000004,-0.449999999999818,-7.40000000000009,-1.15000000000009,-5.23999999999978,0.490000000000236,-0.400000000000091,1.67000000000007,-6.19999999999982,-1.34999999999991,4.96000000000004,-0.360000000000127,-0.440000000000055,-4.15999999999985,-3.80999999999995,10.8299999999999,-9.4699999999998,-2.32000000000016,1.25,-3.07999999999993,-8.13999999999987,-3.61999999999989,-9.28999999999996,-6.76999999999998,1.75,-5.55000000000018,-3.59999999999991,-1.32000000000016,-11.6399999999999,-1.25,-4.80000000000018,0.920000000000073,-1.88000000000011,-8.01999999999998,-5.40000000000009,0.990000000000236,-3.36000000000013,-4.17000000000007,-1.09000000000015,-2.80999999999995,-4.69999999999982,-6.67000000000007,-1.69000000000005,-8.51999999999998,-7.17999999999984,-9.44999999999982,-2.82999999999993,-2.80000000000018,-5.23000000000002,-5.48000000000002,-4.69000000000005,2.51000000000022,-3.46000000000004,-0.5,-1.98999999999978,-3.19999999999982,0.460000000000036,2.65999999999985,0.199999999999818,1.15000000000009,3.36999999999989,6.47000000000025,-7.28999999999996,-5.23999999999978,6.36000000000013,6.74000000000024,-9.82000000000016,1.36000000000013,0.659999999999854,12.0799999999999,1.32000000000016,-8.75999999999976,64.4099999999999,-2.25999999999976,-2.44999999999982,-0.639999999999873,-3.55999999999995,4.2800000000002,-0.739999999999782,-0.699999999999818,1.61999999999989,-1.11999999999989,-1.75999999999976,-0.0299999999997453,-4.03999999999996,1.40999999999985,-4.84999999999991,-14.02,-11.0099999999998,0.389999999999873,-4.59999999999991,-8.36999999999989,-7.32999999999993,-3.78999999999996,-10.5599999999999,-3.38999999999987,-4.9699999999998,-7.71000000000004,-5.88000000000011,-8.09000000000015,-1.65000000000009,-3.80000000000018,1.32000000000016,0.440000000000055,-5.88999999999987,1.48000000000002,6.07999999999993,-1.9699999999998,-4.28999999999996,3.51999999999998,-5.40999999999985,-3.05999999999995,-10.4699999999998,2.36999999999989,0.289999999999964,-3.82999999999993,-0.289999999999964,-8.11000000000013,-11.7599999999998,-3.92999999999984,-13.0900000000001,-4.27999999999975,-3.36000000000013,-7.84999999999991,-3.32000000000016,-3.17000000000007,-6.90999999999985,-8.63999999999987,-7.2199999999998,-6.30999999999995,-4.32000000000016,4.90999999999985,-0.880000000000109,-0.779999999999745,0.0700000000001637,-3.23000000000002,-7.42999999999984,1.38000000000011,-6.63000000000011,9.38999999999987,-2.17000000000007,3.32000000000016,5.75,-5.94000000000005,-6.71000000000004,2.51000000000022,-6.92000000000007,-6.94999999999982,-2.07000000000016,-8.98000000000002,-0.440000000000055,-3.63999999999987,-8.17000000000007,-4.88999999999987,-9.73999999999978,-10.29,-11.6500000000001,-13.04,-9.34999999999991,-3.03999999999996,-7.26999999999998,-4.32999999999993,-7.4699999999998,-7.02999999999975,-6.92999999999984,-9.78999999999996,-3.86000000000013,-1.55999999999995,2.82999999999993,-4.02999999999975,4.01999999999998,0.409999999999854,3.34999999999991,-4.34000000000015,-1.30999999999995,2.25,6.01999999999998,-3.69999999999982,3.36000000000013,-6.07999999999993,0.550000000000182,-2.2199999999998,-4.38999999999987,-2.38000000000011,0.579999999999927,-4.34999999999991,-2.07000000000016,-5.23000000000002,-11.0,-6.19000000000005,-4.44999999999982,-5.9699999999998,-7.57000000000016,-1.30000000000018,-0.509999999999764,0.0999999999999091,8.94000000000005,-1.38000000000011,0.75,3.86999999999989,-0.559999999999945,-0.610000000000127,-0.659999999999854,-4.84999999999991,-4.88000000000011,5.24000000000024,-2.69000000000005,1.24000000000024,-5.46000000000004,0.539999999999964,-6.27999999999975,-10.0,1.38000000000011,-4.40000000000009,-4.25999999999976,-3.25999999999976,-0.159999999999854,-13.0,-10.0599999999999,-4.50999999999976,-0.0599999999999454,-6.94999999999982,5.98000000000002,-0.2199999999998,-2.01999999999998,3.59000000000015,2.5300000000002,5.65000000000009,5.09999999999991,0.460000000000036,1.59000000000015,0.470000000000255,2.82000000000016,-4.0,1.76000000000022,1.5,-2.96000000000004,8.19999999999982,0.619999999999891,-1.65999999999985,-4.77999999999975,-3.07999999999993,4.48000000000002,-0.0299999999997453,2.69999999999982,-3.32000000000016,-5.65999999999985,4.13999999999987,-1.65000000000009,-0.369999999999891,-1.98999999999978,-2.52999999999975,-1.30999999999995,3.78999999999996,0.119999999999891,2.2800000000002,-1.57999999999993,3.09999999999991,-1.88000000000011,6.30000000000018,11.1999999999998,5.7800000000002,-0.0399999999999636,6.67000000000007,4.99000000000024,4.84999999999991,-3.98999999999978,2.0,3.28999999999996,-1.5,7.13999999999987,1.61999999999989,2.88000000000011,-1.25999999999976,-0.0799999999999272,1.59000000000015,4.59999999999991,0.769999999999982,4.90000000000009,3.69000000000005,2.55000000000018,5.96000000000004,-2.42000000000007,5.38999999999987,4.07999999999993,2.19999999999982,1.84999999999991,1.55000000000018,5.38999999999987,2.22000000000025,7.07999999999993,1.67999999999984,1.5,1.51000000000022,-1.44999999999982,-2.80999999999995,-1.80999999999995,1.26000000000022,1.88999999999987,0.639999999999873,5.57999999999993,-1.44999999999982,3.40999999999985,5.88000000000011,-0.759999999999764,3.76000000000022,4.59000000000015,-2.51999999999998,1.82999999999993,2.65999999999985,2.38999999999987,-2.32999999999993,-2.59999999999991,-8.65000000000009,-5.05000000000018,-1.73999999999978,-2.25,-7.55000000000018,3.82999999999993,0.809999999999945,-0.690000000000055,2.69999999999982,3.88999999999987,-6.65000000000009,-5.07999999999993,1.5,0.400000000000091,-0.789999999999964,1.86000000000013,-0.699999999999818,3.15000000000009,-2.40999999999985,2.22000000000025,0.329999999999927,-1.5,3.03999999999996,-7.80000000000018,-2.15000000000009,-6.88999999999987,-0.529999999999745,-0.759999999999764,-0.9699999999998,-1.15000000000009,6.17999999999984,1.0,7.78999999999996,-4.42999999999984,0.0100000000002183,-2.86000000000013,-2.67999999999984,-2.01999999999998,4.74000000000024,2.69999999999982,-8.27999999999975,4.55999999999995,1.17000000000007,-0.309999999999945,-3.94999999999982,-5.78999999999996,-5.78999999999996,2.51999999999998,0.139999999999873,5.47000000000025,7.46000000000004,7.26000000000022,9.2800000000002,5.84000000000015,11.8899999999999,5.11000000000013,2.0300000000002,-1.92999999999984,2.73000000000002,-1.88000000000011,0.590000000000146,-0.0900000000001455,4.09000000000015,5.17999999999984,-2.76999999999998,4.53999999999996,-1.51999999999998,0.349999999999909,8.21000000000004,2.36999999999989,5.94999999999982,-2.13000000000011,6.53999999999996,-0.0700000000001637,-0.4699999999998,-2.32999999999993,1.61000000000013,1.82000000000016,-5.03999999999996,-5.17000000000007,-5.90000000000009,-4.27999999999975,-1.63999999999987,-1.71000000000004,6.46000000000004,11.71,6.07999999999993,-2.61999999999989,-4.38000000000011,9.26000000000022,-7.2199999999998,6.26000000000022,-2.84999999999991,-5.65999999999985,-1.67000000000007,-3.07000000000016,-12.6799999999998,-8.44000000000005,-3.38999999999987,-4.69999999999982,-2.09000000000015,-6.05000000000018,1.42000000000007,0.2800000000002,-2.25999999999976,5.71000000000004,3.40999999999985,3.13999999999987,3.5300000000002,-5.71000000000004,1.42999999999984,6.26999999999998,3.96000000000004,1.57999999999993,2.61000000000013,-0.400000000000091,-2.38999999999987,-1.98999999999978,-3.71000000000004,0.0900000000001455,5.28999999999996,-1.28999999999996,-2.11000000000013,-4.19999999999982,-10.23,-3.19000000000005,-15.1300000000001,-3.44999999999982,-11.0700000000002,-11.8899999999999,-15.98,-4.36000000000013,-4.67000000000007,-0.860000000000127,-2.0,-2.59000000000015,-8.25999999999976,-4.50999999999976,-1.57000000000016,5.74000000000024,-1.07000000000016,3.46000000000004,0.510000000000218,-6.80000000000018,-4.7199999999998,0.220000000000255,-3.19000000000005,-4.78999999999996,-3.86999999999989,-2.42000000000007,-7.11000000000013,-9.32000000000016,-6.11000000000013,-12.3499999999999,-3.05999999999995,-4.7199999999998,2.11999999999989,-5.57999999999993,6.90999999999985,-3.0,-6.40999999999985,-9.21000000000004,-9.30000000000018,-8.40000000000009,-18.1300000000001,-11.6700000000001,-5.80000000000018,2.32000000000016,-4.02999999999975,-4.36000000000013,-3.25,-1.76999999999998,-7.40000000000009,0.7800000000002,0.619999999999891,-1.73999999999978,-0.579999999999927,1.98000000000002,-3.44000000000005,-0.909999999999854,1.82999999999993,-0.909999999999854,0.570000000000164,-4.98000000000002,-12.25,-0.380000000000109,-8.86000000000013,-5.65000000000009,5.07999999999993,-1.25999999999976,-4.88000000000011,-4.13000000000011,-7.48000000000002,-7.40000000000009,2.36000000000013,-7.36000000000013,-2.15999999999985,-11.1300000000001,-1.44000000000005,1.23000000000002,0.119999999999891,-3.05999999999995,-6.55000000000018,-3.48000000000002,-0.779999999999745,-3.26999999999998,-8.78999999999996,-6.15000000000009,-2.90000000000009,-2.94999999999982,-5.57000000000016,-6.19999999999982,-5.80999999999995,-6.78999999999996,-5.53999999999996,-8.71000000000004,-9.57000000000016,3.61000000000013,-3.94999999999982,0.519999999999982,-5.69000000000005,-5.88999999999987,-8.15000000000009,-1.65999999999985,-6.32999999999993,-5.03999999999996,-5.26999999999998,-4.30000000000018,6.13000000000011,-0.759999999999764,1.05999999999995,-4.92999999999984,0.679999999999836,-0.769999999999982,-6.84000000000015,-1.57999999999993,-0.409999999999854,-3.53999999999996,-0.300000000000182,-15.29,-1.77999999999975,-5.38000000000011,-8.61000000000013,-7.53999999999996,-13.8899999999999,-10.6199999999999,-11.6399999999999,-11.9000000000001,-11.23,-3.09000000000015,-3.48000000000002,8.01999999999998,-2.17000000000007,-1.55999999999995,-7.5,-5.48999999999978,-0.550000000000182,-0.779999999999745,0.349999999999909,-2.59000000000015,-2.59999999999991,0.440000000000055,-4.5,-0.269999999999982,1.78999999999996,-1.84999999999991,-3.44999999999982,-8.80000000000018,-11.7199999999998,-9.2199999999998,-13.6100000000001,-4.40000000000009,-2.75,-2.44000000000005,-4.36999999999989,4.21000000000004,-3.07000000000016,-7.86999999999989,-8.32999999999993,-15.54,-7.34999999999991,-5.82000000000016,-5.17999999999984,1.80999999999995,-0.670000000000073,1.51999999999998,0.5,-8.15000000000009,-5.65000000000009,-0.239999999999782,-2.59999999999991,-3.48000000000002,-6.42000000000007,-0.730000000000018,-5.42999999999984,-4.63999999999987,6.88999999999987,0.440000000000055,-3.50999999999976,5.90999999999985,0.0,-4.73000000000002,-1.92000000000007,-6.90000000000009,1.19999999999982,-10.1999999999998,-6.42999999999984,-15.6599999999999,-0.460000000000036,5.24000000000024,-3.23999999999978,-8.36999999999989,-2.19999999999982,-5.98000000000002,-2.90999999999985,-5.13000000000011,-11.4499999999998,-8.40999999999985,-0.360000000000127,7.78999999999996,0.139999999999873,-1.48999999999978,1.65999999999985,-5.51999999999998,-12.5500000000002,-0.150000000000091,-5.51999999999998,-21.46,-6.94000000000005,-5.09000000000015,1.28999999999996,4.21000000000004,-2.2199999999998,-1.77999999999975,-2.11999999999989,-5.82999999999993,-5.52999999999975,-2.07000000000016,-4.30000000000018,-0.0099999999997635,-1.73000000000002,-2.28999999999996,-4.13000000000011,-8.80000000000018,-8.27999999999975,-11.5500000000002,-6.90999999999985,-14.7599999999998,-6.30000000000018,-9.50999999999976,0.579999999999927,-0.869999999999891,-8.75,1.82000000000016,-3.46000000000004,-0.349999999999909,-6.17999999999984,-10.04,-12.5999999999999,-10.8499999999999,-13.1700000000001,-6.67000000000007,2.13000000000011,-10.2399999999998,0.159999999999854,4.65000000000009,-4.67999999999984,-1.34999999999991,1.01999999999998,-1.46000000000004,-3.61000000000013,-8.86000000000013,-12.6900000000001,-11.6799999999998,-13.1900000000001,-7.76999999999998,-6.96000000000004,-0.309999999999945,2.86000000000013,-4.7199999999998,4.34999999999991,-3.61000000000013,5.98000000000002,-5.07000000000016,-4.09999999999991,-4.25,-13.3699999999999,-9.46000000000004,-6.42000000000007,-6.21000000000004,3.84999999999991,-4.0,-0.420000000000073,-8.34000000000015,-4.30999999999995,-1.63999999999987,-1.03999999999996,-0.679999999999836,-10.8600000000001,-8.88999999999987,-12.0099999999998,-17.52,-13.1500000000001,-11.9299999999998,0.590000000000146,-0.179999999999836,0.139999999999873,-3.48000000000002,3.61999999999989,-3.73999999999978,-1.21000000000004,-6.30999999999995,-8.02999999999975,-2.98000000000002,-2.55000000000018,-7.48000000000002,-11.3099999999999,-8.50999999999976,-0.929999999999836,-2.65000000000009,-4.96000000000004,1.55999999999995,7.94000000000005,-8.07000000000016,-3.25,-2.78999999999996,-3.07999999999993,-12.5999999999999,1.90999999999985,-2.75,-8.80999999999995,-0.429999999999836,-7.59000000000015,-0.400000000000091,3.32000000000016,-0.429999999999836,-7.98000000000002,-5.17000000000007,24.1300000000001,-7.50999999999976,-12.8800000000001,-9.51999999999998,-16.6999999999998,-5.5,-7.94999999999982,-5.11999999999989,-2.98000000000002,-1.88000000000011,7.55999999999995,-4.84000000000015,-4.77999999999975,0.199999999999818,3.65999999999985,-2.03999999999996,0.0599999999999454,-0.190000000000055,-8.36999999999989,-2.69000000000005,3.44999999999982,-12.1799999999998,-6.96000000000004,-11.5599999999999,-14.0099999999998,-12.3499999999999,-5.36000000000013,-2.84000000000015,-6.27999999999975,-1.84000000000015,1.44000000000005,-1.57999999999993,-0.730000000000018,-1.94999999999982,-3.94999999999982,-8.75,0.490000000000236,-2.90000000000009,-4.78999999999996,-5.38000000000011,-4.05000000000018,-6.17000000000007,-7.34999999999991,-0.150000000000091,-3.32000000000016,-3.11000000000013,-11.8000000000002,-1.30999999999995,-3.19999999999982,-10.73,-2.26999999999998,-6.32000000000016,7.84999999999991,-0.429999999999836,-5.25999999999976,-3.03999999999996,0.980000000000018,-6.15000000000009,-0.199999999999818,0.110000000000127,-1.40000000000009,-6.94000000000005,1.26000000000022,3.59999999999991,-1.19000000000005,1.0300000000002,-6.17999999999984,-3.17999999999984,-2.30999999999995,0.820000000000164,2.05999999999995,-0.75,3.53999999999996,-0.739999999999782,-7.92000000000007,2.53999999999996,-8.71000000000004,-7.40000000000009,-10.7799999999997,-12.71,-4.48999999999978,-1.55999999999995,4.09999999999991,-3.15000000000009,-2.13000000000011,-6.84000000000015,-3.75999999999976,-12.3899999999999,-8.40999999999985,-1.15000000000009,-4.27999999999975,-14.3600000000001,-15.75,-16.6799999999998,-7.46000000000004,-7.36000000000013,-11.6700000000001,-6.59000000000015,-7.55000000000018,5.40999999999985,-1.80000000000018,-9.32999999999993,-13.2599999999998,-12.5999999999999,-7.59000000000015,-10.2799999999997,-15.8899999999999,-4.30999999999995,-11.5099999999998,-7.50999999999976,-16.5999999999999,-4.38000000000011,-10.6700000000001,-4.84999999999991,-5.25999999999976,-1.42999999999984,0.860000000000127,-6.57000000000016,-9.03999999999996,-8.05000000000018,-4.05000000000018,-7.05999999999995,-16.9200000000001,-11.0999999999999,-6.69999999999982,-8.38999999999987,-5.23000000000002,-4.59000000000015,-9.42999999999984,-7.50999999999976,-2.40000000000009,-8.11999999999989,-7.77999999999975,-1.34999999999991,-10.3699999999999,-10.1300000000001,-10.8600000000001,-2.76999999999998,-10.7399999999998,-10.73,-10.29,-7.27999999999975,-7.32999999999993,-6.61999999999989,-9.25999999999976,-6.28999999999996,-4.57999999999993,2.44999999999982,1.03999999999996,-6.59999999999991,-8.73999999999978,1.69000000000005,-3.01999999999998,-6.51999999999998,-8.53999999999996,-5.57999999999993,-7.65999999999985,-6.96000000000004,-0.579999999999927,-3.13000000000011,-5.38999999999987,-7.78999999999996,-5.84999999999991,-2.67000000000007,-2.32999999999993,-6.77999999999975,-0.190000000000055,0.25,-8.32999999999993,-6.98000000000002,-6.28999999999996,-10.1300000000001,-8.57000000000016,-12.2199999999998,-7.03999999999996,-5.05999999999995,-5.27999999999975,-2.28999999999996,0.659999999999854,-1.15999999999985,1.76999999999998,4.76000000000022,-0.429999999999836,-2.34999999999991,0.480000000000018,-3.00999999999976,13.52,-2.90000000000009,-4.65999999999985,2.30999999999995,6.97000000000025,0.570000000000164,-2.86000000000013,2.42000000000007,3.32999999999993,-1.30999999999995,1.30000000000018,9.44000000000005,-7.32000000000016,-0.809999999999945,-5.28999999999996,-5.63000000000011,-7.11999999999989,2.78999999999996,3.92999999999984,-1.9699999999998,7.32999999999993,3.30000000000018,-1.65000000000009,0.150000000000091,-4.69000000000005,3.17000000000007,-5.26999999999998,3.49000000000024,4.36999999999989,7.55000000000018,5.24000000000024,8.7800000000002,7.01000000000022,2.11999999999989,9.26000000000022,-5.88000000000011,6.67000000000007,-0.329999999999927,-0.150000000000091,-3.76999999999998,1.86999999999989,-2.30999999999995,-6.25,5.13000000000011,-1.23000000000002,5.24000000000024,6.97000000000025,6.07000000000016,-3.15000000000009,4.26000000000022,7.86999999999989,-3.57000000000016,5.30000000000018,5.19999999999982,-1.13000000000011,3.11999999999989,3.84000000000015,0.970000000000255,3.47000000000025,1.19000000000005,-3.67999999999984,8.55000000000018,1.38000000000011,5.67000000000007,-3.82000000000016,6.61000000000013,4.69000000000005,11.4900000000002,4.86000000000013,5.09000000000015,14.1900000000001,4.69000000000005,8.11999999999989,4.44999999999982,3.05999999999995,5.47000000000025,-2.07999999999993,2.55000000000018,2.38000000000011,1.99000000000024,-6.15000000000009,3.32999999999993,5.07000000000016,12.4200000000001,7.44999999999982,8.13999999999987,2.69999999999982,9.38999999999987,9.61999999999989,2.74000000000024,0.789999999999964,5.97000000000025,15.9200000000001,3.09000000000015,6.40000000000009,-0.279999999999745,-3.30000000000018,-4.88999999999987,-4.92999999999984,6.96000000000004,-1.01999999999998,1.07999999999993,-2.98999999999978,1.36999999999989,6.01999999999998,7.11999999999989,-2.61000000000013,7.21000000000004,13.0700000000002,2.57000000000016,3.34000000000015,9.97000000000025,0.909999999999854,8.51999999999998,10.2200000000003,3.74000000000024,6.72000000000025,3.74000000000024,2.94999999999982,-2.13999999999987,6.53999999999996,6.07999999999993,27.5300000000002,2.59999999999991,5.48000000000002,1.07000000000016,2.0300000000002,9.69999999999982,8.03999999999996,9.38999999999987,6.13000000000011,-0.139999999999873,1.38000000000011,8.80999999999995,-2.01999999999998,6.11999999999989,6.82999999999993,4.19999999999982,3.74000000000024,7.72000000000025,8.40000000000009,7.99000000000024,7.69000000000005,6.40999999999985,4.09000000000015,1.86000000000013,8.5,6.19999999999982,2.42999999999984,5.32999999999993,8.59999999999991,1.71000000000004,3.94000000000005,9.49000000000024,-6.76999999999998,-3.5,-11.5799999999999,-3.27999999999975,-7.55000000000018,-3.15000000000009,-0.869999999999891,-0.369999999999891,1.88999999999987,4.23000000000002,-2.38999999999987,4.30000000000018,-4.00999999999976,2.75,0.0100000000002183,5.86999999999989,7.36999999999989,3.25,21.6300000000001,0.289999999999964,7.74000000000024,-1.17999999999984,1.44000000000005,2.32999999999993,-3.94999999999982,7.28999999999996,9.01999999999998,6.61999999999989,7.59999999999991,0.789999999999964,0.190000000000055,5.78999999999996,0.889999999999873,3.11000000000013,3.13000000000011,6.01999999999998,4.98000000000002,9.17000000000007,-3.7199999999998,0.139999999999873,5.40000000000009,-1.55999999999995,1.55000000000018,-4.5,0.900000000000091,-4.23000000000002,-1.67999999999984,1.69000000000005,7.17000000000007,2.32999999999993,-0.599999999999909,2.32000000000016,9.55999999999995,4.74000000000024,4.59999999999991,1.46000000000004,-4.25999999999976,-8.19999999999982,-0.0099999999997635,-6.44999999999982,-6.05999999999995,-0.539999999999964,-1.21000000000004,0.820000000000164,-1.55999999999995,6.97000000000025,0.650000000000091,9.30999999999995,4.24000000000024,2.21000000000004,4.69000000000005,2.0300000000002,-3.03999999999996,6.44999999999982,-6.63000000000011,-0.179999999999836,-1.94000000000005,-2.71000000000004,-9.69000000000005,-3.69999999999982,-10.4400000000001,6.21000000000004,-15.1599999999999,-6.84000000000015,-2.88000000000011,-12.3200000000002,-1.69999999999982,-10.9000000000001,-7.17999999999984,-12.23,-12.4299999999998,-5.55999999999995,-11.6999999999998,-5.23000000000002,-5.21000000000004,-8.77999999999975,-15.1199999999999,-8.21000000000004,-12.8499999999999,-11.5599999999999,-9.09000000000015,-11.9200000000001,-7.59999999999991,-6.88999999999987,11.1199999999999,8.51000000000022,8.5300000000002,-2.63999999999987,7.01999999999998,7.69999999999982,9.05999999999995,5.36999999999989,4.82000000000016,-2.15000000000009,7.92000000000007,9.72000000000025,4.69999999999982,-4.32000000000016,-6.2199999999998,-4.96000000000004,0.0100000000002183,-3.11999999999989,-0.130000000000109,-5.23999999999978,-7.77999999999975,-4.03999999999996,1.61999999999989,-7.71000000000004,-7.86000000000013,-9.78999999999996,-10.1599999999999,-5.07999999999993,-0.480000000000018,-8.59999999999991,-6.01999999999998,-10.5999999999999,1.03999999999996,-3.86000000000013,5.48000000000002,-4.23999999999978,3.47000000000025,0.110000000000127,-0.25,1.94999999999982,2.24000000000024,5.98000000000002,2.63999999999987,-3.36000000000013,-6.44999999999982,0.429999999999836,2.36999999999989,-5.0,-0.300000000000182,-4.82000000000016,-1.57000000000016,5.5300000000002,-6.40000000000009,-6.78999999999996,-3.32000000000016,-3.71000000000004,1.21000000000004,-4.34999999999991,-0.840000000000146,-3.21000000000004,-1.88999999999987,-15.3200000000002,-5.9699999999998,-8.40999999999985,-3.55999999999995,-2.77999999999975,-1.7199999999998,1.65000000000009,1.32000000000016,5.76999999999998,-6.03999999999996,-6.82999999999993,-5.11999999999989,-7.76999999999998,-0.940000000000055,-1.01999999999998,-4.38999999999987,-1.19999999999982,1.38999999999987,3.26999999999998,4.67999999999984,-7.5,-3.32999999999993,-4.03999999999996,-3.82000000000016,-12.4299999999998,-0.75,-7.88000000000011,-12.8800000000001,-8.4699999999998,-7.73000000000002,-6.75,-1.53999999999996,-1.77999999999975,4.07000000000016,-6.40999999999985,-2.75,-6.17999999999984,-7.42999999999984,-5.73999999999978,-5.80999999999995,-12.48,-3.17999999999984,-0.940000000000055,6.69000000000005,-0.599999999999909,4.92999999999984,1.21000000000004,2.42000000000007,-2.63999999999987,-8.92999999999984,-0.0399999999999636,-7.46000000000004,-5.25,-4.96000000000004,4.01000000000022,5.23000000000002,-0.789999999999964,-2.63000000000011,0.0500000000001819,-9.63999999999987,-3.63000000000011,0.809999999999945,-6.25,-1.40000000000009,2.99000000000024,-2.46000000000004,16.8000000000002,2.09000000000015,0.75,-7.73000000000002,-10.8499999999999,-2.86000000000013,-8.84999999999991,-1.90000000000009,-9.82999999999993,-4.46000000000004,-9.30000000000018,-12.75,-6.82000000000016,-1.94000000000005,0.990000000000236,-2.32999999999993,-11.1999999999998,-2.88000000000011,-7.19999999999982,-6.15999999999985,2.0300000000002,-4.63000000000011,-9.75,-1.01999999999998,-6.96000000000004,-11.4099999999999,-2.57000000000016,-4.44000000000005,2.36000000000013,-4.75,-2.52999999999975,-1.4699999999998,-5.75999999999976,-6.94000000000005,-13.3699999999999,-8.2199999999998,-16.3400000000001,-11.4200000000001,-8.65999999999985,-6.98999999999978,-15.6799999999998,-15.5700000000002,-20.8499999999999,-18.1399999999999,-13.7199999999998,-12.3600000000001,-15.8699999999999,-17.48,-16.7599999999998,-21.1900000000001,-16.2799999999997,-19.9200000000001,-17.2399999999998,-11.5,-5.02999999999975,-9.48000000000002,-15.0799999999999,-8.09000000000015,-12.6999999999998,-5.32999999999993,-16.8499999999999,-12.6700000000001,-11.4099999999999,-11.3299999999999,-14.77,-11.25,-12.5299999999997,-11.48,-12.8699999999999,-1.71000000000004,-10.3000000000002,-8.86999999999989,3.09000000000015,-5.17999999999984,-5.15000000000009,-0.0299999999997453,0.240000000000236,-1.98000000000002,-7.90999999999985,-2.67999999999984,1.51000000000022,-5.90999999999985,-3.44000000000005,-2.34999999999991,-7.90000000000009,-1.23999999999978,-1.21000000000004,2.78999999999996,4.07999999999993,-3.07999999999993,-8.44000000000005,-6.32000000000016,1.55000000000018,-0.869999999999891,-7.03999999999996,-9.63999999999987,-1.32000000000016,-9.63000000000011,-10.4200000000001,-3.48999999999978,-7.42000000000007,-5.01999999999998,-0.340000000000146,-5.2199999999998,-9.55000000000018,-12.6799999999998,-7.11999999999989,-8.30000000000018,-7.32000000000016,21.0900000000001,-10.0500000000002,-6.07999999999993,0.119999999999891,-10.3099999999999,-7.71000000000004,-9.40999999999985,-8.34999999999991,-5.21000000000004,-7.25,-11.8499999999999,-11.6500000000001,-9.61000000000013,-7.98000000000002,-8.61999999999989,-11.3099999999999,-15.25,-15.71,-16.8499999999999,-12.5900000000001,-2.92999999999984,-9.92000000000007,-13.8400000000001,-5.55000000000018,-13.5900000000001,-9.59999999999991,-9.48999999999978,-20.1900000000001,-14.9699999999998,-12.6999999999998,-13.9499999999998,-16.29,-3.25999999999976,-8.26999999999998,-17.5700000000002,-10.4000000000001,-9.27999999999975,-11.71,-17.5500000000002,-12.5799999999999,-3.51999999999998,-1.61000000000013,-9.44999999999982,-6.26999999999998,-3.00999999999976,0.309999999999945,-5.21000000000004,-5.23999999999978,-8.11000000000013,-0.230000000000018,-4.36999999999989,-1.0,2.05999999999995,-2.90000000000009,1.09000000000015,0.539999999999964,-3.86999999999989,-1.55999999999995,-2.36999999999989,-3.59000000000015,-3.88000000000011,-1.07000000000016,-1.76999999999998,10.6100000000001,3.78999999999996,-0.550000000000182,7.34000000000015,1.84999999999991,5.88000000000011,2.23000000000002,10.6500000000001,5.82999999999993,-1.44000000000005,-1.25999999999976,-7.11000000000013,5.74000000000024,3.61000000000013,1.48000000000002,-0.0500000000001819,2.32000000000016,4.49000000000024,5.98000000000002,-0.300000000000182,0.0999999999999091,2.67999999999984,4.0300000000002,13.5599999999999,5.36999999999989,7.0,-2.61000000000013,8.19000000000005,7.30000000000018,5.19000000000005,3.47000000000025,6.63999999999987,0.800000000000182,-0.9699999999998,-3.57999999999993,4.65999999999985,0.340000000000146,-1.19000000000005,2.99000000000024,3.13999999999987,-0.259999999999764,0.570000000000164,11.27,1.57000000000016,4.80999999999995,-1.5,3.65999999999985,2.5,-3.82999999999993,0.130000000000109,-0.460000000000036,0.710000000000036,3.19000000000005,1.84000000000015,5.92000000000007,2.17999999999984,5.69000000000005,7.07999999999993,-1.92000000000007,-2.19999999999982,2.92999999999984,11.6599999999999,6.0,4.42000000000007,10.7600000000002,5.07000000000016,24.0300000000002,-4.05999999999995,4.46000000000004,2.76000000000022,-0.759999999999764,9.84999999999991,1.63999999999987,3.88000000000011,-5.38999999999987,-0.7199999999998,5.57000000000016,6.51999999999998,10.9400000000001,6.57999999999993,1.26000000000022,7.25,5.44999999999982,12.5100000000002,9.19999999999982,2.01000000000022,5.76000000000022,8.01999999999998,3.11000000000013,10.52,2.84000000000015,7.09999999999991,-1.69000000000005,9.51000000000022,5.53999999999996,2.51000000000022,12.1999999999998,1.24000000000024,8.72000000000025,0.550000000000182,-0.739999999999782,-2.69999999999982,1.38999999999987,3.61999999999989,-7.23999999999978,-9.42000000000007,-0.429999999999836,-1.42000000000007,-5.92999999999984,0.409999999999854,-7.28999999999996,-6.55000000000018,-5.48999999999978,2.09000000000015,3.55000000000018,1.47000000000025,-3.13000000000011,2.72000000000025,-4.50999999999976,2.99000000000024,-4.73999999999978,-2.76999999999998,-1.71000000000004,-2.27999999999975,-4.4699999999998,2.30999999999995,0.5300000000002,-3.05999999999995,-1.15999999999985,-2.55999999999995,2.99000000000024,-0.210000000000036,0.0700000000001637,0.0500000000001819,0.150000000000091,0.550000000000182,-1.32999999999993,2.51000000000022,4.38999999999987,-3.36999999999989,-5.42999999999984,6.40000000000009,-4.34999999999991,7.96000000000004,8.55999999999995,3.76999999999998,10.1700000000001,9.11999999999989,12.8899999999999,5.11000000000013,3.25,10.5599999999999,4.30000000000018,-1.38999999999987,5.94000000000005,4.84000000000015,0.889999999999873,-4.42999999999984,-1.9699999999998,-0.559999999999945,-0.940000000000055,1.38000000000011,-2.94000000000005,0.880000000000109,1.80999999999995,3.0,3.01999999999998,4.0300000000002,0.710000000000036,7.09999999999991,-1.42000000000007,8.7800000000002,9.53999999999996,7.86999999999989,-2.78999999999996,5.36000000000013,6.38999999999987,6.53999999999996,0.380000000000109,5.5,-7.07999999999993,-1.38999999999987,-3.27999999999975,1.88999999999987,-1.13999999999987,-1.55999999999995,-5.75999999999976,-3.88000000000011,-6.69999999999982,12.0500000000002,14.79,8.21000000000004,3.11999999999989,7.94000000000005,4.22000000000025,-1.38000000000011,1.76000000000022,-2.36000000000013,-2.11000000000013,0.349999999999909,-3.07000000000016,0.809999999999945,-1.82999999999993,2.2800000000002,0.420000000000073,7.0,-3.38000000000011,-4.34000000000015,0.670000000000073,5.30999999999995,-1.4699999999998,-6.36000000000013,7.30999999999995,11.1599999999999,12.98,8.5,10.1999999999998,6.7800000000002,5.42999999999984,4.0,1.80999999999995,6.94000000000005,4.36999999999989,2.94000000000005,1.30000000000018,4.92999999999984,-3.19000000000005,2.38999999999987,2.82000000000016,-4.55000000000018,-2.36999999999989,0.429999999999836,2.40000000000009,10.4000000000001,14.4000000000001,16.8099999999999,0.110000000000127,0.579999999999927,-1.84999999999991,4.67999999999984,2.80000000000018,5.34000000000015,-4.76999999999998,-7.07000000000016,8.11999999999989,1.82000000000016,16.3299999999999,12.6700000000001,13.29,15.4200000000001,13.25,10.5300000000002,-0.110000000000127,4.05000000000018,7.92999999999984,0.449999999999818,2.21000000000004,1.63999999999987,9.86000000000013,3.05000000000018,2.5,5.49000000000024,1.80999999999995,4.84000000000015,2.42999999999984,8.19999999999982,5.73000000000002,1.07000000000016,1.88999999999987,1.26999999999998,-4.42999999999984,0.949999999999818,1.17000000000007,-0.0199999999999818,1.49000000000024,4.26000000000022,8.75,1.94000000000005,1.57000000000016,4.94999999999982,7.65000000000009,1.98000000000002,5.61000000000013,5.26999999999998,4.19999999999982,5.05000000000018,-1.80000000000018,1.65999999999985,7.73000000000002,-2.42000000000007,13.1399999999999,13.5300000000002,3.88999999999987,10.4099999999999,6.26000000000022,3.30999999999995,7.86000000000013,10.5700000000002,6.07000000000016,2.2800000000002,1.38000000000011,4.46000000000004,11.48,14.6700000000001,2.22000000000025,13.6100000000001,12.9200000000001,6.57999999999993,7.5,3.36999999999989,5.73000000000002,-0.179999999999836,1.32000000000016,5.55000000000018,2.38000000000011,0.550000000000182,9.32999999999993,9.23000000000002,3.80000000000018,6.36000000000013,12.1700000000001,7.90999999999985,9.78999999999996,14.9900000000002,4.61000000000013,-1.11999999999989,10.8800000000001,9.48000000000002,4.84000000000015,6.86000000000013,4.38000000000011,5.76999999999998,10.5,9.51000000000022,6.59999999999991,1.65000000000009,11.23,2.21000000000004,2.67000000000007,1.17999999999984,13.6100000000001,-4.55000000000018,-4.11000000000013,-2.17000000000007,7.05999999999995,5.63000000000011,4.61000000000013,8.55000000000018,2.69999999999982,-0.0099999999997635,3.80999999999995,-0.210000000000036,10.8499999999999,12.1799999999998,6.80000000000018,4.59000000000015,13.1900000000001,8.21000000000004,7.38999999999987,12.3800000000001,7.59000000000015,3.80000000000018,12.3699999999999,8.34000000000015,11.5,2.90999999999985,3.76000000000022,5.0,6.73000000000002,10.73,6.80000000000018,6.38999999999987,13.25,8.28999999999996,9.28999999999996,8.73000000000002,9.90000000000009,10.0500000000002,8.26000000000022,15.3899999999999,3.80000000000018,18.1100000000001,15.6100000000001,19.0500000000002,7.57999999999993,15.5999999999999,8.53999999999996,6.55000000000018,10.8099999999999,8.75,8.32000000000016,5.0,-3.42000000000007,9.48000000000002,14.1300000000001,11.9499999999998,6.84000000000015,13.1999999999998,13.3400000000001,8.65999999999985,11.8800000000001,11.4499999999998,6.47000000000025,12.4900000000002,8.51000000000022,16.6999999999998,5.46000000000004,8.5,17.8800000000001,12.9099999999999,7.21000000000004,16.8099999999999,8.40000000000009,10.1500000000001,6.88999999999987,11.9299999999998,5.69000000000005,6.94000000000005,10.6700000000001,13.3699999999999,12.8299999999999,6.88999999999987,15.1599999999999,13.75,5.0300000000002,7.65000000000009,14.6199999999999,6.82000000000016,9.92000000000007,10.5500000000002,13.4400000000001,10.6799999999998,13.3499999999999,12.0,5.09000000000015,3.5,5.23000000000002,7.13999999999987,2.67999999999984,6.71000000000004,4.92999999999984,5.26999999999998,6.17000000000007,9.92000000000007,9.99000000000024,3.34999999999991,0.929999999999836,3.78999999999996,3.07000000000016,5.32999999999993,26.0599999999999,-0.860000000000127,7.86999999999989,8.61999999999989,8.38000000000011,0.470000000000255,-3.65999999999985,2.97000000000025,13.02,0.199999999999818,10.0999999999999,6.71000000000004,11.4700000000003,3.05999999999995,6.98000000000002,6.99000000000024,11.6900000000001,6.88000000000011,10.1799999999998,9.74000000000024,2.55000000000018,2.84000000000015,1.92999999999984,7.07000000000016,8.51000000000022,2.5300000000002,7.55999999999995,6.11000000000013,9.13000000000011,8.53999999999996,1.86000000000013,5.76999999999998,0.329999999999927,2.09000000000015,10.6399999999999,3.84000000000015,6.30000000000018,12.6500000000001,2.26999999999998,12.1700000000001,7.47000000000025,6.53999999999996,0.470000000000255,8.63000000000011,10.8699999999999,7.11000000000013,-6.96000000000004,-3.86999999999989,6.69999999999982,2.82999999999993,3.11000000000013,7.69999999999982,-3.98999999999978,3.69999999999982,10.1300000000001,3.97000000000025,11.6599999999999,1.24000000000024,6.63999999999987,6.63000000000011,3.65000000000009,6.42000000000007,5.65000000000009,10.98,10.0300000000002,15.1700000000001,0.210000000000036,-1.78999999999996,7.36999999999989,-2.23000000000002,0.889999999999873,4.75,3.99000000000024,1.19999999999982,2.46000000000004,13.71,0.0399999999999636,5.67999999999984,1.15000000000009,2.80999999999995,-0.179999999999836,3.73000000000002,13.5100000000002,6.69000000000005,1.82999999999993,1.46000000000004,1.51999999999998,3.40000000000009,9.72000000000025,-0.259999999999764,12.1500000000001,1.47000000000025,-1.00999999999976,-0.880000000000109,1.05000000000018,6.40000000000009,10.3200000000002,8.36000000000013,13.8699999999999,8.99000000000024,9.92000000000007,1.01000000000022,7.0,1.92000000000007,6.65000000000009,0.220000000000255,-0.860000000000127,2.40000000000009,6.67000000000007,0.220000000000255,-4.40999999999985,-2.59999999999991,3.46000000000004,2.98000000000002,5.30000000000018,7.63000000000011,3.94999999999982,8.99000000000024,10.4099999999999,14.0999999999999,8.38999999999987,-2.86000000000013,3.59000000000015,-1.86999999999989,5.65000000000009,4.88000000000011,0.179999999999836,5.13999999999987,5.0300000000002,6.22000000000025,1.32999999999993,20.4099999999999,15.9700000000003,0.970000000000255,1.30999999999995,-1.07000000000016,-0.529999999999745,2.84999999999991,4.11999999999989,3.75,4.32000000000016,1.72000000000025,-5.77999999999975,1.59999999999991,7.76000000000022,-5.21000000000004,-3.73999999999978,-3.44999999999982,-2.55000000000018,3.57000000000016,1.13000000000011,5.7800000000002,2.86999999999989,2.80000000000018,-2.9699999999998,6.01999999999998,0.5,3.67000000000007,2.17999999999984,6.74000000000024,0.309999999999945,5.90000000000009,-3.36000000000013,6.90999999999985,6.76999999999998,4.96000000000004,3.97000000000025,-5.11000000000013,-7.67999999999984,-5.71000000000004,-4.7199999999998,0.740000000000236,6.7800000000002,44.2400000000002,-0.150000000000091,-0.849999999999909,0.769999999999982,3.42000000000007,-24.1100000000001,-21.79,-22.0299999999997,-12.8200000000002,-9.51999999999998,-6.21000000000004,-1.84999999999991,-0.150000000000091,-3.17000000000007,-2.28999999999996,3.94000000000005,3.17999999999984,6.26999999999998,7.42000000000007,4.15000000000009,3.92999999999984,3.0300000000002,-7.80999999999995,-1.88000000000011,2.0,9.88000000000011,4.98000000000002,7.25,4.55000000000018,6.25,6.98000000000002,-2.63999999999987,-0.509999999999764,-1.48999999999978,-3.42999999999984,8.32999999999993,9.05000000000018,6.0,12.71,5.7800000000002,8.03999999999996,0.0599999999999454,4.88000000000011,0.630000000000109,1.34000000000015,11.6399999999999,5.15000000000009,12.9400000000001,18.8400000000001,16.6100000000001,5.92999999999984,3.57999999999993,1.78999999999996,16.52,-0.400000000000091,3.09999999999991,2.88999999999987,0.0100000000002183,9.94000000000005,6.01000000000022,21.02,-1.80000000000018,4.71000000000004,1.61999999999989,4.72000000000025,-1.17000000000007,-0.960000000000036,-1.42999999999984,3.88999999999987,6.34000000000015,12.6799999999998,9.0,5.40999999999985,4.32999999999993,5.76000000000022,8.84000000000015,4.42999999999984,8.19000000000005,1.42999999999984,1.19000000000005,3.90000000000009,1.90999999999985,-1.11000000000013,-0.889999999999873,-6.67999999999984,1.78999999999996,-0.0399999999999636,4.51999999999998,2.17000000000007,7.48000000000002,3.65000000000009,2.38999999999987,-4.84999999999991,-0.449999999999818,1.97000000000025,6.05999999999995,3.5,3.84000000000015,0.740000000000236,0.159999999999854,0.869999999999891,3.53999999999996,5.59999999999991,2.09999999999991,2.80999999999995,1.11999999999989,2.03999999999996,6.44000000000005,7.76000000000022,8.05999999999995,-7.30999999999995,-7.0,-0.400000000000091,4.13000000000011,12.2400000000002,1.65000000000009,6.57999999999993,0.639999999999873,3.09999999999991,4.78999999999996,3.65999999999985,2.75,9.44000000000005,0.480000000000018,3.44000000000005,5.99000000000024,-7.27999999999975,2.63999999999987,2.13000000000011,-4.42000000000007,3.15000000000009,5.25,5.38000000000011,-5.90999999999985,3.69999999999982,4.61999999999989,3.05999999999995,1.01000000000022,-8.9699999999998,-4.38999999999987,-4.82999999999993,0.960000000000036,3.61999999999989,4.90999999999985,2.69999999999982,5.42000000000007,-2.23000000000002,0.880000000000109,-17.4000000000001,-12.6399999999999,-4.46000000000004,-12.8600000000001,-8.03999999999996,-5.65999999999985,5.7800000000002,2.82000000000016,1.55999999999995,-0.900000000000091,-5.19999999999982,7.5300000000002,0.260000000000218,0.2800000000002,4.67000000000007,0.449999999999818,5.69000000000005,5.0,-0.699999999999818,0.970000000000255,4.19999999999982,2.65000000000009,-8.67999999999984,-6.25999999999976,-7.02999999999975,-6.9699999999998,-4.42999999999984,-8.57999999999993,-5.88999999999987,0.309999999999945,5.32999999999993,3.90000000000009,2.92000000000007,-4.94000000000005,-4.21000000000004,-6.11999999999989,-3.61000000000013,-5.44999999999982,-3.57999999999993,0.0,-2.50999999999976,5.61999999999989,4.51000000000022,5.17999999999984,-16.0900000000001,-19.7599999999998,-13.46,-5.48999999999978,-8.88000000000011,-0.489999999999782,-6.23999999999978,0.510000000000218,4.51000000000022,2.21000000000004,-2.69000000000005,-5.86999999999989,-4.61000000000013,-10.3200000000002,-4.21000000000004,0.659999999999854,7.15999999999985,-0.320000000000164,2.53999999999996,9.90000000000009,9.09999999999991,-3.63000000000011,2.90999999999985,4.28999999999996,7.01999999999998,7.30000000000018,2.05999999999995,2.22000000000025,2.65999999999985,8.03999999999996,12.6599999999999,5.40000000000009,-4.69999999999982,-1.69999999999982,3.01999999999998,4.03999999999996,12.8800000000001,1.53999999999996,1.63999999999987,9.19000000000005,6.65000000000009,4.69000000000005,2.86999999999989,1.46000000000004,2.13999999999987,4.11000000000013,5.28999999999996,1.01999999999998,5.65999999999985,5.67000000000007,15.2400000000002,4.17000000000007,7.72000000000025,18.1300000000001,0.559999999999945,4.76999999999998,4.40999999999985,-3.13000000000011,11.4200000000001,9.24000000000024,9.40000000000009,7.80999999999995,4.03999999999996,4.80999999999995,8.40000000000009,0.5300000000002,-1.34999999999991,11.6100000000001,13.0999999999999,13.77,12.6199999999999,8.97000000000025,11.8600000000001,6.17999999999984,4.44000000000005,6.88000000000011,-1.17000000000007,-2.42999999999984,2.26000000000022,4.21000000000004,3.80999999999995,2.48000000000002,11.0700000000002,16.6999999999998,16.3800000000001,10.98,13.3299999999999,2.5,9.44000000000005,5.59999999999991,8.32000000000016,-0.0900000000001455,-0.75,13.21,11.8099999999999,12.27,5.40000000000009,6.0,-1.09000000000015,-14.8099999999999,-4.13000000000011,-8.53999999999996,-3.55999999999995,-2.98000000000002,3.61000000000013,3.84999999999991,11.2600000000002,8.38999999999987,12.3800000000001,-17.1300000000001,1.22000000000025,-4.48999999999978,-4.15999999999985,-1.92999999999984,-3.52999999999975,2.82000000000016,2.09999999999991,9.22000000000025,12.8499999999999,-9.84000000000015,-9.84000000000015,-4.98999999999978,3.53999999999996,9.44999999999982,0.650000000000091,11.98,3.17000000000007,15.9499999999998,11.0799999999999,11.6700000000001,13.0599999999999,-3.69999999999982,-2.88000000000011,1.74000000000024,-1.34999999999991,-2.53999999999996,4.17999999999984,10.1100000000001,11.4099999999999,16.0100000000002,17.1700000000001,7.92999999999984,-3.55000000000018,-6.63999999999987,-3.38000000000011,2.28999999999996,5.94000000000005,9.0,1.09999999999991,3.57999999999993,9.24000000000024,15.2400000000002,9.32999999999993,6.28999999999996,12.0999999999999,12.3600000000001,15.7800000000002,15.3299999999999,16.4700000000003,11.25,12.4099999999999,14.5500000000002,12.8600000000001,10.3499999999999,0.470000000000255,7.63000000000011,4.01999999999998,11.9400000000001,12.1399999999999,15.9200000000001,17.9099999999999,14.7200000000003,9.38999999999987,8.05999999999995,13.8299999999999,-4.92000000000007,3.07000000000016,-2.01999999999998,12.77,14.8800000000001,10.3600000000001,14.7200000000003,12.6700000000001,15.5799999999999,19.29,8.30999999999995,-7.07000000000016,2.90999999999985,11.54,5.5300000000002,14.9000000000001,11.6900000000001,16.8000000000002,16.9000000000001,16.75,16.1599999999999,17.4700000000003,-11.6700000000001,-4.90999999999985,1.72000000000025,-4.01999999999998,7.2800000000002,17.9900000000002,11.3200000000002,15.0,14.4400000000001,6.94000000000005,14.3200000000002,-17.52,-18.3299999999999,-15.3800000000001,-3.27999999999975,-13.4000000000001,-9.88000000000011,-4.94000000000005,-2.34000000000015,-6.05000000000018,19.8099999999999,5.97000000000025,16.5,14.8600000000001,17.6399999999999,11.1399999999999,12.5100000000002,17.0999999999999,14.9700000000003,18.6399999999999,11.6999999999998,8.26000000000022,16.25,18.71,0.289999999999964,-3.90000000000009,-5.38999999999987,3.01999999999998,-0.110000000000127,10.73,12.8200000000002,13.02,15.8299999999999,12.7200000000003,13.71,10.52,9.55999999999995,2.80000000000018,17.2200000000003,9.30000000000018,11.0999999999999,17.3000000000002,12.3499999999999,12.98,11.6199999999999,12.96,-7.11000000000013,-1.42000000000007,-1.52999999999975,3.40000000000009,8.48000000000002,7.71000000000004,16.1999999999998,8.32000000000016,12.1300000000001,4.76999999999998,15.6300000000001,-9.42999999999984,-5.63999999999987,-6.80000000000018,-7.00999999999976,6.72000000000025,3.32000000000016,8.84999999999991,10.3000000000002,8.76000000000022,18.23,9.88000000000011,-19.71,-20.0900000000001,-8.32000000000016,-4.05999999999995,-3.78999999999996,4.82000000000016,7.82000000000016,7.76000000000022,10.5700000000002,9.7800000000002,6.76000000000022,-33.73,-30.02,-29.1700000000001,-23.5,-23.1900000000001,-16.5799999999999,-16.8200000000002,-9.71000000000004,-9.57999999999993,-1.4699999999998,1.97000000000025,5.15000000000009,1.03999999999996,0.690000000000055,9.28999999999996,4.51000000000022,17.8699999999999,14.0799999999999,15.9900000000002,3.36000000000013,21.1100000000001,14.79,12.0599999999999,-18.8699999999999,-3.11000000000013,-15.0900000000001,-4.40999999999985,-5.80999999999995,3.59000000000015,2.76000000000022,9.99000000000024,7.63000000000011,17.5500000000002,11.2600000000002,-3.05999999999995,-12.2199999999998,-10.9099999999999,-13.75,-3.80999999999995,-9.09000000000015,-12.75,-1.69000000000005,-4.34999999999991,7.36999999999989,4.22000000000025,-1.65000000000009,3.99000000000024,4.75,10.8200000000002,0.630000000000109,14.0100000000002,9.11000000000013,5.88000000000011,12.6500000000001,10.04,20.4000000000001,-8.76999999999998,-5.11000000000013,-4.11999999999989,0.920000000000073],\"type\":\"scatter\",\"xaxis\":\"x4\",\"yaxis\":\"y4\"}],                        {\"template\":{\"data\":{\"histogram2dcontour\":[{\"type\":\"histogram2dcontour\",\"colorbar\":{\"outlinewidth\":0,\"ticks\":\"\"},\"colorscale\":[[0.0,\"#0d0887\"],[0.1111111111111111,\"#46039f\"],[0.2222222222222222,\"#7201a8\"],[0.3333333333333333,\"#9c179e\"],[0.4444444444444444,\"#bd3786\"],[0.5555555555555556,\"#d8576b\"],[0.6666666666666666,\"#ed7953\"],[0.7777777777777778,\"#fb9f3a\"],[0.8888888888888888,\"#fdca26\"],[1.0,\"#f0f921\"]]}],\"choropleth\":[{\"type\":\"choropleth\",\"colorbar\":{\"outlinewidth\":0,\"ticks\":\"\"}}],\"histogram2d\":[{\"type\":\"histogram2d\",\"colorbar\":{\"outlinewidth\":0,\"ticks\":\"\"},\"colorscale\":[[0.0,\"#0d0887\"],[0.1111111111111111,\"#46039f\"],[0.2222222222222222,\"#7201a8\"],[0.3333333333333333,\"#9c179e\"],[0.4444444444444444,\"#bd3786\"],[0.5555555555555556,\"#d8576b\"],[0.6666666666666666,\"#ed7953\"],[0.7777777777777778,\"#fb9f3a\"],[0.8888888888888888,\"#fdca26\"],[1.0,\"#f0f921\"]]}],\"heatmap\":[{\"type\":\"heatmap\",\"colorbar\":{\"outlinewidth\":0,\"ticks\":\"\"},\"colorscale\":[[0.0,\"#0d0887\"],[0.1111111111111111,\"#46039f\"],[0.2222222222222222,\"#7201a8\"],[0.3333333333333333,\"#9c179e\"],[0.4444444444444444,\"#bd3786\"],[0.5555555555555556,\"#d8576b\"],[0.6666666666666666,\"#ed7953\"],[0.7777777777777778,\"#fb9f3a\"],[0.8888888888888888,\"#fdca26\"],[1.0,\"#f0f921\"]]}],\"heatmapgl\":[{\"type\":\"heatmapgl\",\"colorbar\":{\"outlinewidth\":0,\"ticks\":\"\"},\"colorscale\":[[0.0,\"#0d0887\"],[0.1111111111111111,\"#46039f\"],[0.2222222222222222,\"#7201a8\"],[0.3333333333333333,\"#9c179e\"],[0.4444444444444444,\"#bd3786\"],[0.5555555555555556,\"#d8576b\"],[0.6666666666666666,\"#ed7953\"],[0.7777777777777778,\"#fb9f3a\"],[0.8888888888888888,\"#fdca26\"],[1.0,\"#f0f921\"]]}],\"contourcarpet\":[{\"type\":\"contourcarpet\",\"colorbar\":{\"outlinewidth\":0,\"ticks\":\"\"}}],\"contour\":[{\"type\":\"contour\",\"colorbar\":{\"outlinewidth\":0,\"ticks\":\"\"},\"colorscale\":[[0.0,\"#0d0887\"],[0.1111111111111111,\"#46039f\"],[0.2222222222222222,\"#7201a8\"],[0.3333333333333333,\"#9c179e\"],[0.4444444444444444,\"#bd3786\"],[0.5555555555555556,\"#d8576b\"],[0.6666666666666666,\"#ed7953\"],[0.7777777777777778,\"#fb9f3a\"],[0.8888888888888888,\"#fdca26\"],[1.0,\"#f0f921\"]]}],\"surface\":[{\"type\":\"surface\",\"colorbar\":{\"outlinewidth\":0,\"ticks\":\"\"},\"colorscale\":[[0.0,\"#0d0887\"],[0.1111111111111111,\"#46039f\"],[0.2222222222222222,\"#7201a8\"],[0.3333333333333333,\"#9c179e\"],[0.4444444444444444,\"#bd3786\"],[0.5555555555555556,\"#d8576b\"],[0.6666666666666666,\"#ed7953\"],[0.7777777777777778,\"#fb9f3a\"],[0.8888888888888888,\"#fdca26\"],[1.0,\"#f0f921\"]]}],\"mesh3d\":[{\"type\":\"mesh3d\",\"colorbar\":{\"outlinewidth\":0,\"ticks\":\"\"}}],\"scatter\":[{\"fillpattern\":{\"fillmode\":\"overlay\",\"size\":10,\"solidity\":0.2},\"type\":\"scatter\"}],\"parcoords\":[{\"type\":\"parcoords\",\"line\":{\"colorbar\":{\"outlinewidth\":0,\"ticks\":\"\"}}}],\"scatterpolargl\":[{\"type\":\"scatterpolargl\",\"marker\":{\"colorbar\":{\"outlinewidth\":0,\"ticks\":\"\"}}}],\"bar\":[{\"error_x\":{\"color\":\"#2a3f5f\"},\"error_y\":{\"color\":\"#2a3f5f\"},\"marker\":{\"line\":{\"color\":\"#E5ECF6\",\"width\":0.5},\"pattern\":{\"fillmode\":\"overlay\",\"size\":10,\"solidity\":0.2}},\"type\":\"bar\"}],\"scattergeo\":[{\"type\":\"scattergeo\",\"marker\":{\"colorbar\":{\"outlinewidth\":0,\"ticks\":\"\"}}}],\"scatterpolar\":[{\"type\":\"scatterpolar\",\"marker\":{\"colorbar\":{\"outlinewidth\":0,\"ticks\":\"\"}}}],\"histogram\":[{\"marker\":{\"pattern\":{\"fillmode\":\"overlay\",\"size\":10,\"solidity\":0.2}},\"type\":\"histogram\"}],\"scattergl\":[{\"type\":\"scattergl\",\"marker\":{\"colorbar\":{\"outlinewidth\":0,\"ticks\":\"\"}}}],\"scatter3d\":[{\"type\":\"scatter3d\",\"line\":{\"colorbar\":{\"outlinewidth\":0,\"ticks\":\"\"}},\"marker\":{\"colorbar\":{\"outlinewidth\":0,\"ticks\":\"\"}}}],\"scattermapbox\":[{\"type\":\"scattermapbox\",\"marker\":{\"colorbar\":{\"outlinewidth\":0,\"ticks\":\"\"}}}],\"scatterternary\":[{\"type\":\"scatterternary\",\"marker\":{\"colorbar\":{\"outlinewidth\":0,\"ticks\":\"\"}}}],\"scattercarpet\":[{\"type\":\"scattercarpet\",\"marker\":{\"colorbar\":{\"outlinewidth\":0,\"ticks\":\"\"}}}],\"carpet\":[{\"aaxis\":{\"endlinecolor\":\"#2a3f5f\",\"gridcolor\":\"white\",\"linecolor\":\"white\",\"minorgridcolor\":\"white\",\"startlinecolor\":\"#2a3f5f\"},\"baxis\":{\"endlinecolor\":\"#2a3f5f\",\"gridcolor\":\"white\",\"linecolor\":\"white\",\"minorgridcolor\":\"white\",\"startlinecolor\":\"#2a3f5f\"},\"type\":\"carpet\"}],\"table\":[{\"cells\":{\"fill\":{\"color\":\"#EBF0F8\"},\"line\":{\"color\":\"white\"}},\"header\":{\"fill\":{\"color\":\"#C8D4E3\"},\"line\":{\"color\":\"white\"}},\"type\":\"table\"}],\"barpolar\":[{\"marker\":{\"line\":{\"color\":\"#E5ECF6\",\"width\":0.5},\"pattern\":{\"fillmode\":\"overlay\",\"size\":10,\"solidity\":0.2}},\"type\":\"barpolar\"}],\"pie\":[{\"automargin\":true,\"type\":\"pie\"}]},\"layout\":{\"autotypenumbers\":\"strict\",\"colorway\":[\"#636efa\",\"#EF553B\",\"#00cc96\",\"#ab63fa\",\"#FFA15A\",\"#19d3f3\",\"#FF6692\",\"#B6E880\",\"#FF97FF\",\"#FECB52\"],\"font\":{\"color\":\"#2a3f5f\"},\"hovermode\":\"closest\",\"hoverlabel\":{\"align\":\"left\"},\"paper_bgcolor\":\"white\",\"plot_bgcolor\":\"#E5ECF6\",\"polar\":{\"bgcolor\":\"#E5ECF6\",\"angularaxis\":{\"gridcolor\":\"white\",\"linecolor\":\"white\",\"ticks\":\"\"},\"radialaxis\":{\"gridcolor\":\"white\",\"linecolor\":\"white\",\"ticks\":\"\"}},\"ternary\":{\"bgcolor\":\"#E5ECF6\",\"aaxis\":{\"gridcolor\":\"white\",\"linecolor\":\"white\",\"ticks\":\"\"},\"baxis\":{\"gridcolor\":\"white\",\"linecolor\":\"white\",\"ticks\":\"\"},\"caxis\":{\"gridcolor\":\"white\",\"linecolor\":\"white\",\"ticks\":\"\"}},\"coloraxis\":{\"colorbar\":{\"outlinewidth\":0,\"ticks\":\"\"}},\"colorscale\":{\"sequential\":[[0.0,\"#0d0887\"],[0.1111111111111111,\"#46039f\"],[0.2222222222222222,\"#7201a8\"],[0.3333333333333333,\"#9c179e\"],[0.4444444444444444,\"#bd3786\"],[0.5555555555555556,\"#d8576b\"],[0.6666666666666666,\"#ed7953\"],[0.7777777777777778,\"#fb9f3a\"],[0.8888888888888888,\"#fdca26\"],[1.0,\"#f0f921\"]],\"sequentialminus\":[[0.0,\"#0d0887\"],[0.1111111111111111,\"#46039f\"],[0.2222222222222222,\"#7201a8\"],[0.3333333333333333,\"#9c179e\"],[0.4444444444444444,\"#bd3786\"],[0.5555555555555556,\"#d8576b\"],[0.6666666666666666,\"#ed7953\"],[0.7777777777777778,\"#fb9f3a\"],[0.8888888888888888,\"#fdca26\"],[1.0,\"#f0f921\"]],\"diverging\":[[0,\"#8e0152\"],[0.1,\"#c51b7d\"],[0.2,\"#de77ae\"],[0.3,\"#f1b6da\"],[0.4,\"#fde0ef\"],[0.5,\"#f7f7f7\"],[0.6,\"#e6f5d0\"],[0.7,\"#b8e186\"],[0.8,\"#7fbc41\"],[0.9,\"#4d9221\"],[1,\"#276419\"]]},\"xaxis\":{\"gridcolor\":\"white\",\"linecolor\":\"white\",\"ticks\":\"\",\"title\":{\"standoff\":15},\"zerolinecolor\":\"white\",\"automargin\":true,\"zerolinewidth\":2},\"yaxis\":{\"gridcolor\":\"white\",\"linecolor\":\"white\",\"ticks\":\"\",\"title\":{\"standoff\":15},\"zerolinecolor\":\"white\",\"automargin\":true,\"zerolinewidth\":2},\"scene\":{\"xaxis\":{\"backgroundcolor\":\"#E5ECF6\",\"gridcolor\":\"white\",\"linecolor\":\"white\",\"showbackground\":true,\"ticks\":\"\",\"zerolinecolor\":\"white\",\"gridwidth\":2},\"yaxis\":{\"backgroundcolor\":\"#E5ECF6\",\"gridcolor\":\"white\",\"linecolor\":\"white\",\"showbackground\":true,\"ticks\":\"\",\"zerolinecolor\":\"white\",\"gridwidth\":2},\"zaxis\":{\"backgroundcolor\":\"#E5ECF6\",\"gridcolor\":\"white\",\"linecolor\":\"white\",\"showbackground\":true,\"ticks\":\"\",\"zerolinecolor\":\"white\",\"gridwidth\":2}},\"shapedefaults\":{\"line\":{\"color\":\"#2a3f5f\"}},\"annotationdefaults\":{\"arrowcolor\":\"#2a3f5f\",\"arrowhead\":0,\"arrowwidth\":1},\"geo\":{\"bgcolor\":\"white\",\"landcolor\":\"#E5ECF6\",\"subunitcolor\":\"white\",\"showland\":true,\"showlakes\":true,\"lakecolor\":\"white\"},\"title\":{\"x\":0.05},\"mapbox\":{\"style\":\"light\"}}},\"xaxis\":{\"anchor\":\"y\",\"domain\":[0.0,0.45],\"title\":{\"text\":\"Time\"}},\"yaxis\":{\"anchor\":\"x\",\"domain\":[0.625,1.0],\"title\":{\"text\":\"Flux\"}},\"xaxis2\":{\"anchor\":\"y2\",\"domain\":[0.55,1.0],\"title\":{\"text\":\"Time\"}},\"yaxis2\":{\"anchor\":\"x2\",\"domain\":[0.625,1.0],\"title\":{\"text\":\"Flux\"}},\"xaxis3\":{\"anchor\":\"y3\",\"domain\":[0.0,0.45],\"title\":{\"text\":\"Time\"}},\"yaxis3\":{\"anchor\":\"x3\",\"domain\":[0.0,0.375],\"title\":{\"text\":\"Flux\"}},\"xaxis4\":{\"anchor\":\"y4\",\"domain\":[0.55,1.0],\"title\":{\"text\":\"Time\"}},\"yaxis4\":{\"anchor\":\"x4\",\"domain\":[0.0,0.375],\"title\":{\"text\":\"Flux\"}},\"annotations\":[{\"font\":{\"size\":16},\"showarrow\":false,\"text\":\"Star #0 (Exoplanet)\",\"x\":0.225,\"xanchor\":\"center\",\"xref\":\"paper\",\"y\":1.0,\"yanchor\":\"bottom\",\"yref\":\"paper\"},{\"font\":{\"size\":16},\"showarrow\":false,\"text\":\"Star #1 (Exoplanet)\",\"x\":0.775,\"xanchor\":\"center\",\"xref\":\"paper\",\"y\":1.0,\"yanchor\":\"bottom\",\"yref\":\"paper\"},{\"font\":{\"size\":16},\"showarrow\":false,\"text\":\"Star #3000 (No-Exoplanet)\",\"x\":0.225,\"xanchor\":\"center\",\"xref\":\"paper\",\"y\":0.375,\"yanchor\":\"bottom\",\"yref\":\"paper\"},{\"font\":{\"size\":16},\"showarrow\":false,\"text\":\"Star #3001 (No-Exoplanet)\",\"x\":0.775,\"xanchor\":\"center\",\"xref\":\"paper\",\"y\":0.375,\"yanchor\":\"bottom\",\"yref\":\"paper\"}],\"title\":{\"text\":\"Exoplanets Flux vs No-Exoplanet Flux\"},\"height\":600,\"width\":800,\"showlegend\":false},                        {\"responsive\": true}                    ).then(function(){\n",
              "                            \n",
              "var gd = document.getElementById('33635339-07a9-4e27-a69d-7915461f63ee');\n",
              "var x = new MutationObserver(function (mutations, observer) {{\n",
              "        var display = window.getComputedStyle(gd).display;\n",
              "        if (!display || display === 'none') {{\n",
              "            console.log([gd, 'removed!']);\n",
              "            Plotly.purge(gd);\n",
              "            observer.disconnect();\n",
              "        }}\n",
              "}});\n",
              "\n",
              "// Listen for the removal of the full notebook cells\n",
              "var notebookContainer = gd.closest('#notebook-container');\n",
              "if (notebookContainer) {{\n",
              "    x.observe(notebookContainer, {childList: true});\n",
              "}}\n",
              "\n",
              "// Listen for the clearing of the current output cell\n",
              "var outputEl = gd.closest('.output');\n",
              "if (outputEl) {{\n",
              "    x.observe(outputEl, {childList: true});\n",
              "}}\n",
              "\n",
              "                        })                };                            </script>        </div>\n",
              "</body>\n",
              "</html>"
            ]
          },
          "metadata": {},
          "output_type": "display_data"
        }
      ],
      "source": [
        "fig = make_subplots(rows=2, cols=2,subplot_titles=(\"Star #0 (Exoplanet)\", \"Star #1 (Exoplanet)\",\n",
        "                                                   \"Star #3000 (No-Exoplanet)\", \"Star #3001 (No-Exoplanet)\"))\n",
        "fig.add_trace(\n",
        "    go.Scatter(y=train_dataset.__getitem__(0)['feature']),\n",
        "    row=1, col=1\n",
        ")\n",
        "fig.add_trace(\n",
        "    go.Scatter(y=train_dataset.__getitem__(1)['feature']),\n",
        "    row=1, col=2\n",
        ")\n",
        "fig.add_trace(\n",
        "    go.Scatter(y=train_dataset.__getitem__(3000)['feature']),\n",
        "    row=2, col=1\n",
        ")\n",
        "fig.add_trace(\n",
        "    go.Scatter(y=train_dataset.__getitem__(3001)['feature']),\n",
        "    row=2, col=2\n",
        ")\n",
        "for i in range(1, 5):\n",
        "    fig.update_xaxes(title_text=\"Time\", row=(i-1)//2 + 1, col=(i-1)%2 + 1)\n",
        "    fig.update_yaxes(title_text=\"Flux\", row=(i-1)//2 + 1, col=(i-1)%2 + 1)\n",
        "\n",
        "fig.update_layout(height=600, width=800, title_text=\"Exoplanets Flux vs No-Exoplanet Flux\",showlegend=False)\n",
        "fig.show()"
      ]
    },
    {
      "cell_type": "markdown",
      "metadata": {
        "id": "rypFi0vvvOg-"
      },
      "source": [
        "# 2. Train and Test\n",
        "## 2.1 Define Network with snnTorch\n",
        "\n",
        "The code block below follows the same syntax as with the [official snnTorch tutorials](https://snntorch.readthedocs.io/en/latest/tutorials/index.html).\n",
        "In contrast to other tutorials however, this model passes data across the entire sequence in parallel.\n",
        "In that sense, it is more akin to how attention-based mechanisms take data.\n",
        "Turning this into a more 'online' method would likely involve pre-processing to downsample the exceedingly long sequence length."
      ]
    },
    {
      "cell_type": "code",
      "execution_count": null,
      "metadata": {
        "id": "juQe2MaMwiC-"
      },
      "outputs": [],
      "source": [
        "# Step 4: Define Network\n",
        "class Net(nn.Module):\n",
        "    def __init__(self):\n",
        "        super().__init__()\n",
        "\n",
        "        # Initialize layers (3 linear layers and 3 leaky layers)\n",
        "        self.fc1 = nn.Linear(3197, 128) # takes an input of 3197 and outputs 128\n",
        "        self.lif1 = snn.Leaky(beta=beta, spike_grad=spike_grad)\n",
        "        self.fc2 = nn.Linear(64, 64) # takes an input of 64 and outputs 68\n",
        "        self.lif2 = snn.Leaky(beta=beta, spike_grad=spike_grad)\n",
        "        self.fc3 = nn.Linear(32, 2) # takes in 32 inputs and outputs our two outputs (planet with/without an exoplanet)\n",
        "        self.lif3 = snn.Leaky(beta=beta, spike_grad=spike_grad)\n",
        "        self.softmax = nn.Softmax(dim=1) # softmax applied with a dimension of 1\n",
        "\n",
        "    def forward(self, x):\n",
        "\n",
        "        # Initialize hidden states and outputs at t=0\n",
        "        mem1 = self.lif1.init_leaky()\n",
        "        mem2 = self.lif2.init_leaky()\n",
        "\n",
        "        cur1 = F.max_pool1d(self.fc1(x), 2)\n",
        "        spk1, mem1 = self.lif1(cur1, mem1)\n",
        "\n",
        "        cur2 = F.max_pool1d(self.fc2(spk1), 2)\n",
        "        spk2, mem2 = self.lif2(cur2, mem2)\n",
        "\n",
        "        cur3 = self.fc3(spk2.view(batch_size, -1))\n",
        "\n",
        "        # return cur3\n",
        "        return cur3\n",
        "\n",
        "# device = torch.device(\"cuda\") if torch.cuda.is_available() else torch.device(\"mps\") if torch.backends.mps.is_available() else torch.device(\"cpu\")\n",
        "model = Net() # initialize the model to the new class."
      ]
    },
    {
      "cell_type": "markdown",
      "metadata": {
        "id": "70OA1q6fxhpU"
      },
      "source": [
        "## 2.2 Define the Loss function and the Optimizer\n"
      ]
    },
    {
      "cell_type": "code",
      "execution_count": null,
      "metadata": {
        "id": "Ii9YqSjuxhwt"
      },
      "outputs": [],
      "source": [
        "# Step 5: Define the Loss function and the Optimizer\n",
        "criterion = nn.CrossEntropyLoss()  # look up binarycross entropy if we have time\n",
        "optimizer = optim.SGD(model.parameters(), lr=0.001) # stochastic gradient descent with a learning rate of 0.001"
      ]
    },
    {
      "cell_type": "markdown",
      "metadata": {
        "id": "elTRE0aTybGV"
      },
      "source": [
        "## 2.3 Train and Test the Model over each EPOCH\n",
        "### Sensitivity\n",
        " Sensitivity (Recall / True Positive Rate) measures the proportion of actual positive cases correctly identified by the model. It indicates the model's ability to correctly detect or capture all positive instances out of the total actual positives.\n",
        "\n",
        "$$Sensitivity =  \\frac{TP}{TP+FN} \\tag{1}$$\n",
        "\n",
        "TP stands for the True Positive prediction, which means the number of the positive samples that are correctly predicted. FN stands for the False Negative prediction, which means the number of the negative samples that are mistakenly predicted as positive samples."
      ]
    },
    {
      "cell_type": "markdown",
      "metadata": {
        "id": "7dyWa5UQqnww"
      },
      "source": [
        "### Specificity\n",
        "On the other hand, specificity measures the proportion of actual negative cases correctly identified by the model. It indicates the model's ability to correctly exclude negative instances out of the total actual negatives.\n",
        "\n",
        "$$Specificity =  \\frac{TN}{TN+FP} \\tag{2}$$\n",
        "\n",
        "Similarly, TN stands for the True Negative prediction, FP stands for the False Positive prediction."
      ]
    },
    {
      "cell_type": "markdown",
      "metadata": {
        "id": "23v7Jxls29iF"
      },
      "source": [
        "### AUC-ROC\n",
        "The AUC-ROC (Area Under the Receiver Operating Characteristic curve) metric is commonly used for evaluating the performance of binary classification models, plotting the true positive rate against the false positive rate. It quantifies the model's ability to distinguish between classes, specifically its capacity to correctly rank or order predicted probabilities.\n",
        "\n",
        "roc_auc_score(): returns a value between 0 or 1\n",
        " - Values > 0.5 and closer to 1 indicate that the model does well in distinguishing between the two classes\n",
        " - Values close to 0.5 represent that the model does no better than random guessing\n",
        " - Values < 0.5 demonstrate that the model performs worse than random guessing"
      ]
    },
    {
      "cell_type": "markdown",
      "metadata": {
        "id": "ilUeUxrqq8ik"
      },
      "source": [
        "Since there are minimal test values for stars with exoplanets, these\n",
        "metrics are far better than accuracy alone for determining model performance. Let's list\n",
        "all the varaiables that we need:"
      ]
    },
    {
      "cell_type": "code",
      "execution_count": null,
      "metadata": {
        "id": "DXoxzKw9kNJ-"
      },
      "outputs": [],
      "source": [
        "# create a pandas dataframe to hold the current epoch, the accuracy， sensitivity, specificity, auc-roc and loss\n",
        "results = pd.DataFrame(columns=['Epoch', 'Accuracy', 'Sensitivity', 'Specificity', 'AUC-ROC', 'Test Loss'])"
      ]
    },
    {
      "cell_type": "markdown",
      "metadata": {
        "id": "NINZXIt_mo7m"
      },
      "source": [
        "And then define how many epochs we want the model to be trained:"
      ]
    },
    {
      "cell_type": "code",
      "execution_count": null,
      "metadata": {
        "id": "2d_9gWYbkTGp"
      },
      "outputs": [],
      "source": [
        "num_epochs = 100 # initialize a certain number of epoch iterations"
      ]
    },
    {
      "cell_type": "markdown",
      "metadata": {
        "id": "tEv4_R1Vm0Vc"
      },
      "source": [
        "Note that the best range for epochs is around 50 to 500 for our dataset.\n",
        "\n",
        "Now let's train the model."
      ]
    },
    {
      "cell_type": "code",
      "execution_count": null,
      "metadata": {
        "colab": {
          "base_uri": "https://localhost:8080/"
        },
        "id": "PdR9HaAMybL7",
        "outputId": "3a3cd020-33f6-4d66-a667-e97d624f339e"
      },
      "outputs": [
        {
          "name": "stdout",
          "output_type": "stream",
          "text": [
            "Epoch [1/1000] Test Loss: 0.76 Test Accuracy: 3.32% Sensitivity: 100.00% Specificity: 2.37% AUC-ROC: 72.8402%\n",
            "Epoch [2/1000] Test Loss: 0.75 Test Accuracy: 3.71% Sensitivity: 100.00% Specificity: 2.76% AUC-ROC: 73.0178%\n",
            "Epoch [3/1000] Test Loss: 0.75 Test Accuracy: 3.71% Sensitivity: 100.00% Specificity: 2.76% AUC-ROC: 73.1558%\n",
            "Epoch [4/1000] Test Loss: 0.75 Test Accuracy: 3.71% Sensitivity: 100.00% Specificity: 2.76% AUC-ROC: 73.2742%\n",
            "Epoch [5/1000] Test Loss: 0.75 Test Accuracy: 3.71% Sensitivity: 100.00% Specificity: 2.76% AUC-ROC: 73.4911%\n",
            "Epoch [6/1000] Test Loss: 0.75 Test Accuracy: 3.52% Sensitivity: 100.00% Specificity: 2.56% AUC-ROC: 73.3925%\n",
            "Epoch [7/1000] Test Loss: 0.74 Test Accuracy: 3.71% Sensitivity: 100.00% Specificity: 2.76% AUC-ROC: 73.7278%\n",
            "Epoch [8/1000] Test Loss: 0.74 Test Accuracy: 6.64% Sensitivity: 100.00% Specificity: 5.72% AUC-ROC: 74.1420%\n",
            "Epoch [9/1000] Test Loss: 0.74 Test Accuracy: 7.42% Sensitivity: 100.00% Specificity: 6.51% AUC-ROC: 74.0434%\n",
            "Epoch [10/1000] Test Loss: 0.74 Test Accuracy: 7.42% Sensitivity: 100.00% Specificity: 6.51% AUC-ROC: 74.5365%\n",
            "Epoch [11/1000] Test Loss: 0.74 Test Accuracy: 7.42% Sensitivity: 100.00% Specificity: 6.51% AUC-ROC: 73.0769%\n",
            "Epoch [12/1000] Test Loss: 0.74 Test Accuracy: 7.62% Sensitivity: 100.00% Specificity: 6.71% AUC-ROC: 73.2347%\n",
            "Epoch [13/1000] Test Loss: 0.74 Test Accuracy: 8.01% Sensitivity: 100.00% Specificity: 7.10% AUC-ROC: 75.1282%\n",
            "Epoch [14/1000] Test Loss: 0.73 Test Accuracy: 8.01% Sensitivity: 100.00% Specificity: 7.10% AUC-ROC: 75.1874%\n",
            "Epoch [15/1000] Test Loss: 0.73 Test Accuracy: 8.59% Sensitivity: 100.00% Specificity: 7.69% AUC-ROC: 75.4043%\n",
            "Epoch [16/1000] Test Loss: 0.73 Test Accuracy: 11.33% Sensitivity: 100.00% Specificity: 10.45% AUC-ROC: 75.5030%\n",
            "Epoch [17/1000] Test Loss: 0.73 Test Accuracy: 12.11% Sensitivity: 100.00% Specificity: 11.24% AUC-ROC: 75.4832%\n",
            "Epoch [18/1000] Test Loss: 0.73 Test Accuracy: 12.30% Sensitivity: 100.00% Specificity: 11.44% AUC-ROC: 75.4635%\n",
            "Epoch [19/1000] Test Loss: 0.73 Test Accuracy: 15.23% Sensitivity: 100.00% Specificity: 14.40% AUC-ROC: 75.5030%\n",
            "Epoch [20/1000] Test Loss: 0.73 Test Accuracy: 15.62% Sensitivity: 100.00% Specificity: 14.79% AUC-ROC: 75.4043%\n",
            "Epoch [21/1000] Test Loss: 0.73 Test Accuracy: 16.21% Sensitivity: 100.00% Specificity: 15.38% AUC-ROC: 75.6213%\n",
            "Epoch [22/1000] Test Loss: 0.73 Test Accuracy: 18.16% Sensitivity: 100.00% Specificity: 17.36% AUC-ROC: 75.7791%\n",
            "Epoch [23/1000] Test Loss: 0.73 Test Accuracy: 18.36% Sensitivity: 100.00% Specificity: 17.55% AUC-ROC: 75.7396%\n",
            "Epoch [24/1000] Test Loss: 0.73 Test Accuracy: 30.08% Sensitivity: 100.00% Specificity: 29.39% AUC-ROC: 75.8383%\n",
            "Epoch [25/1000] Test Loss: 0.72 Test Accuracy: 30.27% Sensitivity: 100.00% Specificity: 29.59% AUC-ROC: 75.9566%\n",
            "Epoch [26/1000] Test Loss: 0.72 Test Accuracy: 30.47% Sensitivity: 100.00% Specificity: 29.78% AUC-ROC: 75.8185%\n",
            "Epoch [27/1000] Test Loss: 0.72 Test Accuracy: 30.47% Sensitivity: 100.00% Specificity: 29.78% AUC-ROC: 75.8974%\n",
            "Epoch [28/1000] Test Loss: 0.72 Test Accuracy: 31.05% Sensitivity: 100.00% Specificity: 30.37% AUC-ROC: 75.8580%\n",
            "Epoch [29/1000] Test Loss: 0.72 Test Accuracy: 30.66% Sensitivity: 100.00% Specificity: 29.98% AUC-ROC: 75.6213%\n",
            "Epoch [30/1000] Test Loss: 0.72 Test Accuracy: 30.86% Sensitivity: 100.00% Specificity: 30.18% AUC-ROC: 75.6805%\n",
            "Epoch [31/1000] Test Loss: 0.72 Test Accuracy: 31.05% Sensitivity: 100.00% Specificity: 30.37% AUC-ROC: 69.0138%\n",
            "Epoch [32/1000] Test Loss: 0.72 Test Accuracy: 31.25% Sensitivity: 100.00% Specificity: 30.57% AUC-ROC: 69.0730%\n",
            "Epoch [33/1000] Test Loss: 0.72 Test Accuracy: 32.42% Sensitivity: 100.00% Specificity: 31.76% AUC-ROC: 69.5266%\n",
            "Epoch [34/1000] Test Loss: 0.72 Test Accuracy: 32.62% Sensitivity: 100.00% Specificity: 31.95% AUC-ROC: 69.9408%\n",
            "Epoch [35/1000] Test Loss: 0.72 Test Accuracy: 32.42% Sensitivity: 100.00% Specificity: 31.76% AUC-ROC: 69.8619%\n",
            "Epoch [36/1000] Test Loss: 0.72 Test Accuracy: 33.01% Sensitivity: 100.00% Specificity: 32.35% AUC-ROC: 70.4931%\n",
            "Epoch [37/1000] Test Loss: 0.72 Test Accuracy: 33.01% Sensitivity: 100.00% Specificity: 32.35% AUC-ROC: 70.7298%\n",
            "Epoch [38/1000] Test Loss: 0.72 Test Accuracy: 32.62% Sensitivity: 100.00% Specificity: 31.95% AUC-ROC: 70.6903%\n",
            "Epoch [39/1000] Test Loss: 0.72 Test Accuracy: 33.01% Sensitivity: 100.00% Specificity: 32.35% AUC-ROC: 70.8284%\n",
            "Epoch [40/1000] Test Loss: 0.72 Test Accuracy: 33.20% Sensitivity: 100.00% Specificity: 32.54% AUC-ROC: 70.8679%\n",
            "Epoch [41/1000] Test Loss: 0.72 Test Accuracy: 33.40% Sensitivity: 100.00% Specificity: 32.74% AUC-ROC: 71.2623%\n",
            "Epoch [42/1000] Test Loss: 0.72 Test Accuracy: 33.79% Sensitivity: 100.00% Specificity: 33.14% AUC-ROC: 71.4201%\n",
            "Epoch [43/1000] Test Loss: 0.72 Test Accuracy: 33.98% Sensitivity: 100.00% Specificity: 33.33% AUC-ROC: 71.4004%\n",
            "Epoch [44/1000] Test Loss: 0.72 Test Accuracy: 37.70% Sensitivity: 100.00% Specificity: 37.08% AUC-ROC: 71.5385%\n",
            "Epoch [45/1000] Test Loss: 0.72 Test Accuracy: 37.89% Sensitivity: 100.00% Specificity: 37.28% AUC-ROC: 71.4596%\n",
            "Epoch [46/1000] Test Loss: 0.72 Test Accuracy: 38.09% Sensitivity: 80.00% Specificity: 37.67% AUC-ROC: 61.2623%\n",
            "Epoch [47/1000] Test Loss: 0.72 Test Accuracy: 38.09% Sensitivity: 80.00% Specificity: 37.67% AUC-ROC: 61.7357%\n",
            "Epoch [48/1000] Test Loss: 0.71 Test Accuracy: 38.67% Sensitivity: 80.00% Specificity: 38.26% AUC-ROC: 62.0710%\n",
            "Epoch [49/1000] Test Loss: 0.71 Test Accuracy: 39.06% Sensitivity: 80.00% Specificity: 38.66% AUC-ROC: 62.8994%\n",
            "Epoch [50/1000] Test Loss: 0.71 Test Accuracy: 39.45% Sensitivity: 80.00% Specificity: 39.05% AUC-ROC: 62.4260%\n",
            "Epoch [51/1000] Test Loss: 0.71 Test Accuracy: 39.45% Sensitivity: 80.00% Specificity: 39.05% AUC-ROC: 62.1893%\n",
            "Epoch [52/1000] Test Loss: 0.71 Test Accuracy: 40.23% Sensitivity: 80.00% Specificity: 39.84% AUC-ROC: 62.4063%\n",
            "Epoch [53/1000] Test Loss: 0.71 Test Accuracy: 40.62% Sensitivity: 80.00% Specificity: 40.24% AUC-ROC: 62.6430%\n",
            "Epoch [54/1000] Test Loss: 0.71 Test Accuracy: 41.02% Sensitivity: 80.00% Specificity: 40.63% AUC-ROC: 62.8402%\n",
            "Epoch [55/1000] Test Loss: 0.71 Test Accuracy: 41.80% Sensitivity: 80.00% Specificity: 41.42% AUC-ROC: 62.8600%\n",
            "Epoch [56/1000] Test Loss: 0.71 Test Accuracy: 42.58% Sensitivity: 80.00% Specificity: 42.21% AUC-ROC: 63.0769%\n",
            "Epoch [57/1000] Test Loss: 0.71 Test Accuracy: 42.97% Sensitivity: 80.00% Specificity: 42.60% AUC-ROC: 63.1361%\n",
            "Epoch [58/1000] Test Loss: 0.71 Test Accuracy: 43.36% Sensitivity: 80.00% Specificity: 43.00% AUC-ROC: 63.4517%\n",
            "Epoch [59/1000] Test Loss: 0.71 Test Accuracy: 43.75% Sensitivity: 80.00% Specificity: 43.39% AUC-ROC: 63.6292%\n",
            "Epoch [60/1000] Test Loss: 0.71 Test Accuracy: 46.29% Sensitivity: 80.00% Specificity: 45.96% AUC-ROC: 63.9645%\n",
            "Epoch [61/1000] Test Loss: 0.71 Test Accuracy: 46.68% Sensitivity: 80.00% Specificity: 46.35% AUC-ROC: 64.0039%\n",
            "Epoch [62/1000] Test Loss: 0.70 Test Accuracy: 47.27% Sensitivity: 80.00% Specificity: 46.94% AUC-ROC: 64.2406%\n",
            "Epoch [63/1000] Test Loss: 0.70 Test Accuracy: 47.85% Sensitivity: 80.00% Specificity: 47.53% AUC-ROC: 64.1617%\n",
            "Epoch [64/1000] Test Loss: 0.70 Test Accuracy: 48.24% Sensitivity: 80.00% Specificity: 47.93% AUC-ROC: 64.5759%\n",
            "Epoch [65/1000] Test Loss: 0.70 Test Accuracy: 48.63% Sensitivity: 80.00% Specificity: 48.32% AUC-ROC: 64.7732%\n",
            "Epoch [66/1000] Test Loss: 0.70 Test Accuracy: 48.83% Sensitivity: 80.00% Specificity: 48.52% AUC-ROC: 64.8915%\n",
            "Epoch [67/1000] Test Loss: 0.70 Test Accuracy: 49.22% Sensitivity: 80.00% Specificity: 48.92% AUC-ROC: 65.1085%\n",
            "Epoch [68/1000] Test Loss: 0.70 Test Accuracy: 50.00% Sensitivity: 80.00% Specificity: 49.70% AUC-ROC: 64.3787%\n",
            "Epoch [69/1000] Test Loss: 0.70 Test Accuracy: 50.39% Sensitivity: 80.00% Specificity: 50.10% AUC-ROC: 64.6154%\n",
            "Epoch [70/1000] Test Loss: 0.70 Test Accuracy: 52.54% Sensitivity: 60.00% Specificity: 52.47% AUC-ROC: 56.9822%\n",
            "Epoch [71/1000] Test Loss: 0.69 Test Accuracy: 53.71% Sensitivity: 60.00% Specificity: 53.65% AUC-ROC: 57.8107%\n",
            "Epoch [72/1000] Test Loss: 0.69 Test Accuracy: 54.30% Sensitivity: 60.00% Specificity: 54.24% AUC-ROC: 58.1065%\n",
            "Epoch [73/1000] Test Loss: 0.69 Test Accuracy: 54.88% Sensitivity: 60.00% Specificity: 54.83% AUC-ROC: 58.6193%\n",
            "Epoch [74/1000] Test Loss: 0.69 Test Accuracy: 55.08% Sensitivity: 60.00% Specificity: 55.03% AUC-ROC: 58.2249%\n",
            "Epoch [75/1000] Test Loss: 0.69 Test Accuracy: 55.08% Sensitivity: 60.00% Specificity: 55.03% AUC-ROC: 58.1657%\n",
            "Epoch [76/1000] Test Loss: 0.69 Test Accuracy: 55.47% Sensitivity: 60.00% Specificity: 55.42% AUC-ROC: 61.5385%\n",
            "Epoch [77/1000] Test Loss: 0.69 Test Accuracy: 55.08% Sensitivity: 40.00% Specificity: 55.23% AUC-ROC: 52.3077%\n",
            "Epoch [78/1000] Test Loss: 0.69 Test Accuracy: 55.66% Sensitivity: 60.00% Specificity: 55.62% AUC-ROC: 61.7949%\n",
            "Epoch [79/1000] Test Loss: 0.69 Test Accuracy: 55.66% Sensitivity: 60.00% Specificity: 55.62% AUC-ROC: 61.8146%\n",
            "Epoch [80/1000] Test Loss: 0.69 Test Accuracy: 55.86% Sensitivity: 60.00% Specificity: 55.82% AUC-ROC: 61.5779%\n",
            "Epoch [81/1000] Test Loss: 0.69 Test Accuracy: 56.45% Sensitivity: 80.00% Specificity: 56.21% AUC-ROC: 74.4970%\n",
            "Epoch [82/1000] Test Loss: 0.68 Test Accuracy: 56.64% Sensitivity: 80.00% Specificity: 56.41% AUC-ROC: 74.6154%\n",
            "Epoch [83/1000] Test Loss: 0.68 Test Accuracy: 56.84% Sensitivity: 60.00% Specificity: 56.80% AUC-ROC: 65.6016%\n",
            "Epoch [84/1000] Test Loss: 0.68 Test Accuracy: 57.42% Sensitivity: 60.00% Specificity: 57.40% AUC-ROC: 66.2525%\n",
            "Epoch [85/1000] Test Loss: 0.68 Test Accuracy: 58.59% Sensitivity: 60.00% Specificity: 58.58% AUC-ROC: 66.7061%\n",
            "Epoch [86/1000] Test Loss: 0.68 Test Accuracy: 58.79% Sensitivity: 60.00% Specificity: 58.78% AUC-ROC: 66.7061%\n",
            "Epoch [87/1000] Test Loss: 0.68 Test Accuracy: 59.38% Sensitivity: 60.00% Specificity: 59.37% AUC-ROC: 67.1203%\n",
            "Epoch [88/1000] Test Loss: 0.68 Test Accuracy: 59.38% Sensitivity: 60.00% Specificity: 59.37% AUC-ROC: 67.0809%\n",
            "Epoch [89/1000] Test Loss: 0.68 Test Accuracy: 59.77% Sensitivity: 60.00% Specificity: 59.76% AUC-ROC: 67.0809%\n",
            "Epoch [90/1000] Test Loss: 0.68 Test Accuracy: 59.96% Sensitivity: 60.00% Specificity: 59.96% AUC-ROC: 67.1400%\n",
            "Epoch [91/1000] Test Loss: 0.67 Test Accuracy: 60.16% Sensitivity: 60.00% Specificity: 60.16% AUC-ROC: 67.2978%\n",
            "Epoch [92/1000] Test Loss: 0.67 Test Accuracy: 60.55% Sensitivity: 60.00% Specificity: 60.55% AUC-ROC: 67.5740%\n",
            "Epoch [93/1000] Test Loss: 0.67 Test Accuracy: 60.74% Sensitivity: 60.00% Specificity: 60.75% AUC-ROC: 67.7120%\n",
            "Epoch [94/1000] Test Loss: 0.67 Test Accuracy: 61.13% Sensitivity: 60.00% Specificity: 61.14% AUC-ROC: 67.7515%\n",
            "Epoch [95/1000] Test Loss: 0.67 Test Accuracy: 61.33% Sensitivity: 60.00% Specificity: 61.34% AUC-ROC: 68.0276%\n",
            "Epoch [96/1000] Test Loss: 0.67 Test Accuracy: 61.33% Sensitivity: 60.00% Specificity: 61.34% AUC-ROC: 68.1854%\n",
            "Epoch [97/1000] Test Loss: 0.67 Test Accuracy: 61.72% Sensitivity: 60.00% Specificity: 61.74% AUC-ROC: 68.2840%\n",
            "Epoch [98/1000] Test Loss: 0.67 Test Accuracy: 61.91% Sensitivity: 60.00% Specificity: 61.93% AUC-ROC: 68.3826%\n",
            "Epoch [99/1000] Test Loss: 0.67 Test Accuracy: 61.91% Sensitivity: 60.00% Specificity: 61.93% AUC-ROC: 68.6391%\n",
            "Epoch [100/1000] Test Loss: 0.67 Test Accuracy: 62.11% Sensitivity: 60.00% Specificity: 62.13% AUC-ROC: 68.8166%\n",
            "Epoch [101/1000] Test Loss: 0.67 Test Accuracy: 62.11% Sensitivity: 60.00% Specificity: 62.13% AUC-ROC: 68.1657%\n",
            "Epoch [102/1000] Test Loss: 0.66 Test Accuracy: 62.50% Sensitivity: 60.00% Specificity: 62.52% AUC-ROC: 68.5207%\n",
            "Epoch [103/1000] Test Loss: 0.66 Test Accuracy: 62.70% Sensitivity: 60.00% Specificity: 62.72% AUC-ROC: 68.0473%\n",
            "Epoch [104/1000] Test Loss: 0.66 Test Accuracy: 62.89% Sensitivity: 60.00% Specificity: 62.92% AUC-ROC: 68.1854%\n",
            "Epoch [105/1000] Test Loss: 0.66 Test Accuracy: 63.67% Sensitivity: 60.00% Specificity: 63.71% AUC-ROC: 67.4951%\n",
            "Epoch [106/1000] Test Loss: 0.66 Test Accuracy: 64.06% Sensitivity: 60.00% Specificity: 64.10% AUC-ROC: 67.7909%\n",
            "Epoch [107/1000] Test Loss: 0.66 Test Accuracy: 64.84% Sensitivity: 60.00% Specificity: 64.89% AUC-ROC: 68.4615%\n",
            "Epoch [108/1000] Test Loss: 0.65 Test Accuracy: 65.23% Sensitivity: 60.00% Specificity: 65.29% AUC-ROC: 68.5404%\n",
            "Epoch [109/1000] Test Loss: 0.65 Test Accuracy: 65.43% Sensitivity: 60.00% Specificity: 65.48% AUC-ROC: 68.6785%\n",
            "Epoch [110/1000] Test Loss: 0.65 Test Accuracy: 65.82% Sensitivity: 60.00% Specificity: 65.88% AUC-ROC: 68.9941%\n",
            "Epoch [111/1000] Test Loss: 0.65 Test Accuracy: 66.21% Sensitivity: 60.00% Specificity: 66.27% AUC-ROC: 69.3097%\n",
            "Epoch [112/1000] Test Loss: 0.65 Test Accuracy: 65.82% Sensitivity: 60.00% Specificity: 65.88% AUC-ROC: 69.2702%\n",
            "Epoch [113/1000] Test Loss: 0.65 Test Accuracy: 66.21% Sensitivity: 60.00% Specificity: 66.27% AUC-ROC: 69.7830%\n",
            "Epoch [114/1000] Test Loss: 0.65 Test Accuracy: 66.21% Sensitivity: 60.00% Specificity: 66.27% AUC-ROC: 69.8028%\n",
            "Epoch [115/1000] Test Loss: 0.65 Test Accuracy: 66.41% Sensitivity: 60.00% Specificity: 66.47% AUC-ROC: 69.8028%\n",
            "Epoch [116/1000] Test Loss: 0.65 Test Accuracy: 66.41% Sensitivity: 60.00% Specificity: 66.47% AUC-ROC: 69.7830%\n",
            "Epoch [117/1000] Test Loss: 0.65 Test Accuracy: 66.41% Sensitivity: 60.00% Specificity: 66.47% AUC-ROC: 69.8422%\n",
            "Epoch [118/1000] Test Loss: 0.64 Test Accuracy: 67.38% Sensitivity: 60.00% Specificity: 67.46% AUC-ROC: 69.3491%\n",
            "Epoch [119/1000] Test Loss: 0.64 Test Accuracy: 68.55% Sensitivity: 60.00% Specificity: 68.64% AUC-ROC: 69.8225%\n",
            "Epoch [120/1000] Test Loss: 0.64 Test Accuracy: 68.95% Sensitivity: 60.00% Specificity: 69.03% AUC-ROC: 70.0789%\n",
            "Epoch [121/1000] Test Loss: 0.64 Test Accuracy: 69.14% Sensitivity: 60.00% Specificity: 69.23% AUC-ROC: 70.2367%\n",
            "Epoch [122/1000] Test Loss: 0.64 Test Accuracy: 69.73% Sensitivity: 60.00% Specificity: 69.82% AUC-ROC: 70.3945%\n",
            "Epoch [123/1000] Test Loss: 0.63 Test Accuracy: 70.31% Sensitivity: 60.00% Specificity: 70.41% AUC-ROC: 70.3945%\n",
            "Epoch [124/1000] Test Loss: 0.63 Test Accuracy: 70.90% Sensitivity: 60.00% Specificity: 71.01% AUC-ROC: 70.8679%\n",
            "Epoch [125/1000] Test Loss: 0.63 Test Accuracy: 71.29% Sensitivity: 60.00% Specificity: 71.40% AUC-ROC: 70.8876%\n",
            "Epoch [126/1000] Test Loss: 0.63 Test Accuracy: 71.48% Sensitivity: 60.00% Specificity: 71.60% AUC-ROC: 71.0651%\n",
            "Epoch [127/1000] Test Loss: 0.63 Test Accuracy: 71.88% Sensitivity: 60.00% Specificity: 71.99% AUC-ROC: 71.3412%\n",
            "Epoch [128/1000] Test Loss: 0.63 Test Accuracy: 72.07% Sensitivity: 60.00% Specificity: 72.19% AUC-ROC: 71.3807%\n",
            "Epoch [129/1000] Test Loss: 0.62 Test Accuracy: 72.07% Sensitivity: 60.00% Specificity: 72.19% AUC-ROC: 71.3807%\n",
            "Epoch [130/1000] Test Loss: 0.62 Test Accuracy: 72.46% Sensitivity: 60.00% Specificity: 72.58% AUC-ROC: 71.6963%\n",
            "Epoch [131/1000] Test Loss: 0.62 Test Accuracy: 72.66% Sensitivity: 60.00% Specificity: 72.78% AUC-ROC: 71.6963%\n",
            "Epoch [132/1000] Test Loss: 0.62 Test Accuracy: 72.66% Sensitivity: 60.00% Specificity: 72.78% AUC-ROC: 71.7751%\n",
            "Epoch [133/1000] Test Loss: 0.62 Test Accuracy: 72.85% Sensitivity: 60.00% Specificity: 72.98% AUC-ROC: 71.8540%\n",
            "Epoch [134/1000] Test Loss: 0.62 Test Accuracy: 72.85% Sensitivity: 60.00% Specificity: 72.98% AUC-ROC: 71.8935%\n",
            "Epoch [135/1000] Test Loss: 0.62 Test Accuracy: 73.24% Sensitivity: 60.00% Specificity: 73.37% AUC-ROC: 71.9329%\n",
            "Epoch [136/1000] Test Loss: 0.62 Test Accuracy: 73.05% Sensitivity: 40.00% Specificity: 73.37% AUC-ROC: 62.8600%\n",
            "Epoch [137/1000] Test Loss: 0.61 Test Accuracy: 73.63% Sensitivity: 40.00% Specificity: 73.96% AUC-ROC: 63.2544%\n",
            "Epoch [138/1000] Test Loss: 0.61 Test Accuracy: 74.02% Sensitivity: 40.00% Specificity: 74.36% AUC-ROC: 63.6095%\n",
            "Epoch [139/1000] Test Loss: 0.61 Test Accuracy: 73.83% Sensitivity: 40.00% Specificity: 74.16% AUC-ROC: 63.8856%\n",
            "Epoch [140/1000] Test Loss: 0.61 Test Accuracy: 74.22% Sensitivity: 40.00% Specificity: 74.56% AUC-ROC: 63.8856%\n",
            "Epoch [141/1000] Test Loss: 0.61 Test Accuracy: 74.02% Sensitivity: 40.00% Specificity: 74.36% AUC-ROC: 64.0039%\n",
            "Epoch [142/1000] Test Loss: 0.61 Test Accuracy: 74.22% Sensitivity: 40.00% Specificity: 74.56% AUC-ROC: 64.2012%\n",
            "Epoch [143/1000] Test Loss: 0.61 Test Accuracy: 74.41% Sensitivity: 40.00% Specificity: 74.75% AUC-ROC: 64.2406%\n",
            "Epoch [144/1000] Test Loss: 0.60 Test Accuracy: 74.61% Sensitivity: 40.00% Specificity: 74.95% AUC-ROC: 64.8718%\n",
            "Epoch [145/1000] Test Loss: 0.60 Test Accuracy: 75.98% Sensitivity: 40.00% Specificity: 76.33% AUC-ROC: 65.1085%\n",
            "Epoch [146/1000] Test Loss: 0.60 Test Accuracy: 76.37% Sensitivity: 40.00% Specificity: 76.73% AUC-ROC: 65.7396%\n",
            "Epoch [147/1000] Test Loss: 0.60 Test Accuracy: 76.76% Sensitivity: 40.00% Specificity: 77.12% AUC-ROC: 66.0552%\n",
            "Epoch [148/1000] Test Loss: 0.60 Test Accuracy: 76.95% Sensitivity: 40.00% Specificity: 77.32% AUC-ROC: 66.0947%\n",
            "Epoch [149/1000] Test Loss: 0.59 Test Accuracy: 77.93% Sensitivity: 40.00% Specificity: 78.30% AUC-ROC: 67.0217%\n",
            "Epoch [150/1000] Test Loss: 0.59 Test Accuracy: 76.95% Sensitivity: 40.00% Specificity: 77.32% AUC-ROC: 62.7416%\n",
            "Epoch [151/1000] Test Loss: 0.59 Test Accuracy: 77.34% Sensitivity: 40.00% Specificity: 77.71% AUC-ROC: 62.7416%\n",
            "Epoch [152/1000] Test Loss: 0.59 Test Accuracy: 77.73% Sensitivity: 40.00% Specificity: 78.11% AUC-ROC: 62.8008%\n",
            "Epoch [153/1000] Test Loss: 0.58 Test Accuracy: 78.12% Sensitivity: 40.00% Specificity: 78.50% AUC-ROC: 63.4714%\n",
            "Epoch [154/1000] Test Loss: 0.58 Test Accuracy: 79.10% Sensitivity: 40.00% Specificity: 79.49% AUC-ROC: 64.0237%\n",
            "Epoch [155/1000] Test Loss: 0.58 Test Accuracy: 78.91% Sensitivity: 40.00% Specificity: 79.29% AUC-ROC: 63.9053%\n",
            "Epoch [156/1000] Test Loss: 0.58 Test Accuracy: 79.10% Sensitivity: 40.00% Specificity: 79.49% AUC-ROC: 63.8264%\n",
            "Epoch [157/1000] Test Loss: 0.58 Test Accuracy: 79.30% Sensitivity: 40.00% Specificity: 79.68% AUC-ROC: 64.4379%\n",
            "Epoch [158/1000] Test Loss: 0.58 Test Accuracy: 79.49% Sensitivity: 40.00% Specificity: 79.88% AUC-ROC: 64.7535%\n",
            "Epoch [159/1000] Test Loss: 0.57 Test Accuracy: 79.69% Sensitivity: 40.00% Specificity: 80.08% AUC-ROC: 64.7535%\n",
            "Epoch [160/1000] Test Loss: 0.57 Test Accuracy: 79.69% Sensitivity: 40.00% Specificity: 80.08% AUC-ROC: 64.9112%\n",
            "Epoch [161/1000] Test Loss: 0.57 Test Accuracy: 79.88% Sensitivity: 40.00% Specificity: 80.28% AUC-ROC: 65.0690%\n",
            "Epoch [162/1000] Test Loss: 0.57 Test Accuracy: 80.08% Sensitivity: 40.00% Specificity: 80.47% AUC-ROC: 65.3057%\n",
            "Epoch [163/1000] Test Loss: 0.57 Test Accuracy: 80.08% Sensitivity: 40.00% Specificity: 80.47% AUC-ROC: 65.3846%\n",
            "Epoch [164/1000] Test Loss: 0.57 Test Accuracy: 79.88% Sensitivity: 40.00% Specificity: 80.28% AUC-ROC: 65.4635%\n",
            "Epoch [165/1000] Test Loss: 0.57 Test Accuracy: 79.88% Sensitivity: 40.00% Specificity: 80.28% AUC-ROC: 65.5424%\n",
            "Epoch [166/1000] Test Loss: 0.57 Test Accuracy: 79.88% Sensitivity: 20.00% Specificity: 80.47% AUC-ROC: 61.9132%\n",
            "Epoch [167/1000] Test Loss: 0.57 Test Accuracy: 79.88% Sensitivity: 20.00% Specificity: 80.47% AUC-ROC: 62.1105%\n",
            "Epoch [168/1000] Test Loss: 0.57 Test Accuracy: 80.08% Sensitivity: 20.00% Specificity: 80.67% AUC-ROC: 62.1893%\n",
            "Epoch [169/1000] Test Loss: 0.57 Test Accuracy: 80.08% Sensitivity: 20.00% Specificity: 80.67% AUC-ROC: 62.5838%\n",
            "Epoch [170/1000] Test Loss: 0.57 Test Accuracy: 80.47% Sensitivity: 20.00% Specificity: 81.07% AUC-ROC: 62.7416%\n",
            "Epoch [171/1000] Test Loss: 0.56 Test Accuracy: 80.47% Sensitivity: 20.00% Specificity: 81.07% AUC-ROC: 62.8994%\n",
            "Epoch [172/1000] Test Loss: 0.56 Test Accuracy: 80.47% Sensitivity: 20.00% Specificity: 81.07% AUC-ROC: 63.2742%\n",
            "Epoch [173/1000] Test Loss: 0.56 Test Accuracy: 80.66% Sensitivity: 20.00% Specificity: 81.26% AUC-ROC: 63.8264%\n",
            "Epoch [174/1000] Test Loss: 0.56 Test Accuracy: 80.66% Sensitivity: 20.00% Specificity: 81.26% AUC-ROC: 63.6489%\n",
            "Epoch [175/1000] Test Loss: 0.56 Test Accuracy: 80.08% Sensitivity: 20.00% Specificity: 80.67% AUC-ROC: 63.3136%\n",
            "Epoch [176/1000] Test Loss: 0.56 Test Accuracy: 80.66% Sensitivity: 40.00% Specificity: 81.07% AUC-ROC: 67.4162%\n",
            "Epoch [177/1000] Test Loss: 0.56 Test Accuracy: 80.66% Sensitivity: 40.00% Specificity: 81.07% AUC-ROC: 67.3373%\n",
            "Epoch [178/1000] Test Loss: 0.56 Test Accuracy: 80.66% Sensitivity: 20.00% Specificity: 81.26% AUC-ROC: 64.1223%\n",
            "Epoch [179/1000] Test Loss: 0.56 Test Accuracy: 80.66% Sensitivity: 20.00% Specificity: 81.26% AUC-ROC: 64.3590%\n",
            "Epoch [180/1000] Test Loss: 0.56 Test Accuracy: 80.86% Sensitivity: 20.00% Specificity: 81.46% AUC-ROC: 64.9310%\n",
            "Epoch [181/1000] Test Loss: 0.55 Test Accuracy: 81.05% Sensitivity: 20.00% Specificity: 81.66% AUC-ROC: 65.1282%\n",
            "Epoch [182/1000] Test Loss: 0.55 Test Accuracy: 81.05% Sensitivity: 20.00% Specificity: 81.66% AUC-ROC: 65.1085%\n",
            "Epoch [183/1000] Test Loss: 0.55 Test Accuracy: 81.45% Sensitivity: 20.00% Specificity: 82.05% AUC-ROC: 65.4635%\n",
            "Epoch [184/1000] Test Loss: 0.55 Test Accuracy: 81.84% Sensitivity: 20.00% Specificity: 82.45% AUC-ROC: 65.7396%\n",
            "Epoch [185/1000] Test Loss: 0.55 Test Accuracy: 81.84% Sensitivity: 20.00% Specificity: 82.45% AUC-ROC: 65.4635%\n",
            "Epoch [186/1000] Test Loss: 0.55 Test Accuracy: 81.84% Sensitivity: 20.00% Specificity: 82.45% AUC-ROC: 65.3254%\n",
            "Epoch [187/1000] Test Loss: 0.55 Test Accuracy: 82.03% Sensitivity: 0.00% Specificity: 82.84% AUC-ROC: 58.8955%\n",
            "Epoch [188/1000] Test Loss: 0.55 Test Accuracy: 82.03% Sensitivity: 0.00% Specificity: 82.84% AUC-ROC: 59.4083%\n",
            "Epoch [189/1000] Test Loss: 0.54 Test Accuracy: 82.23% Sensitivity: 0.00% Specificity: 83.04% AUC-ROC: 60.2367%\n",
            "Epoch [190/1000] Test Loss: 0.54 Test Accuracy: 82.42% Sensitivity: 0.00% Specificity: 83.23% AUC-ROC: 60.9862%\n",
            "Epoch [191/1000] Test Loss: 0.54 Test Accuracy: 82.42% Sensitivity: 0.00% Specificity: 83.23% AUC-ROC: 60.7495%\n",
            "Epoch [192/1000] Test Loss: 0.54 Test Accuracy: 82.62% Sensitivity: 0.00% Specificity: 83.43% AUC-ROC: 60.9467%\n",
            "Epoch [193/1000] Test Loss: 0.54 Test Accuracy: 82.62% Sensitivity: 0.00% Specificity: 83.43% AUC-ROC: 60.9467%\n",
            "Epoch [194/1000] Test Loss: 0.54 Test Accuracy: 82.81% Sensitivity: 0.00% Specificity: 83.63% AUC-ROC: 61.0454%\n",
            "Epoch [195/1000] Test Loss: 0.54 Test Accuracy: 83.20% Sensitivity: 0.00% Specificity: 84.02% AUC-ROC: 61.4596%\n",
            "Epoch [196/1000] Test Loss: 0.53 Test Accuracy: 83.20% Sensitivity: 0.00% Specificity: 84.02% AUC-ROC: 61.5385%\n",
            "Epoch [197/1000] Test Loss: 0.53 Test Accuracy: 83.20% Sensitivity: 0.00% Specificity: 84.02% AUC-ROC: 60.0394%\n",
            "Epoch [198/1000] Test Loss: 0.53 Test Accuracy: 83.40% Sensitivity: 0.00% Specificity: 84.22% AUC-ROC: 60.0789%\n",
            "Epoch [199/1000] Test Loss: 0.53 Test Accuracy: 83.40% Sensitivity: 0.00% Specificity: 84.22% AUC-ROC: 60.0000%\n",
            "Epoch [200/1000] Test Loss: 0.53 Test Accuracy: 83.40% Sensitivity: 0.00% Specificity: 84.22% AUC-ROC: 60.0000%\n",
            "Epoch [201/1000] Test Loss: 0.53 Test Accuracy: 83.59% Sensitivity: 0.00% Specificity: 84.42% AUC-ROC: 59.7239%\n",
            "Epoch [202/1000] Test Loss: 0.53 Test Accuracy: 83.79% Sensitivity: 0.00% Specificity: 84.62% AUC-ROC: 60.2367%\n",
            "Epoch [203/1000] Test Loss: 0.53 Test Accuracy: 83.98% Sensitivity: 0.00% Specificity: 84.81% AUC-ROC: 60.3748%\n",
            "Epoch [204/1000] Test Loss: 0.53 Test Accuracy: 83.79% Sensitivity: 0.00% Specificity: 84.62% AUC-ROC: 60.8876%\n",
            "Epoch [205/1000] Test Loss: 0.53 Test Accuracy: 84.18% Sensitivity: 0.00% Specificity: 85.01% AUC-ROC: 48.1657%\n",
            "Epoch [206/1000] Test Loss: 0.53 Test Accuracy: 83.79% Sensitivity: 0.00% Specificity: 84.62% AUC-ROC: 48.1657%\n",
            "Epoch [207/1000] Test Loss: 0.53 Test Accuracy: 83.59% Sensitivity: 0.00% Specificity: 84.42% AUC-ROC: 48.4024%\n",
            "Epoch [208/1000] Test Loss: 0.53 Test Accuracy: 83.79% Sensitivity: 0.00% Specificity: 84.62% AUC-ROC: 48.6982%\n",
            "Epoch [209/1000] Test Loss: 0.52 Test Accuracy: 84.18% Sensitivity: 0.00% Specificity: 85.01% AUC-ROC: 55.1085%\n",
            "Epoch [210/1000] Test Loss: 0.52 Test Accuracy: 84.57% Sensitivity: 0.00% Specificity: 85.40% AUC-ROC: 55.3254%\n",
            "Epoch [211/1000] Test Loss: 0.52 Test Accuracy: 84.96% Sensitivity: 0.00% Specificity: 85.80% AUC-ROC: 55.2860%\n",
            "Epoch [212/1000] Test Loss: 0.52 Test Accuracy: 84.96% Sensitivity: 0.00% Specificity: 85.80% AUC-ROC: 55.5227%\n",
            "Epoch [213/1000] Test Loss: 0.52 Test Accuracy: 85.16% Sensitivity: 0.00% Specificity: 86.00% AUC-ROC: 55.9566%\n",
            "Epoch [214/1000] Test Loss: 0.51 Test Accuracy: 85.16% Sensitivity: 0.00% Specificity: 86.00% AUC-ROC: 56.1736%\n",
            "Epoch [215/1000] Test Loss: 0.51 Test Accuracy: 84.18% Sensitivity: 0.00% Specificity: 85.01% AUC-ROC: 56.6075%\n",
            "Epoch [216/1000] Test Loss: 0.51 Test Accuracy: 84.38% Sensitivity: 0.00% Specificity: 85.21% AUC-ROC: 57.0020%\n",
            "Epoch [217/1000] Test Loss: 0.51 Test Accuracy: 84.57% Sensitivity: 0.00% Specificity: 85.40% AUC-ROC: 57.0809%\n",
            "Epoch [218/1000] Test Loss: 0.51 Test Accuracy: 84.57% Sensitivity: 0.00% Specificity: 85.40% AUC-ROC: 56.7456%\n",
            "Epoch [219/1000] Test Loss: 0.51 Test Accuracy: 84.57% Sensitivity: 0.00% Specificity: 85.40% AUC-ROC: 56.7061%\n",
            "Epoch [220/1000] Test Loss: 0.51 Test Accuracy: 84.57% Sensitivity: 0.00% Specificity: 85.40% AUC-ROC: 57.1006%\n",
            "Epoch [221/1000] Test Loss: 0.51 Test Accuracy: 84.57% Sensitivity: 0.00% Specificity: 85.40% AUC-ROC: 57.1992%\n",
            "Epoch [222/1000] Test Loss: 0.51 Test Accuracy: 84.57% Sensitivity: 0.00% Specificity: 85.40% AUC-ROC: 57.1992%\n",
            "Epoch [223/1000] Test Loss: 0.50 Test Accuracy: 84.77% Sensitivity: 0.00% Specificity: 85.60% AUC-ROC: 57.7909%\n",
            "Epoch [224/1000] Test Loss: 0.50 Test Accuracy: 84.77% Sensitivity: 0.00% Specificity: 85.60% AUC-ROC: 57.9093%\n",
            "Epoch [225/1000] Test Loss: 0.50 Test Accuracy: 84.96% Sensitivity: 0.00% Specificity: 85.80% AUC-ROC: 58.5799%\n",
            "Epoch [226/1000] Test Loss: 0.50 Test Accuracy: 84.96% Sensitivity: 0.00% Specificity: 85.80% AUC-ROC: 58.5799%\n",
            "Epoch [227/1000] Test Loss: 0.50 Test Accuracy: 84.96% Sensitivity: 0.00% Specificity: 85.80% AUC-ROC: 58.5010%\n",
            "Epoch [228/1000] Test Loss: 0.50 Test Accuracy: 85.16% Sensitivity: 0.00% Specificity: 86.00% AUC-ROC: 58.9744%\n",
            "Epoch [229/1000] Test Loss: 0.50 Test Accuracy: 84.96% Sensitivity: 0.00% Specificity: 85.80% AUC-ROC: 58.8757%\n",
            "Epoch [230/1000] Test Loss: 0.50 Test Accuracy: 84.96% Sensitivity: 0.00% Specificity: 85.80% AUC-ROC: 59.0533%\n",
            "Epoch [231/1000] Test Loss: 0.50 Test Accuracy: 85.16% Sensitivity: 0.00% Specificity: 86.00% AUC-ROC: 59.0533%\n",
            "Epoch [232/1000] Test Loss: 0.50 Test Accuracy: 85.16% Sensitivity: 0.00% Specificity: 86.00% AUC-ROC: 59.1321%\n",
            "Epoch [233/1000] Test Loss: 0.50 Test Accuracy: 85.35% Sensitivity: 0.00% Specificity: 86.19% AUC-ROC: 59.2505%\n",
            "Epoch [234/1000] Test Loss: 0.50 Test Accuracy: 85.16% Sensitivity: 0.00% Specificity: 86.00% AUC-ROC: 59.2505%\n",
            "Epoch [235/1000] Test Loss: 0.49 Test Accuracy: 85.35% Sensitivity: 0.00% Specificity: 86.19% AUC-ROC: 59.5266%\n",
            "Epoch [236/1000] Test Loss: 0.49 Test Accuracy: 85.55% Sensitivity: 0.00% Specificity: 86.39% AUC-ROC: 59.4872%\n",
            "Epoch [237/1000] Test Loss: 0.49 Test Accuracy: 86.13% Sensitivity: 0.00% Specificity: 86.98% AUC-ROC: 59.9408%\n",
            "Epoch [238/1000] Test Loss: 0.49 Test Accuracy: 86.13% Sensitivity: 0.00% Specificity: 86.98% AUC-ROC: 59.7830%\n",
            "Epoch [239/1000] Test Loss: 0.49 Test Accuracy: 86.13% Sensitivity: 0.00% Specificity: 86.98% AUC-ROC: 59.9014%\n",
            "Epoch [240/1000] Test Loss: 0.49 Test Accuracy: 86.13% Sensitivity: 0.00% Specificity: 86.98% AUC-ROC: 60.2170%\n",
            "Epoch [241/1000] Test Loss: 0.49 Test Accuracy: 86.33% Sensitivity: 0.00% Specificity: 87.18% AUC-ROC: 61.2821%\n",
            "Epoch [242/1000] Test Loss: 0.49 Test Accuracy: 86.33% Sensitivity: 0.00% Specificity: 87.18% AUC-ROC: 61.3609%\n",
            "Epoch [243/1000] Test Loss: 0.48 Test Accuracy: 86.33% Sensitivity: 0.00% Specificity: 87.18% AUC-ROC: 61.5187%\n",
            "Epoch [244/1000] Test Loss: 0.48 Test Accuracy: 86.33% Sensitivity: 0.00% Specificity: 87.18% AUC-ROC: 61.7160%\n",
            "Epoch [245/1000] Test Loss: 0.48 Test Accuracy: 85.94% Sensitivity: 0.00% Specificity: 86.79% AUC-ROC: 61.9527%\n",
            "Epoch [246/1000] Test Loss: 0.48 Test Accuracy: 85.94% Sensitivity: 0.00% Specificity: 86.79% AUC-ROC: 62.2288%\n",
            "Epoch [247/1000] Test Loss: 0.48 Test Accuracy: 85.94% Sensitivity: 0.00% Specificity: 86.79% AUC-ROC: 62.3866%\n",
            "Epoch [248/1000] Test Loss: 0.48 Test Accuracy: 85.94% Sensitivity: 0.00% Specificity: 86.79% AUC-ROC: 62.3866%\n",
            "Epoch [249/1000] Test Loss: 0.48 Test Accuracy: 85.74% Sensitivity: 0.00% Specificity: 86.59% AUC-ROC: 62.1105%\n",
            "Epoch [250/1000] Test Loss: 0.48 Test Accuracy: 85.74% Sensitivity: 0.00% Specificity: 86.59% AUC-ROC: 62.3471%\n",
            "Epoch [251/1000] Test Loss: 0.48 Test Accuracy: 85.74% Sensitivity: 0.00% Specificity: 86.59% AUC-ROC: 62.3471%\n",
            "Epoch [252/1000] Test Loss: 0.48 Test Accuracy: 85.74% Sensitivity: 0.00% Specificity: 86.59% AUC-ROC: 62.5444%\n",
            "Epoch [253/1000] Test Loss: 0.48 Test Accuracy: 85.74% Sensitivity: 0.00% Specificity: 86.59% AUC-ROC: 62.3471%\n",
            "Epoch [254/1000] Test Loss: 0.48 Test Accuracy: 85.74% Sensitivity: 0.00% Specificity: 86.59% AUC-ROC: 62.5444%\n",
            "Epoch [255/1000] Test Loss: 0.48 Test Accuracy: 85.74% Sensitivity: 0.00% Specificity: 86.59% AUC-ROC: 62.4260%\n",
            "Epoch [256/1000] Test Loss: 0.48 Test Accuracy: 85.74% Sensitivity: 0.00% Specificity: 86.59% AUC-ROC: 62.6233%\n",
            "Epoch [257/1000] Test Loss: 0.48 Test Accuracy: 86.33% Sensitivity: 0.00% Specificity: 87.18% AUC-ROC: 62.6233%\n",
            "Epoch [258/1000] Test Loss: 0.48 Test Accuracy: 86.52% Sensitivity: 0.00% Specificity: 87.38% AUC-ROC: 62.8205%\n",
            "Epoch [259/1000] Test Loss: 0.48 Test Accuracy: 86.52% Sensitivity: 0.00% Specificity: 87.38% AUC-ROC: 62.6233%\n",
            "Epoch [260/1000] Test Loss: 0.48 Test Accuracy: 86.52% Sensitivity: 0.00% Specificity: 87.38% AUC-ROC: 62.7219%\n",
            "Epoch [261/1000] Test Loss: 0.47 Test Accuracy: 86.33% Sensitivity: 0.00% Specificity: 87.18% AUC-ROC: 62.9191%\n",
            "Epoch [262/1000] Test Loss: 0.47 Test Accuracy: 86.33% Sensitivity: 0.00% Specificity: 87.18% AUC-ROC: 62.8402%\n",
            "Epoch [263/1000] Test Loss: 0.47 Test Accuracy: 86.33% Sensitivity: 0.00% Specificity: 87.18% AUC-ROC: 62.9980%\n",
            "Epoch [264/1000] Test Loss: 0.47 Test Accuracy: 86.33% Sensitivity: 0.00% Specificity: 87.18% AUC-ROC: 63.0769%\n",
            "Epoch [265/1000] Test Loss: 0.47 Test Accuracy: 86.33% Sensitivity: 0.00% Specificity: 87.18% AUC-ROC: 63.3531%\n",
            "Epoch [266/1000] Test Loss: 0.47 Test Accuracy: 86.33% Sensitivity: 0.00% Specificity: 87.18% AUC-ROC: 63.2150%\n",
            "Epoch [267/1000] Test Loss: 0.47 Test Accuracy: 86.33% Sensitivity: 0.00% Specificity: 87.18% AUC-ROC: 63.2939%\n",
            "Epoch [268/1000] Test Loss: 0.47 Test Accuracy: 86.33% Sensitivity: 0.00% Specificity: 87.18% AUC-ROC: 67.0611%\n",
            "Epoch [269/1000] Test Loss: 0.47 Test Accuracy: 86.33% Sensitivity: 0.00% Specificity: 87.18% AUC-ROC: 67.4556%\n",
            "Epoch [270/1000] Test Loss: 0.47 Test Accuracy: 86.52% Sensitivity: 0.00% Specificity: 87.38% AUC-ROC: 67.3373%\n",
            "Epoch [271/1000] Test Loss: 0.47 Test Accuracy: 86.52% Sensitivity: 0.00% Specificity: 87.38% AUC-ROC: 63.4911%\n",
            "Epoch [272/1000] Test Loss: 0.47 Test Accuracy: 86.52% Sensitivity: 0.00% Specificity: 87.38% AUC-ROC: 67.4556%\n",
            "Epoch [273/1000] Test Loss: 0.47 Test Accuracy: 86.52% Sensitivity: 0.00% Specificity: 87.38% AUC-ROC: 67.4556%\n",
            "Epoch [274/1000] Test Loss: 0.47 Test Accuracy: 86.52% Sensitivity: 0.00% Specificity: 87.38% AUC-ROC: 67.3964%\n",
            "Epoch [275/1000] Test Loss: 0.47 Test Accuracy: 86.52% Sensitivity: 0.00% Specificity: 87.38% AUC-ROC: 67.6726%\n",
            "Epoch [276/1000] Test Loss: 0.47 Test Accuracy: 86.52% Sensitivity: 0.00% Specificity: 87.38% AUC-ROC: 64.0631%\n",
            "Epoch [277/1000] Test Loss: 0.47 Test Accuracy: 86.52% Sensitivity: 0.00% Specificity: 87.38% AUC-ROC: 64.0631%\n",
            "Epoch [278/1000] Test Loss: 0.47 Test Accuracy: 86.33% Sensitivity: 0.00% Specificity: 87.18% AUC-ROC: 63.9645%\n",
            "Epoch [279/1000] Test Loss: 0.47 Test Accuracy: 86.33% Sensitivity: 0.00% Specificity: 87.18% AUC-ROC: 63.9448%\n",
            "Epoch [280/1000] Test Loss: 0.47 Test Accuracy: 86.33% Sensitivity: 0.00% Specificity: 87.18% AUC-ROC: 64.1420%\n",
            "Epoch [281/1000] Test Loss: 0.47 Test Accuracy: 86.52% Sensitivity: 0.00% Specificity: 87.38% AUC-ROC: 64.2998%\n",
            "Epoch [282/1000] Test Loss: 0.46 Test Accuracy: 86.91% Sensitivity: 0.00% Specificity: 87.77% AUC-ROC: 65.1282%\n",
            "Epoch [283/1000] Test Loss: 0.47 Test Accuracy: 86.72% Sensitivity: 0.00% Specificity: 87.57% AUC-ROC: 64.9310%\n",
            "Epoch [284/1000] Test Loss: 0.47 Test Accuracy: 86.72% Sensitivity: 0.00% Specificity: 87.57% AUC-ROC: 64.7732%\n",
            "Epoch [285/1000] Test Loss: 0.47 Test Accuracy: 86.72% Sensitivity: 0.00% Specificity: 87.57% AUC-ROC: 64.7337%\n",
            "Epoch [286/1000] Test Loss: 0.46 Test Accuracy: 86.72% Sensitivity: 0.00% Specificity: 87.57% AUC-ROC: 64.9704%\n",
            "Epoch [287/1000] Test Loss: 0.46 Test Accuracy: 86.72% Sensitivity: 0.00% Specificity: 87.57% AUC-ROC: 64.8915%\n",
            "Epoch [288/1000] Test Loss: 0.46 Test Accuracy: 87.50% Sensitivity: 0.00% Specificity: 88.36% AUC-ROC: 68.6982%\n",
            "Epoch [289/1000] Test Loss: 0.46 Test Accuracy: 87.30% Sensitivity: 0.00% Specificity: 88.17% AUC-ROC: 68.7377%\n",
            "Epoch [290/1000] Test Loss: 0.46 Test Accuracy: 87.50% Sensitivity: 0.00% Specificity: 88.36% AUC-ROC: 69.1716%\n",
            "Epoch [291/1000] Test Loss: 0.46 Test Accuracy: 87.50% Sensitivity: 0.00% Specificity: 88.36% AUC-ROC: 69.4083%\n",
            "Epoch [292/1000] Test Loss: 0.46 Test Accuracy: 87.50% Sensitivity: 0.00% Specificity: 88.36% AUC-ROC: 69.1716%\n",
            "Epoch [293/1000] Test Loss: 0.46 Test Accuracy: 87.50% Sensitivity: 0.00% Specificity: 88.36% AUC-ROC: 69.5661%\n",
            "Epoch [294/1000] Test Loss: 0.46 Test Accuracy: 87.89% Sensitivity: 0.00% Specificity: 88.76% AUC-ROC: 69.6055%\n",
            "Epoch [295/1000] Test Loss: 0.46 Test Accuracy: 87.70% Sensitivity: 0.00% Specificity: 88.56% AUC-ROC: 69.7239%\n",
            "Epoch [296/1000] Test Loss: 0.46 Test Accuracy: 88.09% Sensitivity: 0.00% Specificity: 88.95% AUC-ROC: 70.5128%\n",
            "Epoch [297/1000] Test Loss: 0.45 Test Accuracy: 88.28% Sensitivity: 0.00% Specificity: 89.15% AUC-ROC: 71.5187%\n",
            "Epoch [298/1000] Test Loss: 0.45 Test Accuracy: 88.28% Sensitivity: 0.00% Specificity: 89.15% AUC-ROC: 71.5582%\n",
            "Epoch [299/1000] Test Loss: 0.45 Test Accuracy: 88.28% Sensitivity: 0.00% Specificity: 89.15% AUC-ROC: 71.4990%\n",
            "Epoch [300/1000] Test Loss: 0.45 Test Accuracy: 88.28% Sensitivity: 0.00% Specificity: 89.15% AUC-ROC: 70.7890%\n",
            "Epoch [301/1000] Test Loss: 0.45 Test Accuracy: 88.28% Sensitivity: 0.00% Specificity: 89.15% AUC-ROC: 70.9467%\n",
            "Epoch [302/1000] Test Loss: 0.45 Test Accuracy: 88.28% Sensitivity: 0.00% Specificity: 89.15% AUC-ROC: 70.9467%\n",
            "Epoch [303/1000] Test Loss: 0.45 Test Accuracy: 88.28% Sensitivity: 0.00% Specificity: 89.15% AUC-ROC: 71.0651%\n",
            "Epoch [304/1000] Test Loss: 0.46 Test Accuracy: 87.89% Sensitivity: 0.00% Specificity: 88.76% AUC-ROC: 70.2564%\n",
            "Epoch [305/1000] Test Loss: 0.46 Test Accuracy: 87.89% Sensitivity: 0.00% Specificity: 88.76% AUC-ROC: 70.1775%\n",
            "Epoch [306/1000] Test Loss: 0.46 Test Accuracy: 87.89% Sensitivity: 0.00% Specificity: 88.76% AUC-ROC: 70.1775%\n",
            "Epoch [307/1000] Test Loss: 0.46 Test Accuracy: 87.89% Sensitivity: 0.00% Specificity: 88.76% AUC-ROC: 70.1775%\n",
            "Epoch [308/1000] Test Loss: 0.46 Test Accuracy: 87.89% Sensitivity: 0.00% Specificity: 88.76% AUC-ROC: 70.1775%\n",
            "Epoch [309/1000] Test Loss: 0.45 Test Accuracy: 88.09% Sensitivity: 0.00% Specificity: 88.95% AUC-ROC: 70.4536%\n",
            "Epoch [310/1000] Test Loss: 0.45 Test Accuracy: 88.28% Sensitivity: 0.00% Specificity: 89.15% AUC-ROC: 70.3748%\n",
            "Epoch [311/1000] Test Loss: 0.45 Test Accuracy: 88.28% Sensitivity: 0.00% Specificity: 89.15% AUC-ROC: 70.5720%\n",
            "Epoch [312/1000] Test Loss: 0.45 Test Accuracy: 88.28% Sensitivity: 0.00% Specificity: 89.15% AUC-ROC: 70.8481%\n",
            "Epoch [313/1000] Test Loss: 0.45 Test Accuracy: 88.67% Sensitivity: 0.00% Specificity: 89.55% AUC-ROC: 71.1045%\n",
            "Epoch [314/1000] Test Loss: 0.45 Test Accuracy: 88.48% Sensitivity: 0.00% Specificity: 89.35% AUC-ROC: 71.0651%\n",
            "Epoch [315/1000] Test Loss: 0.45 Test Accuracy: 88.48% Sensitivity: 0.00% Specificity: 89.35% AUC-ROC: 71.1045%\n",
            "Epoch [316/1000] Test Loss: 0.45 Test Accuracy: 88.48% Sensitivity: 0.00% Specificity: 89.35% AUC-ROC: 71.2623%\n",
            "Epoch [317/1000] Test Loss: 0.45 Test Accuracy: 88.48% Sensitivity: 0.00% Specificity: 89.35% AUC-ROC: 71.2623%\n",
            "Epoch [318/1000] Test Loss: 0.45 Test Accuracy: 88.48% Sensitivity: 0.00% Specificity: 89.35% AUC-ROC: 67.1795%\n",
            "Epoch [319/1000] Test Loss: 0.45 Test Accuracy: 88.48% Sensitivity: 0.00% Specificity: 89.35% AUC-ROC: 67.3570%\n",
            "Epoch [320/1000] Test Loss: 0.45 Test Accuracy: 88.48% Sensitivity: 0.00% Specificity: 89.35% AUC-ROC: 67.5740%\n",
            "Epoch [321/1000] Test Loss: 0.45 Test Accuracy: 88.48% Sensitivity: 0.00% Specificity: 89.35% AUC-ROC: 67.5937%\n",
            "Epoch [322/1000] Test Loss: 0.45 Test Accuracy: 88.67% Sensitivity: 0.00% Specificity: 89.55% AUC-ROC: 67.5937%\n",
            "Epoch [323/1000] Test Loss: 0.45 Test Accuracy: 88.87% Sensitivity: 0.00% Specificity: 89.74% AUC-ROC: 67.6529%\n",
            "Epoch [324/1000] Test Loss: 0.45 Test Accuracy: 88.87% Sensitivity: 0.00% Specificity: 89.74% AUC-ROC: 67.6529%\n",
            "Epoch [325/1000] Test Loss: 0.45 Test Accuracy: 89.26% Sensitivity: 0.00% Specificity: 90.14% AUC-ROC: 67.7120%\n",
            "Epoch [326/1000] Test Loss: 0.45 Test Accuracy: 89.26% Sensitivity: 0.00% Specificity: 90.14% AUC-ROC: 67.6923%\n",
            "Epoch [327/1000] Test Loss: 0.45 Test Accuracy: 89.26% Sensitivity: 0.00% Specificity: 90.14% AUC-ROC: 67.6923%\n",
            "Epoch [328/1000] Test Loss: 0.45 Test Accuracy: 89.26% Sensitivity: 0.00% Specificity: 90.14% AUC-ROC: 68.0868%\n",
            "Epoch [329/1000] Test Loss: 0.44 Test Accuracy: 89.26% Sensitivity: 0.00% Specificity: 90.14% AUC-ROC: 68.0868%\n",
            "Epoch [330/1000] Test Loss: 0.44 Test Accuracy: 89.26% Sensitivity: 0.00% Specificity: 90.14% AUC-ROC: 68.4221%\n",
            "Epoch [331/1000] Test Loss: 0.44 Test Accuracy: 89.26% Sensitivity: 0.00% Specificity: 90.14% AUC-ROC: 68.3432%\n",
            "Epoch [332/1000] Test Loss: 0.44 Test Accuracy: 89.45% Sensitivity: 0.00% Specificity: 90.34% AUC-ROC: 68.5404%\n",
            "Epoch [333/1000] Test Loss: 0.44 Test Accuracy: 89.45% Sensitivity: 0.00% Specificity: 90.34% AUC-ROC: 68.6588%\n",
            "Epoch [334/1000] Test Loss: 0.44 Test Accuracy: 89.45% Sensitivity: 0.00% Specificity: 90.34% AUC-ROC: 68.6588%\n",
            "Epoch [335/1000] Test Loss: 0.44 Test Accuracy: 89.84% Sensitivity: 0.00% Specificity: 90.73% AUC-ROC: 68.8363%\n",
            "Epoch [336/1000] Test Loss: 0.44 Test Accuracy: 89.84% Sensitivity: 0.00% Specificity: 90.73% AUC-ROC: 68.8757%\n",
            "Epoch [337/1000] Test Loss: 0.44 Test Accuracy: 89.84% Sensitivity: 0.00% Specificity: 90.73% AUC-ROC: 68.8757%\n",
            "Epoch [338/1000] Test Loss: 0.44 Test Accuracy: 89.84% Sensitivity: 0.00% Specificity: 90.73% AUC-ROC: 68.9941%\n",
            "Epoch [339/1000] Test Loss: 0.44 Test Accuracy: 89.84% Sensitivity: 0.00% Specificity: 90.73% AUC-ROC: 69.0730%\n",
            "Epoch [340/1000] Test Loss: 0.44 Test Accuracy: 89.84% Sensitivity: 0.00% Specificity: 90.73% AUC-ROC: 69.2702%\n",
            "Epoch [341/1000] Test Loss: 0.44 Test Accuracy: 89.84% Sensitivity: 0.00% Specificity: 90.73% AUC-ROC: 69.2702%\n",
            "Epoch [342/1000] Test Loss: 0.44 Test Accuracy: 89.84% Sensitivity: 0.00% Specificity: 90.73% AUC-ROC: 69.2702%\n",
            "Epoch [343/1000] Test Loss: 0.44 Test Accuracy: 90.04% Sensitivity: 0.00% Specificity: 90.93% AUC-ROC: 69.2702%\n",
            "Epoch [344/1000] Test Loss: 0.44 Test Accuracy: 90.04% Sensitivity: 0.00% Specificity: 90.93% AUC-ROC: 69.5661%\n",
            "Epoch [345/1000] Test Loss: 0.44 Test Accuracy: 90.23% Sensitivity: 0.00% Specificity: 91.12% AUC-ROC: 69.5858%\n",
            "Epoch [346/1000] Test Loss: 0.44 Test Accuracy: 90.23% Sensitivity: 0.00% Specificity: 91.12% AUC-ROC: 69.5464%\n",
            "Epoch [347/1000] Test Loss: 0.44 Test Accuracy: 90.23% Sensitivity: 0.00% Specificity: 91.12% AUC-ROC: 69.5464%\n",
            "Epoch [348/1000] Test Loss: 0.44 Test Accuracy: 90.23% Sensitivity: 0.00% Specificity: 91.12% AUC-ROC: 69.6647%\n",
            "Epoch [349/1000] Test Loss: 0.44 Test Accuracy: 90.23% Sensitivity: 0.00% Specificity: 91.12% AUC-ROC: 69.7436%\n",
            "Epoch [350/1000] Test Loss: 0.43 Test Accuracy: 90.43% Sensitivity: 0.00% Specificity: 91.32% AUC-ROC: 69.7633%\n",
            "Epoch [351/1000] Test Loss: 0.43 Test Accuracy: 90.43% Sensitivity: 0.00% Specificity: 91.32% AUC-ROC: 69.7633%\n",
            "Epoch [352/1000] Test Loss: 0.43 Test Accuracy: 90.43% Sensitivity: 0.00% Specificity: 91.32% AUC-ROC: 69.7633%\n",
            "Epoch [353/1000] Test Loss: 0.43 Test Accuracy: 90.23% Sensitivity: 0.00% Specificity: 91.12% AUC-ROC: 69.8619%\n",
            "Epoch [354/1000] Test Loss: 0.43 Test Accuracy: 90.23% Sensitivity: 0.00% Specificity: 91.12% AUC-ROC: 69.8225%\n",
            "Epoch [355/1000] Test Loss: 0.43 Test Accuracy: 90.23% Sensitivity: 0.00% Specificity: 91.12% AUC-ROC: 70.0789%\n",
            "Epoch [356/1000] Test Loss: 0.43 Test Accuracy: 90.23% Sensitivity: 0.00% Specificity: 91.12% AUC-ROC: 70.0789%\n",
            "Epoch [357/1000] Test Loss: 0.43 Test Accuracy: 90.23% Sensitivity: 0.00% Specificity: 91.12% AUC-ROC: 70.0986%\n",
            "Epoch [358/1000] Test Loss: 0.43 Test Accuracy: 90.23% Sensitivity: 0.00% Specificity: 91.12% AUC-ROC: 70.1775%\n",
            "Epoch [359/1000] Test Loss: 0.43 Test Accuracy: 90.23% Sensitivity: 0.00% Specificity: 91.12% AUC-ROC: 70.2959%\n",
            "Epoch [360/1000] Test Loss: 0.43 Test Accuracy: 90.23% Sensitivity: 0.00% Specificity: 91.12% AUC-ROC: 67.0414%\n",
            "Epoch [361/1000] Test Loss: 0.43 Test Accuracy: 90.23% Sensitivity: 0.00% Specificity: 91.12% AUC-ROC: 67.0414%\n",
            "Epoch [362/1000] Test Loss: 0.43 Test Accuracy: 90.23% Sensitivity: 0.00% Specificity: 91.12% AUC-ROC: 67.0414%\n",
            "Epoch [363/1000] Test Loss: 0.43 Test Accuracy: 90.23% Sensitivity: 0.00% Specificity: 91.12% AUC-ROC: 67.0414%\n",
            "Epoch [364/1000] Test Loss: 0.43 Test Accuracy: 90.23% Sensitivity: 0.00% Specificity: 91.12% AUC-ROC: 66.9428%\n",
            "Epoch [365/1000] Test Loss: 0.43 Test Accuracy: 90.23% Sensitivity: 0.00% Specificity: 91.12% AUC-ROC: 66.9428%\n",
            "Epoch [366/1000] Test Loss: 0.43 Test Accuracy: 90.23% Sensitivity: 0.00% Specificity: 91.12% AUC-ROC: 67.1598%\n",
            "Epoch [367/1000] Test Loss: 0.43 Test Accuracy: 90.23% Sensitivity: 0.00% Specificity: 91.12% AUC-ROC: 67.3176%\n",
            "Epoch [368/1000] Test Loss: 0.43 Test Accuracy: 90.23% Sensitivity: 0.00% Specificity: 91.12% AUC-ROC: 67.2978%\n",
            "Epoch [369/1000] Test Loss: 0.43 Test Accuracy: 90.23% Sensitivity: 0.00% Specificity: 91.12% AUC-ROC: 67.4753%\n",
            "Epoch [370/1000] Test Loss: 0.43 Test Accuracy: 90.23% Sensitivity: 0.00% Specificity: 91.12% AUC-ROC: 67.4951%\n",
            "Epoch [371/1000] Test Loss: 0.43 Test Accuracy: 90.23% Sensitivity: 0.00% Specificity: 91.12% AUC-ROC: 67.4951%\n",
            "Epoch [372/1000] Test Loss: 0.43 Test Accuracy: 90.23% Sensitivity: 0.00% Specificity: 91.12% AUC-ROC: 67.8501%\n",
            "Epoch [373/1000] Test Loss: 0.43 Test Accuracy: 90.23% Sensitivity: 0.00% Specificity: 91.12% AUC-ROC: 67.8501%\n",
            "Epoch [374/1000] Test Loss: 0.43 Test Accuracy: 90.23% Sensitivity: 0.00% Specificity: 91.12% AUC-ROC: 68.2051%\n",
            "Epoch [375/1000] Test Loss: 0.43 Test Accuracy: 90.04% Sensitivity: 0.00% Specificity: 90.93% AUC-ROC: 67.6529%\n",
            "Epoch [376/1000] Test Loss: 0.43 Test Accuracy: 90.04% Sensitivity: 0.00% Specificity: 90.93% AUC-ROC: 67.9882%\n",
            "Epoch [377/1000] Test Loss: 0.43 Test Accuracy: 90.04% Sensitivity: 0.00% Specificity: 90.93% AUC-ROC: 68.1460%\n",
            "Epoch [378/1000] Test Loss: 0.43 Test Accuracy: 90.04% Sensitivity: 0.00% Specificity: 90.93% AUC-ROC: 68.1657%\n",
            "Epoch [379/1000] Test Loss: 0.43 Test Accuracy: 90.04% Sensitivity: 0.00% Specificity: 90.93% AUC-ROC: 68.1657%\n",
            "Epoch [380/1000] Test Loss: 0.43 Test Accuracy: 90.04% Sensitivity: 0.00% Specificity: 90.93% AUC-ROC: 68.1460%\n",
            "Epoch [381/1000] Test Loss: 0.43 Test Accuracy: 90.23% Sensitivity: 0.00% Specificity: 91.12% AUC-ROC: 68.6193%\n",
            "Epoch [382/1000] Test Loss: 0.43 Test Accuracy: 90.23% Sensitivity: 0.00% Specificity: 91.12% AUC-ROC: 68.7771%\n",
            "Epoch [383/1000] Test Loss: 0.43 Test Accuracy: 90.04% Sensitivity: 0.00% Specificity: 90.93% AUC-ROC: 68.9349%\n",
            "Epoch [384/1000] Test Loss: 0.43 Test Accuracy: 90.23% Sensitivity: 0.00% Specificity: 91.12% AUC-ROC: 69.2110%\n",
            "Epoch [385/1000] Test Loss: 0.43 Test Accuracy: 90.23% Sensitivity: 0.00% Specificity: 91.12% AUC-ROC: 69.0335%\n",
            "Epoch [386/1000] Test Loss: 0.43 Test Accuracy: 90.23% Sensitivity: 0.00% Specificity: 91.12% AUC-ROC: 69.0335%\n",
            "Epoch [387/1000] Test Loss: 0.43 Test Accuracy: 90.23% Sensitivity: 0.00% Specificity: 91.12% AUC-ROC: 69.1716%\n",
            "Epoch [388/1000] Test Loss: 0.43 Test Accuracy: 90.23% Sensitivity: 0.00% Specificity: 91.12% AUC-ROC: 69.1716%\n",
            "Epoch [389/1000] Test Loss: 0.43 Test Accuracy: 90.04% Sensitivity: 0.00% Specificity: 90.93% AUC-ROC: 69.1716%\n",
            "Epoch [390/1000] Test Loss: 0.43 Test Accuracy: 90.23% Sensitivity: 0.00% Specificity: 91.12% AUC-ROC: 69.1716%\n",
            "Epoch [391/1000] Test Loss: 0.43 Test Accuracy: 90.43% Sensitivity: 0.00% Specificity: 91.32% AUC-ROC: 69.5464%\n",
            "Epoch [392/1000] Test Loss: 0.43 Test Accuracy: 90.43% Sensitivity: 0.00% Specificity: 91.32% AUC-ROC: 69.5464%\n",
            "Epoch [393/1000] Test Loss: 0.43 Test Accuracy: 90.62% Sensitivity: 0.00% Specificity: 91.52% AUC-ROC: 69.6252%\n",
            "Epoch [394/1000] Test Loss: 0.43 Test Accuracy: 90.62% Sensitivity: 0.00% Specificity: 91.52% AUC-ROC: 69.8225%\n",
            "Epoch [395/1000] Test Loss: 0.43 Test Accuracy: 90.43% Sensitivity: 0.00% Specificity: 91.32% AUC-ROC: 70.0000%\n",
            "Epoch [396/1000] Test Loss: 0.43 Test Accuracy: 90.43% Sensitivity: 0.00% Specificity: 91.32% AUC-ROC: 70.3945%\n",
            "Epoch [397/1000] Test Loss: 0.43 Test Accuracy: 90.43% Sensitivity: 0.00% Specificity: 91.32% AUC-ROC: 70.3156%\n",
            "Epoch [398/1000] Test Loss: 0.43 Test Accuracy: 90.43% Sensitivity: 0.00% Specificity: 91.32% AUC-ROC: 70.4931%\n",
            "Epoch [399/1000] Test Loss: 0.43 Test Accuracy: 90.43% Sensitivity: 0.00% Specificity: 91.32% AUC-ROC: 70.5325%\n",
            "Epoch [400/1000] Test Loss: 0.43 Test Accuracy: 90.43% Sensitivity: 0.00% Specificity: 91.32% AUC-ROC: 70.3353%\n",
            "Epoch [401/1000] Test Loss: 0.43 Test Accuracy: 90.43% Sensitivity: 0.00% Specificity: 91.32% AUC-ROC: 70.6114%\n",
            "Epoch [402/1000] Test Loss: 0.43 Test Accuracy: 90.43% Sensitivity: 0.00% Specificity: 91.32% AUC-ROC: 70.6114%\n",
            "Epoch [403/1000] Test Loss: 0.42 Test Accuracy: 90.43% Sensitivity: 0.00% Specificity: 91.32% AUC-ROC: 70.8087%\n",
            "Epoch [404/1000] Test Loss: 0.42 Test Accuracy: 90.43% Sensitivity: 0.00% Specificity: 91.32% AUC-ROC: 70.8481%\n",
            "Epoch [405/1000] Test Loss: 0.42 Test Accuracy: 90.43% Sensitivity: 0.00% Specificity: 91.32% AUC-ROC: 70.8679%\n",
            "Epoch [406/1000] Test Loss: 0.42 Test Accuracy: 90.43% Sensitivity: 0.00% Specificity: 91.32% AUC-ROC: 70.8679%\n",
            "Epoch [407/1000] Test Loss: 0.42 Test Accuracy: 90.43% Sensitivity: 0.00% Specificity: 91.32% AUC-ROC: 70.8679%\n",
            "Epoch [408/1000] Test Loss: 0.42 Test Accuracy: 90.43% Sensitivity: 0.00% Specificity: 91.32% AUC-ROC: 70.8679%\n",
            "Epoch [409/1000] Test Loss: 0.42 Test Accuracy: 90.62% Sensitivity: 0.00% Specificity: 91.52% AUC-ROC: 70.8679%\n",
            "Epoch [410/1000] Test Loss: 0.42 Test Accuracy: 90.62% Sensitivity: 0.00% Specificity: 91.52% AUC-ROC: 70.8876%\n",
            "Epoch [411/1000] Test Loss: 0.42 Test Accuracy: 90.62% Sensitivity: 0.00% Specificity: 91.52% AUC-ROC: 70.8876%\n",
            "Epoch [412/1000] Test Loss: 0.42 Test Accuracy: 90.62% Sensitivity: 0.00% Specificity: 91.52% AUC-ROC: 71.0256%\n",
            "Epoch [413/1000] Test Loss: 0.42 Test Accuracy: 90.62% Sensitivity: 0.00% Specificity: 91.52% AUC-ROC: 71.0256%\n",
            "Epoch [414/1000] Test Loss: 0.42 Test Accuracy: 90.62% Sensitivity: 0.00% Specificity: 91.52% AUC-ROC: 71.0256%\n",
            "Epoch [415/1000] Test Loss: 0.42 Test Accuracy: 90.62% Sensitivity: 0.00% Specificity: 91.52% AUC-ROC: 71.0256%\n",
            "Epoch [416/1000] Test Loss: 0.42 Test Accuracy: 90.82% Sensitivity: 0.00% Specificity: 91.72% AUC-ROC: 70.9665%\n",
            "Epoch [417/1000] Test Loss: 0.42 Test Accuracy: 90.82% Sensitivity: 0.00% Specificity: 91.72% AUC-ROC: 71.0256%\n",
            "Epoch [418/1000] Test Loss: 0.42 Test Accuracy: 90.82% Sensitivity: 0.00% Specificity: 91.72% AUC-ROC: 70.8481%\n",
            "Epoch [419/1000] Test Loss: 0.42 Test Accuracy: 90.82% Sensitivity: 0.00% Specificity: 91.72% AUC-ROC: 71.0454%\n",
            "Epoch [420/1000] Test Loss: 0.42 Test Accuracy: 91.02% Sensitivity: 0.00% Specificity: 91.91% AUC-ROC: 71.0454%\n",
            "Epoch [421/1000] Test Loss: 0.42 Test Accuracy: 91.02% Sensitivity: 0.00% Specificity: 91.91% AUC-ROC: 71.0454%\n",
            "Epoch [422/1000] Test Loss: 0.42 Test Accuracy: 91.02% Sensitivity: 0.00% Specificity: 91.91% AUC-ROC: 70.8481%\n",
            "Epoch [423/1000] Test Loss: 0.42 Test Accuracy: 90.82% Sensitivity: 0.00% Specificity: 91.72% AUC-ROC: 70.8087%\n",
            "Epoch [424/1000] Test Loss: 0.42 Test Accuracy: 91.02% Sensitivity: 0.00% Specificity: 91.91% AUC-ROC: 70.8481%\n",
            "Epoch [425/1000] Test Loss: 0.42 Test Accuracy: 91.02% Sensitivity: 0.00% Specificity: 91.91% AUC-ROC: 70.8481%\n",
            "Epoch [426/1000] Test Loss: 0.42 Test Accuracy: 91.02% Sensitivity: 0.00% Specificity: 91.91% AUC-ROC: 70.8481%\n",
            "Epoch [427/1000] Test Loss: 0.42 Test Accuracy: 91.02% Sensitivity: 0.00% Specificity: 91.91% AUC-ROC: 70.8481%\n",
            "Epoch [428/1000] Test Loss: 0.42 Test Accuracy: 91.21% Sensitivity: 0.00% Specificity: 92.11% AUC-ROC: 70.8679%\n",
            "Epoch [429/1000] Test Loss: 0.42 Test Accuracy: 91.21% Sensitivity: 0.00% Specificity: 92.11% AUC-ROC: 70.8679%\n",
            "Epoch [430/1000] Test Loss: 0.42 Test Accuracy: 91.21% Sensitivity: 0.00% Specificity: 92.11% AUC-ROC: 70.8679%\n",
            "Epoch [431/1000] Test Loss: 0.42 Test Accuracy: 91.21% Sensitivity: 0.00% Specificity: 92.11% AUC-ROC: 70.8876%\n",
            "Epoch [432/1000] Test Loss: 0.42 Test Accuracy: 91.41% Sensitivity: 0.00% Specificity: 92.31% AUC-ROC: 71.0651%\n",
            "Epoch [433/1000] Test Loss: 0.42 Test Accuracy: 91.41% Sensitivity: 0.00% Specificity: 92.31% AUC-ROC: 71.0651%\n",
            "Epoch [434/1000] Test Loss: 0.42 Test Accuracy: 91.41% Sensitivity: 0.00% Specificity: 92.31% AUC-ROC: 71.0848%\n",
            "Epoch [435/1000] Test Loss: 0.42 Test Accuracy: 91.41% Sensitivity: 0.00% Specificity: 92.31% AUC-ROC: 71.0848%\n",
            "Epoch [436/1000] Test Loss: 0.42 Test Accuracy: 91.41% Sensitivity: 0.00% Specificity: 92.31% AUC-ROC: 71.0848%\n",
            "Epoch [437/1000] Test Loss: 0.42 Test Accuracy: 91.41% Sensitivity: 0.00% Specificity: 92.31% AUC-ROC: 71.1243%\n",
            "Epoch [438/1000] Test Loss: 0.42 Test Accuracy: 91.41% Sensitivity: 0.00% Specificity: 92.31% AUC-ROC: 71.1243%\n",
            "Epoch [439/1000] Test Loss: 0.42 Test Accuracy: 91.41% Sensitivity: 0.00% Specificity: 92.31% AUC-ROC: 71.0848%\n",
            "Epoch [440/1000] Test Loss: 0.42 Test Accuracy: 91.41% Sensitivity: 0.00% Specificity: 92.31% AUC-ROC: 71.2623%\n",
            "Epoch [441/1000] Test Loss: 0.42 Test Accuracy: 91.41% Sensitivity: 0.00% Specificity: 92.31% AUC-ROC: 71.2821%\n",
            "Epoch [442/1000] Test Loss: 0.42 Test Accuracy: 91.41% Sensitivity: 0.00% Specificity: 92.31% AUC-ROC: 71.5779%\n",
            "Epoch [443/1000] Test Loss: 0.42 Test Accuracy: 91.41% Sensitivity: 0.00% Specificity: 92.31% AUC-ROC: 71.8146%\n",
            "Epoch [444/1000] Test Loss: 0.42 Test Accuracy: 91.41% Sensitivity: 0.00% Specificity: 92.31% AUC-ROC: 71.8146%\n",
            "Epoch [445/1000] Test Loss: 0.42 Test Accuracy: 91.41% Sensitivity: 0.00% Specificity: 92.31% AUC-ROC: 71.7949%\n",
            "Epoch [446/1000] Test Loss: 0.42 Test Accuracy: 91.41% Sensitivity: 0.00% Specificity: 92.31% AUC-ROC: 71.7949%\n",
            "Epoch [447/1000] Test Loss: 0.42 Test Accuracy: 91.41% Sensitivity: 0.00% Specificity: 92.31% AUC-ROC: 71.7949%\n",
            "Epoch [448/1000] Test Loss: 0.42 Test Accuracy: 91.41% Sensitivity: 0.00% Specificity: 92.31% AUC-ROC: 71.9724%\n",
            "Epoch [449/1000] Test Loss: 0.42 Test Accuracy: 91.41% Sensitivity: 0.00% Specificity: 92.31% AUC-ROC: 71.9724%\n",
            "Epoch [450/1000] Test Loss: 0.42 Test Accuracy: 91.41% Sensitivity: 0.00% Specificity: 92.31% AUC-ROC: 71.9724%\n",
            "Epoch [451/1000] Test Loss: 0.42 Test Accuracy: 91.41% Sensitivity: 0.00% Specificity: 92.31% AUC-ROC: 71.9724%\n",
            "Epoch [452/1000] Test Loss: 0.42 Test Accuracy: 91.41% Sensitivity: 0.00% Specificity: 92.31% AUC-ROC: 71.9724%\n",
            "Epoch [453/1000] Test Loss: 0.42 Test Accuracy: 91.41% Sensitivity: 0.00% Specificity: 92.31% AUC-ROC: 71.9724%\n",
            "Epoch [454/1000] Test Loss: 0.42 Test Accuracy: 91.41% Sensitivity: 0.00% Specificity: 92.31% AUC-ROC: 71.9724%\n",
            "Epoch [455/1000] Test Loss: 0.42 Test Accuracy: 91.41% Sensitivity: 0.00% Specificity: 92.31% AUC-ROC: 71.9724%\n",
            "Epoch [456/1000] Test Loss: 0.41 Test Accuracy: 91.41% Sensitivity: 0.00% Specificity: 92.31% AUC-ROC: 71.9921%\n",
            "Epoch [457/1000] Test Loss: 0.41 Test Accuracy: 91.41% Sensitivity: 0.00% Specificity: 92.31% AUC-ROC: 71.9921%\n",
            "Epoch [458/1000] Test Loss: 0.41 Test Accuracy: 91.41% Sensitivity: 0.00% Specificity: 92.31% AUC-ROC: 72.1499%\n",
            "Epoch [459/1000] Test Loss: 0.41 Test Accuracy: 91.41% Sensitivity: 0.00% Specificity: 92.31% AUC-ROC: 71.9921%\n",
            "Epoch [460/1000] Test Loss: 0.41 Test Accuracy: 91.41% Sensitivity: 0.00% Specificity: 92.31% AUC-ROC: 71.9921%\n",
            "Epoch [461/1000] Test Loss: 0.41 Test Accuracy: 91.41% Sensitivity: 0.00% Specificity: 92.31% AUC-ROC: 71.9527%\n",
            "Epoch [462/1000] Test Loss: 0.41 Test Accuracy: 91.41% Sensitivity: 0.00% Specificity: 92.31% AUC-ROC: 71.9527%\n",
            "Epoch [463/1000] Test Loss: 0.41 Test Accuracy: 91.41% Sensitivity: 0.00% Specificity: 92.31% AUC-ROC: 72.1499%\n",
            "Epoch [464/1000] Test Loss: 0.41 Test Accuracy: 91.41% Sensitivity: 0.00% Specificity: 92.31% AUC-ROC: 72.1499%\n",
            "Epoch [465/1000] Test Loss: 0.41 Test Accuracy: 91.41% Sensitivity: 0.00% Specificity: 92.31% AUC-ROC: 72.1499%\n",
            "Epoch [466/1000] Test Loss: 0.41 Test Accuracy: 91.41% Sensitivity: 0.00% Specificity: 92.31% AUC-ROC: 72.3077%\n",
            "Epoch [467/1000] Test Loss: 0.41 Test Accuracy: 91.41% Sensitivity: 0.00% Specificity: 92.31% AUC-ROC: 72.3077%\n",
            "Epoch [468/1000] Test Loss: 0.41 Test Accuracy: 91.41% Sensitivity: 0.00% Specificity: 92.31% AUC-ROC: 72.3077%\n",
            "Epoch [469/1000] Test Loss: 0.41 Test Accuracy: 91.41% Sensitivity: 0.00% Specificity: 92.31% AUC-ROC: 72.3077%\n",
            "Epoch [470/1000] Test Loss: 0.41 Test Accuracy: 91.41% Sensitivity: 0.00% Specificity: 92.31% AUC-ROC: 72.3077%\n",
            "Epoch [471/1000] Test Loss: 0.41 Test Accuracy: 91.41% Sensitivity: 0.00% Specificity: 92.31% AUC-ROC: 72.1302%\n",
            "Epoch [472/1000] Test Loss: 0.41 Test Accuracy: 91.21% Sensitivity: 0.00% Specificity: 92.11% AUC-ROC: 72.3669%\n",
            "Epoch [473/1000] Test Loss: 0.41 Test Accuracy: 91.21% Sensitivity: 0.00% Specificity: 92.11% AUC-ROC: 72.7022%\n",
            "Epoch [474/1000] Test Loss: 0.41 Test Accuracy: 91.21% Sensitivity: 0.00% Specificity: 92.11% AUC-ROC: 72.9191%\n",
            "Epoch [475/1000] Test Loss: 0.41 Test Accuracy: 91.21% Sensitivity: 0.00% Specificity: 92.11% AUC-ROC: 72.7219%\n",
            "Epoch [476/1000] Test Loss: 0.41 Test Accuracy: 91.21% Sensitivity: 0.00% Specificity: 92.11% AUC-ROC: 72.7219%\n",
            "Epoch [477/1000] Test Loss: 0.41 Test Accuracy: 91.21% Sensitivity: 0.00% Specificity: 92.11% AUC-ROC: 72.7416%\n",
            "Epoch [478/1000] Test Loss: 0.41 Test Accuracy: 91.21% Sensitivity: 0.00% Specificity: 92.11% AUC-ROC: 72.9389%\n",
            "Epoch [479/1000] Test Loss: 0.41 Test Accuracy: 91.21% Sensitivity: 0.00% Specificity: 92.11% AUC-ROC: 73.0769%\n",
            "Epoch [480/1000] Test Loss: 0.41 Test Accuracy: 91.21% Sensitivity: 0.00% Specificity: 92.11% AUC-ROC: 72.9191%\n",
            "Epoch [481/1000] Test Loss: 0.41 Test Accuracy: 90.62% Sensitivity: 0.00% Specificity: 91.52% AUC-ROC: 73.0769%\n",
            "Epoch [482/1000] Test Loss: 0.41 Test Accuracy: 90.62% Sensitivity: 0.00% Specificity: 91.52% AUC-ROC: 73.0966%\n",
            "Epoch [483/1000] Test Loss: 0.41 Test Accuracy: 90.62% Sensitivity: 0.00% Specificity: 91.52% AUC-ROC: 73.2544%\n",
            "Epoch [484/1000] Test Loss: 0.41 Test Accuracy: 90.62% Sensitivity: 0.00% Specificity: 91.52% AUC-ROC: 73.4122%\n",
            "Epoch [485/1000] Test Loss: 0.41 Test Accuracy: 90.62% Sensitivity: 0.00% Specificity: 91.52% AUC-ROC: 73.4122%\n",
            "Epoch [486/1000] Test Loss: 0.41 Test Accuracy: 90.62% Sensitivity: 0.00% Specificity: 91.52% AUC-ROC: 73.4122%\n",
            "Epoch [487/1000] Test Loss: 0.41 Test Accuracy: 90.62% Sensitivity: 0.00% Specificity: 91.52% AUC-ROC: 73.4122%\n",
            "Epoch [488/1000] Test Loss: 0.41 Test Accuracy: 90.62% Sensitivity: 0.00% Specificity: 91.52% AUC-ROC: 73.4517%\n",
            "Epoch [489/1000] Test Loss: 0.41 Test Accuracy: 90.82% Sensitivity: 20.00% Specificity: 91.52% AUC-ROC: 78.9152%\n",
            "Epoch [490/1000] Test Loss: 0.41 Test Accuracy: 90.62% Sensitivity: 20.00% Specificity: 91.32% AUC-ROC: 78.7771%\n",
            "Epoch [491/1000] Test Loss: 0.41 Test Accuracy: 90.62% Sensitivity: 20.00% Specificity: 91.32% AUC-ROC: 78.2446%\n",
            "Epoch [492/1000] Test Loss: 0.41 Test Accuracy: 90.62% Sensitivity: 20.00% Specificity: 91.32% AUC-ROC: 78.1065%\n",
            "Epoch [493/1000] Test Loss: 0.42 Test Accuracy: 90.43% Sensitivity: 20.00% Specificity: 91.12% AUC-ROC: 78.1065%\n",
            "Epoch [494/1000] Test Loss: 0.42 Test Accuracy: 90.43% Sensitivity: 20.00% Specificity: 91.12% AUC-ROC: 77.9487%\n",
            "Epoch [495/1000] Test Loss: 0.42 Test Accuracy: 90.43% Sensitivity: 20.00% Specificity: 91.12% AUC-ROC: 80.6903%\n",
            "Epoch [496/1000] Test Loss: 0.42 Test Accuracy: 90.23% Sensitivity: 20.00% Specificity: 90.93% AUC-ROC: 80.2564%\n",
            "Epoch [497/1000] Test Loss: 0.42 Test Accuracy: 90.43% Sensitivity: 20.00% Specificity: 91.12% AUC-ROC: 80.3353%\n",
            "Epoch [498/1000] Test Loss: 0.42 Test Accuracy: 90.62% Sensitivity: 20.00% Specificity: 91.32% AUC-ROC: 80.4339%\n",
            "Epoch [499/1000] Test Loss: 0.42 Test Accuracy: 90.62% Sensitivity: 20.00% Specificity: 91.32% AUC-ROC: 80.6509%\n",
            "Epoch [500/1000] Test Loss: 0.42 Test Accuracy: 90.62% Sensitivity: 20.00% Specificity: 91.32% AUC-ROC: 80.4339%\n",
            "Epoch [501/1000] Test Loss: 0.41 Test Accuracy: 90.62% Sensitivity: 20.00% Specificity: 91.32% AUC-ROC: 80.8876%\n",
            "Epoch [502/1000] Test Loss: 0.42 Test Accuracy: 90.62% Sensitivity: 20.00% Specificity: 91.32% AUC-ROC: 80.8087%\n",
            "Epoch [503/1000] Test Loss: 0.41 Test Accuracy: 90.82% Sensitivity: 20.00% Specificity: 91.52% AUC-ROC: 80.8481%\n",
            "Epoch [504/1000] Test Loss: 0.41 Test Accuracy: 90.82% Sensitivity: 20.00% Specificity: 91.52% AUC-ROC: 80.8481%\n",
            "Epoch [505/1000] Test Loss: 0.41 Test Accuracy: 90.82% Sensitivity: 20.00% Specificity: 91.52% AUC-ROC: 80.6312%\n",
            "Epoch [506/1000] Test Loss: 0.41 Test Accuracy: 90.82% Sensitivity: 20.00% Specificity: 91.52% AUC-ROC: 80.7298%\n",
            "Epoch [507/1000] Test Loss: 0.41 Test Accuracy: 91.02% Sensitivity: 20.00% Specificity: 91.72% AUC-ROC: 80.8087%\n",
            "Epoch [508/1000] Test Loss: 0.41 Test Accuracy: 91.02% Sensitivity: 20.00% Specificity: 91.72% AUC-ROC: 80.8087%\n",
            "Epoch [509/1000] Test Loss: 0.41 Test Accuracy: 91.02% Sensitivity: 20.00% Specificity: 91.72% AUC-ROC: 80.8876%\n",
            "Epoch [510/1000] Test Loss: 0.41 Test Accuracy: 91.21% Sensitivity: 20.00% Specificity: 91.91% AUC-ROC: 81.0651%\n",
            "Epoch [511/1000] Test Loss: 0.41 Test Accuracy: 91.21% Sensitivity: 20.00% Specificity: 91.91% AUC-ROC: 81.1045%\n",
            "Epoch [512/1000] Test Loss: 0.41 Test Accuracy: 91.02% Sensitivity: 20.00% Specificity: 91.72% AUC-ROC: 80.9862%\n",
            "Epoch [513/1000] Test Loss: 0.41 Test Accuracy: 91.02% Sensitivity: 20.00% Specificity: 91.72% AUC-ROC: 80.9862%\n",
            "Epoch [514/1000] Test Loss: 0.41 Test Accuracy: 91.21% Sensitivity: 20.00% Specificity: 91.91% AUC-ROC: 81.0256%\n",
            "Epoch [515/1000] Test Loss: 0.41 Test Accuracy: 91.41% Sensitivity: 20.00% Specificity: 92.11% AUC-ROC: 81.3412%\n",
            "Epoch [516/1000] Test Loss: 0.41 Test Accuracy: 91.41% Sensitivity: 20.00% Specificity: 92.11% AUC-ROC: 81.4201%\n",
            "Epoch [517/1000] Test Loss: 0.41 Test Accuracy: 91.41% Sensitivity: 20.00% Specificity: 92.11% AUC-ROC: 81.4398%\n",
            "Epoch [518/1000] Test Loss: 0.41 Test Accuracy: 91.41% Sensitivity: 20.00% Specificity: 92.11% AUC-ROC: 81.4398%\n",
            "Epoch [519/1000] Test Loss: 0.41 Test Accuracy: 91.41% Sensitivity: 20.00% Specificity: 92.11% AUC-ROC: 81.4398%\n",
            "Epoch [520/1000] Test Loss: 0.41 Test Accuracy: 91.41% Sensitivity: 20.00% Specificity: 92.11% AUC-ROC: 81.4398%\n",
            "Epoch [521/1000] Test Loss: 0.41 Test Accuracy: 91.41% Sensitivity: 20.00% Specificity: 92.11% AUC-ROC: 81.4398%\n",
            "Epoch [522/1000] Test Loss: 0.41 Test Accuracy: 91.41% Sensitivity: 20.00% Specificity: 92.11% AUC-ROC: 81.4398%\n",
            "Epoch [523/1000] Test Loss: 0.41 Test Accuracy: 91.41% Sensitivity: 20.00% Specificity: 92.11% AUC-ROC: 81.4398%\n",
            "Epoch [524/1000] Test Loss: 0.41 Test Accuracy: 91.60% Sensitivity: 20.00% Specificity: 92.31% AUC-ROC: 81.4596%\n",
            "Epoch [525/1000] Test Loss: 0.41 Test Accuracy: 91.41% Sensitivity: 20.00% Specificity: 92.11% AUC-ROC: 81.4596%\n",
            "Epoch [526/1000] Test Loss: 0.41 Test Accuracy: 91.41% Sensitivity: 20.00% Specificity: 92.11% AUC-ROC: 81.5779%\n",
            "Epoch [527/1000] Test Loss: 0.41 Test Accuracy: 91.41% Sensitivity: 20.00% Specificity: 92.11% AUC-ROC: 81.5779%\n",
            "Epoch [528/1000] Test Loss: 0.41 Test Accuracy: 91.41% Sensitivity: 20.00% Specificity: 92.11% AUC-ROC: 81.5779%\n",
            "Epoch [529/1000] Test Loss: 0.41 Test Accuracy: 91.41% Sensitivity: 20.00% Specificity: 92.11% AUC-ROC: 81.6568%\n",
            "Epoch [530/1000] Test Loss: 0.41 Test Accuracy: 91.41% Sensitivity: 20.00% Specificity: 92.11% AUC-ROC: 81.6568%\n",
            "Epoch [531/1000] Test Loss: 0.41 Test Accuracy: 91.41% Sensitivity: 20.00% Specificity: 92.11% AUC-ROC: 81.5779%\n",
            "Epoch [532/1000] Test Loss: 0.41 Test Accuracy: 91.41% Sensitivity: 20.00% Specificity: 92.11% AUC-ROC: 81.4990%\n",
            "Epoch [533/1000] Test Loss: 0.41 Test Accuracy: 91.41% Sensitivity: 20.00% Specificity: 92.11% AUC-ROC: 81.4990%\n",
            "Epoch [534/1000] Test Loss: 0.41 Test Accuracy: 91.21% Sensitivity: 20.00% Specificity: 91.91% AUC-ROC: 81.4596%\n",
            "Epoch [535/1000] Test Loss: 0.41 Test Accuracy: 91.21% Sensitivity: 20.00% Specificity: 91.91% AUC-ROC: 81.4596%\n",
            "Epoch [536/1000] Test Loss: 0.41 Test Accuracy: 91.21% Sensitivity: 20.00% Specificity: 91.91% AUC-ROC: 81.5582%\n",
            "Epoch [537/1000] Test Loss: 0.41 Test Accuracy: 91.21% Sensitivity: 20.00% Specificity: 91.91% AUC-ROC: 81.6371%\n",
            "Epoch [538/1000] Test Loss: 0.41 Test Accuracy: 91.21% Sensitivity: 20.00% Specificity: 91.91% AUC-ROC: 81.6371%\n",
            "Epoch [539/1000] Test Loss: 0.41 Test Accuracy: 91.21% Sensitivity: 20.00% Specificity: 91.91% AUC-ROC: 81.5582%\n",
            "Epoch [540/1000] Test Loss: 0.41 Test Accuracy: 91.21% Sensitivity: 20.00% Specificity: 91.91% AUC-ROC: 78.7574%\n",
            "Epoch [541/1000] Test Loss: 0.41 Test Accuracy: 91.21% Sensitivity: 20.00% Specificity: 91.91% AUC-ROC: 79.0533%\n",
            "Epoch [542/1000] Test Loss: 0.41 Test Accuracy: 91.21% Sensitivity: 20.00% Specificity: 91.91% AUC-ROC: 79.1716%\n",
            "Epoch [543/1000] Test Loss: 0.41 Test Accuracy: 91.21% Sensitivity: 20.00% Specificity: 91.91% AUC-ROC: 79.1716%\n",
            "Epoch [544/1000] Test Loss: 0.41 Test Accuracy: 91.21% Sensitivity: 20.00% Specificity: 91.91% AUC-ROC: 79.3294%\n",
            "Epoch [545/1000] Test Loss: 0.41 Test Accuracy: 91.21% Sensitivity: 20.00% Specificity: 91.91% AUC-ROC: 79.2505%\n",
            "Epoch [546/1000] Test Loss: 0.41 Test Accuracy: 91.21% Sensitivity: 20.00% Specificity: 91.91% AUC-ROC: 79.2505%\n",
            "Epoch [547/1000] Test Loss: 0.41 Test Accuracy: 91.21% Sensitivity: 20.00% Specificity: 91.91% AUC-ROC: 79.2505%\n",
            "Epoch [548/1000] Test Loss: 0.41 Test Accuracy: 91.21% Sensitivity: 20.00% Specificity: 91.91% AUC-ROC: 79.2505%\n",
            "Epoch [549/1000] Test Loss: 0.41 Test Accuracy: 91.21% Sensitivity: 20.00% Specificity: 91.91% AUC-ROC: 79.2505%\n",
            "Epoch [550/1000] Test Loss: 0.41 Test Accuracy: 91.21% Sensitivity: 20.00% Specificity: 91.91% AUC-ROC: 79.2505%\n",
            "Epoch [551/1000] Test Loss: 0.41 Test Accuracy: 91.21% Sensitivity: 20.00% Specificity: 91.91% AUC-ROC: 79.2505%\n",
            "Epoch [552/1000] Test Loss: 0.41 Test Accuracy: 91.02% Sensitivity: 20.00% Specificity: 91.72% AUC-ROC: 79.2505%\n",
            "Epoch [553/1000] Test Loss: 0.41 Test Accuracy: 91.02% Sensitivity: 20.00% Specificity: 91.72% AUC-ROC: 79.2505%\n",
            "Epoch [554/1000] Test Loss: 0.41 Test Accuracy: 91.21% Sensitivity: 20.00% Specificity: 91.91% AUC-ROC: 79.2899%\n",
            "Epoch [555/1000] Test Loss: 0.41 Test Accuracy: 91.41% Sensitivity: 20.00% Specificity: 92.11% AUC-ROC: 79.2899%\n",
            "Epoch [556/1000] Test Loss: 0.40 Test Accuracy: 91.60% Sensitivity: 20.00% Specificity: 92.31% AUC-ROC: 79.5464%\n",
            "Epoch [557/1000] Test Loss: 0.41 Test Accuracy: 91.41% Sensitivity: 20.00% Specificity: 92.11% AUC-ROC: 79.6844%\n",
            "Epoch [558/1000] Test Loss: 0.40 Test Accuracy: 91.60% Sensitivity: 20.00% Specificity: 92.31% AUC-ROC: 79.8817%\n",
            "Epoch [559/1000] Test Loss: 0.40 Test Accuracy: 91.99% Sensitivity: 20.00% Specificity: 92.70% AUC-ROC: 79.9211%\n",
            "Epoch [560/1000] Test Loss: 0.40 Test Accuracy: 91.99% Sensitivity: 20.00% Specificity: 92.70% AUC-ROC: 79.9014%\n",
            "Epoch [561/1000] Test Loss: 0.40 Test Accuracy: 91.99% Sensitivity: 20.00% Specificity: 92.70% AUC-ROC: 79.9408%\n",
            "Epoch [562/1000] Test Loss: 0.40 Test Accuracy: 91.99% Sensitivity: 20.00% Specificity: 92.70% AUC-ROC: 80.3945%\n",
            "Epoch [563/1000] Test Loss: 0.40 Test Accuracy: 91.99% Sensitivity: 20.00% Specificity: 92.70% AUC-ROC: 80.5523%\n",
            "Epoch [564/1000] Test Loss: 0.40 Test Accuracy: 91.80% Sensitivity: 20.00% Specificity: 92.50% AUC-ROC: 80.4931%\n",
            "Epoch [565/1000] Test Loss: 0.40 Test Accuracy: 91.80% Sensitivity: 20.00% Specificity: 92.50% AUC-ROC: 80.5128%\n",
            "Epoch [566/1000] Test Loss: 0.40 Test Accuracy: 91.80% Sensitivity: 20.00% Specificity: 92.50% AUC-ROC: 80.5325%\n",
            "Epoch [567/1000] Test Loss: 0.40 Test Accuracy: 91.99% Sensitivity: 20.00% Specificity: 92.70% AUC-ROC: 80.5720%\n",
            "Epoch [568/1000] Test Loss: 0.40 Test Accuracy: 91.99% Sensitivity: 20.00% Specificity: 92.70% AUC-ROC: 80.5720%\n",
            "Epoch [569/1000] Test Loss: 0.40 Test Accuracy: 91.99% Sensitivity: 20.00% Specificity: 92.70% AUC-ROC: 80.5720%\n",
            "Epoch [570/1000] Test Loss: 0.40 Test Accuracy: 91.99% Sensitivity: 20.00% Specificity: 92.70% AUC-ROC: 80.5720%\n",
            "Epoch [571/1000] Test Loss: 0.40 Test Accuracy: 92.38% Sensitivity: 20.00% Specificity: 93.10% AUC-ROC: 80.8679%\n",
            "Epoch [572/1000] Test Loss: 0.40 Test Accuracy: 92.38% Sensitivity: 20.00% Specificity: 93.10% AUC-ROC: 81.0256%\n",
            "Epoch [573/1000] Test Loss: 0.40 Test Accuracy: 92.38% Sensitivity: 20.00% Specificity: 93.10% AUC-ROC: 81.2229%\n",
            "Epoch [574/1000] Test Loss: 0.40 Test Accuracy: 92.38% Sensitivity: 20.00% Specificity: 93.10% AUC-ROC: 81.1637%\n",
            "Epoch [575/1000] Test Loss: 0.40 Test Accuracy: 92.38% Sensitivity: 20.00% Specificity: 93.10% AUC-ROC: 81.3018%\n",
            "Epoch [576/1000] Test Loss: 0.40 Test Accuracy: 92.38% Sensitivity: 20.00% Specificity: 93.10% AUC-ROC: 81.4004%\n",
            "Epoch [577/1000] Test Loss: 0.40 Test Accuracy: 92.19% Sensitivity: 20.00% Specificity: 92.90% AUC-ROC: 81.3609%\n",
            "Epoch [578/1000] Test Loss: 0.40 Test Accuracy: 92.19% Sensitivity: 20.00% Specificity: 92.90% AUC-ROC: 81.3609%\n",
            "Epoch [579/1000] Test Loss: 0.40 Test Accuracy: 92.19% Sensitivity: 20.00% Specificity: 92.90% AUC-ROC: 81.4398%\n",
            "Epoch [580/1000] Test Loss: 0.40 Test Accuracy: 92.19% Sensitivity: 20.00% Specificity: 92.90% AUC-ROC: 81.4398%\n",
            "Epoch [581/1000] Test Loss: 0.40 Test Accuracy: 92.19% Sensitivity: 20.00% Specificity: 92.90% AUC-ROC: 81.4398%\n",
            "Epoch [582/1000] Test Loss: 0.40 Test Accuracy: 92.19% Sensitivity: 20.00% Specificity: 92.90% AUC-ROC: 81.4398%\n",
            "Epoch [583/1000] Test Loss: 0.40 Test Accuracy: 92.19% Sensitivity: 20.00% Specificity: 92.90% AUC-ROC: 81.4398%\n",
            "Epoch [584/1000] Test Loss: 0.40 Test Accuracy: 92.38% Sensitivity: 20.00% Specificity: 93.10% AUC-ROC: 81.4793%\n",
            "Epoch [585/1000] Test Loss: 0.40 Test Accuracy: 92.58% Sensitivity: 20.00% Specificity: 93.29% AUC-ROC: 81.5976%\n",
            "Epoch [586/1000] Test Loss: 0.40 Test Accuracy: 92.58% Sensitivity: 20.00% Specificity: 93.29% AUC-ROC: 81.5976%\n",
            "Epoch [587/1000] Test Loss: 0.40 Test Accuracy: 92.58% Sensitivity: 20.00% Specificity: 93.29% AUC-ROC: 81.5976%\n",
            "Epoch [588/1000] Test Loss: 0.40 Test Accuracy: 92.58% Sensitivity: 20.00% Specificity: 93.29% AUC-ROC: 81.5187%\n",
            "Epoch [589/1000] Test Loss: 0.40 Test Accuracy: 92.58% Sensitivity: 20.00% Specificity: 93.29% AUC-ROC: 81.5187%\n",
            "Epoch [590/1000] Test Loss: 0.40 Test Accuracy: 92.58% Sensitivity: 20.00% Specificity: 93.29% AUC-ROC: 81.5187%\n",
            "Epoch [591/1000] Test Loss: 0.40 Test Accuracy: 92.58% Sensitivity: 20.00% Specificity: 93.29% AUC-ROC: 81.4793%\n",
            "Epoch [592/1000] Test Loss: 0.40 Test Accuracy: 92.58% Sensitivity: 20.00% Specificity: 93.29% AUC-ROC: 81.4793%\n",
            "Epoch [593/1000] Test Loss: 0.40 Test Accuracy: 92.58% Sensitivity: 20.00% Specificity: 93.29% AUC-ROC: 81.4793%\n",
            "Epoch [594/1000] Test Loss: 0.40 Test Accuracy: 92.58% Sensitivity: 20.00% Specificity: 93.29% AUC-ROC: 81.4793%\n",
            "Epoch [595/1000] Test Loss: 0.40 Test Accuracy: 92.58% Sensitivity: 20.00% Specificity: 93.29% AUC-ROC: 81.4793%\n",
            "Epoch [596/1000] Test Loss: 0.40 Test Accuracy: 92.77% Sensitivity: 20.00% Specificity: 93.49% AUC-ROC: 81.6765%\n",
            "Epoch [597/1000] Test Loss: 0.40 Test Accuracy: 92.77% Sensitivity: 20.00% Specificity: 93.49% AUC-ROC: 81.6371%\n",
            "Epoch [598/1000] Test Loss: 0.40 Test Accuracy: 92.77% Sensitivity: 20.00% Specificity: 93.49% AUC-ROC: 81.7751%\n",
            "Epoch [599/1000] Test Loss: 0.39 Test Accuracy: 92.77% Sensitivity: 20.00% Specificity: 93.49% AUC-ROC: 81.8146%\n",
            "Epoch [600/1000] Test Loss: 0.40 Test Accuracy: 92.77% Sensitivity: 20.00% Specificity: 93.49% AUC-ROC: 81.7751%\n",
            "Epoch [601/1000] Test Loss: 0.40 Test Accuracy: 92.77% Sensitivity: 20.00% Specificity: 93.49% AUC-ROC: 81.7751%\n",
            "Epoch [602/1000] Test Loss: 0.40 Test Accuracy: 92.77% Sensitivity: 20.00% Specificity: 93.49% AUC-ROC: 81.6371%\n",
            "Epoch [603/1000] Test Loss: 0.39 Test Accuracy: 92.97% Sensitivity: 20.00% Specificity: 93.69% AUC-ROC: 81.7949%\n",
            "Epoch [604/1000] Test Loss: 0.39 Test Accuracy: 92.97% Sensitivity: 20.00% Specificity: 93.69% AUC-ROC: 81.7949%\n",
            "Epoch [605/1000] Test Loss: 0.39 Test Accuracy: 92.97% Sensitivity: 20.00% Specificity: 93.69% AUC-ROC: 81.7949%\n",
            "Epoch [606/1000] Test Loss: 0.39 Test Accuracy: 92.97% Sensitivity: 20.00% Specificity: 93.69% AUC-ROC: 81.8343%\n",
            "Epoch [607/1000] Test Loss: 0.39 Test Accuracy: 92.97% Sensitivity: 20.00% Specificity: 93.69% AUC-ROC: 81.8343%\n",
            "Epoch [608/1000] Test Loss: 0.39 Test Accuracy: 92.97% Sensitivity: 20.00% Specificity: 93.69% AUC-ROC: 81.8343%\n",
            "Epoch [609/1000] Test Loss: 0.39 Test Accuracy: 92.97% Sensitivity: 20.00% Specificity: 93.69% AUC-ROC: 81.8343%\n",
            "Epoch [610/1000] Test Loss: 0.39 Test Accuracy: 92.97% Sensitivity: 20.00% Specificity: 93.69% AUC-ROC: 81.8343%\n",
            "Epoch [611/1000] Test Loss: 0.39 Test Accuracy: 92.97% Sensitivity: 20.00% Specificity: 93.69% AUC-ROC: 81.8343%\n",
            "Epoch [612/1000] Test Loss: 0.39 Test Accuracy: 92.97% Sensitivity: 20.00% Specificity: 93.69% AUC-ROC: 81.8343%\n",
            "Epoch [613/1000] Test Loss: 0.39 Test Accuracy: 92.97% Sensitivity: 20.00% Specificity: 93.69% AUC-ROC: 81.8343%\n",
            "Epoch [614/1000] Test Loss: 0.39 Test Accuracy: 92.97% Sensitivity: 20.00% Specificity: 93.69% AUC-ROC: 81.8343%\n",
            "Epoch [615/1000] Test Loss: 0.39 Test Accuracy: 93.16% Sensitivity: 20.00% Specificity: 93.89% AUC-ROC: 81.8738%\n",
            "Epoch [616/1000] Test Loss: 0.39 Test Accuracy: 93.16% Sensitivity: 20.00% Specificity: 93.89% AUC-ROC: 81.8738%\n",
            "Epoch [617/1000] Test Loss: 0.39 Test Accuracy: 93.16% Sensitivity: 20.00% Specificity: 93.89% AUC-ROC: 81.8738%\n",
            "Epoch [618/1000] Test Loss: 0.39 Test Accuracy: 93.16% Sensitivity: 20.00% Specificity: 93.89% AUC-ROC: 82.0316%\n",
            "Epoch [619/1000] Test Loss: 0.39 Test Accuracy: 93.16% Sensitivity: 20.00% Specificity: 93.89% AUC-ROC: 82.0316%\n",
            "Epoch [620/1000] Test Loss: 0.39 Test Accuracy: 93.16% Sensitivity: 20.00% Specificity: 93.89% AUC-ROC: 82.0316%\n",
            "Epoch [621/1000] Test Loss: 0.39 Test Accuracy: 93.16% Sensitivity: 20.00% Specificity: 93.89% AUC-ROC: 82.0316%\n",
            "Epoch [622/1000] Test Loss: 0.39 Test Accuracy: 93.16% Sensitivity: 20.00% Specificity: 93.89% AUC-ROC: 82.0316%\n",
            "Epoch [623/1000] Test Loss: 0.39 Test Accuracy: 93.16% Sensitivity: 20.00% Specificity: 93.89% AUC-ROC: 82.0316%\n",
            "Epoch [624/1000] Test Loss: 0.39 Test Accuracy: 93.16% Sensitivity: 20.00% Specificity: 93.89% AUC-ROC: 82.1893%\n",
            "Epoch [625/1000] Test Loss: 0.39 Test Accuracy: 93.16% Sensitivity: 20.00% Specificity: 93.89% AUC-ROC: 82.1893%\n",
            "Epoch [626/1000] Test Loss: 0.39 Test Accuracy: 93.16% Sensitivity: 20.00% Specificity: 93.89% AUC-ROC: 82.3669%\n",
            "Epoch [627/1000] Test Loss: 0.39 Test Accuracy: 93.16% Sensitivity: 20.00% Specificity: 93.89% AUC-ROC: 82.4852%\n",
            "Epoch [628/1000] Test Loss: 0.39 Test Accuracy: 93.16% Sensitivity: 20.00% Specificity: 93.89% AUC-ROC: 82.6430%\n",
            "Epoch [629/1000] Test Loss: 0.39 Test Accuracy: 93.16% Sensitivity: 20.00% Specificity: 93.89% AUC-ROC: 82.6430%\n",
            "Epoch [630/1000] Test Loss: 0.39 Test Accuracy: 93.16% Sensitivity: 20.00% Specificity: 93.89% AUC-ROC: 82.7613%\n",
            "Epoch [631/1000] Test Loss: 0.39 Test Accuracy: 93.16% Sensitivity: 20.00% Specificity: 93.89% AUC-ROC: 82.7613%\n",
            "Epoch [632/1000] Test Loss: 0.39 Test Accuracy: 93.16% Sensitivity: 20.00% Specificity: 93.89% AUC-ROC: 82.7613%\n",
            "Epoch [633/1000] Test Loss: 0.39 Test Accuracy: 93.16% Sensitivity: 20.00% Specificity: 93.89% AUC-ROC: 82.7613%\n",
            "Epoch [634/1000] Test Loss: 0.39 Test Accuracy: 93.16% Sensitivity: 20.00% Specificity: 93.89% AUC-ROC: 82.8994%\n",
            "Epoch [635/1000] Test Loss: 0.39 Test Accuracy: 93.16% Sensitivity: 20.00% Specificity: 93.89% AUC-ROC: 82.8994%\n",
            "Epoch [636/1000] Test Loss: 0.39 Test Accuracy: 93.16% Sensitivity: 20.00% Specificity: 93.89% AUC-ROC: 83.1558%\n",
            "Epoch [637/1000] Test Loss: 0.39 Test Accuracy: 93.16% Sensitivity: 20.00% Specificity: 93.89% AUC-ROC: 83.1164%\n",
            "Epoch [638/1000] Test Loss: 0.39 Test Accuracy: 93.16% Sensitivity: 20.00% Specificity: 93.89% AUC-ROC: 82.9586%\n",
            "Epoch [639/1000] Test Loss: 0.39 Test Accuracy: 93.16% Sensitivity: 20.00% Specificity: 93.89% AUC-ROC: 82.8797%\n",
            "Epoch [640/1000] Test Loss: 0.39 Test Accuracy: 93.16% Sensitivity: 20.00% Specificity: 93.89% AUC-ROC: 82.8797%\n",
            "Epoch [641/1000] Test Loss: 0.39 Test Accuracy: 93.16% Sensitivity: 20.00% Specificity: 93.89% AUC-ROC: 82.8797%\n",
            "Epoch [642/1000] Test Loss: 0.39 Test Accuracy: 93.16% Sensitivity: 20.00% Specificity: 93.89% AUC-ROC: 82.8797%\n",
            "Epoch [643/1000] Test Loss: 0.39 Test Accuracy: 93.16% Sensitivity: 20.00% Specificity: 93.89% AUC-ROC: 82.8797%\n",
            "Epoch [644/1000] Test Loss: 0.39 Test Accuracy: 93.16% Sensitivity: 20.00% Specificity: 93.89% AUC-ROC: 82.8797%\n",
            "Epoch [645/1000] Test Loss: 0.39 Test Accuracy: 93.16% Sensitivity: 20.00% Specificity: 93.89% AUC-ROC: 82.8797%\n",
            "Epoch [646/1000] Test Loss: 0.39 Test Accuracy: 93.16% Sensitivity: 20.00% Specificity: 93.89% AUC-ROC: 82.8797%\n",
            "Epoch [647/1000] Test Loss: 0.39 Test Accuracy: 93.16% Sensitivity: 20.00% Specificity: 93.89% AUC-ROC: 82.8797%\n",
            "Epoch [648/1000] Test Loss: 0.39 Test Accuracy: 93.16% Sensitivity: 20.00% Specificity: 93.89% AUC-ROC: 82.9980%\n",
            "Epoch [649/1000] Test Loss: 0.39 Test Accuracy: 93.16% Sensitivity: 20.00% Specificity: 93.89% AUC-ROC: 82.9980%\n",
            "Epoch [650/1000] Test Loss: 0.39 Test Accuracy: 93.16% Sensitivity: 20.00% Specificity: 93.89% AUC-ROC: 82.9980%\n",
            "Epoch [651/1000] Test Loss: 0.39 Test Accuracy: 93.16% Sensitivity: 20.00% Specificity: 93.89% AUC-ROC: 82.9586%\n",
            "Epoch [652/1000] Test Loss: 0.39 Test Accuracy: 92.97% Sensitivity: 20.00% Specificity: 93.69% AUC-ROC: 82.9191%\n",
            "Epoch [653/1000] Test Loss: 0.39 Test Accuracy: 92.97% Sensitivity: 20.00% Specificity: 93.69% AUC-ROC: 82.8008%\n",
            "Epoch [654/1000] Test Loss: 0.39 Test Accuracy: 92.97% Sensitivity: 20.00% Specificity: 93.69% AUC-ROC: 82.8008%\n",
            "Epoch [655/1000] Test Loss: 0.39 Test Accuracy: 92.97% Sensitivity: 20.00% Specificity: 93.69% AUC-ROC: 82.9191%\n",
            "Epoch [656/1000] Test Loss: 0.39 Test Accuracy: 92.97% Sensitivity: 20.00% Specificity: 93.69% AUC-ROC: 82.9191%\n",
            "Epoch [657/1000] Test Loss: 0.39 Test Accuracy: 92.97% Sensitivity: 20.00% Specificity: 93.69% AUC-ROC: 82.9191%\n",
            "Epoch [658/1000] Test Loss: 0.39 Test Accuracy: 92.97% Sensitivity: 20.00% Specificity: 93.69% AUC-ROC: 83.0375%\n",
            "Epoch [659/1000] Test Loss: 0.39 Test Accuracy: 92.97% Sensitivity: 20.00% Specificity: 93.69% AUC-ROC: 82.9191%\n",
            "Epoch [660/1000] Test Loss: 0.39 Test Accuracy: 92.97% Sensitivity: 20.00% Specificity: 93.69% AUC-ROC: 82.9191%\n",
            "Epoch [661/1000] Test Loss: 0.39 Test Accuracy: 92.97% Sensitivity: 20.00% Specificity: 93.69% AUC-ROC: 82.9191%\n",
            "Epoch [662/1000] Test Loss: 0.39 Test Accuracy: 92.97% Sensitivity: 20.00% Specificity: 93.69% AUC-ROC: 83.0375%\n",
            "Epoch [663/1000] Test Loss: 0.39 Test Accuracy: 92.97% Sensitivity: 20.00% Specificity: 93.69% AUC-ROC: 82.9980%\n",
            "Epoch [664/1000] Test Loss: 0.39 Test Accuracy: 92.97% Sensitivity: 20.00% Specificity: 93.69% AUC-ROC: 82.9980%\n",
            "Epoch [665/1000] Test Loss: 0.39 Test Accuracy: 92.97% Sensitivity: 20.00% Specificity: 93.69% AUC-ROC: 82.9980%\n",
            "Epoch [666/1000] Test Loss: 0.39 Test Accuracy: 92.97% Sensitivity: 20.00% Specificity: 93.69% AUC-ROC: 83.1361%\n",
            "Epoch [667/1000] Test Loss: 0.39 Test Accuracy: 92.97% Sensitivity: 20.00% Specificity: 93.69% AUC-ROC: 83.0769%\n",
            "Epoch [668/1000] Test Loss: 0.39 Test Accuracy: 92.97% Sensitivity: 20.00% Specificity: 93.69% AUC-ROC: 83.2150%\n",
            "Epoch [669/1000] Test Loss: 0.39 Test Accuracy: 92.97% Sensitivity: 20.00% Specificity: 93.69% AUC-ROC: 83.2150%\n",
            "Epoch [670/1000] Test Loss: 0.39 Test Accuracy: 92.97% Sensitivity: 20.00% Specificity: 93.69% AUC-ROC: 83.1953%\n",
            "Epoch [671/1000] Test Loss: 0.39 Test Accuracy: 92.97% Sensitivity: 20.00% Specificity: 93.69% AUC-ROC: 83.1953%\n",
            "Epoch [672/1000] Test Loss: 0.39 Test Accuracy: 92.97% Sensitivity: 20.00% Specificity: 93.69% AUC-ROC: 83.1953%\n",
            "Epoch [673/1000] Test Loss: 0.39 Test Accuracy: 92.97% Sensitivity: 20.00% Specificity: 93.69% AUC-ROC: 83.1953%\n",
            "Epoch [674/1000] Test Loss: 0.39 Test Accuracy: 92.77% Sensitivity: 20.00% Specificity: 93.49% AUC-ROC: 83.1953%\n",
            "Epoch [675/1000] Test Loss: 0.39 Test Accuracy: 92.58% Sensitivity: 20.00% Specificity: 93.29% AUC-ROC: 82.9980%\n",
            "Epoch [676/1000] Test Loss: 0.39 Test Accuracy: 92.58% Sensitivity: 20.00% Specificity: 93.29% AUC-ROC: 82.9980%\n",
            "Epoch [677/1000] Test Loss: 0.39 Test Accuracy: 92.58% Sensitivity: 20.00% Specificity: 93.29% AUC-ROC: 82.9980%\n",
            "Epoch [678/1000] Test Loss: 0.39 Test Accuracy: 92.38% Sensitivity: 20.00% Specificity: 93.10% AUC-ROC: 82.9980%\n",
            "Epoch [679/1000] Test Loss: 0.39 Test Accuracy: 92.38% Sensitivity: 20.00% Specificity: 93.10% AUC-ROC: 82.9980%\n",
            "Epoch [680/1000] Test Loss: 0.39 Test Accuracy: 92.38% Sensitivity: 20.00% Specificity: 93.10% AUC-ROC: 82.9980%\n",
            "Epoch [681/1000] Test Loss: 0.39 Test Accuracy: 92.38% Sensitivity: 20.00% Specificity: 93.10% AUC-ROC: 82.9980%\n",
            "Epoch [682/1000] Test Loss: 0.39 Test Accuracy: 92.38% Sensitivity: 20.00% Specificity: 93.10% AUC-ROC: 82.9980%\n",
            "Epoch [683/1000] Test Loss: 0.39 Test Accuracy: 92.38% Sensitivity: 20.00% Specificity: 93.10% AUC-ROC: 82.9980%\n",
            "Epoch [684/1000] Test Loss: 0.39 Test Accuracy: 92.38% Sensitivity: 20.00% Specificity: 93.10% AUC-ROC: 83.1164%\n",
            "Epoch [685/1000] Test Loss: 0.39 Test Accuracy: 92.38% Sensitivity: 20.00% Specificity: 93.10% AUC-ROC: 83.1164%\n",
            "Epoch [686/1000] Test Loss: 0.39 Test Accuracy: 92.38% Sensitivity: 20.00% Specificity: 93.10% AUC-ROC: 83.1164%\n",
            "Epoch [687/1000] Test Loss: 0.39 Test Accuracy: 92.38% Sensitivity: 20.00% Specificity: 93.10% AUC-ROC: 83.1164%\n",
            "Epoch [688/1000] Test Loss: 0.39 Test Accuracy: 92.38% Sensitivity: 20.00% Specificity: 93.10% AUC-ROC: 83.2544%\n",
            "Epoch [689/1000] Test Loss: 0.39 Test Accuracy: 92.38% Sensitivity: 20.00% Specificity: 93.10% AUC-ROC: 83.1164%\n",
            "Epoch [690/1000] Test Loss: 0.39 Test Accuracy: 92.38% Sensitivity: 20.00% Specificity: 93.10% AUC-ROC: 83.2544%\n",
            "Epoch [691/1000] Test Loss: 0.39 Test Accuracy: 92.38% Sensitivity: 20.00% Specificity: 93.10% AUC-ROC: 83.2544%\n",
            "Epoch [692/1000] Test Loss: 0.39 Test Accuracy: 92.38% Sensitivity: 20.00% Specificity: 93.10% AUC-ROC: 83.2939%\n",
            "Epoch [693/1000] Test Loss: 0.39 Test Accuracy: 92.38% Sensitivity: 20.00% Specificity: 93.10% AUC-ROC: 83.2939%\n",
            "Epoch [694/1000] Test Loss: 0.39 Test Accuracy: 92.38% Sensitivity: 20.00% Specificity: 93.10% AUC-ROC: 83.2939%\n",
            "Epoch [695/1000] Test Loss: 0.39 Test Accuracy: 92.38% Sensitivity: 20.00% Specificity: 93.10% AUC-ROC: 83.2939%\n",
            "Epoch [696/1000] Test Loss: 0.39 Test Accuracy: 92.38% Sensitivity: 20.00% Specificity: 93.10% AUC-ROC: 83.2939%\n",
            "Epoch [697/1000] Test Loss: 0.39 Test Accuracy: 92.38% Sensitivity: 20.00% Specificity: 93.10% AUC-ROC: 83.2939%\n",
            "Epoch [698/1000] Test Loss: 0.39 Test Accuracy: 92.38% Sensitivity: 20.00% Specificity: 93.10% AUC-ROC: 83.2939%\n",
            "Epoch [699/1000] Test Loss: 0.39 Test Accuracy: 92.38% Sensitivity: 20.00% Specificity: 93.10% AUC-ROC: 83.1361%\n",
            "Epoch [700/1000] Test Loss: 0.39 Test Accuracy: 92.38% Sensitivity: 20.00% Specificity: 93.10% AUC-ROC: 83.1361%\n",
            "Epoch [701/1000] Test Loss: 0.39 Test Accuracy: 92.38% Sensitivity: 20.00% Specificity: 93.10% AUC-ROC: 83.1361%\n",
            "Epoch [702/1000] Test Loss: 0.39 Test Accuracy: 92.38% Sensitivity: 20.00% Specificity: 93.10% AUC-ROC: 83.1361%\n",
            "Epoch [703/1000] Test Loss: 0.39 Test Accuracy: 92.38% Sensitivity: 20.00% Specificity: 93.10% AUC-ROC: 83.1361%\n",
            "Epoch [704/1000] Test Loss: 0.39 Test Accuracy: 92.38% Sensitivity: 20.00% Specificity: 93.10% AUC-ROC: 83.1361%\n",
            "Epoch [705/1000] Test Loss: 0.39 Test Accuracy: 92.38% Sensitivity: 20.00% Specificity: 93.10% AUC-ROC: 83.1361%\n",
            "Epoch [706/1000] Test Loss: 0.39 Test Accuracy: 92.38% Sensitivity: 20.00% Specificity: 93.10% AUC-ROC: 83.1361%\n",
            "Epoch [707/1000] Test Loss: 0.39 Test Accuracy: 92.38% Sensitivity: 20.00% Specificity: 93.10% AUC-ROC: 83.1361%\n",
            "Epoch [708/1000] Test Loss: 0.39 Test Accuracy: 92.38% Sensitivity: 20.00% Specificity: 93.10% AUC-ROC: 82.9783%\n",
            "Epoch [709/1000] Test Loss: 0.39 Test Accuracy: 92.38% Sensitivity: 20.00% Specificity: 93.10% AUC-ROC: 83.1361%\n",
            "Epoch [710/1000] Test Loss: 0.39 Test Accuracy: 92.38% Sensitivity: 20.00% Specificity: 93.10% AUC-ROC: 83.1361%\n",
            "Epoch [711/1000] Test Loss: 0.39 Test Accuracy: 92.38% Sensitivity: 20.00% Specificity: 93.10% AUC-ROC: 83.1361%\n",
            "Epoch [712/1000] Test Loss: 0.39 Test Accuracy: 92.38% Sensitivity: 20.00% Specificity: 93.10% AUC-ROC: 83.1361%\n",
            "Epoch [713/1000] Test Loss: 0.39 Test Accuracy: 92.38% Sensitivity: 20.00% Specificity: 93.10% AUC-ROC: 83.1361%\n",
            "Epoch [714/1000] Test Loss: 0.39 Test Accuracy: 92.19% Sensitivity: 20.00% Specificity: 92.90% AUC-ROC: 83.1361%\n",
            "Epoch [715/1000] Test Loss: 0.39 Test Accuracy: 92.19% Sensitivity: 20.00% Specificity: 92.90% AUC-ROC: 83.1361%\n",
            "Epoch [716/1000] Test Loss: 0.39 Test Accuracy: 92.58% Sensitivity: 20.00% Specificity: 93.29% AUC-ROC: 83.2347%\n",
            "Epoch [717/1000] Test Loss: 0.39 Test Accuracy: 92.77% Sensitivity: 20.00% Specificity: 93.49% AUC-ROC: 83.4320%\n",
            "Epoch [718/1000] Test Loss: 0.39 Test Accuracy: 92.77% Sensitivity: 20.00% Specificity: 93.49% AUC-ROC: 83.7278%\n",
            "Epoch [719/1000] Test Loss: 0.39 Test Accuracy: 92.77% Sensitivity: 20.00% Specificity: 93.49% AUC-ROC: 83.8462%\n",
            "Epoch [720/1000] Test Loss: 0.39 Test Accuracy: 92.77% Sensitivity: 20.00% Specificity: 93.49% AUC-ROC: 83.8462%\n",
            "Epoch [721/1000] Test Loss: 0.39 Test Accuracy: 92.77% Sensitivity: 20.00% Specificity: 93.49% AUC-ROC: 83.6884%\n",
            "Epoch [722/1000] Test Loss: 0.39 Test Accuracy: 92.77% Sensitivity: 20.00% Specificity: 93.49% AUC-ROC: 83.6884%\n",
            "Epoch [723/1000] Test Loss: 0.39 Test Accuracy: 92.77% Sensitivity: 20.00% Specificity: 93.49% AUC-ROC: 83.6884%\n",
            "Epoch [724/1000] Test Loss: 0.39 Test Accuracy: 92.77% Sensitivity: 20.00% Specificity: 93.49% AUC-ROC: 83.6884%\n",
            "Epoch [725/1000] Test Loss: 0.39 Test Accuracy: 92.77% Sensitivity: 20.00% Specificity: 93.49% AUC-ROC: 83.6884%\n",
            "Epoch [726/1000] Test Loss: 0.39 Test Accuracy: 92.77% Sensitivity: 20.00% Specificity: 93.49% AUC-ROC: 83.6884%\n",
            "Epoch [727/1000] Test Loss: 0.39 Test Accuracy: 92.77% Sensitivity: 20.00% Specificity: 93.49% AUC-ROC: 83.6884%\n",
            "Epoch [728/1000] Test Loss: 0.39 Test Accuracy: 92.77% Sensitivity: 20.00% Specificity: 93.49% AUC-ROC: 83.6884%\n",
            "Epoch [729/1000] Test Loss: 0.39 Test Accuracy: 92.77% Sensitivity: 20.00% Specificity: 93.49% AUC-ROC: 83.6884%\n",
            "Epoch [730/1000] Test Loss: 0.39 Test Accuracy: 92.77% Sensitivity: 20.00% Specificity: 93.49% AUC-ROC: 83.6884%\n",
            "Epoch [731/1000] Test Loss: 0.39 Test Accuracy: 92.77% Sensitivity: 20.00% Specificity: 93.49% AUC-ROC: 83.6884%\n",
            "Epoch [732/1000] Test Loss: 0.39 Test Accuracy: 92.77% Sensitivity: 20.00% Specificity: 93.49% AUC-ROC: 83.6884%\n",
            "Epoch [733/1000] Test Loss: 0.39 Test Accuracy: 92.77% Sensitivity: 20.00% Specificity: 93.49% AUC-ROC: 83.6884%\n",
            "Epoch [734/1000] Test Loss: 0.39 Test Accuracy: 92.77% Sensitivity: 20.00% Specificity: 93.49% AUC-ROC: 83.6884%\n",
            "Epoch [735/1000] Test Loss: 0.39 Test Accuracy: 92.77% Sensitivity: 20.00% Specificity: 93.49% AUC-ROC: 83.6884%\n",
            "Epoch [736/1000] Test Loss: 0.39 Test Accuracy: 92.77% Sensitivity: 20.00% Specificity: 93.49% AUC-ROC: 83.6884%\n",
            "Epoch [737/1000] Test Loss: 0.39 Test Accuracy: 92.77% Sensitivity: 20.00% Specificity: 93.49% AUC-ROC: 83.6884%\n",
            "Epoch [738/1000] Test Loss: 0.39 Test Accuracy: 92.77% Sensitivity: 20.00% Specificity: 93.49% AUC-ROC: 83.6884%\n",
            "Epoch [739/1000] Test Loss: 0.39 Test Accuracy: 92.77% Sensitivity: 20.00% Specificity: 93.49% AUC-ROC: 83.6686%\n",
            "Epoch [740/1000] Test Loss: 0.39 Test Accuracy: 92.77% Sensitivity: 20.00% Specificity: 93.49% AUC-ROC: 83.6686%\n",
            "Epoch [741/1000] Test Loss: 0.39 Test Accuracy: 92.77% Sensitivity: 20.00% Specificity: 93.49% AUC-ROC: 83.6292%\n",
            "Epoch [742/1000] Test Loss: 0.39 Test Accuracy: 92.58% Sensitivity: 20.00% Specificity: 93.29% AUC-ROC: 83.4517%\n",
            "Epoch [743/1000] Test Loss: 0.39 Test Accuracy: 92.58% Sensitivity: 20.00% Specificity: 93.29% AUC-ROC: 83.4517%\n",
            "Epoch [744/1000] Test Loss: 0.39 Test Accuracy: 92.58% Sensitivity: 20.00% Specificity: 93.29% AUC-ROC: 83.6884%\n",
            "Epoch [745/1000] Test Loss: 0.39 Test Accuracy: 92.58% Sensitivity: 20.00% Specificity: 93.29% AUC-ROC: 83.6884%\n",
            "Epoch [746/1000] Test Loss: 0.39 Test Accuracy: 92.38% Sensitivity: 20.00% Specificity: 93.10% AUC-ROC: 83.6095%\n",
            "Epoch [747/1000] Test Loss: 0.39 Test Accuracy: 92.38% Sensitivity: 20.00% Specificity: 93.10% AUC-ROC: 83.6095%\n",
            "Epoch [748/1000] Test Loss: 0.39 Test Accuracy: 92.38% Sensitivity: 20.00% Specificity: 93.10% AUC-ROC: 83.6095%\n",
            "Epoch [749/1000] Test Loss: 0.39 Test Accuracy: 92.38% Sensitivity: 20.00% Specificity: 93.10% AUC-ROC: 83.6095%\n",
            "Epoch [750/1000] Test Loss: 0.39 Test Accuracy: 92.38% Sensitivity: 20.00% Specificity: 93.10% AUC-ROC: 83.6095%\n",
            "Epoch [751/1000] Test Loss: 0.39 Test Accuracy: 92.38% Sensitivity: 20.00% Specificity: 93.10% AUC-ROC: 83.7673%\n",
            "Epoch [752/1000] Test Loss: 0.39 Test Accuracy: 92.38% Sensitivity: 20.00% Specificity: 93.10% AUC-ROC: 83.7673%\n",
            "Epoch [753/1000] Test Loss: 0.39 Test Accuracy: 92.38% Sensitivity: 20.00% Specificity: 93.10% AUC-ROC: 84.1815%\n",
            "Epoch [754/1000] Test Loss: 0.39 Test Accuracy: 92.38% Sensitivity: 20.00% Specificity: 93.10% AUC-ROC: 84.1815%\n",
            "Epoch [755/1000] Test Loss: 0.39 Test Accuracy: 92.38% Sensitivity: 20.00% Specificity: 93.10% AUC-ROC: 83.9448%\n",
            "Epoch [756/1000] Test Loss: 0.39 Test Accuracy: 92.38% Sensitivity: 20.00% Specificity: 93.10% AUC-ROC: 83.9448%\n",
            "Epoch [757/1000] Test Loss: 0.39 Test Accuracy: 92.38% Sensitivity: 20.00% Specificity: 93.10% AUC-ROC: 83.9448%\n",
            "Epoch [758/1000] Test Loss: 0.39 Test Accuracy: 92.38% Sensitivity: 20.00% Specificity: 93.10% AUC-ROC: 83.9448%\n",
            "Epoch [759/1000] Test Loss: 0.39 Test Accuracy: 92.38% Sensitivity: 20.00% Specificity: 93.10% AUC-ROC: 83.9448%\n",
            "Epoch [760/1000] Test Loss: 0.39 Test Accuracy: 92.38% Sensitivity: 20.00% Specificity: 93.10% AUC-ROC: 83.9448%\n",
            "Epoch [761/1000] Test Loss: 0.39 Test Accuracy: 92.38% Sensitivity: 20.00% Specificity: 93.10% AUC-ROC: 83.9448%\n",
            "Epoch [762/1000] Test Loss: 0.39 Test Accuracy: 92.38% Sensitivity: 20.00% Specificity: 93.10% AUC-ROC: 83.9448%\n",
            "Epoch [763/1000] Test Loss: 0.39 Test Accuracy: 92.38% Sensitivity: 20.00% Specificity: 93.10% AUC-ROC: 83.9448%\n",
            "Epoch [764/1000] Test Loss: 0.39 Test Accuracy: 92.38% Sensitivity: 20.00% Specificity: 93.10% AUC-ROC: 83.9448%\n",
            "Epoch [765/1000] Test Loss: 0.39 Test Accuracy: 92.38% Sensitivity: 20.00% Specificity: 93.10% AUC-ROC: 83.9448%\n",
            "Epoch [766/1000] Test Loss: 0.39 Test Accuracy: 92.38% Sensitivity: 20.00% Specificity: 93.10% AUC-ROC: 83.9842%\n",
            "Epoch [767/1000] Test Loss: 0.39 Test Accuracy: 92.38% Sensitivity: 20.00% Specificity: 93.10% AUC-ROC: 83.9842%\n",
            "Epoch [768/1000] Test Loss: 0.39 Test Accuracy: 92.38% Sensitivity: 20.00% Specificity: 93.10% AUC-ROC: 83.9842%\n",
            "Epoch [769/1000] Test Loss: 0.39 Test Accuracy: 92.38% Sensitivity: 20.00% Specificity: 93.10% AUC-ROC: 83.9842%\n",
            "Epoch [770/1000] Test Loss: 0.39 Test Accuracy: 92.38% Sensitivity: 20.00% Specificity: 93.10% AUC-ROC: 83.9842%\n",
            "Epoch [771/1000] Test Loss: 0.39 Test Accuracy: 92.38% Sensitivity: 20.00% Specificity: 93.10% AUC-ROC: 83.9842%\n",
            "Epoch [772/1000] Test Loss: 0.39 Test Accuracy: 92.38% Sensitivity: 20.00% Specificity: 93.10% AUC-ROC: 83.9842%\n",
            "Epoch [773/1000] Test Loss: 0.39 Test Accuracy: 92.38% Sensitivity: 20.00% Specificity: 93.10% AUC-ROC: 83.9842%\n",
            "Epoch [774/1000] Test Loss: 0.39 Test Accuracy: 92.38% Sensitivity: 20.00% Specificity: 93.10% AUC-ROC: 83.8462%\n",
            "Epoch [775/1000] Test Loss: 0.39 Test Accuracy: 92.38% Sensitivity: 20.00% Specificity: 93.10% AUC-ROC: 83.8462%\n",
            "Epoch [776/1000] Test Loss: 0.39 Test Accuracy: 92.38% Sensitivity: 20.00% Specificity: 93.10% AUC-ROC: 83.9645%\n",
            "Epoch [777/1000] Test Loss: 0.39 Test Accuracy: 92.38% Sensitivity: 20.00% Specificity: 93.10% AUC-ROC: 83.9645%\n",
            "Epoch [778/1000] Test Loss: 0.39 Test Accuracy: 92.38% Sensitivity: 20.00% Specificity: 93.10% AUC-ROC: 83.9645%\n",
            "Epoch [779/1000] Test Loss: 0.39 Test Accuracy: 92.58% Sensitivity: 20.00% Specificity: 93.29% AUC-ROC: 84.0237%\n",
            "Epoch [780/1000] Test Loss: 0.39 Test Accuracy: 92.58% Sensitivity: 20.00% Specificity: 93.29% AUC-ROC: 84.0237%\n",
            "Epoch [781/1000] Test Loss: 0.39 Test Accuracy: 92.58% Sensitivity: 20.00% Specificity: 93.29% AUC-ROC: 84.0237%\n",
            "Epoch [782/1000] Test Loss: 0.39 Test Accuracy: 92.58% Sensitivity: 20.00% Specificity: 93.29% AUC-ROC: 84.0237%\n",
            "Epoch [783/1000] Test Loss: 0.39 Test Accuracy: 92.58% Sensitivity: 20.00% Specificity: 93.29% AUC-ROC: 84.0237%\n",
            "Epoch [784/1000] Test Loss: 0.39 Test Accuracy: 92.58% Sensitivity: 20.00% Specificity: 93.29% AUC-ROC: 84.0237%\n",
            "Epoch [785/1000] Test Loss: 0.39 Test Accuracy: 92.58% Sensitivity: 20.00% Specificity: 93.29% AUC-ROC: 84.0237%\n",
            "Epoch [786/1000] Test Loss: 0.39 Test Accuracy: 92.58% Sensitivity: 20.00% Specificity: 93.29% AUC-ROC: 84.0237%\n",
            "Epoch [787/1000] Test Loss: 0.39 Test Accuracy: 92.58% Sensitivity: 20.00% Specificity: 93.29% AUC-ROC: 84.0237%\n",
            "Epoch [788/1000] Test Loss: 0.39 Test Accuracy: 92.58% Sensitivity: 20.00% Specificity: 93.29% AUC-ROC: 84.0237%\n",
            "Epoch [789/1000] Test Loss: 0.39 Test Accuracy: 92.58% Sensitivity: 20.00% Specificity: 93.29% AUC-ROC: 84.0237%\n",
            "Epoch [790/1000] Test Loss: 0.39 Test Accuracy: 92.58% Sensitivity: 20.00% Specificity: 93.29% AUC-ROC: 84.1617%\n",
            "Epoch [791/1000] Test Loss: 0.39 Test Accuracy: 92.58% Sensitivity: 20.00% Specificity: 93.29% AUC-ROC: 84.1617%\n",
            "Epoch [792/1000] Test Loss: 0.39 Test Accuracy: 92.58% Sensitivity: 20.00% Specificity: 93.29% AUC-ROC: 84.1617%\n",
            "Epoch [793/1000] Test Loss: 0.39 Test Accuracy: 92.58% Sensitivity: 20.00% Specificity: 93.29% AUC-ROC: 84.1617%\n",
            "Epoch [794/1000] Test Loss: 0.39 Test Accuracy: 92.58% Sensitivity: 20.00% Specificity: 93.29% AUC-ROC: 84.1617%\n",
            "Epoch [795/1000] Test Loss: 0.39 Test Accuracy: 92.58% Sensitivity: 20.00% Specificity: 93.29% AUC-ROC: 84.1617%\n",
            "Epoch [796/1000] Test Loss: 0.39 Test Accuracy: 92.58% Sensitivity: 20.00% Specificity: 93.29% AUC-ROC: 84.1617%\n",
            "Epoch [797/1000] Test Loss: 0.39 Test Accuracy: 92.58% Sensitivity: 20.00% Specificity: 93.29% AUC-ROC: 84.1617%\n",
            "Epoch [798/1000] Test Loss: 0.39 Test Accuracy: 92.58% Sensitivity: 20.00% Specificity: 93.29% AUC-ROC: 84.1617%\n",
            "Epoch [799/1000] Test Loss: 0.39 Test Accuracy: 92.58% Sensitivity: 20.00% Specificity: 93.29% AUC-ROC: 84.0434%\n",
            "Epoch [800/1000] Test Loss: 0.39 Test Accuracy: 92.58% Sensitivity: 20.00% Specificity: 93.29% AUC-ROC: 84.1223%\n",
            "Epoch [801/1000] Test Loss: 0.39 Test Accuracy: 92.58% Sensitivity: 20.00% Specificity: 93.29% AUC-ROC: 84.1223%\n",
            "Epoch [802/1000] Test Loss: 0.39 Test Accuracy: 92.58% Sensitivity: 20.00% Specificity: 93.29% AUC-ROC: 84.1223%\n",
            "Epoch [803/1000] Test Loss: 0.39 Test Accuracy: 92.58% Sensitivity: 20.00% Specificity: 93.29% AUC-ROC: 84.1223%\n",
            "Epoch [804/1000] Test Loss: 0.39 Test Accuracy: 92.58% Sensitivity: 20.00% Specificity: 93.29% AUC-ROC: 84.1223%\n",
            "Epoch [805/1000] Test Loss: 0.39 Test Accuracy: 92.58% Sensitivity: 20.00% Specificity: 93.29% AUC-ROC: 84.1223%\n",
            "Epoch [806/1000] Test Loss: 0.39 Test Accuracy: 92.58% Sensitivity: 20.00% Specificity: 93.29% AUC-ROC: 84.1223%\n",
            "Epoch [807/1000] Test Loss: 0.39 Test Accuracy: 92.58% Sensitivity: 20.00% Specificity: 93.29% AUC-ROC: 84.2406%\n",
            "Epoch [808/1000] Test Loss: 0.39 Test Accuracy: 92.58% Sensitivity: 20.00% Specificity: 93.29% AUC-ROC: 84.3984%\n",
            "Epoch [809/1000] Test Loss: 0.39 Test Accuracy: 92.58% Sensitivity: 20.00% Specificity: 93.29% AUC-ROC: 84.3984%\n",
            "Epoch [810/1000] Test Loss: 0.39 Test Accuracy: 92.58% Sensitivity: 20.00% Specificity: 93.29% AUC-ROC: 84.3984%\n",
            "Epoch [811/1000] Test Loss: 0.39 Test Accuracy: 92.58% Sensitivity: 20.00% Specificity: 93.29% AUC-ROC: 84.2406%\n",
            "Epoch [812/1000] Test Loss: 0.39 Test Accuracy: 92.58% Sensitivity: 20.00% Specificity: 93.29% AUC-ROC: 84.3984%\n",
            "Epoch [813/1000] Test Loss: 0.39 Test Accuracy: 92.58% Sensitivity: 20.00% Specificity: 93.29% AUC-ROC: 84.3984%\n",
            "Epoch [814/1000] Test Loss: 0.39 Test Accuracy: 92.58% Sensitivity: 20.00% Specificity: 93.29% AUC-ROC: 84.3984%\n",
            "Epoch [815/1000] Test Loss: 0.39 Test Accuracy: 92.58% Sensitivity: 20.00% Specificity: 93.29% AUC-ROC: 84.3984%\n",
            "Epoch [816/1000] Test Loss: 0.39 Test Accuracy: 92.58% Sensitivity: 20.00% Specificity: 93.29% AUC-ROC: 84.3984%\n",
            "Epoch [817/1000] Test Loss: 0.39 Test Accuracy: 92.58% Sensitivity: 20.00% Specificity: 93.29% AUC-ROC: 84.3984%\n",
            "Epoch [818/1000] Test Loss: 0.39 Test Accuracy: 92.58% Sensitivity: 20.00% Specificity: 93.29% AUC-ROC: 84.3984%\n",
            "Epoch [819/1000] Test Loss: 0.39 Test Accuracy: 92.58% Sensitivity: 20.00% Specificity: 93.29% AUC-ROC: 84.3984%\n",
            "Epoch [820/1000] Test Loss: 0.39 Test Accuracy: 92.58% Sensitivity: 20.00% Specificity: 93.29% AUC-ROC: 84.3984%\n",
            "Epoch [821/1000] Test Loss: 0.39 Test Accuracy: 92.58% Sensitivity: 20.00% Specificity: 93.29% AUC-ROC: 84.3984%\n",
            "Epoch [822/1000] Test Loss: 0.39 Test Accuracy: 92.58% Sensitivity: 20.00% Specificity: 93.29% AUC-ROC: 84.3984%\n",
            "Epoch [823/1000] Test Loss: 0.39 Test Accuracy: 92.58% Sensitivity: 20.00% Specificity: 93.29% AUC-ROC: 84.3984%\n",
            "Epoch [824/1000] Test Loss: 0.39 Test Accuracy: 92.58% Sensitivity: 20.00% Specificity: 93.29% AUC-ROC: 84.3984%\n",
            "Epoch [825/1000] Test Loss: 0.39 Test Accuracy: 92.58% Sensitivity: 20.00% Specificity: 93.29% AUC-ROC: 84.3984%\n",
            "Epoch [826/1000] Test Loss: 0.39 Test Accuracy: 92.58% Sensitivity: 20.00% Specificity: 93.29% AUC-ROC: 84.3984%\n",
            "Epoch [827/1000] Test Loss: 0.39 Test Accuracy: 92.58% Sensitivity: 20.00% Specificity: 93.29% AUC-ROC: 84.5168%\n",
            "Epoch [828/1000] Test Loss: 0.39 Test Accuracy: 92.58% Sensitivity: 20.00% Specificity: 93.29% AUC-ROC: 84.5168%\n",
            "Epoch [829/1000] Test Loss: 0.39 Test Accuracy: 92.58% Sensitivity: 20.00% Specificity: 93.29% AUC-ROC: 84.5168%\n",
            "Epoch [830/1000] Test Loss: 0.39 Test Accuracy: 92.58% Sensitivity: 20.00% Specificity: 93.29% AUC-ROC: 84.5168%\n",
            "Epoch [831/1000] Test Loss: 0.39 Test Accuracy: 92.58% Sensitivity: 20.00% Specificity: 93.29% AUC-ROC: 84.5168%\n",
            "Epoch [832/1000] Test Loss: 0.39 Test Accuracy: 92.58% Sensitivity: 20.00% Specificity: 93.29% AUC-ROC: 84.5168%\n",
            "Epoch [833/1000] Test Loss: 0.39 Test Accuracy: 92.58% Sensitivity: 20.00% Specificity: 93.29% AUC-ROC: 84.6351%\n",
            "Epoch [834/1000] Test Loss: 0.39 Test Accuracy: 92.77% Sensitivity: 20.00% Specificity: 93.49% AUC-ROC: 84.6351%\n",
            "Epoch [835/1000] Test Loss: 0.39 Test Accuracy: 92.58% Sensitivity: 20.00% Specificity: 93.29% AUC-ROC: 84.6351%\n",
            "Epoch [836/1000] Test Loss: 0.38 Test Accuracy: 92.77% Sensitivity: 20.00% Specificity: 93.49% AUC-ROC: 84.7535%\n",
            "Epoch [837/1000] Test Loss: 0.38 Test Accuracy: 92.77% Sensitivity: 20.00% Specificity: 93.49% AUC-ROC: 84.7535%\n",
            "Epoch [838/1000] Test Loss: 0.38 Test Accuracy: 92.77% Sensitivity: 20.00% Specificity: 93.49% AUC-ROC: 84.7535%\n",
            "Epoch [839/1000] Test Loss: 0.38 Test Accuracy: 92.77% Sensitivity: 20.00% Specificity: 93.49% AUC-ROC: 84.7535%\n",
            "Epoch [840/1000] Test Loss: 0.38 Test Accuracy: 92.77% Sensitivity: 20.00% Specificity: 93.49% AUC-ROC: 84.7535%\n",
            "Epoch [841/1000] Test Loss: 0.38 Test Accuracy: 92.77% Sensitivity: 20.00% Specificity: 93.49% AUC-ROC: 84.7535%\n",
            "Epoch [842/1000] Test Loss: 0.38 Test Accuracy: 92.77% Sensitivity: 20.00% Specificity: 93.49% AUC-ROC: 84.7535%\n",
            "Epoch [843/1000] Test Loss: 0.38 Test Accuracy: 92.77% Sensitivity: 20.00% Specificity: 93.49% AUC-ROC: 84.7535%\n",
            "Epoch [844/1000] Test Loss: 0.38 Test Accuracy: 92.77% Sensitivity: 20.00% Specificity: 93.49% AUC-ROC: 84.8718%\n",
            "Epoch [845/1000] Test Loss: 0.38 Test Accuracy: 92.77% Sensitivity: 20.00% Specificity: 93.49% AUC-ROC: 84.7535%\n",
            "Epoch [846/1000] Test Loss: 0.38 Test Accuracy: 92.77% Sensitivity: 20.00% Specificity: 93.49% AUC-ROC: 84.6351%\n",
            "Epoch [847/1000] Test Loss: 0.38 Test Accuracy: 92.77% Sensitivity: 20.00% Specificity: 93.49% AUC-ROC: 84.7929%\n",
            "Epoch [848/1000] Test Loss: 0.38 Test Accuracy: 92.77% Sensitivity: 20.00% Specificity: 93.49% AUC-ROC: 84.6351%\n",
            "Epoch [849/1000] Test Loss: 0.39 Test Accuracy: 92.58% Sensitivity: 20.00% Specificity: 93.29% AUC-ROC: 84.8323%\n",
            "Epoch [850/1000] Test Loss: 0.39 Test Accuracy: 92.58% Sensitivity: 20.00% Specificity: 93.29% AUC-ROC: 84.6746%\n",
            "Epoch [851/1000] Test Loss: 0.39 Test Accuracy: 92.58% Sensitivity: 20.00% Specificity: 93.29% AUC-ROC: 84.8323%\n",
            "Epoch [852/1000] Test Loss: 0.39 Test Accuracy: 92.58% Sensitivity: 20.00% Specificity: 93.29% AUC-ROC: 84.8323%\n",
            "Epoch [853/1000] Test Loss: 0.39 Test Accuracy: 92.58% Sensitivity: 20.00% Specificity: 93.29% AUC-ROC: 84.8323%\n",
            "Epoch [854/1000] Test Loss: 0.39 Test Accuracy: 92.58% Sensitivity: 20.00% Specificity: 93.29% AUC-ROC: 84.8323%\n",
            "Epoch [855/1000] Test Loss: 0.39 Test Accuracy: 92.58% Sensitivity: 20.00% Specificity: 93.29% AUC-ROC: 84.8323%\n",
            "Epoch [856/1000] Test Loss: 0.38 Test Accuracy: 92.77% Sensitivity: 20.00% Specificity: 93.49% AUC-ROC: 84.8323%\n",
            "Epoch [857/1000] Test Loss: 0.38 Test Accuracy: 92.77% Sensitivity: 20.00% Specificity: 93.49% AUC-ROC: 84.8323%\n",
            "Epoch [858/1000] Test Loss: 0.38 Test Accuracy: 92.77% Sensitivity: 20.00% Specificity: 93.49% AUC-ROC: 84.8323%\n",
            "Epoch [859/1000] Test Loss: 0.38 Test Accuracy: 92.77% Sensitivity: 20.00% Specificity: 93.49% AUC-ROC: 84.8323%\n",
            "Epoch [860/1000] Test Loss: 0.38 Test Accuracy: 92.97% Sensitivity: 20.00% Specificity: 93.69% AUC-ROC: 84.9901%\n",
            "Epoch [861/1000] Test Loss: 0.38 Test Accuracy: 92.97% Sensitivity: 20.00% Specificity: 93.69% AUC-ROC: 84.9901%\n",
            "Epoch [862/1000] Test Loss: 0.38 Test Accuracy: 92.97% Sensitivity: 20.00% Specificity: 93.69% AUC-ROC: 85.0296%\n",
            "Epoch [863/1000] Test Loss: 0.38 Test Accuracy: 92.97% Sensitivity: 20.00% Specificity: 93.69% AUC-ROC: 85.0690%\n",
            "Epoch [864/1000] Test Loss: 0.38 Test Accuracy: 92.97% Sensitivity: 20.00% Specificity: 93.69% AUC-ROC: 85.0690%\n",
            "Epoch [865/1000] Test Loss: 0.38 Test Accuracy: 92.97% Sensitivity: 20.00% Specificity: 93.69% AUC-ROC: 85.0690%\n",
            "Epoch [866/1000] Test Loss: 0.38 Test Accuracy: 92.97% Sensitivity: 20.00% Specificity: 93.69% AUC-ROC: 85.0690%\n",
            "Epoch [867/1000] Test Loss: 0.38 Test Accuracy: 92.77% Sensitivity: 20.00% Specificity: 93.49% AUC-ROC: 84.8718%\n",
            "Epoch [868/1000] Test Loss: 0.38 Test Accuracy: 92.77% Sensitivity: 20.00% Specificity: 93.49% AUC-ROC: 84.8718%\n",
            "Epoch [869/1000] Test Loss: 0.38 Test Accuracy: 92.77% Sensitivity: 20.00% Specificity: 93.49% AUC-ROC: 84.8718%\n",
            "Epoch [870/1000] Test Loss: 0.38 Test Accuracy: 92.97% Sensitivity: 20.00% Specificity: 93.69% AUC-ROC: 84.9112%\n",
            "Epoch [871/1000] Test Loss: 0.38 Test Accuracy: 92.77% Sensitivity: 20.00% Specificity: 93.49% AUC-ROC: 84.8718%\n",
            "Epoch [872/1000] Test Loss: 0.38 Test Accuracy: 92.77% Sensitivity: 20.00% Specificity: 93.49% AUC-ROC: 84.8718%\n",
            "Epoch [873/1000] Test Loss: 0.38 Test Accuracy: 92.77% Sensitivity: 20.00% Specificity: 93.49% AUC-ROC: 84.8718%\n",
            "Epoch [874/1000] Test Loss: 0.38 Test Accuracy: 92.77% Sensitivity: 20.00% Specificity: 93.49% AUC-ROC: 84.8718%\n",
            "Epoch [875/1000] Test Loss: 0.38 Test Accuracy: 93.16% Sensitivity: 20.00% Specificity: 93.89% AUC-ROC: 84.9507%\n",
            "Epoch [876/1000] Test Loss: 0.38 Test Accuracy: 93.16% Sensitivity: 20.00% Specificity: 93.89% AUC-ROC: 84.9112%\n",
            "Epoch [877/1000] Test Loss: 0.38 Test Accuracy: 93.16% Sensitivity: 20.00% Specificity: 93.89% AUC-ROC: 84.9112%\n",
            "Epoch [878/1000] Test Loss: 0.38 Test Accuracy: 93.16% Sensitivity: 20.00% Specificity: 93.89% AUC-ROC: 85.1085%\n",
            "Epoch [879/1000] Test Loss: 0.38 Test Accuracy: 93.16% Sensitivity: 20.00% Specificity: 93.89% AUC-ROC: 85.0493%\n",
            "Epoch [880/1000] Test Loss: 0.38 Test Accuracy: 93.36% Sensitivity: 20.00% Specificity: 94.08% AUC-ROC: 85.0888%\n",
            "Epoch [881/1000] Test Loss: 0.38 Test Accuracy: 93.36% Sensitivity: 20.00% Specificity: 94.08% AUC-ROC: 85.0888%\n",
            "Epoch [882/1000] Test Loss: 0.38 Test Accuracy: 93.36% Sensitivity: 20.00% Specificity: 94.08% AUC-ROC: 85.0888%\n",
            "Epoch [883/1000] Test Loss: 0.38 Test Accuracy: 93.36% Sensitivity: 20.00% Specificity: 94.08% AUC-ROC: 85.2071%\n",
            "Epoch [884/1000] Test Loss: 0.38 Test Accuracy: 93.36% Sensitivity: 20.00% Specificity: 94.08% AUC-ROC: 85.3254%\n",
            "Epoch [885/1000] Test Loss: 0.38 Test Accuracy: 93.36% Sensitivity: 20.00% Specificity: 94.08% AUC-ROC: 85.2071%\n",
            "Epoch [886/1000] Test Loss: 0.38 Test Accuracy: 93.36% Sensitivity: 20.00% Specificity: 94.08% AUC-ROC: 85.2071%\n",
            "Epoch [887/1000] Test Loss: 0.38 Test Accuracy: 93.36% Sensitivity: 20.00% Specificity: 94.08% AUC-ROC: 85.2071%\n",
            "Epoch [888/1000] Test Loss: 0.38 Test Accuracy: 93.36% Sensitivity: 20.00% Specificity: 94.08% AUC-ROC: 85.3254%\n",
            "Epoch [889/1000] Test Loss: 0.38 Test Accuracy: 93.36% Sensitivity: 20.00% Specificity: 94.08% AUC-ROC: 85.3254%\n",
            "Epoch [890/1000] Test Loss: 0.38 Test Accuracy: 93.36% Sensitivity: 20.00% Specificity: 94.08% AUC-ROC: 85.3254%\n",
            "Epoch [891/1000] Test Loss: 0.38 Test Accuracy: 93.36% Sensitivity: 20.00% Specificity: 94.08% AUC-ROC: 85.3254%\n",
            "Epoch [892/1000] Test Loss: 0.38 Test Accuracy: 93.36% Sensitivity: 20.00% Specificity: 94.08% AUC-ROC: 85.4438%\n",
            "Epoch [893/1000] Test Loss: 0.38 Test Accuracy: 93.36% Sensitivity: 20.00% Specificity: 94.08% AUC-ROC: 85.4438%\n",
            "Epoch [894/1000] Test Loss: 0.38 Test Accuracy: 93.36% Sensitivity: 20.00% Specificity: 94.08% AUC-ROC: 85.3254%\n",
            "Epoch [895/1000] Test Loss: 0.38 Test Accuracy: 93.36% Sensitivity: 20.00% Specificity: 94.08% AUC-ROC: 85.3254%\n",
            "Epoch [896/1000] Test Loss: 0.38 Test Accuracy: 93.36% Sensitivity: 20.00% Specificity: 94.08% AUC-ROC: 85.3254%\n",
            "Epoch [897/1000] Test Loss: 0.38 Test Accuracy: 93.36% Sensitivity: 20.00% Specificity: 94.08% AUC-ROC: 85.3254%\n",
            "Epoch [898/1000] Test Loss: 0.38 Test Accuracy: 93.36% Sensitivity: 20.00% Specificity: 94.08% AUC-ROC: 85.3254%\n",
            "Epoch [899/1000] Test Loss: 0.38 Test Accuracy: 93.36% Sensitivity: 20.00% Specificity: 94.08% AUC-ROC: 85.3254%\n",
            "Epoch [900/1000] Test Loss: 0.38 Test Accuracy: 93.36% Sensitivity: 20.00% Specificity: 94.08% AUC-ROC: 85.3254%\n",
            "Epoch [901/1000] Test Loss: 0.38 Test Accuracy: 93.36% Sensitivity: 20.00% Specificity: 94.08% AUC-ROC: 85.4043%\n",
            "Epoch [902/1000] Test Loss: 0.38 Test Accuracy: 93.36% Sensitivity: 20.00% Specificity: 94.08% AUC-ROC: 85.4043%\n",
            "Epoch [903/1000] Test Loss: 0.38 Test Accuracy: 93.36% Sensitivity: 20.00% Specificity: 94.08% AUC-ROC: 85.5424%\n",
            "Epoch [904/1000] Test Loss: 0.38 Test Accuracy: 93.36% Sensitivity: 20.00% Specificity: 94.08% AUC-ROC: 85.5424%\n",
            "Epoch [905/1000] Test Loss: 0.38 Test Accuracy: 93.36% Sensitivity: 20.00% Specificity: 94.08% AUC-ROC: 85.5424%\n",
            "Epoch [906/1000] Test Loss: 0.38 Test Accuracy: 93.36% Sensitivity: 20.00% Specificity: 94.08% AUC-ROC: 85.5424%\n",
            "Epoch [907/1000] Test Loss: 0.38 Test Accuracy: 93.36% Sensitivity: 20.00% Specificity: 94.08% AUC-ROC: 85.5424%\n",
            "Epoch [908/1000] Test Loss: 0.38 Test Accuracy: 93.36% Sensitivity: 20.00% Specificity: 94.08% AUC-ROC: 85.5424%\n",
            "Epoch [909/1000] Test Loss: 0.38 Test Accuracy: 93.36% Sensitivity: 20.00% Specificity: 94.08% AUC-ROC: 85.5424%\n",
            "Epoch [910/1000] Test Loss: 0.38 Test Accuracy: 93.36% Sensitivity: 20.00% Specificity: 94.08% AUC-ROC: 85.5424%\n",
            "Epoch [911/1000] Test Loss: 0.38 Test Accuracy: 93.36% Sensitivity: 20.00% Specificity: 94.08% AUC-ROC: 85.5424%\n",
            "Epoch [912/1000] Test Loss: 0.38 Test Accuracy: 93.36% Sensitivity: 20.00% Specificity: 94.08% AUC-ROC: 85.5424%\n",
            "Epoch [913/1000] Test Loss: 0.38 Test Accuracy: 93.36% Sensitivity: 20.00% Specificity: 94.08% AUC-ROC: 85.5424%\n",
            "Epoch [914/1000] Test Loss: 0.38 Test Accuracy: 93.36% Sensitivity: 20.00% Specificity: 94.08% AUC-ROC: 85.5424%\n",
            "Epoch [915/1000] Test Loss: 0.38 Test Accuracy: 93.36% Sensitivity: 20.00% Specificity: 94.08% AUC-ROC: 85.6607%\n",
            "Epoch [916/1000] Test Loss: 0.38 Test Accuracy: 93.36% Sensitivity: 20.00% Specificity: 94.08% AUC-ROC: 85.6607%\n",
            "Epoch [917/1000] Test Loss: 0.38 Test Accuracy: 93.36% Sensitivity: 20.00% Specificity: 94.08% AUC-ROC: 85.5227%\n",
            "Epoch [918/1000] Test Loss: 0.38 Test Accuracy: 93.36% Sensitivity: 20.00% Specificity: 94.08% AUC-ROC: 85.5227%\n",
            "Epoch [919/1000] Test Loss: 0.38 Test Accuracy: 93.36% Sensitivity: 20.00% Specificity: 94.08% AUC-ROC: 85.5227%\n",
            "Epoch [920/1000] Test Loss: 0.38 Test Accuracy: 93.36% Sensitivity: 20.00% Specificity: 94.08% AUC-ROC: 85.5227%\n",
            "Epoch [921/1000] Test Loss: 0.38 Test Accuracy: 93.55% Sensitivity: 20.00% Specificity: 94.28% AUC-ROC: 85.7199%\n",
            "Epoch [922/1000] Test Loss: 0.38 Test Accuracy: 93.55% Sensitivity: 20.00% Specificity: 94.28% AUC-ROC: 85.7199%\n",
            "Epoch [923/1000] Test Loss: 0.38 Test Accuracy: 93.75% Sensitivity: 20.00% Specificity: 94.48% AUC-ROC: 85.7594%\n",
            "Epoch [924/1000] Test Loss: 0.38 Test Accuracy: 93.75% Sensitivity: 20.00% Specificity: 94.48% AUC-ROC: 85.7594%\n",
            "Epoch [925/1000] Test Loss: 0.38 Test Accuracy: 93.55% Sensitivity: 20.00% Specificity: 94.28% AUC-ROC: 85.7199%\n",
            "Epoch [926/1000] Test Loss: 0.38 Test Accuracy: 93.55% Sensitivity: 20.00% Specificity: 94.28% AUC-ROC: 85.7199%\n",
            "Epoch [927/1000] Test Loss: 0.38 Test Accuracy: 93.75% Sensitivity: 20.00% Specificity: 94.48% AUC-ROC: 85.7594%\n",
            "Epoch [928/1000] Test Loss: 0.38 Test Accuracy: 93.75% Sensitivity: 20.00% Specificity: 94.48% AUC-ROC: 85.7199%\n",
            "Epoch [929/1000] Test Loss: 0.38 Test Accuracy: 93.75% Sensitivity: 20.00% Specificity: 94.48% AUC-ROC: 85.6016%\n",
            "Epoch [930/1000] Test Loss: 0.38 Test Accuracy: 93.75% Sensitivity: 20.00% Specificity: 94.48% AUC-ROC: 85.6016%\n",
            "Epoch [931/1000] Test Loss: 0.38 Test Accuracy: 93.75% Sensitivity: 20.00% Specificity: 94.48% AUC-ROC: 85.6016%\n",
            "Epoch [932/1000] Test Loss: 0.37 Test Accuracy: 93.95% Sensitivity: 20.00% Specificity: 94.67% AUC-ROC: 85.7594%\n",
            "Epoch [933/1000] Test Loss: 0.38 Test Accuracy: 93.75% Sensitivity: 20.00% Specificity: 94.48% AUC-ROC: 85.6016%\n",
            "Epoch [934/1000] Test Loss: 0.37 Test Accuracy: 93.95% Sensitivity: 20.00% Specificity: 94.67% AUC-ROC: 85.7594%\n",
            "Epoch [935/1000] Test Loss: 0.37 Test Accuracy: 93.95% Sensitivity: 20.00% Specificity: 94.67% AUC-ROC: 85.7594%\n",
            "Epoch [936/1000] Test Loss: 0.38 Test Accuracy: 93.75% Sensitivity: 20.00% Specificity: 94.48% AUC-ROC: 85.6016%\n",
            "Epoch [937/1000] Test Loss: 0.37 Test Accuracy: 93.95% Sensitivity: 20.00% Specificity: 94.67% AUC-ROC: 85.7594%\n",
            "Epoch [938/1000] Test Loss: 0.38 Test Accuracy: 93.75% Sensitivity: 20.00% Specificity: 94.48% AUC-ROC: 85.6016%\n",
            "Epoch [939/1000] Test Loss: 0.38 Test Accuracy: 93.75% Sensitivity: 20.00% Specificity: 94.48% AUC-ROC: 85.6016%\n",
            "Epoch [940/1000] Test Loss: 0.38 Test Accuracy: 93.75% Sensitivity: 20.00% Specificity: 94.48% AUC-ROC: 85.6016%\n",
            "Epoch [941/1000] Test Loss: 0.38 Test Accuracy: 93.75% Sensitivity: 20.00% Specificity: 94.48% AUC-ROC: 85.6016%\n",
            "Epoch [942/1000] Test Loss: 0.38 Test Accuracy: 93.75% Sensitivity: 20.00% Specificity: 94.48% AUC-ROC: 85.6016%\n",
            "Epoch [943/1000] Test Loss: 0.38 Test Accuracy: 93.75% Sensitivity: 20.00% Specificity: 94.48% AUC-ROC: 85.7396%\n",
            "Epoch [944/1000] Test Loss: 0.38 Test Accuracy: 93.75% Sensitivity: 20.00% Specificity: 94.48% AUC-ROC: 85.7396%\n",
            "Epoch [945/1000] Test Loss: 0.38 Test Accuracy: 93.75% Sensitivity: 20.00% Specificity: 94.48% AUC-ROC: 85.7396%\n",
            "Epoch [946/1000] Test Loss: 0.38 Test Accuracy: 93.75% Sensitivity: 20.00% Specificity: 94.48% AUC-ROC: 85.7396%\n",
            "Epoch [947/1000] Test Loss: 0.38 Test Accuracy: 93.75% Sensitivity: 20.00% Specificity: 94.48% AUC-ROC: 85.7396%\n",
            "Epoch [948/1000] Test Loss: 0.38 Test Accuracy: 93.75% Sensitivity: 20.00% Specificity: 94.48% AUC-ROC: 85.7396%\n",
            "Epoch [949/1000] Test Loss: 0.38 Test Accuracy: 93.75% Sensitivity: 20.00% Specificity: 94.48% AUC-ROC: 85.6213%\n",
            "Epoch [950/1000] Test Loss: 0.38 Test Accuracy: 93.75% Sensitivity: 20.00% Specificity: 94.48% AUC-ROC: 85.6213%\n",
            "Epoch [951/1000] Test Loss: 0.37 Test Accuracy: 93.95% Sensitivity: 20.00% Specificity: 94.67% AUC-ROC: 85.7791%\n",
            "Epoch [952/1000] Test Loss: 0.37 Test Accuracy: 93.95% Sensitivity: 20.00% Specificity: 94.67% AUC-ROC: 85.7791%\n",
            "Epoch [953/1000] Test Loss: 0.37 Test Accuracy: 93.95% Sensitivity: 20.00% Specificity: 94.67% AUC-ROC: 85.7791%\n",
            "Epoch [954/1000] Test Loss: 0.37 Test Accuracy: 93.95% Sensitivity: 20.00% Specificity: 94.67% AUC-ROC: 85.7791%\n",
            "Epoch [955/1000] Test Loss: 0.37 Test Accuracy: 93.95% Sensitivity: 20.00% Specificity: 94.67% AUC-ROC: 85.7791%\n",
            "Epoch [956/1000] Test Loss: 0.37 Test Accuracy: 93.95% Sensitivity: 20.00% Specificity: 94.67% AUC-ROC: 85.7791%\n",
            "Epoch [957/1000] Test Loss: 0.37 Test Accuracy: 93.95% Sensitivity: 20.00% Specificity: 94.67% AUC-ROC: 85.7791%\n",
            "Epoch [958/1000] Test Loss: 0.37 Test Accuracy: 93.95% Sensitivity: 20.00% Specificity: 94.67% AUC-ROC: 85.7791%\n",
            "Epoch [959/1000] Test Loss: 0.38 Test Accuracy: 93.75% Sensitivity: 20.00% Specificity: 94.48% AUC-ROC: 85.9369%\n",
            "Epoch [960/1000] Test Loss: 0.38 Test Accuracy: 93.75% Sensitivity: 20.00% Specificity: 94.48% AUC-ROC: 85.9369%\n",
            "Epoch [961/1000] Test Loss: 0.38 Test Accuracy: 93.75% Sensitivity: 20.00% Specificity: 94.48% AUC-ROC: 85.9369%\n",
            "Epoch [962/1000] Test Loss: 0.37 Test Accuracy: 93.75% Sensitivity: 20.00% Specificity: 94.48% AUC-ROC: 85.9763%\n",
            "Epoch [963/1000] Test Loss: 0.37 Test Accuracy: 93.75% Sensitivity: 20.00% Specificity: 94.48% AUC-ROC: 85.8185%\n",
            "Epoch [964/1000] Test Loss: 0.37 Test Accuracy: 93.75% Sensitivity: 20.00% Specificity: 94.48% AUC-ROC: 85.8185%\n",
            "Epoch [965/1000] Test Loss: 0.37 Test Accuracy: 93.95% Sensitivity: 20.00% Specificity: 94.67% AUC-ROC: 86.0158%\n",
            "Epoch [966/1000] Test Loss: 0.37 Test Accuracy: 93.95% Sensitivity: 20.00% Specificity: 94.67% AUC-ROC: 86.0158%\n",
            "Epoch [967/1000] Test Loss: 0.37 Test Accuracy: 93.95% Sensitivity: 20.00% Specificity: 94.67% AUC-ROC: 86.0158%\n",
            "Epoch [968/1000] Test Loss: 0.37 Test Accuracy: 93.95% Sensitivity: 20.00% Specificity: 94.67% AUC-ROC: 86.0158%\n",
            "Epoch [969/1000] Test Loss: 0.37 Test Accuracy: 93.95% Sensitivity: 20.00% Specificity: 94.67% AUC-ROC: 86.0158%\n",
            "Epoch [970/1000] Test Loss: 0.37 Test Accuracy: 93.95% Sensitivity: 20.00% Specificity: 94.67% AUC-ROC: 86.0158%\n",
            "Epoch [971/1000] Test Loss: 0.37 Test Accuracy: 93.95% Sensitivity: 20.00% Specificity: 94.67% AUC-ROC: 86.0158%\n",
            "Epoch [972/1000] Test Loss: 0.37 Test Accuracy: 93.95% Sensitivity: 20.00% Specificity: 94.67% AUC-ROC: 86.0158%\n",
            "Epoch [973/1000] Test Loss: 0.37 Test Accuracy: 93.75% Sensitivity: 20.00% Specificity: 94.48% AUC-ROC: 85.8580%\n",
            "Epoch [974/1000] Test Loss: 0.37 Test Accuracy: 93.95% Sensitivity: 20.00% Specificity: 94.67% AUC-ROC: 85.9763%\n",
            "Epoch [975/1000] Test Loss: 0.37 Test Accuracy: 93.95% Sensitivity: 20.00% Specificity: 94.67% AUC-ROC: 85.9763%\n",
            "Epoch [976/1000] Test Loss: 0.37 Test Accuracy: 93.95% Sensitivity: 20.00% Specificity: 94.67% AUC-ROC: 85.9763%\n",
            "Epoch [977/1000] Test Loss: 0.37 Test Accuracy: 93.75% Sensitivity: 20.00% Specificity: 94.48% AUC-ROC: 85.8185%\n",
            "Epoch [978/1000] Test Loss: 0.37 Test Accuracy: 93.75% Sensitivity: 20.00% Specificity: 94.48% AUC-ROC: 85.8185%\n",
            "Epoch [979/1000] Test Loss: 0.37 Test Accuracy: 93.75% Sensitivity: 20.00% Specificity: 94.48% AUC-ROC: 85.7002%\n",
            "Epoch [980/1000] Test Loss: 0.37 Test Accuracy: 93.75% Sensitivity: 20.00% Specificity: 94.48% AUC-ROC: 85.7002%\n",
            "Epoch [981/1000] Test Loss: 0.37 Test Accuracy: 93.75% Sensitivity: 20.00% Specificity: 94.48% AUC-ROC: 85.2663%\n"
          ]
        }
      ],
      "source": [
        "for epoch in range(num_epochs): # iterate through num_epochs\n",
        "    model.train() # forward pass\n",
        "    for data in train_dataloader: # iterate through every data sample\n",
        "        inputs, labels = data['feature'].float(), data['label']  # Float\n",
        "        optimizer.zero_grad() # clear previously stored gradients\n",
        "        outputs = model(inputs) #\n",
        "        loss = criterion(outputs, labels) # calculates the difference (loss) between actual values and predictions\n",
        "        loss.backward() # backward pass on the loss\n",
        "        optimizer.step() # updates parameters\n",
        "\n",
        "    # Test Set, evaluate the model every epoch\n",
        "    model.eval()\n",
        "    with torch.no_grad():\n",
        "        test_loss = 0.0\n",
        "        correct = 0\n",
        "        total = 0\n",
        "        all_labels = []\n",
        "        all_predicted = []\n",
        "        all_probs = []\n",
        "        for data in test_dataloader:\n",
        "            inputs, labels = data['feature'].float(), data['label']\n",
        "            outputs = model(inputs)\n",
        "            test_loss += criterion(outputs, labels).item()\n",
        "            _, predicted = torch.max(outputs.data, 1)\n",
        "            total += labels.size(0)\n",
        "            correct += (predicted == labels).sum().item()\n",
        "            all_labels.extend(labels.cpu().numpy())\n",
        "            all_predicted.extend(predicted.cpu().numpy())\n",
        "\n",
        "\n",
        "            softmax = torch.nn.Softmax(dim=1)\n",
        "            probabilities = softmax(outputs)[:, 1]  # Assuming 1 represents the positive class\n",
        "            all_probs.extend(probabilities.cpu().numpy())\n",
        "        # output the accuracy (even though it is not very useful in this case)\n",
        "        accuracy = 100 * correct / total\n",
        "        # calculate teat loss\n",
        "        # test_loss =\n",
        "        # initialize a confusing matrix\n",
        "        cm = confusion_matrix(all_labels, all_predicted)\n",
        "        # grab the amount of true negatives and positives, and false negatives and positives.\n",
        "        tn, fp, fn, tp = cm.ravel()\n",
        "        # calculate sensitivity\n",
        "        sensitivity = 100 * tp / (tp + fn) if (tp + fn) > 0 else 0.0\n",
        "        # calculate specificity\n",
        "        specificity = 100 * tn / (tn + fp) if (tn + fp) > 0 else 0.0\n",
        "        # calculate AUC-ROC\n",
        "        auc_roc = 100 * roc_auc_score(all_labels, all_probs)\n",
        "        print(\n",
        "            f'Epoch [{epoch + 1}/{num_epochs}] Test Loss: {test_loss / len(test_dataloader):.2f} '\n",
        "            f'Test Accuracy: {accuracy:.2f}% Sensitivity: {sensitivity:.2f}% Specificity: {specificity:.2f}% AUC-ROC: {auc_roc:.4f}%'\n",
        "        )\n",
        "\n",
        "        results = results._append({\n",
        "            'Epoch': epoch + 1,\n",
        "            'Accuracy': accuracy,\n",
        "            'Sensitivity': sensitivity,\n",
        "            'Specificity': specificity,\n",
        "            'Test Loss': test_loss / len(test_dataloader),\n",
        "            'AUC-ROC': auc_roc\n",
        "        }, ignore_index=True)"
      ]
    },
    {
      "cell_type": "markdown",
      "metadata": {
        "id": "ZCnhyurz0m78"
      },
      "source": [
        "# 3. Visualize the Results\n"
      ]
    },
    {
      "cell_type": "code",
      "execution_count": null,
      "metadata": {
        "id": "7eDCJ_oU0nQs"
      },
      "outputs": [],
      "source": [
        "#@title ## 3.1 Plot the Accuracy\n",
        "# Step 7: plot the test metrics over each epoch\n",
        "plt.figure(figsize=(10, 5))\n",
        "sns.regplot(x='Epoch', y='Accuracy', data=results, marker='o')\n",
        "plt.title('Accuracy Over Epochs')\n",
        "plt.xlabel('Epoch')\n",
        "plt.ylabel('Accuracy')\n",
        "plt.show()"
      ]
    },
    {
      "cell_type": "code",
      "execution_count": null,
      "metadata": {
        "cellView": "form",
        "id": "h6-baFy8tAcJ"
      },
      "outputs": [],
      "source": [
        "#@title ## 3.2 Plot the Sensitivity\n",
        "plt.figure(figsize=(10, 5))\n",
        "sns.regplot(x='Epoch', y='Sensitivity', data=results, marker='o', label='Sensitivity')\n",
        "plt.title('Sensitivity Over Epochs')\n",
        "plt.xlabel('Epoch')\n",
        "plt.ylabel('Sensitivity')\n",
        "plt.show()"
      ]
    },
    {
      "cell_type": "code",
      "execution_count": null,
      "metadata": {
        "cellView": "form",
        "id": "Ov24b8litAKR"
      },
      "outputs": [],
      "source": [
        "#@title ## 3.3 Plot Specificity\n",
        "plt.figure(figsize=(10, 5))\n",
        "sns.regplot(x='Epoch', y='Specificity', data=results, marker='o')\n",
        "plt.title('Specificity Over Epochs')\n",
        "plt.xlabel('Epoch')\n",
        "plt.ylabel('Specificity')\n",
        "plt.show()"
      ]
    },
    {
      "cell_type": "code",
      "execution_count": null,
      "metadata": {
        "cellView": "form",
        "id": "qHU0v-5siV2C"
      },
      "outputs": [],
      "source": [
        "#@title ## 3.4 Plot the Test Loss\n",
        "plt.figure(figsize=(10, 5))\n",
        "sns.regplot(x='Epoch', y='Test Loss', data=results, marker='o')\n",
        "plt.title('Test Loss Over Epochs')\n",
        "plt.xlabel('Epoch')\n",
        "plt.ylabel('Test Loss')\n",
        "plt.show()"
      ]
    },
    {
      "cell_type": "code",
      "execution_count": null,
      "metadata": {
        "id": "ccAqLjjO7GJo"
      },
      "outputs": [],
      "source": [
        "#@title ## 3.5 Plot the AUC-ROC\n",
        "plt.figure(figsize=(10, 5))\n",
        "sns.regplot(x='Epoch', y='AUC-ROC', data=results, marker='o')\n",
        "plt.title('AUC-ROC Over Epochs')\n",
        "plt.xlabel('Epoch')\n",
        "plt.ylabel('AUC-ROC')\n",
        "plt.show()"
      ]
    },
    {
      "cell_type": "code",
      "execution_count": null,
      "metadata": {
        "id": "MlufWCrF_jWr"
      },
      "outputs": [],
      "source": [
        "#@title ## 3.5 Print all together\n",
        "fig = make_subplots(rows=2, cols=3, subplot_titles=(\"Sensitivity\", \"Accuracy\", \"AUC-ROC\", \"Specificity\", \"Test Loss\"))\n",
        "\n",
        "# Sensitivity plot\n",
        "fig.add_trace(\n",
        "    go.Scatter(x=results['Epoch'], y=results['Sensitivity'], mode='markers', marker=dict(symbol='circle', size=8)),\n",
        "    row=1, col=1\n",
        ")\n",
        "# fig.update_xaxes(title_text=\"Epoch\", row=1, col=1)\n",
        "# fig.update_yaxes(title_text=\"Sensitivity\", row=1, col=1)\n",
        "\n",
        "# Accuracy plot\n",
        "fig.add_trace(\n",
        "    go.Scatter(x=results['Epoch'], y=results['Accuracy'], mode='markers', marker=dict(symbol='circle', size=8)),\n",
        "    row=1, col=2\n",
        ")\n",
        "# fig.update_xaxes(title_text=\"Epoch\", row=1, col=2)\n",
        "# fig.update_yaxes(title_text=\"Accuracy\", row=1, col=2)\n",
        "\n",
        "# AUC ROC plot\n",
        "fig.add_trace(\n",
        "    go.Scatter(x=results['Epoch'], y=results['AUC-ROC'], mode='markers', marker=dict(symbol='circle', size=8)),\n",
        "    row=1, col=3\n",
        ")\n",
        "# fig.update_xaxes(title_text=\"Epoch\", row=1, col=3)\n",
        "# fig.update_yaxes(title_text=\"AUC ROC\", row=1, col=3)\n",
        "\n",
        "# Specificity plot\n",
        "fig.add_trace(\n",
        "    go.Scatter(x=results['Epoch'], y=results['Specificity'], mode='markers', marker=dict(symbol='circle', size=8)),\n",
        "    row=2, col=1\n",
        ")\n",
        "# fig.update_xaxes(title_text=\"Epoch\", row=2, col=1)\n",
        "# fig.update_yaxes(title_text=\"Specificity\", row=2, col=1)\n",
        "\n",
        "# Test Loss plot\n",
        "fig.add_trace(\n",
        "    go.Scatter(x=results['Epoch'], y=results['Test Loss'], mode='markers', marker=dict(symbol='circle', size=8)),\n",
        "    row=2, col=2\n",
        ")\n",
        "\n",
        "# Define different y-axis labels\n",
        "y_labels = ['True Positive Rate (TPR)', 'Accuracy', 'AUC-ROC', 'True False Rate (TFR)', 'Test Loss']\n",
        "\n",
        "for i in range(1, 6):\n",
        "    row_num = (i - 1) // 3 + 1\n",
        "    col_num = (i - 1) % 3 + 1\n",
        "\n",
        "    fig.update_xaxes(title_text=\"Epochs\", row=row_num, col=col_num)\n",
        "    fig.update_yaxes(title_text=y_labels[i-1], row=row_num, col=col_num)\n",
        "\n",
        "# Update layout\n",
        "fig.update_layout(\n",
        "    height=600,\n",
        "    width=1000,\n",
        "    title_text=\"Metrics Over Epochs\",\n",
        "    showlegend=False,\n",
        "    margin=dict(l=50, r=50, t=80, b=50)\n",
        ")\n",
        "\n",
        "# Show the plot\n",
        "fig.show()"
      ]
    },
    {
      "cell_type": "markdown",
      "metadata": {
        "id": "lMok3Fp9fNO2"
      },
      "source": [
        "# Conlusion"
      ]
    },
    {
      "cell_type": "code",
      "execution_count": null,
      "metadata": {
        "id": "BR7nayaVfL0E"
      },
      "outputs": [],
      "source": [
        "# Save the model if needed\n",
        "# torch.save(model.state_dict(), 'custom_model.pth')"
      ]
    },
    {
      "cell_type": "markdown",
      "metadata": {
        "id": "DstiWn7tgKuT"
      },
      "source": [
        "\n",
        "You should now have a grasp of how spiking neural network can contribute\n",
        "to deep space mission along with some limitations."
      ]
    },
    {
      "cell_type": "markdown",
      "metadata": {
        "id": "ewuoB0g6hDhX"
      },
      "source": [
        "A special thanks to Giridhar Vadhul and Sahil Konjarla for their super helpful\n",
        "advice on defining and training the network.\n"
      ]
    },
    {
      "cell_type": "markdown",
      "metadata": {
        "id": "CelvxZs3fxCr"
      },
      "source": [
        "\n",
        "If you like this project, please consider starring ⭐ the snnTorch repo on GitHub\n",
        "as it is the easiest and best way to support it."
      ]
    },
    {
      "cell_type": "markdown",
      "source": [
        "# Acknowledgments\n",
        "This project was supported in-part by the National Science Foundation RCN-SC 2332166."
      ],
      "metadata": {
        "id": "nr0r4IRLkSOl"
      }
    }
  ],
  "metadata": {
    "accelerator": "GPU",
    "colab": {
      "provenance": [],
      "include_colab_link": true
    },
    "kernelspec": {
      "display_name": "Python 3",
      "name": "python3"
    },
    "language_info": {
      "name": "python"
    }
  },
  "nbformat": 4,
  "nbformat_minor": 0
}